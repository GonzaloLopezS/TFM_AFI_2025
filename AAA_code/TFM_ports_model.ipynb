{
 "cells": [
  {
   "cell_type": "markdown",
   "metadata": {},
   "source": [
    "## Puertos de USA"
   ]
  },
  {
   "cell_type": "code",
   "execution_count": 1,
   "metadata": {},
   "outputs": [],
   "source": [
    "import pandas as pd\n",
    "import numpy as np"
   ]
  },
  {
   "cell_type": "code",
   "execution_count": 2,
   "metadata": {},
   "outputs": [],
   "source": [
    "# List of CSV files to import\n",
    "csv_files = [\n",
    "    '../sources/CBP_drug_seizures/nationwide-drugs-fy19-fy22.csv',\n",
    "    '../sources/CBP_drug_seizures/nationwide-drugs-fy20-fy23.csv',\n",
    "    '../sources/CBP_drug_seizures/nationwide-drugs-fy21-fy24.csv',\n",
    "    '../sources/CBP_drug_seizures/nationwide-drugs-fy22-fy25-dec.csv'\n",
    "]\n",
    "\n",
    "# Initialize an empty list to store dataframes\n",
    "drug_seizures_dataframes = []\n"
   ]
  },
  {
   "cell_type": "markdown",
   "metadata": {},
   "source": [
    "## Analisis (Exploratorio) de Datos"
   ]
  },
  {
   "cell_type": "markdown",
   "metadata": {},
   "source": [
    "### Puerto de Los Angeles y Long Beach\n",
    "Alternativas: Seattle/Tacoma, Oakland/San Francisco, Savannah, Miami/Fort Lauderdale, Houston/Galveston, NY/NJ\n",
    "\n",
    "Viendo un poco los puertos con más tráfico de barcos (y de contenedores), tiene sentido trabajar con los puertos mencionados\n"
   ]
  },
  {
   "cell_type": "markdown",
   "metadata": {},
   "source": [
    "Importar datos de Long Beach:"
   ]
  },
  {
   "cell_type": "code",
   "execution_count": null,
   "metadata": {},
   "outputs": [],
   "source": [
    "# Importar datos de 'Stats - TEU Archive Since 1995 - NEW.xls'\n",
    "teu_data_long_beach = pd.read_excel('../sources/Stats - TEU Archive Since 1995 - NEW.xls', header=0, nrows=76)\n",
    "teu_data_long_beach['Date'] = pd.to_datetime(teu_data_long_beach['Date'], format='%b %Y').dt.strftime('%Y-%m')\n",
    "\n",
    "teu_data_long_beach.drop(1, inplace=True)\n",
    "teu_data_long_beach.reset_index(drop=True, inplace=True)"
   ]
  },
  {
   "cell_type": "markdown",
   "metadata": {},
   "source": [
    "Importar datos del Puerto de Los Ángeles:"
   ]
  },
  {
   "cell_type": "code",
   "execution_count": null,
   "metadata": {},
   "outputs": [],
   "source": [
    "import requests\n",
    "from bs4 import BeautifulSoup"
   ]
  },
  {
   "cell_type": "code",
   "execution_count": null,
   "metadata": {},
   "outputs": [],
   "source": [
    "headers = ['Date', 'Loaded Imports', 'Empty Imports','Total Imports', 'Loaded Exports', 'Empty Exports', 'Total Exports', 'Total TEUs','Prior Year Change']"
   ]
  },
  {
   "cell_type": "code",
   "execution_count": null,
   "metadata": {},
   "outputs": [],
   "source": [
    "# List of URLs to scrape\n",
    "urls = [\n",
    "    'https://www.portoflosangeles.org/business/statistics/container-statistics/historical-teu-statistics-2024',\n",
    "    'https://www.portoflosangeles.org/business/statistics/container-statistics/historical-teu-statistics-2023',\n",
    "    'https://www.portoflosangeles.org/business/statistics/container-statistics/historical-teu-statistics-2022',\n",
    "    'https://www.portoflosangeles.org/business/statistics/container-statistics/historical-teu-statistics-2021',\n",
    "    'https://www.portoflosangeles.org/business/statistics/container-statistics/historical-teu-statistics-2020',\n",
    "    'https://www.portoflosangeles.org/business/statistics/container-statistics/historical-teu-statistics-2019',\n",
    "    'https://www.portoflosangeles.org/business/statistics/container-statistics/historical-teu-statistics-2018'\n",
    "]\n",
    "\n",
    "# Initialize an empty list to store dataframes\n",
    "dataframes = []\n",
    "\n",
    "for url in urls:\n",
    "    # Send a GET request to the URL\n",
    "    response = requests.get(url)\n",
    "    \n",
    "    # Parse the HTML content using BeautifulSoup\n",
    "    soup = BeautifulSoup(response.content, 'html.parser')\n",
    "    \n",
    "    # Find the table container\n",
    "    table_container = soup.find('div', class_='table-container')\n",
    "    \n",
    "    # Extract the table rows\n",
    "    rows = table_container.find_all('tr')\n",
    "    \n",
    "    # Extract the table headers\n",
    "    # headers = [header.text.strip() for header in rows[0].find_all('th')]\n",
    "    \n",
    "    # Extract the table data\n",
    "    data = []\n",
    "    for row in rows[1:]:\n",
    "        cols = row.find_all('td')\n",
    "        data.append([col.text.strip() for col in cols])\n",
    "    \n",
    "    # Create a pandas dataframe\n",
    "    df = pd.DataFrame(data, columns=headers)\n",
    "    df.drop(columns=['Prior Year Change'], inplace=True)\n",
    "    df['Date'] = df['Date'] + '_' + url.split('-')[-1]\n",
    "    \n",
    "    # Append the dataframe to the list\n",
    "    dataframes.append(df)\n",
    "\n",
    "# Concatenate all dataframes into a single dataframe\n",
    "teu_data_los_angeles = pd.concat(dataframes, ignore_index=True)"
   ]
  },
  {
   "cell_type": "code",
   "execution_count": null,
   "metadata": {},
   "outputs": [],
   "source": [
    "teu_data_los_angeles = teu_data_los_angeles[~teu_data_los_angeles['Date'].str.contains('Total Calendar Year|Total Fiscal Year')]\n",
    "teu_data_los_angeles.reset_index(drop=True, inplace=True)\n",
    "indices_to_drop = [12,25,38,51,64,77,90]\n",
    "teu_data_los_angeles.drop(indices_to_drop, inplace=True)\n",
    "teu_data_los_angeles.reset_index(drop=True, inplace=True)\n",
    "teu_data_los_angeles['Date'] = pd.to_datetime(teu_data_los_angeles['Date'], format='%B_%Y').dt.strftime('%Y-%m')"
   ]
  },
  {
   "cell_type": "code",
   "execution_count": null,
   "metadata": {},
   "outputs": [],
   "source": [
    "# Convert columns to float\n",
    "columns_to_convert = ['Loaded Imports', 'Empty Imports', 'Total Imports', 'Loaded Exports', 'Empty Exports', 'Total Exports', 'Total TEUs']\n",
    "\n",
    "for col in columns_to_convert:\n",
    "    # Remove any commas that might be present in the numbers\n",
    "    teu_data_los_angeles[col] = teu_data_los_angeles[col].astype(str).apply(\n",
    "        lambda x: x.replace('.', '_').replace('_', '', x.count('_')-1).replace('_', '.') if x.count('.') > 1 else x\n",
    "    )\n",
    "    # Then remove any commas and convert to float\n",
    "    teu_data_los_angeles[col] = teu_data_los_angeles[col].str.replace(',', '').astype(float)\n",
    "\n",
    "teu_data_los_angeles.sort_values(by='Date', inplace=True, ascending=False)\n",
    "teu_data_los_angeles.reset_index(drop=True, inplace=True)\n",
    "teu_data_los_angeles.drop(list(range(75,len(teu_data_los_angeles))), inplace=True)"
   ]
  },
  {
   "cell_type": "code",
   "execution_count": null,
   "metadata": {},
   "outputs": [],
   "source": [
    "teu_data_los_angeles.sort_values(by='Date', inplace=True)\n",
    "teu_data_long_beach.sort_values(by='Date', inplace=True)\n",
    "\n",
    "teu_data_los_angeles.reset_index(drop=True, inplace=True)\n",
    "teu_data_long_beach.reset_index(drop=True, inplace=True)\n",
    "\n",
    "combined_teu_data = pd.DataFrame({\n",
    "    'Date': teu_data_los_angeles['Date'],\n",
    "    'Loaded Imports': teu_data_los_angeles['Loaded Imports'] + teu_data_long_beach['Loaded Inbound'],\n",
    "    'Empty Imports': teu_data_los_angeles['Empty Imports'] + teu_data_long_beach['Empty Inbound'],\n",
    "    'Total Imports': teu_data_los_angeles['Total Imports'] + teu_data_long_beach['Loaded Inbound'] + teu_data_long_beach['Empty Inbound'],\n",
    "    'Loaded Exports': teu_data_los_angeles['Loaded Exports'] + teu_data_long_beach['Loaded Outbound'],\n",
    "    'Empty Exports': teu_data_los_angeles['Empty Exports'] + teu_data_long_beach['Empty Outbound'],\n",
    "    'Total Exports': teu_data_los_angeles['Total Exports'] + teu_data_long_beach['Loaded Outbound'] + teu_data_long_beach['Empty Outbound'],\n",
    "    'Total TEUs': teu_data_los_angeles['Total TEUs'] + teu_data_long_beach['Total']\n",
    "})"
   ]
  },
  {
   "cell_type": "markdown",
   "metadata": {},
   "source": [
    "- Revisar si los datos de TEU son en unidades o en miles de unidades u otro\n",
    "- Inbound = Importaciones, Outbound = Exportaciones\n",
    "- Asegurarse de que se tienen 75 registros en ambos dataframes y sumarlos\n",
    "- Más adelante se podrían incluir las coordenadas (en caso de incluir otros hubs portuarios)"
   ]
  },
  {
   "cell_type": "markdown",
   "metadata": {},
   "source": [
    "Incluir datos de hub_porturario + drug_seizures"
   ]
  },
  {
   "cell_type": "code",
   "execution_count": null,
   "metadata": {},
   "outputs": [],
   "source": [
    "# Loop through each CSV file\n",
    "for file in csv_files:\n",
    "    # Read the CSV file into a pandas dataframe\n",
    "    df = pd.read_csv(file)\n",
    "    \n",
    "    # Filter the dataframe for 'Los Angeles Field Office'\n",
    "    df_filtered = df[df['Area of Responsibility'] == 'LOS ANGELES FIELD OFFICE']\n",
    "    \n",
    "    # Append the filtered dataframe to the list\n",
    "    drug_seizures_dataframes.append(df_filtered)\n",
    "\n",
    "# Concatenate all filtered dataframes into a single dataframe\n",
    "drug_seizures_combined = pd.concat(drug_seizures_dataframes, ignore_index=True)\n",
    "\n",
    "# Drop duplicates\n",
    "drug_seizures_combined.drop_duplicates(inplace=True)\n",
    "drug_seizures_combined = drug_seizures_combined.loc[drug_seizures_combined['Area of Responsibility'] == 'LOS ANGELES FIELD OFFICE']\n",
    "drug_seizures_combined.reset_index(drop=True, inplace=True)"
   ]
  },
  {
   "cell_type": "code",
   "execution_count": null,
   "metadata": {},
   "outputs": [],
   "source": [
    "drug_seizures_combined.drop(columns=['FY', 'Month (abbv)'], inplace=True)\n",
    "drug_seizures_combined.drop(columns=['Component', 'Region', 'Land Filter', 'Area of Responsibility'], inplace=True)\n",
    "drug_seizures_combined['Date'] = pd.to_datetime(drug_seizures_combined['Date']).dt.strftime('%Y-%m')"
   ]
  },
  {
   "cell_type": "code",
   "execution_count": null,
   "metadata": {},
   "outputs": [],
   "source": [
    "subdataframe = drug_seizures_combined[['Drug Type', 'Count of Event', 'Sum Qty (lbs)']]"
   ]
  },
  {
   "cell_type": "code",
   "execution_count": null,
   "metadata": {},
   "outputs": [],
   "source": [
    "drug_seizures_wide = pd.pivot_table(drug_seizures_combined, index='Date', columns='Drug Type', values=['Count of Event', 'Sum Qty (lbs)'], aggfunc='sum')\n",
    "drug_seizures_wide.columns = ['_'.join(col).strip() for col in drug_seizures_wide.columns.values]\n",
    "drug_seizures_wide.reset_index(inplace=True)\n",
    "drug_seizures_wide['Sum_of_Counts'] = drug_seizures_wide.filter(like='Count of Event_').sum(axis=1)"
   ]
  },
  {
   "cell_type": "code",
   "execution_count": null,
   "metadata": {},
   "outputs": [],
   "source": [
    "# Adjust the dates for 'October', 'November', and 'December' by anticipating one year\n",
    "def adjust_fiscal_year(date_str):\n",
    "    date = pd.to_datetime(date_str, format='%Y-%m')\n",
    "    if date.month in [10, 11, 12]:\n",
    "        date = date + pd.DateOffset(years=-1)\n",
    "    return date.strftime('%Y-%m')\n",
    "\n",
    "# Apply the adjustment to the 'Date' column in combined_teu_data\n",
    "drug_seizures_wide['Date'] = drug_seizures_wide['Date'].apply(adjust_fiscal_year)\n",
    "drug_seizures_wide.sort_values(by='Date', ascending=True, inplace=True)\n",
    "drug_seizures_wide.reset_index(drop=True, inplace=True)"
   ]
  },
  {
   "cell_type": "markdown",
   "metadata": {},
   "source": [
    "Combinar datos de cargamentos en los puertos del Área de Los Ángeles con las incautaciones de drogas:"
   ]
  },
  {
   "cell_type": "code",
   "execution_count": null,
   "metadata": {},
   "outputs": [],
   "source": [
    "GLA_data = pd.merge(combined_teu_data, drug_seizures_wide, on='Date', how='inner')"
   ]
  },
  {
   "cell_type": "markdown",
   "metadata": {},
   "source": [
    "Exportar el dataframe creado"
   ]
  },
  {
   "cell_type": "code",
   "execution_count": null,
   "metadata": {},
   "outputs": [],
   "source": [
    "GLA_data.to_csv('../sources/GreaterLosAngeles_data.csv', index=False, sep=',')"
   ]
  },
  {
   "cell_type": "code",
   "execution_count": null,
   "metadata": {},
   "outputs": [],
   "source": [
    "GLA_data['Computed_Value'] = abs((GLA_data['Total Imports'] + GLA_data['Total Exports']) - GLA_data['Total TEUs'])\n",
    "GLA_data[['Date', 'Computed_Value']].sort_values(by='Computed_Value', ascending=False).head(5)\n",
    "GLA_data.drop(columns=['Computed_Value'], inplace=True)"
   ]
  },
  {
   "cell_type": "markdown",
   "metadata": {},
   "source": [
    "### Importar datos Gran Los Angeles"
   ]
  },
  {
   "cell_type": "code",
   "execution_count": 3,
   "metadata": {},
   "outputs": [],
   "source": [
    "GLA_data = pd.read_csv('../sources/GreaterLosAngeles_data.csv', sep=',')"
   ]
  },
  {
   "cell_type": "code",
   "execution_count": 48,
   "metadata": {},
   "outputs": [],
   "source": [
    "GLA_data_transformed = pd.read_csv('../sources/GreaterLosAngeles_data_transformed.csv', sep=',')"
   ]
  },
  {
   "cell_type": "code",
   "execution_count": 49,
   "metadata": {},
   "outputs": [
    {
     "data": {
      "text/html": [
       "<div>\n",
       "<style scoped>\n",
       "    .dataframe tbody tr th:only-of-type {\n",
       "        vertical-align: middle;\n",
       "    }\n",
       "\n",
       "    .dataframe tbody tr th {\n",
       "        vertical-align: top;\n",
       "    }\n",
       "\n",
       "    .dataframe thead th {\n",
       "        text-align: right;\n",
       "    }\n",
       "</style>\n",
       "<table border=\"1\" class=\"dataframe\">\n",
       "  <thead>\n",
       "    <tr style=\"text-align: right;\">\n",
       "      <th></th>\n",
       "      <th>Date</th>\n",
       "      <th>Loaded Imports</th>\n",
       "      <th>Empty Imports</th>\n",
       "      <th>Total Imports</th>\n",
       "      <th>Loaded Exports</th>\n",
       "      <th>Empty Exports</th>\n",
       "      <th>Total Exports</th>\n",
       "      <th>Total TEUs</th>\n",
       "      <th>Count of Event_Cocaine</th>\n",
       "      <th>Count of Event_Ecstasy</th>\n",
       "      <th>...</th>\n",
       "      <th>Sum Qty (lbs)_Fentanyl</th>\n",
       "      <th>Sum Qty (lbs)_Heroin</th>\n",
       "      <th>Sum Qty (lbs)_Ketamine</th>\n",
       "      <th>Sum Qty (lbs)_Khat (Catha Edulis)</th>\n",
       "      <th>Sum Qty (lbs)_Lsd</th>\n",
       "      <th>Sum Qty (lbs)_Marijuana</th>\n",
       "      <th>Sum Qty (lbs)_Methamphetamine</th>\n",
       "      <th>Sum Qty (lbs)_Other Drugs**</th>\n",
       "      <th>Sum_of_Counts</th>\n",
       "      <th>Computed_Value</th>\n",
       "    </tr>\n",
       "  </thead>\n",
       "  <tbody>\n",
       "    <tr>\n",
       "      <th>0</th>\n",
       "      <td>2018-10-01</td>\n",
       "      <td>0.710048</td>\n",
       "      <td>2.233072</td>\n",
       "      <td>0.782053</td>\n",
       "      <td>2.281074</td>\n",
       "      <td>-0.213951</td>\n",
       "      <td>0.379566</td>\n",
       "      <td>0.604311</td>\n",
       "      <td>-0.320117</td>\n",
       "      <td>2.109331</td>\n",
       "      <td>...</td>\n",
       "      <td>-0.281453</td>\n",
       "      <td>-0.179118</td>\n",
       "      <td>-0.204511</td>\n",
       "      <td>-0.257274</td>\n",
       "      <td>-0.229654</td>\n",
       "      <td>-0.944268</td>\n",
       "      <td>-0.441867</td>\n",
       "      <td>-0.214231</td>\n",
       "      <td>-0.775503</td>\n",
       "      <td>-0.116248</td>\n",
       "    </tr>\n",
       "    <tr>\n",
       "      <th>1</th>\n",
       "      <td>2018-11-01</td>\n",
       "      <td>-0.212531</td>\n",
       "      <td>1.694360</td>\n",
       "      <td>-0.166046</td>\n",
       "      <td>1.309923</td>\n",
       "      <td>-0.876043</td>\n",
       "      <td>-0.589188</td>\n",
       "      <td>-0.364941</td>\n",
       "      <td>-0.091462</td>\n",
       "      <td>0.010881</td>\n",
       "      <td>...</td>\n",
       "      <td>-0.196818</td>\n",
       "      <td>-0.138539</td>\n",
       "      <td>-0.202527</td>\n",
       "      <td>-0.257266</td>\n",
       "      <td>-0.380318</td>\n",
       "      <td>-0.578236</td>\n",
       "      <td>-0.393370</td>\n",
       "      <td>-0.213337</td>\n",
       "      <td>-0.987761</td>\n",
       "      <td>-0.116248</td>\n",
       "    </tr>\n",
       "    <tr>\n",
       "      <th>2</th>\n",
       "      <td>2018-12-01</td>\n",
       "      <td>0.642052</td>\n",
       "      <td>1.595575</td>\n",
       "      <td>0.694962</td>\n",
       "      <td>1.041607</td>\n",
       "      <td>0.065749</td>\n",
       "      <td>0.348472</td>\n",
       "      <td>0.542214</td>\n",
       "      <td>-0.777426</td>\n",
       "      <td>0.943525</td>\n",
       "      <td>...</td>\n",
       "      <td>-0.267347</td>\n",
       "      <td>-0.120047</td>\n",
       "      <td>-0.204425</td>\n",
       "      <td>-0.257274</td>\n",
       "      <td>-0.380318</td>\n",
       "      <td>-0.807726</td>\n",
       "      <td>-0.471511</td>\n",
       "      <td>-0.224621</td>\n",
       "      <td>-1.102053</td>\n",
       "      <td>-0.116248</td>\n",
       "    </tr>\n",
       "    <tr>\n",
       "      <th>3</th>\n",
       "      <td>2019-01-01</td>\n",
       "      <td>-0.117113</td>\n",
       "      <td>1.581184</td>\n",
       "      <td>-0.072852</td>\n",
       "      <td>1.079388</td>\n",
       "      <td>-0.390798</td>\n",
       "      <td>-0.130706</td>\n",
       "      <td>-0.100649</td>\n",
       "      <td>-0.205789</td>\n",
       "      <td>0.943525</td>\n",
       "      <td>...</td>\n",
       "      <td>-0.281453</td>\n",
       "      <td>6.586655</td>\n",
       "      <td>-0.204453</td>\n",
       "      <td>-0.257274</td>\n",
       "      <td>-0.369478</td>\n",
       "      <td>-0.699535</td>\n",
       "      <td>3.412439</td>\n",
       "      <td>-0.224413</td>\n",
       "      <td>-0.771421</td>\n",
       "      <td>-0.116248</td>\n",
       "    </tr>\n",
       "    <tr>\n",
       "      <th>4</th>\n",
       "      <td>2019-02-01</td>\n",
       "      <td>-0.999620</td>\n",
       "      <td>1.542241</td>\n",
       "      <td>-0.966052</td>\n",
       "      <td>0.526431</td>\n",
       "      <td>-1.255557</td>\n",
       "      <td>-1.205027</td>\n",
       "      <td>-1.088997</td>\n",
       "      <td>-0.663099</td>\n",
       "      <td>0.826945</td>\n",
       "      <td>...</td>\n",
       "      <td>-0.281453</td>\n",
       "      <td>-0.162424</td>\n",
       "      <td>-0.204480</td>\n",
       "      <td>-0.257274</td>\n",
       "      <td>-0.380318</td>\n",
       "      <td>-0.390884</td>\n",
       "      <td>-0.488998</td>\n",
       "      <td>-0.225130</td>\n",
       "      <td>-0.873468</td>\n",
       "      <td>-0.116248</td>\n",
       "    </tr>\n",
       "    <tr>\n",
       "      <th>...</th>\n",
       "      <td>...</td>\n",
       "      <td>...</td>\n",
       "      <td>...</td>\n",
       "      <td>...</td>\n",
       "      <td>...</td>\n",
       "      <td>...</td>\n",
       "      <td>...</td>\n",
       "      <td>...</td>\n",
       "      <td>...</td>\n",
       "      <td>...</td>\n",
       "      <td>...</td>\n",
       "      <td>...</td>\n",
       "      <td>...</td>\n",
       "      <td>...</td>\n",
       "      <td>...</td>\n",
       "      <td>...</td>\n",
       "      <td>...</td>\n",
       "      <td>...</td>\n",
       "      <td>...</td>\n",
       "      <td>...</td>\n",
       "      <td>...</td>\n",
       "    </tr>\n",
       "    <tr>\n",
       "      <th>70</th>\n",
       "      <td>2024-08-01</td>\n",
       "      <td>1.710789</td>\n",
       "      <td>-0.578482</td>\n",
       "      <td>1.712687</td>\n",
       "      <td>-0.295058</td>\n",
       "      <td>1.472074</td>\n",
       "      <td>1.498790</td>\n",
       "      <td>1.634018</td>\n",
       "      <td>0.708830</td>\n",
       "      <td>1.876170</td>\n",
       "      <td>...</td>\n",
       "      <td>-0.281453</td>\n",
       "      <td>-0.179118</td>\n",
       "      <td>-0.200459</td>\n",
       "      <td>-0.257274</td>\n",
       "      <td>0.291955</td>\n",
       "      <td>0.581263</td>\n",
       "      <td>-0.412408</td>\n",
       "      <td>-0.025761</td>\n",
       "      <td>-0.159139</td>\n",
       "      <td>-0.116248</td>\n",
       "    </tr>\n",
       "    <tr>\n",
       "      <th>71</th>\n",
       "      <td>2024-09-01</td>\n",
       "      <td>1.268343</td>\n",
       "      <td>-0.421667</td>\n",
       "      <td>1.269957</td>\n",
       "      <td>-1.191098</td>\n",
       "      <td>1.319867</td>\n",
       "      <td>1.096506</td>\n",
       "      <td>1.204722</td>\n",
       "      <td>0.251520</td>\n",
       "      <td>2.109331</td>\n",
       "      <td>...</td>\n",
       "      <td>-0.281453</td>\n",
       "      <td>-0.173725</td>\n",
       "      <td>-0.196721</td>\n",
       "      <td>-0.257274</td>\n",
       "      <td>-0.122547</td>\n",
       "      <td>-0.138292</td>\n",
       "      <td>-0.228284</td>\n",
       "      <td>0.492604</td>\n",
       "      <td>0.583763</td>\n",
       "      <td>-0.116248</td>\n",
       "    </tr>\n",
       "    <tr>\n",
       "      <th>72</th>\n",
       "      <td>2024-10-01</td>\n",
       "      <td>1.573764</td>\n",
       "      <td>-0.514564</td>\n",
       "      <td>1.576016</td>\n",
       "      <td>0.056143</td>\n",
       "      <td>1.703750</td>\n",
       "      <td>1.840810</td>\n",
       "      <td>1.718421</td>\n",
       "      <td>-0.548772</td>\n",
       "      <td>-0.455441</td>\n",
       "      <td>...</td>\n",
       "      <td>-0.281453</td>\n",
       "      <td>-0.179118</td>\n",
       "      <td>-0.076105</td>\n",
       "      <td>-0.241202</td>\n",
       "      <td>-0.097387</td>\n",
       "      <td>-0.297525</td>\n",
       "      <td>-0.384442</td>\n",
       "      <td>-0.213368</td>\n",
       "      <td>-1.183691</td>\n",
       "      <td>-0.116248</td>\n",
       "    </tr>\n",
       "    <tr>\n",
       "      <th>73</th>\n",
       "      <td>2024-11-01</td>\n",
       "      <td>1.063465</td>\n",
       "      <td>-0.397809</td>\n",
       "      <td>1.063545</td>\n",
       "      <td>0.348686</td>\n",
       "      <td>1.012666</td>\n",
       "      <td>1.178289</td>\n",
       "      <td>1.129880</td>\n",
       "      <td>-0.548772</td>\n",
       "      <td>-0.572022</td>\n",
       "      <td>...</td>\n",
       "      <td>-0.281453</td>\n",
       "      <td>-0.171670</td>\n",
       "      <td>-0.203001</td>\n",
       "      <td>-0.257274</td>\n",
       "      <td>-0.365401</td>\n",
       "      <td>0.304515</td>\n",
       "      <td>-0.295753</td>\n",
       "      <td>-0.075221</td>\n",
       "      <td>-1.244919</td>\n",
       "      <td>-0.116248</td>\n",
       "    </tr>\n",
       "    <tr>\n",
       "      <th>74</th>\n",
       "      <td>2024-12-01</td>\n",
       "      <td>1.421155</td>\n",
       "      <td>-0.978515</td>\n",
       "      <td>1.408392</td>\n",
       "      <td>-0.955681</td>\n",
       "      <td>1.969215</td>\n",
       "      <td>1.855222</td>\n",
       "      <td>1.633446</td>\n",
       "      <td>-0.777426</td>\n",
       "      <td>-0.805183</td>\n",
       "      <td>...</td>\n",
       "      <td>-0.281453</td>\n",
       "      <td>-0.179118</td>\n",
       "      <td>-0.192987</td>\n",
       "      <td>-0.237967</td>\n",
       "      <td>-0.336561</td>\n",
       "      <td>-0.327910</td>\n",
       "      <td>-0.478546</td>\n",
       "      <td>-0.189168</td>\n",
       "      <td>-1.183691</td>\n",
       "      <td>-0.116248</td>\n",
       "    </tr>\n",
       "  </tbody>\n",
       "</table>\n",
       "<p>75 rows × 30 columns</p>\n",
       "</div>"
      ],
      "text/plain": [
       "          Date  Loaded Imports  Empty Imports  Total Imports  Loaded Exports  \\\n",
       "0   2018-10-01        0.710048       2.233072       0.782053        2.281074   \n",
       "1   2018-11-01       -0.212531       1.694360      -0.166046        1.309923   \n",
       "2   2018-12-01        0.642052       1.595575       0.694962        1.041607   \n",
       "3   2019-01-01       -0.117113       1.581184      -0.072852        1.079388   \n",
       "4   2019-02-01       -0.999620       1.542241      -0.966052        0.526431   \n",
       "..         ...             ...            ...            ...             ...   \n",
       "70  2024-08-01        1.710789      -0.578482       1.712687       -0.295058   \n",
       "71  2024-09-01        1.268343      -0.421667       1.269957       -1.191098   \n",
       "72  2024-10-01        1.573764      -0.514564       1.576016        0.056143   \n",
       "73  2024-11-01        1.063465      -0.397809       1.063545        0.348686   \n",
       "74  2024-12-01        1.421155      -0.978515       1.408392       -0.955681   \n",
       "\n",
       "    Empty Exports  Total Exports  Total TEUs  Count of Event_Cocaine  \\\n",
       "0       -0.213951       0.379566    0.604311               -0.320117   \n",
       "1       -0.876043      -0.589188   -0.364941               -0.091462   \n",
       "2        0.065749       0.348472    0.542214               -0.777426   \n",
       "3       -0.390798      -0.130706   -0.100649               -0.205789   \n",
       "4       -1.255557      -1.205027   -1.088997               -0.663099   \n",
       "..            ...            ...         ...                     ...   \n",
       "70       1.472074       1.498790    1.634018                0.708830   \n",
       "71       1.319867       1.096506    1.204722                0.251520   \n",
       "72       1.703750       1.840810    1.718421               -0.548772   \n",
       "73       1.012666       1.178289    1.129880               -0.548772   \n",
       "74       1.969215       1.855222    1.633446               -0.777426   \n",
       "\n",
       "    Count of Event_Ecstasy  ...  Sum Qty (lbs)_Fentanyl  Sum Qty (lbs)_Heroin  \\\n",
       "0                 2.109331  ...               -0.281453             -0.179118   \n",
       "1                 0.010881  ...               -0.196818             -0.138539   \n",
       "2                 0.943525  ...               -0.267347             -0.120047   \n",
       "3                 0.943525  ...               -0.281453              6.586655   \n",
       "4                 0.826945  ...               -0.281453             -0.162424   \n",
       "..                     ...  ...                     ...                   ...   \n",
       "70                1.876170  ...               -0.281453             -0.179118   \n",
       "71                2.109331  ...               -0.281453             -0.173725   \n",
       "72               -0.455441  ...               -0.281453             -0.179118   \n",
       "73               -0.572022  ...               -0.281453             -0.171670   \n",
       "74               -0.805183  ...               -0.281453             -0.179118   \n",
       "\n",
       "    Sum Qty (lbs)_Ketamine  Sum Qty (lbs)_Khat (Catha Edulis)  \\\n",
       "0                -0.204511                          -0.257274   \n",
       "1                -0.202527                          -0.257266   \n",
       "2                -0.204425                          -0.257274   \n",
       "3                -0.204453                          -0.257274   \n",
       "4                -0.204480                          -0.257274   \n",
       "..                     ...                                ...   \n",
       "70               -0.200459                          -0.257274   \n",
       "71               -0.196721                          -0.257274   \n",
       "72               -0.076105                          -0.241202   \n",
       "73               -0.203001                          -0.257274   \n",
       "74               -0.192987                          -0.237967   \n",
       "\n",
       "    Sum Qty (lbs)_Lsd  Sum Qty (lbs)_Marijuana  Sum Qty (lbs)_Methamphetamine  \\\n",
       "0           -0.229654                -0.944268                      -0.441867   \n",
       "1           -0.380318                -0.578236                      -0.393370   \n",
       "2           -0.380318                -0.807726                      -0.471511   \n",
       "3           -0.369478                -0.699535                       3.412439   \n",
       "4           -0.380318                -0.390884                      -0.488998   \n",
       "..                ...                      ...                            ...   \n",
       "70           0.291955                 0.581263                      -0.412408   \n",
       "71          -0.122547                -0.138292                      -0.228284   \n",
       "72          -0.097387                -0.297525                      -0.384442   \n",
       "73          -0.365401                 0.304515                      -0.295753   \n",
       "74          -0.336561                -0.327910                      -0.478546   \n",
       "\n",
       "    Sum Qty (lbs)_Other Drugs**  Sum_of_Counts  Computed_Value  \n",
       "0                     -0.214231      -0.775503       -0.116248  \n",
       "1                     -0.213337      -0.987761       -0.116248  \n",
       "2                     -0.224621      -1.102053       -0.116248  \n",
       "3                     -0.224413      -0.771421       -0.116248  \n",
       "4                     -0.225130      -0.873468       -0.116248  \n",
       "..                          ...            ...             ...  \n",
       "70                    -0.025761      -0.159139       -0.116248  \n",
       "71                     0.492604       0.583763       -0.116248  \n",
       "72                    -0.213368      -1.183691       -0.116248  \n",
       "73                    -0.075221      -1.244919       -0.116248  \n",
       "74                    -0.189168      -1.183691       -0.116248  \n",
       "\n",
       "[75 rows x 30 columns]"
      ]
     },
     "execution_count": 49,
     "metadata": {},
     "output_type": "execute_result"
    }
   ],
   "source": [
    "GLA_data_transformed"
   ]
  },
  {
   "cell_type": "markdown",
   "metadata": {},
   "source": [
    "Recuperar el dataframe original, añadir columna 'Los Angeles' y sus coordenadas (es posible considerar incluir la población)"
   ]
  },
  {
   "cell_type": "code",
   "execution_count": 4,
   "metadata": {},
   "outputs": [],
   "source": [
    "us_port_hubs = pd.read_csv('../sources/ais_noaa_gov/us_port_hubs.csv')\n",
    "us_port_hubs.drop(columns=['Unnamed: 0'], inplace=True)\n",
    "df_port_drugs = GLA_data.copy()"
   ]
  },
  {
   "cell_type": "code",
   "execution_count": 5,
   "metadata": {},
   "outputs": [],
   "source": [
    "# GLA_data.drop(columns=['Computed_Value'], inplace=True)\n",
    "GLA_data['latitude'] = us_port_hubs.loc[3, 'coord_0']\n",
    "GLA_data['longitude'] = us_port_hubs.loc[3, 'coord_1']"
   ]
  },
  {
   "cell_type": "markdown",
   "metadata": {},
   "source": [
    "### Visualizacion de los datos\n",
    "- Limpieza de datos.\n",
    "- Transformación, Normalización de los datos.Integración.\n",
    "- Missing Values.\n",
    "- Outliers & Noise Identification."
   ]
  },
  {
   "cell_type": "markdown",
   "metadata": {},
   "source": [
    "#### Representacion Grafica de variables y comparacion entre variables:"
   ]
  },
  {
   "cell_type": "markdown",
   "metadata": {},
   "source": [
    "En GLA_data existia un error de formato en la observación 25, por lo que, tras arreglarlo más bajo, es necesario volver a ejecutar las celdas de transformación:"
   ]
  },
  {
   "cell_type": "code",
   "execution_count": null,
   "metadata": {},
   "outputs": [],
   "source": [
    "from sklearn.pipeline import Pipeline\n",
    "from sklearn.compose import ColumnTransformer\n",
    "from sklearn.impute import SimpleImputer\n",
    "from sklearn.preprocessing import StandardScaler, OneHotEncoder\n",
    "\n",
    "# Ensure 'Date' is in datetime format\n",
    "GLA_data['Date'] = pd.to_datetime(GLA_data['Date'])\n",
    "\n",
    "# Identify numeric and categorical columns (excluding 'Date')\n",
    "numeric_features = GLA_data.select_dtypes(include=['float64']).columns\n",
    "categorical_features = GLA_data.select_dtypes(include=['object']).columns\n",
    "\n",
    "# Create transformers for numeric and categorical features\n",
    "numeric_transformer = Pipeline(steps=[\n",
    "    ('imputer', SimpleImputer(strategy='constant', fill_value=0)),\n",
    "    ('scaler', StandardScaler())\n",
    "])\n",
    "\n",
    "categorical_transformer = Pipeline(steps=[\n",
    "    ('imputer', SimpleImputer(strategy='constant', fill_value='missing')),\n",
    "    ('onehot', OneHotEncoder(handle_unknown='ignore'))\n",
    "])\n",
    "\n",
    "# Exclude 'Date' from transformations\n",
    "features_to_transform = [col for col in GLA_data.columns if col not in ['Date']]\n",
    "\n",
    "# Combine transformers into a ColumnTransformer\n",
    "preprocessor = ColumnTransformer(\n",
    "    transformers=[\n",
    "        ('num', numeric_transformer, numeric_features),\n",
    "        ('cat', categorical_transformer, categorical_features)\n",
    "    ])\n",
    "\n",
    "# Create the final pipeline\n",
    "pipeline = Pipeline(steps=[('preprocessor', preprocessor)])\n",
    "\n",
    "# Fit and transform the data (excluding 'Date')\n",
    "GLA_data_transformed = pipeline.fit_transform(GLA_data[features_to_transform])\n",
    "\n",
    "# Reconstruct DataFrame\n",
    "transformed_columns = list(numeric_features)\n",
    "if len(categorical_features) > 0:\n",
    "    transformed_columns += list(pipeline.named_steps['preprocessor'].named_transformers_['cat'].named_steps['onehot'].get_feature_names_out(categorical_features))\n",
    "\n",
    "GLA_data_transformed_df = pd.DataFrame(GLA_data_transformed, columns=transformed_columns)\n",
    "\n",
    "# Reattach 'Date' column\n",
    "GLA_data_transformed_df.insert(0, 'Date', GLA_data['Date'].values)\n"
   ]
  },
  {
   "cell_type": "markdown",
   "metadata": {},
   "source": [
    "Se ha corroborado que (Sum Imports + Sum Exports) = TEUs Total se cumple en la mayoría de los casos.\n",
    "Falla para el índice 25 (noviembre-2020) que es el dato tratado. Puesto que el resultado del dataframe resultante es la suma de los datos ofrecidos tanto por el Puerto de Los Angeles como el de Long Beach, se va acudir a las fuentes originarias para observar si el error está originado allí:\n",
    "- https://www.portoflosangeles.org/business/statistics/container-statistics/historical-teu-statistics-2020:\n",
    "292,762.25 \t423,678.75 \t889.,748.15 -> Hay un error de formato en la columna TEUs.\n",
    "- Para el caso de Long Beach, el formato es correcto.\n"
   ]
  },
  {
   "cell_type": "code",
   "execution_count": null,
   "metadata": {},
   "outputs": [],
   "source": [
    "# Dado que ahora conocemos tanto el origen del error como el valor resultante, se va modificar el valor de 'Total TEUs' en la fila 25:\n",
    "GLA_data.loc[25, 'Total TEUs'] = GLA_data['Total Imports'].iloc[25] + GLA_data['Total Exports'].iloc[25]"
   ]
  },
  {
   "cell_type": "code",
   "execution_count": null,
   "metadata": {},
   "outputs": [],
   "source": [
    "from plotnine import ggplot, aes, geom_line, labs, theme_minimal, theme_538\n",
    "\n",
    "# Melt the dataframe to long format for easier plotting with plotnine\n",
    "GLA_data_melted = GLA_data_transformed_df.melt(id_vars=['Date'], value_vars=['Loaded Imports', 'Sum_of_Counts', 'Total Exports', 'Total Imports', 'Total TEUs'], var_name='Variable', value_name='Value')\n",
    "\n",
    "# Create the plot\n",
    "plot = (ggplot(GLA_data_melted, aes(x='Date', y='Value', color='Variable'))\n",
    "    + geom_line()\n",
    "    + labs(title='Time Series of Various Metrics\\non Greater Los Angeles Area',\n",
    "           x='Date',\n",
    "           y='Value')\n",
    "    + theme_538())\n",
    "\n",
    "plot"
   ]
  },
  {
   "cell_type": "markdown",
   "metadata": {},
   "source": [
    "A primera vista, se observa un más que probable outlier en 'Total TEUs'. Se van realizar distintas visualizaciones para esta variable: boxplot, diagrama scatter..."
   ]
  },
  {
   "cell_type": "code",
   "execution_count": null,
   "metadata": {},
   "outputs": [],
   "source": [
    "from plotnine import ggplot, aes, geom_boxplot, geom_point, geom_histogram, stat_qq, stat_qq_line, labs, theme_minimal\n",
    "\n",
    "# Boxplot for 'Total TEUs'\n",
    "boxplot = (ggplot(GLA_data_transformed_df, aes(x=1, y='Total TEUs'))\n",
    "           + geom_boxplot()\n",
    "           + labs(title='Boxplot of Total TEUs\\n for Greater Los Angeles Area', x='', y='Total TEUs')\n",
    "           + theme_538())\n",
    "\n",
    "boxplot"
   ]
  },
  {
   "cell_type": "code",
   "execution_count": null,
   "metadata": {},
   "outputs": [],
   "source": [
    "\n",
    "# QQ plot for 'Total TEUs'\n",
    "qq_plot = (ggplot(GLA_data_transformed_df, aes(sample='Total TEUs'))\n",
    "           + stat_qq()\n",
    "           + stat_qq_line()\n",
    "           + labs(title='QQ Plot of Total TEUs', x='Theoretical Quantiles', y='Sample Quantiles')\n",
    "           + theme_538())\n",
    "\n",
    "qq_plot"
   ]
  },
  {
   "cell_type": "code",
   "execution_count": null,
   "metadata": {},
   "outputs": [],
   "source": [
    "# Histogram for 'Total TEUs'\n",
    "histogram = (ggplot(GLA_data_transformed_df, aes(x='Total TEUs'))\n",
    "             + geom_histogram(bins=30, fill='blue', color='black')\n",
    "             + labs(title='Histogram of Total TEUs', x='Total TEUs', y='Frequency')\n",
    "             + theme_538())\n",
    "\n",
    "histogram"
   ]
  },
  {
   "cell_type": "markdown",
   "metadata": {},
   "source": [
    "Queda claro que ese valor es un outlier. ¿Pero qué hacer? ¿Cómo se ha llegado hasta él? No hay muchos datos y quizá eliminar toda esa fila de datos no fuera necesario. Así que voy a ver si originalmente existía tal dato y cómo se llegó a él."
   ]
  },
  {
   "cell_type": "code",
   "execution_count": null,
   "metadata": {},
   "outputs": [],
   "source": [
    "# Find the index of the maximum value in 'Total TEUs'\n",
    "max_teus_index = GLA_data['Total TEUs'].idxmax()\n",
    "\n",
    "# Get the 'Date' value for this index\n",
    "max_teus_date = GLA_data.loc[max_teus_index, 'Date']\n",
    "\n",
    "# Print the index and the 'Date' value\n",
    "print(f\"Index: {max_teus_index}, Date: {max_teus_date}\")"
   ]
  },
  {
   "cell_type": "markdown",
   "metadata": {},
   "source": [
    "Tras arreglar ese dato, se va a proceder a tratar los outliers en el resto de variables:"
   ]
  },
  {
   "cell_type": "code",
   "execution_count": null,
   "metadata": {},
   "outputs": [],
   "source": [
    "GLA_data_transformed_df.to_csv('../sources/GreaterLosAngeles_data_transformed.csv', index=False, sep=',')"
   ]
  },
  {
   "cell_type": "markdown",
   "metadata": {},
   "source": [
    "### Puertos de Seattle y Tacoma:"
   ]
  },
  {
   "cell_type": "code",
   "execution_count": null,
   "metadata": {},
   "outputs": [],
   "source": [
    "# Read the Excel file and create a dataframe using the third row as the header\n",
    "nwsa_teu_data = pd.read_excel('../sources/NWSA Historical Cargo Stats.xls', sheet_name='TEUs', header=2)\n",
    "\n",
    "# Drop specific rows\n",
    "rows_to_drop = [11, 19, 27, 35, 43, 51, 59, 67, 75, 83, 91] + list(range(99, len(nwsa_teu_data)))\n",
    "nwsa_teu_data.drop(rows_to_drop, inplace=True)\n",
    "\n",
    "\n",
    "nwsa_teu_data['Unnamed: 0'].fillna(method='ffill', inplace=True)"
   ]
  },
  {
   "cell_type": "code",
   "execution_count": null,
   "metadata": {},
   "outputs": [],
   "source": [
    "# Melt the dataframe to long format\n",
    "nwsa_teu_data_long = nwsa_teu_data.melt(id_vars=['Unnamed: 0', 'Unnamed: 1'], value_vars=[2017, 2018, 2019, 2020, 2021, 2022, 2023, 2024], \n",
    "                                        var_name='Year', value_name='TEUs')\n",
    "# Rename 'Unnamed: 0' to 'Category' and 'Unnamed: 1' to 'Subcategory'\n",
    "nwsa_teu_data_long.rename(columns={'Unnamed: 0': 'Category', 'Unnamed: 1': 'Subcategory'}, inplace=True)\n",
    "rows_to_remove = nwsa_teu_data_long.loc[nwsa_teu_data_long[\"Category\"] == \"Total\"]\n",
    "\n",
    "# Remove rows using the indices from rows_to_remove\n",
    "nwsa_teu_data_long.drop(rows_to_remove.index, inplace=True)\n",
    "\n",
    "# Reset the index after dropping rows\n",
    "nwsa_teu_data_long.reset_index(drop=True, inplace=True)\n",
    "\n",
    "# Merge column 'Year' with 'Category' and call it 'Date'\n",
    "nwsa_teu_data_long['Date'] = pd.to_datetime(nwsa_teu_data_long['Year'].astype(str) + '-' + nwsa_teu_data_long['Category'], format='%Y-%b')\n",
    "\n",
    "# Drop columns 'Category' and 'Year'\n",
    "nwsa_teu_data_long.drop(columns=['Category', 'Year'], inplace=True)\n",
    "\n",
    "# Transform Date type to format '%Y-%m'\n",
    "nwsa_teu_data_long['Date'] = nwsa_teu_data_long['Date'].dt.strftime('%Y-%m')\n",
    "\n",
    "# Drop rows with NaN values in the 'Subcategory' column\n",
    "nwsa_teu_data_long.dropna(subset=['Subcategory'], inplace=True)\n",
    "\n",
    "# Pivot the dataframe\n",
    "nwsa_teu_data_pivot = nwsa_teu_data_long.pivot(index='Date', columns='Subcategory', values='TEUs').reset_index()\n"
   ]
  },
  {
   "cell_type": "code",
   "execution_count": null,
   "metadata": {},
   "outputs": [],
   "source": [
    "# Define the columns to sum\n",
    "columns_to_sum = ['Domestic - Alaska', 'Domestic - Hawaii', 'International Exports Full', 'International Imports Empty', 'International Imports Full']\n",
    "\n",
    "# Calculate the sum of the specified columns\n",
    "nwsa_teu_data_pivot['Sum_Other_Columns'] = nwsa_teu_data_pivot[columns_to_sum].sum(axis=1)\n",
    "\n",
    "# Impute NaN values in 'International Exports Empty'\n",
    "nwsa_teu_data_pivot['International Exports Empty'] = nwsa_teu_data_pivot.apply(\n",
    "    lambda row: row['Total TEUs'] - row['Sum_Other_Columns'] if pd.isna(row['International Exports Empty']) else row['International Exports Empty'],\n",
    "    axis=1\n",
    ")\n",
    "\n",
    "# Drop the temporary 'Sum_Other_Columns' column\n",
    "nwsa_teu_data_pivot.drop(columns=['Sum_Other_Columns'], inplace=True)"
   ]
  },
  {
   "cell_type": "markdown",
   "metadata": {},
   "source": [
    "Incluir datos de incautacion para Seattle:"
   ]
  },
  {
   "cell_type": "code",
   "execution_count": null,
   "metadata": {},
   "outputs": [],
   "source": [
    "# Loop through each CSV file\n",
    "for file in csv_files:\n",
    "    # Read the CSV file into a pandas dataframe\n",
    "    df = pd.read_csv(file)\n",
    "    \n",
    "    # Filter the dataframe for 'Los Angeles Field Office'\n",
    "    # df_filtered = df[df['Area of Responsibility'] == 'SEATTLE FIELD OFFICE']\n",
    "    \n",
    "    # Append the filtered dataframe to the list\n",
    "    drug_seizures_dataframes.append(df)\n",
    "\n",
    "# Concatenate all filtered dataframes into a single dataframe\n",
    "drug_seizures_combined = pd.concat(drug_seizures_dataframes, ignore_index=True)\n",
    "\n",
    "# Drop duplicates\n",
    "drug_seizures_combined.drop_duplicates(inplace=True)\n",
    "drug_seizures_combined = drug_seizures_combined.loc[drug_seizures_combined['Area of Responsibility'] == 'SEATTLE FIELD OFFICE']\n",
    "drug_seizures_combined.reset_index(drop=True, inplace=True)\n",
    "\n",
    "# Ensure all values in 'FY' column are strings\n",
    "drug_seizures_combined['FY'] = drug_seizures_combined['FY'].astype(str)\n",
    "\n",
    "# Replace ' (FYTD)' with an empty string\n",
    "drug_seizures_combined['FY'] = drug_seizures_combined['FY'].str.replace(' (FYTD)', '', regex=False)\n",
    "\n",
    "drug_seizures_combined['Date'] = drug_seizures_combined['FY'] + '-' + drug_seizures_combined['Month (abbv)'].astype(str)\n",
    "drug_seizures_combined['Date'] = drug_seizures_combined['Date'].str.replace(r'-(\\w{3})$', lambda x: '-' + x.group(1).capitalize(), regex=True)\n",
    "\n",
    "# Convert 'Date' column to datetime format and then to '%Y-%m'\n",
    "drug_seizures_combined['Date'] = pd.to_datetime(drug_seizures_combined['Date'], format='%Y-%b').dt.strftime('%Y-%m')\n",
    "\n",
    "# Drop the original 'FY' and 'Month (abbv)' columns if no longer needed\n",
    "drug_seizures_combined.drop(columns=['FY', 'Month (abbv)', 'Component', 'Region', 'Land Filter', 'Area of Responsibility'], inplace=True)"
   ]
  },
  {
   "cell_type": "markdown",
   "metadata": {},
   "source": [
    "La sustitución de 'Area of Responsibility' por las coordenadas de latitud y longitud es una suerte de tratamiento de una variable categórica"
   ]
  },
  {
   "cell_type": "code",
   "execution_count": null,
   "metadata": {},
   "outputs": [],
   "source": [
    "# row 25: Seattle/Tacoma, WA\n",
    "drug_seizures_combined['latitude'] = us_port_hubs.loc[25, 'coord_0']\n",
    "drug_seizures_combined['longitude'] = us_port_hubs.loc[25, 'coord_1']"
   ]
  },
  {
   "cell_type": "code",
   "execution_count": null,
   "metadata": {},
   "outputs": [],
   "source": [
    "# subdataframe = drug_seizures_combined[['Drug Type', 'Count of Event', 'Sum Qty (lbs)']]\n",
    "drug_seizures_wide = pd.pivot_table(drug_seizures_combined, index=['Date','latitude','longitude'], columns='Drug Type', values=['Count of Event', 'Sum Qty (lbs)'], aggfunc='sum')\n",
    "drug_seizures_wide.columns = ['_'.join(col).strip() for col in drug_seizures_wide.columns.values]\n",
    "drug_seizures_wide.reset_index(inplace=True)\n",
    "drug_seizures_wide['Sum_of_Counts'] = drug_seizures_wide.filter(like='Count of Event_').sum(axis=1)\n",
    "# Adjust the dates for 'October', 'November', and 'December' by anticipating one year\n",
    "def adjust_fiscal_year(date_str):\n",
    "    date = pd.to_datetime(date_str, format='%Y-%m')\n",
    "    if date.month in [10, 11, 12]:\n",
    "        date = date + pd.DateOffset(years=-1)\n",
    "    return date.strftime('%Y-%m')\n",
    "\n",
    "# Apply the adjustment to the 'Date' column in combined_teu_data\n",
    "drug_seizures_wide['Date'] = drug_seizures_wide['Date'].apply(adjust_fiscal_year)\n",
    "drug_seizures_wide.sort_values(by='Date', ascending=True, inplace=True)\n",
    "drug_seizures_wide.reset_index(drop=True, inplace=True)"
   ]
  },
  {
   "cell_type": "markdown",
   "metadata": {},
   "source": [
    "Modificar dataframe de contenedores de Seattle:"
   ]
  },
  {
   "cell_type": "markdown",
   "metadata": {},
   "source": [
    "['Date', 'Loaded Imports', 'Empty Imports', 'Total Imports',\n",
    "       'Loaded Exports', 'Empty Exports', 'Total Exports', 'Total TEUs'"
   ]
  },
  {
   "cell_type": "code",
   "execution_count": null,
   "metadata": {},
   "outputs": [],
   "source": [
    "nwsa_teu_data_pivot.rename(columns={\n",
    "    'International Imports Full': 'Loaded Imports',\n",
    "    'International Imports Empty': 'Empty Imports',\n",
    "    'International Exports Full': 'Loaded Exports',\n",
    "    'International Exports Empty': 'Empty Exports'\n",
    "}, inplace=True)\n",
    "\n",
    "# Create 'Total Imports' and 'Total Exports' columns\n",
    "nwsa_teu_data_pivot['Total Imports'] = nwsa_teu_data_pivot['Loaded Imports'] + nwsa_teu_data_pivot['Empty Imports']\n",
    "nwsa_teu_data_pivot['Total Exports'] = nwsa_teu_data_pivot['Loaded Exports'] + nwsa_teu_data_pivot['Empty Exports']"
   ]
  },
  {
   "cell_type": "code",
   "execution_count": null,
   "metadata": {},
   "outputs": [],
   "source": [
    "NSWA_data = pd.merge(nwsa_teu_data_pivot, drug_seizures_wide, on='Date', how='inner')\n",
    "NSWA_data.drop(columns=['Domestic - Alaska', 'Domestic - Hawaii'], inplace=True)"
   ]
  },
  {
   "cell_type": "markdown",
   "metadata": {},
   "source": [
    "Acoplar el dataframe generado para Seattle con el generado para 'Gran Los Angeles'"
   ]
  },
  {
   "cell_type": "code",
   "execution_count": null,
   "metadata": {},
   "outputs": [],
   "source": [
    "# Concatenate NSWA_data with GLA_data\n",
    "combined_data = pd.concat([NSWA_data, GLA_data], ignore_index=True)\n",
    "combined_data['Date'] = pd.to_datetime(combined_data['Date'], format='%Y-%m').dt.strftime('%Y-%m')\n",
    "\n",
    "# Sort the combined dataframe by 'Date' in ascending order\n",
    "combined_data.sort_values(by='Date', ascending=True, inplace=True)\n",
    "\n",
    "# Reset the index of the sorted dataframe\n",
    "combined_data.reset_index(drop=True, inplace=True)"
   ]
  },
  {
   "cell_type": "code",
   "execution_count": null,
   "metadata": {},
   "outputs": [],
   "source": [
    "combined_data.loc[combined_data['Date'] == '2024-12']"
   ]
  },
  {
   "cell_type": "markdown",
   "metadata": {},
   "source": [
    "Incluir puerto de San Diego:"
   ]
  },
  {
   "cell_type": "markdown",
   "metadata": {},
   "source": [
    "Aparentemente los datos en San Diego son muy pequeños para el tráfico de contenedores.\n",
    "Fuente: https://www.portofsandiego.org/maritime/cargo-and-trade"
   ]
  },
  {
   "cell_type": "markdown",
   "metadata": {},
   "source": [
    "### Puerto de Oakland en la SFBA:\n",
    "\n",
    "Nota: The Port of Oakland handles 99% of the containerized goods moving through Northern California\n",
    "Fuente: https://vitalsigns.mtc.ca.gov/indicators/seaport-activity"
   ]
  },
  {
   "cell_type": "code",
   "execution_count": null,
   "metadata": {},
   "outputs": [],
   "source": [
    "# Read the Excel file and create a dataframe\n",
    "teu_data_oakland = pd.read_excel('../sources/TEUs_PortOakland_2025.xls', header=0)\n",
    "\n",
    "# Create the 'Date' column\n",
    "teu_data_oakland['Date'] = pd.concat([\n",
    "    pd.to_datetime(teu_data_oakland.loc[:26, 'Year'].astype(str) + '-' + teu_data_oakland.loc[:26, 'Month'], format='%Y-%B').dt.strftime('%Y-%m'),\n",
    "    pd.to_datetime(teu_data_oakland.loc[27:, 'Year'], format='%Y-%m').dt.strftime('%Y-%m')\n",
    "]).reset_index(drop=True)\n",
    "\n",
    "# Display the modified dataframe\n",
    "teu_data_oakland.drop(columns=['Year', 'Month', 'Total \\nFull', 'Total\\nEmpty'], inplace=True)\n",
    "teu_data_oakland.rename(columns={'Grand\\nTotal': 'Total TEUs',\n",
    "                                 'Import\\nFull':'Loaded Imports',\n",
    "                                 'Import\\nEmpty':'Empty Imports',\n",
    "                                 'Export \\nFull':'Loaded Exports',\n",
    "                                 'Export\\nEmpty':'Empty Exports',\n",
    "                                 }, inplace=True)\n",
    "\n",
    "teu_data_oakland['Total Imports'] = teu_data_oakland['Loaded Imports'] + teu_data_oakland['Empty Imports']\n",
    "teu_data_oakland['Total Exports'] = teu_data_oakland['Loaded Exports'] + teu_data_oakland['Empty Exports']"
   ]
  },
  {
   "cell_type": "markdown",
   "metadata": {},
   "source": [
    "Generar set de datos de incautacion (incluir coordenadas)"
   ]
  },
  {
   "cell_type": "code",
   "execution_count": null,
   "metadata": {},
   "outputs": [],
   "source": [
    "# Loop through each CSV file\n",
    "for file in csv_files:\n",
    "    # Read the CSV file into a pandas dataframe\n",
    "    df = pd.read_csv(file)\n",
    "    \n",
    "    # Append the filtered dataframe to the list\n",
    "    drug_seizures_dataframes.append(df)\n",
    "\n",
    "# Concatenate all filtered dataframes into a single dataframe\n",
    "drug_seizures_combined = pd.concat(drug_seizures_dataframes, ignore_index=True)\n",
    "\n",
    "# Drop duplicates\n",
    "drug_seizures_combined.drop_duplicates(inplace=True)\n",
    "drug_seizures_combined = drug_seizures_combined.loc[drug_seizures_combined['Area of Responsibility'] == 'SAN FRANCISCO FIELD OFFICE']\n",
    "drug_seizures_combined.reset_index(drop=True, inplace=True)\n",
    "\n",
    "# Ensure all values in 'FY' column are strings\n",
    "drug_seizures_combined['FY'] = drug_seizures_combined['FY'].astype(str)\n",
    "\n",
    "# Replace ' (FYTD)' with an empty string\n",
    "drug_seizures_combined['FY'] = drug_seizures_combined['FY'].str.replace(' (FYTD)', '', regex=False)\n",
    "\n",
    "drug_seizures_combined['Date'] = drug_seizures_combined['FY'] + '-' + drug_seizures_combined['Month (abbv)'].astype(str)\n",
    "drug_seizures_combined['Date'] = drug_seizures_combined['Date'].str.replace(r'-(\\w{3})$', lambda x: '-' + x.group(1).capitalize(), regex=True)\n",
    "\n",
    "# Convert 'Date' column to datetime format and then to '%Y-%m'\n",
    "drug_seizures_combined['Date'] = pd.to_datetime(drug_seizures_combined['Date'], format='%Y-%b').dt.strftime('%Y-%m')\n",
    "\n",
    "# Drop the original 'FY' and 'Month (abbv)' columns if no longer needed\n",
    "drug_seizures_combined.drop(columns=['FY', 'Month (abbv)', 'Component', 'Region', 'Land Filter', 'Area of Responsibility'], inplace=True)"
   ]
  },
  {
   "cell_type": "code",
   "execution_count": null,
   "metadata": {},
   "outputs": [],
   "source": [
    "# row 13: SFBA, CA\n",
    "drug_seizures_combined['latitude'] = us_port_hubs.loc[13, 'coord_0']\n",
    "drug_seizures_combined['longitude'] = us_port_hubs.loc[13, 'coord_1']"
   ]
  },
  {
   "cell_type": "code",
   "execution_count": null,
   "metadata": {},
   "outputs": [],
   "source": [
    "# subdataframe = drug_seizures_combined[['Drug Type', 'Count of Event', 'Sum Qty (lbs)']]\n",
    "drug_seizures_wide = pd.pivot_table(drug_seizures_combined, index=['Date','latitude','longitude'], columns='Drug Type', values=['Count of Event', 'Sum Qty (lbs)'], aggfunc='sum')\n",
    "drug_seizures_wide.columns = ['_'.join(col).strip() for col in drug_seizures_wide.columns.values]\n",
    "drug_seizures_wide.reset_index(inplace=True)\n",
    "drug_seizures_wide['Sum_of_Counts'] = drug_seizures_wide.filter(like='Count of Event_').sum(axis=1)\n",
    "# Adjust the dates for 'October', 'November', and 'December' by anticipating one year\n",
    "def adjust_fiscal_year(date_str):\n",
    "    date = pd.to_datetime(date_str, format='%Y-%m')\n",
    "    if date.month in [10, 11, 12]:\n",
    "        date = date + pd.DateOffset(years=-1)\n",
    "    return date.strftime('%Y-%m')\n",
    "\n",
    "# Apply the adjustment to the 'Date' column in combined_teu_data\n",
    "drug_seizures_wide['Date'] = drug_seizures_wide['Date'].apply(adjust_fiscal_year)\n",
    "drug_seizures_wide.sort_values(by='Date', ascending=True, inplace=True)\n",
    "drug_seizures_wide.reset_index(drop=True, inplace=True)"
   ]
  },
  {
   "cell_type": "markdown",
   "metadata": {},
   "source": [
    "Join de los datos de contenedores con incautaciones:"
   ]
  },
  {
   "cell_type": "code",
   "execution_count": null,
   "metadata": {},
   "outputs": [],
   "source": [
    "SFBA_data = pd.merge(teu_data_oakland, drug_seizures_wide, on='Date', how='inner')"
   ]
  },
  {
   "cell_type": "markdown",
   "metadata": {},
   "source": [
    "Acoplar datos de 'San Francisco Bay Area'"
   ]
  },
  {
   "cell_type": "code",
   "execution_count": null,
   "metadata": {},
   "outputs": [],
   "source": [
    "# Concatenate SFBA_data with combined_data\n",
    "combined_data = pd.concat([combined_data, SFBA_data], ignore_index=True)\n",
    "\n",
    "# Sort the combined dataframe by 'Date' in ascending order\n",
    "combined_data.sort_values(by='Date', ascending=True, inplace=True)\n",
    "\n",
    "# Reset the index of the sorted dataframe\n",
    "combined_data.reset_index(drop=True, inplace=True)"
   ]
  },
  {
   "cell_type": "markdown",
   "metadata": {},
   "source": [
    "### Puerto de Newark/New York:\n",
    "Fuente: https://www.panynj.gov/port/en/our-port/facts-and-figures.html"
   ]
  },
  {
   "cell_type": "code",
   "execution_count": 6,
   "metadata": {},
   "outputs": [],
   "source": [
    "# Read the Excel file and create a dataframe\n",
    "teu_data_newark = pd.read_excel('../sources/TEUs_PortNewark_2025.xls', header=0, thousands=',')"
   ]
  },
  {
   "cell_type": "code",
   "execution_count": 7,
   "metadata": {},
   "outputs": [],
   "source": [
    "teu_data_newark['Date'] = pd.to_datetime(teu_data_newark['Unnamed: 0'].astype(str) + '-' + teu_data_newark['Unnamed: 1'], format='%Y-%B').dt.strftime('%Y-%m')\n",
    "teu_data_newark.drop(columns=['Unnamed: 0', 'Unnamed: 1'], inplace=True)\n",
    "\n",
    "teu_data_newark.rename(columns={\n",
    "                                'Loads Import TEUs':'Loaded Imports',\n",
    "                                'Empties Import TEUs':'Empty Imports',\n",
    "                                'Loads Export TEUs':'Loaded Exports',\n",
    "                                'Empties Export TEUs':'Empty Exports'\n",
    "                                }, inplace=True)\n",
    "\n",
    "teu_data_newark['Total Imports'] = teu_data_newark['Loaded Imports'] + teu_data_newark['Empty Imports']\n",
    "teu_data_newark['Total Exports'] = teu_data_newark['Loaded Exports'] + teu_data_newark['Empty Exports']"
   ]
  },
  {
   "cell_type": "markdown",
   "metadata": {},
   "source": [
    "Generar dataset de incautacion de drogas + coordenadas"
   ]
  },
  {
   "cell_type": "code",
   "execution_count": 8,
   "metadata": {},
   "outputs": [],
   "source": [
    "# Loop through each CSV file\n",
    "for file in csv_files:\n",
    "    # Read the CSV file into a pandas dataframe\n",
    "    df = pd.read_csv(file)\n",
    "    \n",
    "    # Append the filtered dataframe to the list\n",
    "    drug_seizures_dataframes.append(df)\n",
    "\n",
    "# Concatenate all filtered dataframes into a single dataframe\n",
    "drug_seizures_combined = pd.concat(drug_seizures_dataframes, ignore_index=True)\n",
    "\n",
    "# Drop duplicates\n",
    "drug_seizures_combined.drop_duplicates(inplace=True)\n",
    "drug_seizures_combined = drug_seizures_combined.loc[drug_seizures_combined['Area of Responsibility'] == 'NEW YORK FIELD OFFICE']\n",
    "drug_seizures_combined.reset_index(drop=True, inplace=True)\n",
    "\n",
    "# Ensure all values in 'FY' column are strings\n",
    "drug_seizures_combined['FY'] = drug_seizures_combined['FY'].astype(str)\n",
    "\n",
    "# Replace ' (FYTD)' with an empty string\n",
    "drug_seizures_combined['FY'] = drug_seizures_combined['FY'].str.replace(' (FYTD)', '', regex=False)\n",
    "\n",
    "drug_seizures_combined['Date'] = drug_seizures_combined['FY'] + '-' + drug_seizures_combined['Month (abbv)'].astype(str)\n",
    "drug_seizures_combined['Date'] = drug_seizures_combined['Date'].str.replace(r'-(\\w{3})$', lambda x: '-' + x.group(1).capitalize(), regex=True)\n",
    "\n",
    "# Convert 'Date' column to datetime format and then to '%Y-%m'\n",
    "drug_seizures_combined['Date'] = pd.to_datetime(drug_seizures_combined['Date'], format='%Y-%b').dt.strftime('%Y-%m')\n",
    "\n",
    "# Drop the original 'FY' and 'Month (abbv)' columns if no longer needed\n",
    "drug_seizures_combined.drop(columns=['FY', 'Month (abbv)', 'Component', 'Region', 'Land Filter', 'Area of Responsibility'], inplace=True)"
   ]
  },
  {
   "cell_type": "code",
   "execution_count": 9,
   "metadata": {},
   "outputs": [],
   "source": [
    "# row 6: NJ/NY\n",
    "drug_seizures_combined['latitude'] = us_port_hubs.loc[6, 'coord_0']\n",
    "drug_seizures_combined['longitude'] = us_port_hubs.loc[6, 'coord_1']"
   ]
  },
  {
   "cell_type": "code",
   "execution_count": 11,
   "metadata": {},
   "outputs": [],
   "source": [
    "# subdataframe = drug_seizures_combined[['Drug Type', 'Count of Event', 'Sum Qty (lbs)']]\n",
    "drug_seizures_wide = pd.pivot_table(drug_seizures_combined, index=['Date','latitude','longitude'], columns='Drug Type', values=['Count of Event', 'Sum Qty (lbs)'], aggfunc='sum')\n",
    "drug_seizures_wide.columns = ['_'.join(col).strip() for col in drug_seizures_wide.columns.values]\n",
    "drug_seizures_wide.reset_index(inplace=True)\n",
    "drug_seizures_wide['Sum_of_Counts'] = drug_seizures_wide.filter(like='Count of Event_').sum(axis=1)\n",
    "# Adjust the dates for 'October', 'November', and 'December' by anticipating one year\n",
    "def adjust_fiscal_year(date_str):\n",
    "    date = pd.to_datetime(date_str, format='%Y-%m')\n",
    "    if date.month in [10, 11, 12]:\n",
    "        date = date + pd.DateOffset(years=-1)\n",
    "    return date.strftime('%Y-%m')\n",
    "\n",
    "# Apply the adjustment to the 'Date' column in combined_teu_data\n",
    "drug_seizures_wide['Date'] = drug_seizures_wide['Date'].apply(adjust_fiscal_year)\n",
    "drug_seizures_wide.sort_values(by='Date', ascending=True, inplace=True)\n",
    "drug_seizures_wide.reset_index(drop=True, inplace=True)"
   ]
  },
  {
   "cell_type": "code",
   "execution_count": 14,
   "metadata": {},
   "outputs": [
    {
     "data": {
      "text/plain": [
       "Index(['Date', 'latitude', 'longitude', 'Count of Event_Cocaine',\n",
       "       'Count of Event_Ecstasy', 'Count of Event_Fentanyl',\n",
       "       'Count of Event_Heroin', 'Count of Event_Ketamine',\n",
       "       'Count of Event_Khat (Catha Edulis)', 'Count of Event_Lsd',\n",
       "       'Count of Event_Marijuana', 'Count of Event_Methamphetamine',\n",
       "       'Count of Event_Other Drugs**', 'Sum Qty (lbs)_Cocaine',\n",
       "       'Sum Qty (lbs)_Ecstasy', 'Sum Qty (lbs)_Fentanyl',\n",
       "       'Sum Qty (lbs)_Heroin', 'Sum Qty (lbs)_Ketamine',\n",
       "       'Sum Qty (lbs)_Khat (Catha Edulis)', 'Sum Qty (lbs)_Lsd',\n",
       "       'Sum Qty (lbs)_Marijuana', 'Sum Qty (lbs)_Methamphetamine',\n",
       "       'Sum Qty (lbs)_Other Drugs**', 'Sum_of_Counts'],\n",
       "      dtype='object')"
      ]
     },
     "execution_count": 14,
     "metadata": {},
     "output_type": "execute_result"
    }
   ],
   "source": [
    "drug_seizures_wide.columns"
   ]
  },
  {
   "cell_type": "code",
   "execution_count": 16,
   "metadata": {},
   "outputs": [
    {
     "data": {
      "text/html": [
       "<div>\n",
       "<style scoped>\n",
       "    .dataframe tbody tr th:only-of-type {\n",
       "        vertical-align: middle;\n",
       "    }\n",
       "\n",
       "    .dataframe tbody tr th {\n",
       "        vertical-align: top;\n",
       "    }\n",
       "\n",
       "    .dataframe thead th {\n",
       "        text-align: right;\n",
       "    }\n",
       "</style>\n",
       "<table border=\"1\" class=\"dataframe\">\n",
       "  <thead>\n",
       "    <tr style=\"text-align: right;\">\n",
       "      <th></th>\n",
       "      <th>Date</th>\n",
       "      <th>latitude</th>\n",
       "      <th>longitude</th>\n",
       "      <th>Count of Event_Cocaine</th>\n",
       "      <th>Count of Event_Marijuana</th>\n",
       "      <th>Sum Qty (lbs)_Cocaine</th>\n",
       "      <th>Sum Qty (lbs)_Marijuana</th>\n",
       "    </tr>\n",
       "  </thead>\n",
       "  <tbody>\n",
       "    <tr>\n",
       "      <th>70</th>\n",
       "      <td>2024-08</td>\n",
       "      <td>40.690946</td>\n",
       "      <td>-74.157057</td>\n",
       "      <td>10.0</td>\n",
       "      <td>1128.0</td>\n",
       "      <td>39.545198</td>\n",
       "      <td>3512.319660</td>\n",
       "    </tr>\n",
       "    <tr>\n",
       "      <th>71</th>\n",
       "      <td>2024-09</td>\n",
       "      <td>40.690946</td>\n",
       "      <td>-74.157057</td>\n",
       "      <td>26.0</td>\n",
       "      <td>170.0</td>\n",
       "      <td>165.036418</td>\n",
       "      <td>899.509971</td>\n",
       "    </tr>\n",
       "    <tr>\n",
       "      <th>72</th>\n",
       "      <td>2024-10</td>\n",
       "      <td>40.690946</td>\n",
       "      <td>-74.157057</td>\n",
       "      <td>9.0</td>\n",
       "      <td>110.0</td>\n",
       "      <td>51.562375</td>\n",
       "      <td>1140.032954</td>\n",
       "    </tr>\n",
       "    <tr>\n",
       "      <th>73</th>\n",
       "      <td>2024-11</td>\n",
       "      <td>40.690946</td>\n",
       "      <td>-74.157057</td>\n",
       "      <td>6.0</td>\n",
       "      <td>118.0</td>\n",
       "      <td>27.847470</td>\n",
       "      <td>1375.535637</td>\n",
       "    </tr>\n",
       "    <tr>\n",
       "      <th>74</th>\n",
       "      <td>2024-12</td>\n",
       "      <td>40.690946</td>\n",
       "      <td>-74.157057</td>\n",
       "      <td>6.0</td>\n",
       "      <td>60.0</td>\n",
       "      <td>15.094390</td>\n",
       "      <td>659.511975</td>\n",
       "    </tr>\n",
       "  </tbody>\n",
       "</table>\n",
       "</div>"
      ],
      "text/plain": [
       "       Date   latitude  longitude  Count of Event_Cocaine  \\\n",
       "70  2024-08  40.690946 -74.157057                    10.0   \n",
       "71  2024-09  40.690946 -74.157057                    26.0   \n",
       "72  2024-10  40.690946 -74.157057                     9.0   \n",
       "73  2024-11  40.690946 -74.157057                     6.0   \n",
       "74  2024-12  40.690946 -74.157057                     6.0   \n",
       "\n",
       "    Count of Event_Marijuana  Sum Qty (lbs)_Cocaine  Sum Qty (lbs)_Marijuana  \n",
       "70                    1128.0              39.545198              3512.319660  \n",
       "71                     170.0             165.036418               899.509971  \n",
       "72                     110.0              51.562375              1140.032954  \n",
       "73                     118.0              27.847470              1375.535637  \n",
       "74                      60.0              15.094390               659.511975  "
      ]
     },
     "execution_count": 16,
     "metadata": {},
     "output_type": "execute_result"
    }
   ],
   "source": [
    "drug_seizures_wide[['Date','latitude','longitude','Count of Event_Cocaine','Count of Event_Marijuana','Sum Qty (lbs)_Cocaine','Sum Qty (lbs)_Marijuana']].tail()"
   ]
  },
  {
   "cell_type": "markdown",
   "metadata": {},
   "source": [
    "Hacer join entre contenedores e incautaciones en Newark:"
   ]
  },
  {
   "cell_type": "code",
   "execution_count": 17,
   "metadata": {},
   "outputs": [],
   "source": [
    "NJNY_data = pd.merge(teu_data_newark, drug_seizures_wide, on='Date', how='inner')"
   ]
  },
  {
   "cell_type": "code",
   "execution_count": 18,
   "metadata": {},
   "outputs": [
    {
     "data": {
      "text/plain": [
       "Index(['Loaded Imports', 'Empty Imports', 'Loaded Exports', 'Empty Exports',\n",
       "       'Total TEUs', 'Date', 'Total Imports', 'Total Exports', 'latitude',\n",
       "       'longitude', 'Count of Event_Cocaine', 'Count of Event_Ecstasy',\n",
       "       'Count of Event_Fentanyl', 'Count of Event_Heroin',\n",
       "       'Count of Event_Ketamine', 'Count of Event_Khat (Catha Edulis)',\n",
       "       'Count of Event_Lsd', 'Count of Event_Marijuana',\n",
       "       'Count of Event_Methamphetamine', 'Count of Event_Other Drugs**',\n",
       "       'Sum Qty (lbs)_Cocaine', 'Sum Qty (lbs)_Ecstasy',\n",
       "       'Sum Qty (lbs)_Fentanyl', 'Sum Qty (lbs)_Heroin',\n",
       "       'Sum Qty (lbs)_Ketamine', 'Sum Qty (lbs)_Khat (Catha Edulis)',\n",
       "       'Sum Qty (lbs)_Lsd', 'Sum Qty (lbs)_Marijuana',\n",
       "       'Sum Qty (lbs)_Methamphetamine', 'Sum Qty (lbs)_Other Drugs**',\n",
       "       'Sum_of_Counts'],\n",
       "      dtype='object')"
      ]
     },
     "execution_count": 18,
     "metadata": {},
     "output_type": "execute_result"
    }
   ],
   "source": [
    "NJNY_data.columns"
   ]
  },
  {
   "cell_type": "markdown",
   "metadata": {},
   "source": [
    "Acoplar los datos de Newark al resto del dataframe:"
   ]
  },
  {
   "cell_type": "code",
   "execution_count": null,
   "metadata": {},
   "outputs": [],
   "source": [
    "# Concatenate SFBA_data with combined_data\n",
    "combined_data = pd.concat([combined_data, NJNY_data], ignore_index=True)\n",
    "\n",
    "# Sort the combined dataframe by 'Date' in ascending order\n",
    "combined_data.sort_values(by='Date', ascending=True, inplace=True)\n",
    "\n",
    "# Reset the index of the sorted dataframe\n",
    "combined_data.reset_index(drop=True, inplace=True)"
   ]
  },
  {
   "cell_type": "markdown",
   "metadata": {},
   "source": [
    "### Puerto de Houston:\n",
    "- En primer lugar se aplicarán los datos del puerto de Houston.\n",
    "- Otros: beaumont, texas city, port freeport, port arthur, galveston"
   ]
  },
  {
   "cell_type": "code",
   "execution_count": null,
   "metadata": {},
   "outputs": [],
   "source": [
    "# Read the Excel file and create a dataframe\n",
    "houston_teu_data = pd.read_excel('../sources/Container-Volume-TEU-stats-in-depth-January-2025.xls', sheet_name='Port_Houston', header=0)"
   ]
  },
  {
   "cell_type": "code",
   "execution_count": null,
   "metadata": {},
   "outputs": [],
   "source": [
    "# Display the dataframe\n",
    "houston_teu_data.drop(columns=['Loaded Total','Empty Total'], inplace=True)\n",
    "houston_teu_data.rename(columns={'Loaded and Empty\\nTotal': 'Total TEUs'}, inplace=True)\n",
    "houston_teu_data['Total Imports'] = houston_teu_data['Loaded Imports'] + houston_teu_data['Empty Imports']\n",
    "houston_teu_data['Total Exports'] = houston_teu_data['Loaded Exports'] + houston_teu_data['Empty Exports']\n",
    "houston_teu_data['Date'] = pd.to_datetime(houston_teu_data['Date'], format='%b‐%y').dt.strftime('%Y-%m')"
   ]
  },
  {
   "cell_type": "markdown",
   "metadata": {},
   "source": [
    "Generar dataset de incautacion de drogas + coordenadas"
   ]
  },
  {
   "cell_type": "code",
   "execution_count": null,
   "metadata": {},
   "outputs": [],
   "source": [
    "# Loop through each CSV file\n",
    "for file in csv_files:\n",
    "    # Read the CSV file into a pandas dataframe\n",
    "    df = pd.read_csv(file)\n",
    "    \n",
    "    # Append the filtered dataframe to the list\n",
    "    drug_seizures_dataframes.append(df)\n",
    "\n",
    "# Concatenate all filtered dataframes into a single dataframe\n",
    "drug_seizures_combined = pd.concat(drug_seizures_dataframes, ignore_index=True)\n",
    "\n",
    "# Drop duplicates\n",
    "drug_seizures_combined.drop_duplicates(inplace=True)\n",
    "drug_seizures_combined = drug_seizures_combined.loc[drug_seizures_combined['Area of Responsibility'] == 'HOUSTON FIELD OFFICE']\n",
    "drug_seizures_combined.reset_index(drop=True, inplace=True)\n",
    "\n",
    "# Ensure all values in 'FY' column are strings\n",
    "drug_seizures_combined['FY'] = drug_seizures_combined['FY'].astype(str)\n",
    "\n",
    "# Replace ' (FYTD)' with an empty string\n",
    "drug_seizures_combined['FY'] = drug_seizures_combined['FY'].str.replace(' (FYTD)', '', regex=False)\n",
    "\n",
    "drug_seizures_combined['Date'] = drug_seizures_combined['FY'] + '-' + drug_seizures_combined['Month (abbv)'].astype(str)\n",
    "drug_seizures_combined['Date'] = drug_seizures_combined['Date'].str.replace(r'-(\\w{3})$', lambda x: '-' + x.group(1).capitalize(), regex=True)\n",
    "\n",
    "# Convert 'Date' column to datetime format and then to '%Y-%m'\n",
    "drug_seizures_combined['Date'] = pd.to_datetime(drug_seizures_combined['Date'], format='%Y-%b').dt.strftime('%Y-%m')\n",
    "\n",
    "# Drop the original 'FY' and 'Month (abbv)' columns if no longer needed\n",
    "drug_seizures_combined.drop(columns=['FY', 'Month (abbv)', 'Component', 'Region', 'Land Filter', 'Area of Responsibility'], inplace=True)"
   ]
  },
  {
   "cell_type": "code",
   "execution_count": null,
   "metadata": {},
   "outputs": [],
   "source": [
    "# row 2: Houston/Galveston, TX\n",
    "drug_seizures_combined['latitude'] = us_port_hubs.loc[2, 'coord_0']\n",
    "drug_seizures_combined['longitude'] = us_port_hubs.loc[2, 'coord_1']"
   ]
  },
  {
   "cell_type": "code",
   "execution_count": null,
   "metadata": {},
   "outputs": [],
   "source": [
    "# subdataframe = drug_seizures_combined[['Drug Type', 'Count of Event', 'Sum Qty (lbs)']]\n",
    "drug_seizures_wide = pd.pivot_table(drug_seizures_combined, index=['Date','latitude','longitude'], columns='Drug Type', values=['Count of Event', 'Sum Qty (lbs)'], aggfunc='sum')\n",
    "drug_seizures_wide.columns = ['_'.join(col).strip() for col in drug_seizures_wide.columns.values]\n",
    "drug_seizures_wide.reset_index(inplace=True)\n",
    "drug_seizures_wide['Sum_of_Counts'] = drug_seizures_wide.filter(like='Count of Event_').sum(axis=1)\n",
    "# Adjust the dates for 'October', 'November', and 'December' by anticipating one year\n",
    "def adjust_fiscal_year(date_str):\n",
    "    date = pd.to_datetime(date_str, format='%Y-%m')\n",
    "    if date.month in [10, 11, 12]:\n",
    "        date = date + pd.DateOffset(years=-1)\n",
    "    return date.strftime('%Y-%m')\n",
    "\n",
    "# Apply the adjustment to the 'Date' column in combined_teu_data\n",
    "drug_seizures_wide['Date'] = drug_seizures_wide['Date'].apply(adjust_fiscal_year)\n",
    "drug_seizures_wide.sort_values(by='Date', ascending=True, inplace=True)\n",
    "drug_seizures_wide.reset_index(drop=True, inplace=True)"
   ]
  },
  {
   "cell_type": "markdown",
   "metadata": {},
   "source": [
    "Hacer join entre contenedores e incautaciones en Houston:"
   ]
  },
  {
   "cell_type": "code",
   "execution_count": null,
   "metadata": {},
   "outputs": [],
   "source": [
    "Houston_data = pd.merge(houston_teu_data, drug_seizures_wide, on='Date', how='inner')"
   ]
  },
  {
   "cell_type": "markdown",
   "metadata": {},
   "source": [
    "Acoplar los datos de Houston al resto del dataframe:"
   ]
  },
  {
   "cell_type": "code",
   "execution_count": null,
   "metadata": {},
   "outputs": [],
   "source": [
    "# Concatenate SFBA_data with combined_data\n",
    "combined_data = pd.concat([combined_data, Houston_data], ignore_index=True)\n",
    "\n",
    "# Sort the combined dataframe by 'Date' in ascending order\n",
    "combined_data.sort_values(by='Date', ascending=True, inplace=True)\n",
    "\n",
    "# Reset the index of the sorted dataframe\n",
    "combined_data.reset_index(drop=True, inplace=True)"
   ]
  },
  {
   "cell_type": "markdown",
   "metadata": {},
   "source": [
    "### Puerto de Miami/Fort Lauderdale:\n"
   ]
  },
  {
   "cell_type": "markdown",
   "metadata": {},
   "source": [
    "Para construir el dataset:\n",
    "- https://www.porteverglades.net/\n",
    "- https://assets.simpleviewinc.com/simpleview/image/upload/v1/clients/porteverglades/January_Monthly_Loaded_TEUs_02_13_2025_9e6f70c1-032a-4bbc-8f69-2d027dcfa394.pdf\n",
    "- https://assets.simpleviewinc.com/simpleview/image/upload/v1/clients/porteverglades/FY2023_September_TEUS_Loaded_by_Month_7065b619-cddd-4b97-a02c-8c247c743ac0.pdf\n",
    "- https://assets.simpleviewinc.com/simpleview/image/upload/v1/clients/porteverglades/August_TEUS_Loaded_by_Month_Fiscal_2020_Calander_2020_9439e3f7-7154-4030-a9b8-9ec592a57fde.pdf\n",
    "\n",
    "- https://assets.simpleviewinc.com/simpleview/image/upload/v1/clients/porteverglades/Preliminary_Waterborne_Commerce_Chart_2024__1a6b16e6-94b2-46ac-89e7-d7080779f346.pdf\n"
   ]
  },
  {
   "cell_type": "markdown",
   "metadata": {},
   "source": [
    "Datos de Port Everglades, FL (Puerto de Fort Lauderdale)"
   ]
  },
  {
   "cell_type": "code",
   "execution_count": null,
   "metadata": {},
   "outputs": [],
   "source": [
    "# Read the Excel file and create a dataframe\n",
    "teu_data_everglades = pd.read_excel('../sources/TEUs_PortEverglades_2025.xls', header=0)"
   ]
  },
  {
   "cell_type": "code",
   "execution_count": null,
   "metadata": {},
   "outputs": [],
   "source": [
    "# Display rows with NaN values in teu_data_everglades\n",
    "teu_data_everglades[teu_data_everglades.isna().any(axis=1)]"
   ]
  },
  {
   "cell_type": "markdown",
   "metadata": {},
   "source": [
    "Se observa que faltan los últimos meses del año fiscal 2021. Sin embargo, se tienen los datos totales para cada año fiscal. Estos missing values se van a tratar de inferir a partir del contexto."
   ]
  },
  {
   "cell_type": "code",
   "execution_count": null,
   "metadata": {},
   "outputs": [],
   "source": [
    "# Read the Excel file and specify the header row\n",
    "file_path = '../sources/Preliminary_Waterborne_Commerce_Chart_2024__1a6b16e6-94b2-46ac-89e7-d7080779f346.xls'\n",
    "df = pd.read_excel(file_path, header=1, usecols='A:G')\n",
    "\n",
    "# Extract rows 23 and 24 (note that pandas uses 0-based indexing, so we need to adjust the row numbers)\n",
    "extracted_rows = df.iloc[20:22]\n",
    "\n",
    "# Display the extracted rows\n",
    "extracted_rows = extracted_rows.T\n",
    "\n",
    "# Reset the index and set the first row as the header\n",
    "extracted_rows.columns = extracted_rows.iloc[0]\n",
    "extracted_rows = extracted_rows[1:]\n",
    "\n",
    "extracted_rows = extracted_rows[::-1]"
   ]
  },
  {
   "cell_type": "markdown",
   "metadata": {},
   "source": [
    "Para asegurarse de que los datos anuales son, prácticamente, coincidentes con la suma de los mensuales, se va a proceder a su cálculo"
   ]
  },
  {
   "cell_type": "code",
   "execution_count": null,
   "metadata": {},
   "outputs": [],
   "source": [
    "# Group the dataframe by every 12 rows and sum the 'Loaded Exports' and 'Loaded Imports' columns\n",
    "grouped_sums = teu_data_everglades.groupby(teu_data_everglades.index // 12)[['Loaded Exports', 'Loaded Imports']].sum()\n",
    "grouped_sums['TEUs Loaded'] = grouped_sums['Loaded Exports'] + grouped_sums['Loaded Imports']"
   ]
  },
  {
   "cell_type": "code",
   "execution_count": null,
   "metadata": {},
   "outputs": [],
   "source": [
    "# Create a new dataframe with 'grouped_sums['TEUs Loaded']' and 'extracted_rows['TEUs Loaded']'\n",
    "comparison_df = pd.DataFrame({\n",
    "    'Grouped TEUs Loaded': grouped_sums['TEUs Loaded'].values[:6],\n",
    "    'Extracted TEUs Loaded': extracted_rows['TEUs Loaded'].astype(float).values\n",
    "})\n",
    "\n",
    "# Add a new column that is the difference between both columns\n",
    "comparison_df['Difference'] = comparison_df['Grouped TEUs Loaded'] - comparison_df['Extracted TEUs Loaded']"
   ]
  },
  {
   "cell_type": "markdown",
   "metadata": {},
   "source": [
    "Comparar los datos mensuales con los datos anuales:"
   ]
  },
  {
   "cell_type": "markdown",
   "metadata": {},
   "source": [
    "Para el año 2021, faltan 3 meses (NAs) pero se tienen los datos de 'Total Loaded' y 'Total TEUs'"
   ]
  },
  {
   "cell_type": "code",
   "execution_count": null,
   "metadata": {},
   "outputs": [],
   "source": [
    "teu_data_everglades.iloc[24:36].to_csv('../sources/TEUs_PortEverglades_2023_FY.csv', index=False, sep=',')\n",
    "everglades_2021 = pd.read_csv('../sources/TEUs_PortEverglades_2023_FY.csv', sep=',')"
   ]
  },
  {
   "cell_type": "code",
   "execution_count": null,
   "metadata": {},
   "outputs": [],
   "source": [
    "# Compute proportions\n",
    "prop_imports = everglades_2021['Loaded Imports'].sum(skipna=True) / (everglades_2021['Loaded Imports'].sum(skipna=True) + everglades_2021['Loaded Exports'].sum(skipna=True))\n",
    "prop_exports = 1 - prop_imports\n",
    "\n",
    "# Compute missing values\n",
    "missing_total = 186169\n",
    "impute_value_imports = round((missing_total * prop_imports) / everglades_2021['Loaded Imports'].isna().sum())\n",
    "impute_value_exports = round((missing_total * prop_exports) / everglades_2021['Loaded Exports'].isna().sum())\n",
    "\n",
    "# Impute missing values\n",
    "everglades_2021.loc[everglades_2021['Loaded Imports'].isna(), 'Loaded Imports'] = impute_value_imports\n",
    "everglades_2021.loc[everglades_2021['Loaded Exports'].isna(), 'Loaded Exports'] = impute_value_exports"
   ]
  },
  {
   "cell_type": "markdown",
   "metadata": {},
   "source": [
    "Imputar ahora el resto de valores:"
   ]
  },
  {
   "cell_type": "code",
   "execution_count": null,
   "metadata": {},
   "outputs": [],
   "source": [
    "extracted_rows['TEUs Empty'] = extracted_rows['TEUs Total'] - extracted_rows['TEUs Loaded']\n",
    "emptys_2021 = everglades_2021['Empty Imports'].sum(skipna=True) + everglades_2021['Empty Exports'].sum(skipna=True)\n",
    "extracted_rows.loc[2021]['TEUs Empty'] - emptys_2021"
   ]
  },
  {
   "cell_type": "code",
   "execution_count": null,
   "metadata": {},
   "outputs": [],
   "source": [
    "# Compute proportions\n",
    "prop_imports = everglades_2021['Empty Imports'].sum(skipna=True) / (everglades_2021['Empty Imports'].sum(skipna=True) + everglades_2021['Empty Exports'].sum(skipna=True))\n",
    "prop_exports = 1 - prop_imports\n",
    "\n",
    "# Compute missing values\n",
    "missing_total = extracted_rows.loc[2021]['TEUs Empty'] - emptys_2021\n",
    "impute_value_imports = round((missing_total * prop_imports) / everglades_2021['Empty Imports'].isna().sum())\n",
    "impute_value_exports = round((missing_total * prop_exports) / everglades_2021['Empty Exports'].isna().sum())\n",
    "\n",
    "# Impute missing values\n",
    "everglades_2021.loc[everglades_2021['Empty Imports'].isna(), 'Empty Imports'] = impute_value_imports\n",
    "everglades_2021.loc[everglades_2021['Empty Exports'].isna(), 'Empty Exports'] = impute_value_exports\n",
    "\n",
    "# Update 'Total Imports', 'Total Exports', and 'Total TEUs' for rows 9 to 11 in 'everglades_2021'\n",
    "everglades_2021.loc[9:11, 'Total Imports'] = everglades_2021.loc[9:11, 'Empty Imports'] + everglades_2021.loc[9:11, 'Loaded Imports']\n",
    "everglades_2021.loc[9:11, 'Total Exports'] = everglades_2021.loc[9:11, 'Empty Exports'] + everglades_2021.loc[9:11, 'Loaded Exports']\n",
    "everglades_2021.loc[9:11, 'Total TEUs'] = everglades_2021.loc[9:11, 'Total Imports'] + everglades_2021.loc[9:11, 'Total Exports']\n",
    "\n",
    "# Imputar valores a las filas con NAs del dataframe de teu_data_everglades:\n",
    "teu_data_everglades[33:36] = everglades_2021[9:12]"
   ]
  },
  {
   "cell_type": "markdown",
   "metadata": {},
   "source": [
    "Una vez cubiertos los missing values toca revisar que las columnas coinciden con lo esperado:"
   ]
  },
  {
   "cell_type": "code",
   "execution_count": null,
   "metadata": {},
   "outputs": [],
   "source": [
    "teu_data_everglades.rename(columns={'Unnamed: 0': 'Date'}, inplace=True)"
   ]
  },
  {
   "cell_type": "markdown",
   "metadata": {},
   "source": [
    "Generar dataset de incautacion de drogas + coordenadas para el puerto de Fort Lauderdale/Everglades:"
   ]
  },
  {
   "cell_type": "code",
   "execution_count": null,
   "metadata": {},
   "outputs": [],
   "source": [
    "# Loop through each CSV file\n",
    "for file in csv_files:\n",
    "    # Read the CSV file into a pandas dataframe\n",
    "    df = pd.read_csv(file)\n",
    "    \n",
    "    # Append the filtered dataframe to the list\n",
    "    drug_seizures_dataframes.append(df)\n",
    "\n",
    "# Concatenate all filtered dataframes into a single dataframe\n",
    "drug_seizures_combined = pd.concat(drug_seizures_dataframes, ignore_index=True)\n",
    "\n",
    "# Drop duplicates\n",
    "drug_seizures_combined.drop_duplicates(inplace=True)\n",
    "drug_seizures_combined = drug_seizures_combined.loc[drug_seizures_combined['Area of Responsibility'] == 'MIAMI FIELD OFFICE']\n",
    "drug_seizures_combined.reset_index(drop=True, inplace=True)\n",
    "\n",
    "# Ensure all values in 'FY' column are strings\n",
    "drug_seizures_combined['FY'] = drug_seizures_combined['FY'].astype(str)\n",
    "\n",
    "# Replace ' (FYTD)' with an empty string\n",
    "drug_seizures_combined['FY'] = drug_seizures_combined['FY'].str.replace(' (FYTD)', '', regex=False)\n",
    "\n",
    "drug_seizures_combined['Date'] = drug_seizures_combined['FY'] + '-' + drug_seizures_combined['Month (abbv)'].astype(str)\n",
    "drug_seizures_combined['Date'] = drug_seizures_combined['Date'].str.replace(r'-(\\w{3})$', lambda x: '-' + x.group(1).capitalize(), regex=True)\n",
    "\n",
    "# Convert 'Date' column to datetime format and then to '%Y-%m'\n",
    "drug_seizures_combined['Date'] = pd.to_datetime(drug_seizures_combined['Date'], format='%Y-%b').dt.strftime('%Y-%m')\n",
    "\n",
    "# Drop the original 'FY' and 'Month (abbv)' columns if no longer needed\n",
    "drug_seizures_combined.drop(columns=['FY', 'Month (abbv)', 'Component', 'Region', 'Land Filter', 'Area of Responsibility'], inplace=True)"
   ]
  },
  {
   "cell_type": "code",
   "execution_count": null,
   "metadata": {},
   "outputs": [],
   "source": [
    "# row 9: Miami-Fort Lauderdale, FL\n",
    "drug_seizures_combined['latitude'] = us_port_hubs.loc[9, 'coord_0']\n",
    "drug_seizures_combined['longitude'] = us_port_hubs.loc[9, 'coord_1']"
   ]
  },
  {
   "cell_type": "code",
   "execution_count": null,
   "metadata": {},
   "outputs": [],
   "source": [
    "# subdataframe = drug_seizures_combined[['Drug Type', 'Count of Event', 'Sum Qty (lbs)']]\n",
    "drug_seizures_wide = pd.pivot_table(drug_seizures_combined, index=['Date','latitude','longitude'], columns='Drug Type', values=['Count of Event', 'Sum Qty (lbs)'], aggfunc='sum')\n",
    "drug_seizures_wide.columns = ['_'.join(col).strip() for col in drug_seizures_wide.columns.values]\n",
    "drug_seizures_wide.reset_index(inplace=True)\n",
    "drug_seizures_wide['Sum_of_Counts'] = drug_seizures_wide.filter(like='Count of Event_').sum(axis=1)\n",
    "# Adjust the dates for 'October', 'November', and 'December' by anticipating one year\n",
    "def adjust_fiscal_year(date_str):\n",
    "    date = pd.to_datetime(date_str, format='%Y-%m')\n",
    "    if date.month in [10, 11, 12]:\n",
    "        date = date + pd.DateOffset(years=-1)\n",
    "    return date.strftime('%Y-%m')\n",
    "\n",
    "# Apply the adjustment to the 'Date' column in combined_teu_data\n",
    "drug_seizures_wide['Date'] = drug_seizures_wide['Date'].apply(adjust_fiscal_year)\n",
    "drug_seizures_wide.sort_values(by='Date', ascending=True, inplace=True)\n",
    "drug_seizures_wide.reset_index(drop=True, inplace=True)"
   ]
  },
  {
   "cell_type": "markdown",
   "metadata": {},
   "source": [
    "Hacer join entre contenedores e incautaciones en Houston:"
   ]
  },
  {
   "cell_type": "code",
   "execution_count": null,
   "metadata": {},
   "outputs": [],
   "source": [
    "Miami_data = pd.merge(teu_data_everglades, drug_seizures_wide, on='Date', how='inner')"
   ]
  },
  {
   "cell_type": "code",
   "execution_count": null,
   "metadata": {},
   "outputs": [],
   "source": [
    "# Concatenate Miami_data with combined_data\n",
    "combined_data = pd.concat([combined_data, Miami_data], ignore_index=True)\n",
    "\n",
    "# Sort the combined dataframe by 'Date' in ascending order\n",
    "combined_data.sort_values(by='Date', ascending=True, inplace=True)\n",
    "\n",
    "# Reset the index of the sorted dataframe\n",
    "combined_data.reset_index(drop=True, inplace=True)"
   ]
  },
  {
   "cell_type": "markdown",
   "metadata": {},
   "source": [
    "### Resumen y otros puertos posibles\n",
    "- San Diego\n",
    "- Nueva Orleans\n",
    "- Tampa *\n",
    "- Savannah **\n",
    "- Boston *\n",
    "- Chicago\n",
    "- Corpus Christi "
   ]
  },
  {
   "cell_type": "code",
   "execution_count": null,
   "metadata": {},
   "outputs": [],
   "source": [
    "combined_data.to_csv('../sources/six_ports_USA_drugs.csv', index=False, sep=',')"
   ]
  },
  {
   "cell_type": "markdown",
   "metadata": {},
   "source": [
    "¿Incluir la variación de población en Áreas Metropolitanas?"
   ]
  },
  {
   "cell_type": "markdown",
   "metadata": {},
   "source": [
    "## Visualizacion Grafica"
   ]
  },
  {
   "cell_type": "code",
   "execution_count": 34,
   "metadata": {},
   "outputs": [],
   "source": [
    "# Si hace falta: cargar csv\n",
    "combined_data = pd.read_csv('../sources/six_ports_USA_drugs.csv', sep=',')"
   ]
  },
  {
   "cell_type": "markdown",
   "metadata": {},
   "source": [
    "Representación de series temporales para distintas variables:"
   ]
  },
  {
   "cell_type": "markdown",
   "metadata": {},
   "source": [
    "### Estandarización de los datos:"
   ]
  },
  {
   "cell_type": "code",
   "execution_count": 35,
   "metadata": {},
   "outputs": [],
   "source": [
    "# Define a dictionary to map (latitude, longitude) tuples to hub names\n",
    "hub_mapping = {\n",
    "    (47.449354639175255, -122.42877860824744): 'Seattle/Tacoma',\n",
    "    (40.6909464495114, -74.15705749185668): 'Newark/New York',\n",
    "    (37.90095694063927, -122.20986401826484): 'Oakland',\n",
    "    (26.14492877245509, -79.93771224550898): 'Miami/Fort Lauderdale',\n",
    "    (33.804338012958965, -118.37905453563714): 'Los Angeles/Long Beach',\n",
    "    (29.602093408239703, -94.66715344569288): 'Houston'\n",
    "}\n",
    "\n",
    "# Create the 'Hub Portuario' column by mapping the (latitude, longitude) tuples\n",
    "combined_data['Hub Portuario'] = combined_data.apply(lambda row: hub_mapping.get((row['latitude'], row['longitude']), 'Unknown'), axis=1)"
   ]
  },
  {
   "cell_type": "code",
   "execution_count": 36,
   "metadata": {},
   "outputs": [],
   "source": [
    "# Multiply x1000 values in specified columns for 'Newark/New York'\n",
    "columns_to_multiply = ['Empty Exports', 'Loaded Exports', 'Empty Imports', 'Loaded Imports', 'Total TEUs', 'Total Imports', 'Total Exports']\n",
    "combined_data.loc[combined_data['Hub Portuario'] == 'Newark/New York', columns_to_multiply] *= 1000"
   ]
  },
  {
   "cell_type": "code",
   "execution_count": 37,
   "metadata": {},
   "outputs": [],
   "source": [
    "# Calculate the variance for each column, skipping the 'Date' and 'Hub Portuario' columns\n",
    "variance = combined_data.drop(columns=['Date', 'Hub Portuario']).var()\n",
    "\n",
    "# Filter columns with variance greater than 0\n",
    "columns_with_variance = variance[variance > 0].index\n",
    "\n",
    "# Group by 'Hub Portuario' and aggregate using 'sum'\n",
    "grouped_data = combined_data[columns_with_variance].groupby(combined_data['Hub Portuario']).mean()"
   ]
  },
  {
   "cell_type": "code",
   "execution_count": 23,
   "metadata": {},
   "outputs": [
    {
     "data": {
      "text/html": [
       "<div>\n",
       "<style scoped>\n",
       "    .dataframe tbody tr th:only-of-type {\n",
       "        vertical-align: middle;\n",
       "    }\n",
       "\n",
       "    .dataframe tbody tr th {\n",
       "        vertical-align: top;\n",
       "    }\n",
       "\n",
       "    .dataframe thead th {\n",
       "        text-align: right;\n",
       "    }\n",
       "</style>\n",
       "<table border=\"1\" class=\"dataframe\">\n",
       "  <thead>\n",
       "    <tr style=\"text-align: right;\">\n",
       "      <th></th>\n",
       "      <th>Empty Exports</th>\n",
       "      <th>Loaded Exports</th>\n",
       "      <th>Empty Imports</th>\n",
       "      <th>Loaded Imports</th>\n",
       "      <th>Total TEUs</th>\n",
       "      <th>Total Imports</th>\n",
       "      <th>Total Exports</th>\n",
       "    </tr>\n",
       "    <tr>\n",
       "      <th>Hub Portuario</th>\n",
       "      <th></th>\n",
       "      <th></th>\n",
       "      <th></th>\n",
       "      <th></th>\n",
       "      <th></th>\n",
       "      <th></th>\n",
       "      <th></th>\n",
       "    </tr>\n",
       "  </thead>\n",
       "  <tbody>\n",
       "    <tr>\n",
       "      <th>Houston</th>\n",
       "      <td>38788.96</td>\n",
       "      <td>106542.52</td>\n",
       "      <td>14452.99</td>\n",
       "      <td>134517.65</td>\n",
       "      <td>294302.12</td>\n",
       "      <td>148970.64</td>\n",
       "      <td>145331.48</td>\n",
       "    </tr>\n",
       "    <tr>\n",
       "      <th>Los Angeles/Long Beach</th>\n",
       "      <td>512568.19</td>\n",
       "      <td>234094.68</td>\n",
       "      <td>16862.09</td>\n",
       "      <td>767373.65</td>\n",
       "      <td>1530898.20</td>\n",
       "      <td>784235.73</td>\n",
       "      <td>746664.20</td>\n",
       "    </tr>\n",
       "    <tr>\n",
       "      <th>Miami/Fort Lauderdale</th>\n",
       "      <td>11565.47</td>\n",
       "      <td>33495.96</td>\n",
       "      <td>13314.77</td>\n",
       "      <td>28689.53</td>\n",
       "      <td>87065.73</td>\n",
       "      <td>42004.31</td>\n",
       "      <td>45061.43</td>\n",
       "    </tr>\n",
       "    <tr>\n",
       "      <th>Newark/New York</th>\n",
       "      <td>224572.39</td>\n",
       "      <td>112544.15</td>\n",
       "      <td>23875.20</td>\n",
       "      <td>352946.81</td>\n",
       "      <td>685236.49</td>\n",
       "      <td>376822.01</td>\n",
       "      <td>337116.53</td>\n",
       "    </tr>\n",
       "    <tr>\n",
       "      <th>Oakland</th>\n",
       "      <td>31231.20</td>\n",
       "      <td>69514.77</td>\n",
       "      <td>14846.36</td>\n",
       "      <td>80984.21</td>\n",
       "      <td>196576.53</td>\n",
       "      <td>95830.56</td>\n",
       "      <td>100745.97</td>\n",
       "    </tr>\n",
       "    <tr>\n",
       "      <th>Seattle/Tacoma</th>\n",
       "      <td>51787.55</td>\n",
       "      <td>59000.06</td>\n",
       "      <td>8315.78</td>\n",
       "      <td>107928.39</td>\n",
       "      <td>287111.29</td>\n",
       "      <td>116244.17</td>\n",
       "      <td>110787.61</td>\n",
       "    </tr>\n",
       "  </tbody>\n",
       "</table>\n",
       "</div>"
      ],
      "text/plain": [
       "                        Empty Exports  Loaded Exports  Empty Imports  \\\n",
       "Hub Portuario                                                          \n",
       "Houston                      38788.96       106542.52       14452.99   \n",
       "Los Angeles/Long Beach      512568.19       234094.68       16862.09   \n",
       "Miami/Fort Lauderdale        11565.47        33495.96       13314.77   \n",
       "Newark/New York             224572.39       112544.15       23875.20   \n",
       "Oakland                      31231.20        69514.77       14846.36   \n",
       "Seattle/Tacoma               51787.55        59000.06        8315.78   \n",
       "\n",
       "                        Loaded Imports  Total TEUs  Total Imports  \\\n",
       "Hub Portuario                                                       \n",
       "Houston                      134517.65   294302.12      148970.64   \n",
       "Los Angeles/Long Beach       767373.65  1530898.20      784235.73   \n",
       "Miami/Fort Lauderdale         28689.53    87065.73       42004.31   \n",
       "Newark/New York              352946.81   685236.49      376822.01   \n",
       "Oakland                       80984.21   196576.53       95830.56   \n",
       "Seattle/Tacoma               107928.39   287111.29      116244.17   \n",
       "\n",
       "                        Total Exports  \n",
       "Hub Portuario                          \n",
       "Houston                     145331.48  \n",
       "Los Angeles/Long Beach      746664.20  \n",
       "Miami/Fort Lauderdale        45061.43  \n",
       "Newark/New York             337116.53  \n",
       "Oakland                     100745.97  \n",
       "Seattle/Tacoma              110787.61  "
      ]
     },
     "execution_count": 23,
     "metadata": {},
     "output_type": "execute_result"
    }
   ],
   "source": [
    "grouped_data[['Empty Exports', 'Loaded Exports', 'Empty Imports', 'Loaded Imports',\n",
    "             'Total TEUs', 'Total Imports', 'Total Exports']].round(2)"
   ]
  },
  {
   "cell_type": "code",
   "execution_count": 24,
   "metadata": {},
   "outputs": [
    {
     "data": {
      "text/html": [
       "<div>\n",
       "<style scoped>\n",
       "    .dataframe tbody tr th:only-of-type {\n",
       "        vertical-align: middle;\n",
       "    }\n",
       "\n",
       "    .dataframe tbody tr th {\n",
       "        vertical-align: top;\n",
       "    }\n",
       "\n",
       "    .dataframe thead th {\n",
       "        text-align: right;\n",
       "    }\n",
       "</style>\n",
       "<table border=\"1\" class=\"dataframe\">\n",
       "  <thead>\n",
       "    <tr style=\"text-align: right;\">\n",
       "      <th></th>\n",
       "      <th>Count of Event_Cocaine</th>\n",
       "      <th>Count of Event_Ecstasy</th>\n",
       "      <th>Count of Event_Fentanyl</th>\n",
       "      <th>Count of Event_Heroin</th>\n",
       "      <th>Count of Event_Ketamine</th>\n",
       "      <th>Count of Event_Khat (Catha Edulis)</th>\n",
       "      <th>Count of Event_Lsd</th>\n",
       "      <th>Count of Event_Marijuana</th>\n",
       "      <th>Count of Event_Methamphetamine</th>\n",
       "      <th>Count of Event_Other Drugs**</th>\n",
       "      <th>...</th>\n",
       "      <th>Sum Qty (lbs)_Ecstasy</th>\n",
       "      <th>Sum Qty (lbs)_Fentanyl</th>\n",
       "      <th>Sum Qty (lbs)_Heroin</th>\n",
       "      <th>Sum Qty (lbs)_Ketamine</th>\n",
       "      <th>Sum Qty (lbs)_Khat (Catha Edulis)</th>\n",
       "      <th>Sum Qty (lbs)_Lsd</th>\n",
       "      <th>Sum Qty (lbs)_Marijuana</th>\n",
       "      <th>Sum Qty (lbs)_Methamphetamine</th>\n",
       "      <th>Sum Qty (lbs)_Other Drugs**</th>\n",
       "      <th>Sum_of_Counts</th>\n",
       "    </tr>\n",
       "    <tr>\n",
       "      <th>Hub Portuario</th>\n",
       "      <th></th>\n",
       "      <th></th>\n",
       "      <th></th>\n",
       "      <th></th>\n",
       "      <th></th>\n",
       "      <th></th>\n",
       "      <th></th>\n",
       "      <th></th>\n",
       "      <th></th>\n",
       "      <th></th>\n",
       "      <th></th>\n",
       "      <th></th>\n",
       "      <th></th>\n",
       "      <th></th>\n",
       "      <th></th>\n",
       "      <th></th>\n",
       "      <th></th>\n",
       "      <th></th>\n",
       "      <th></th>\n",
       "      <th></th>\n",
       "      <th></th>\n",
       "    </tr>\n",
       "  </thead>\n",
       "  <tbody>\n",
       "    <tr>\n",
       "      <th>Houston</th>\n",
       "      <td>2.98</td>\n",
       "      <td>4.29</td>\n",
       "      <td>3.00</td>\n",
       "      <td>1.38</td>\n",
       "      <td>4.72</td>\n",
       "      <td>1.89</td>\n",
       "      <td>2.16</td>\n",
       "      <td>68.47</td>\n",
       "      <td>3.26</td>\n",
       "      <td>55.27</td>\n",
       "      <td>...</td>\n",
       "      <td>1.71</td>\n",
       "      <td>60.63</td>\n",
       "      <td>4.14</td>\n",
       "      <td>26.05</td>\n",
       "      <td>1865.67</td>\n",
       "      <td>0.01</td>\n",
       "      <td>263.92</td>\n",
       "      <td>108.01</td>\n",
       "      <td>216.24</td>\n",
       "      <td>134.19</td>\n",
       "    </tr>\n",
       "    <tr>\n",
       "      <th>Los Angeles/Long Beach</th>\n",
       "      <td>10.07</td>\n",
       "      <td>14.69</td>\n",
       "      <td>1.86</td>\n",
       "      <td>2.17</td>\n",
       "      <td>11.67</td>\n",
       "      <td>2.31</td>\n",
       "      <td>6.19</td>\n",
       "      <td>160.93</td>\n",
       "      <td>24.24</td>\n",
       "      <td>279.15</td>\n",
       "      <td>...</td>\n",
       "      <td>10.91</td>\n",
       "      <td>0.37</td>\n",
       "      <td>0.80</td>\n",
       "      <td>288.81</td>\n",
       "      <td>2078.74</td>\n",
       "      <td>0.27</td>\n",
       "      <td>1308.53</td>\n",
       "      <td>515.51</td>\n",
       "      <td>3628.61</td>\n",
       "      <td>504.99</td>\n",
       "    </tr>\n",
       "    <tr>\n",
       "      <th>Miami/Fort Lauderdale</th>\n",
       "      <td>49.24</td>\n",
       "      <td>21.21</td>\n",
       "      <td>5.38</td>\n",
       "      <td>1.70</td>\n",
       "      <td>16.85</td>\n",
       "      <td>2.94</td>\n",
       "      <td>19.53</td>\n",
       "      <td>115.00</td>\n",
       "      <td>5.39</td>\n",
       "      <td>1008.00</td>\n",
       "      <td>...</td>\n",
       "      <td>10.69</td>\n",
       "      <td>5.07</td>\n",
       "      <td>1.14</td>\n",
       "      <td>94.10</td>\n",
       "      <td>1506.03</td>\n",
       "      <td>0.25</td>\n",
       "      <td>351.58</td>\n",
       "      <td>17.19</td>\n",
       "      <td>1399.43</td>\n",
       "      <td>1237.28</td>\n",
       "    </tr>\n",
       "    <tr>\n",
       "      <th>Newark/New York</th>\n",
       "      <td>43.92</td>\n",
       "      <td>297.08</td>\n",
       "      <td>5.52</td>\n",
       "      <td>93.37</td>\n",
       "      <td>46.60</td>\n",
       "      <td>8.59</td>\n",
       "      <td>176.66</td>\n",
       "      <td>129.27</td>\n",
       "      <td>53.97</td>\n",
       "      <td>1557.47</td>\n",
       "      <td>...</td>\n",
       "      <td>72.65</td>\n",
       "      <td>2.42</td>\n",
       "      <td>6.83</td>\n",
       "      <td>283.20</td>\n",
       "      <td>7524.46</td>\n",
       "      <td>0.58</td>\n",
       "      <td>623.48</td>\n",
       "      <td>27.21</td>\n",
       "      <td>2262.61</td>\n",
       "      <td>2398.60</td>\n",
       "    </tr>\n",
       "    <tr>\n",
       "      <th>Oakland</th>\n",
       "      <td>9.27</td>\n",
       "      <td>19.62</td>\n",
       "      <td>9.35</td>\n",
       "      <td>1.60</td>\n",
       "      <td>3.83</td>\n",
       "      <td>5.17</td>\n",
       "      <td>10.45</td>\n",
       "      <td>87.47</td>\n",
       "      <td>32.61</td>\n",
       "      <td>120.32</td>\n",
       "      <td>...</td>\n",
       "      <td>12.04</td>\n",
       "      <td>0.09</td>\n",
       "      <td>0.29</td>\n",
       "      <td>28.39</td>\n",
       "      <td>654.26</td>\n",
       "      <td>27.03</td>\n",
       "      <td>291.18</td>\n",
       "      <td>212.43</td>\n",
       "      <td>501.68</td>\n",
       "      <td>276.40</td>\n",
       "    </tr>\n",
       "    <tr>\n",
       "      <th>Seattle/Tacoma</th>\n",
       "      <td>5.93</td>\n",
       "      <td>4.98</td>\n",
       "      <td>2.11</td>\n",
       "      <td>1.83</td>\n",
       "      <td>2.65</td>\n",
       "      <td>1.86</td>\n",
       "      <td>9.47</td>\n",
       "      <td>146.16</td>\n",
       "      <td>4.22</td>\n",
       "      <td>60.33</td>\n",
       "      <td>...</td>\n",
       "      <td>11.58</td>\n",
       "      <td>0.53</td>\n",
       "      <td>0.54</td>\n",
       "      <td>5.79</td>\n",
       "      <td>5842.55</td>\n",
       "      <td>0.59</td>\n",
       "      <td>574.09</td>\n",
       "      <td>0.58</td>\n",
       "      <td>26.96</td>\n",
       "      <td>227.20</td>\n",
       "    </tr>\n",
       "  </tbody>\n",
       "</table>\n",
       "<p>6 rows × 21 columns</p>\n",
       "</div>"
      ],
      "text/plain": [
       "                        Count of Event_Cocaine  Count of Event_Ecstasy  \\\n",
       "Hub Portuario                                                            \n",
       "Houston                                   2.98                    4.29   \n",
       "Los Angeles/Long Beach                   10.07                   14.69   \n",
       "Miami/Fort Lauderdale                    49.24                   21.21   \n",
       "Newark/New York                          43.92                  297.08   \n",
       "Oakland                                   9.27                   19.62   \n",
       "Seattle/Tacoma                            5.93                    4.98   \n",
       "\n",
       "                        Count of Event_Fentanyl  Count of Event_Heroin  \\\n",
       "Hub Portuario                                                            \n",
       "Houston                                    3.00                   1.38   \n",
       "Los Angeles/Long Beach                     1.86                   2.17   \n",
       "Miami/Fort Lauderdale                      5.38                   1.70   \n",
       "Newark/New York                            5.52                  93.37   \n",
       "Oakland                                    9.35                   1.60   \n",
       "Seattle/Tacoma                             2.11                   1.83   \n",
       "\n",
       "                        Count of Event_Ketamine  \\\n",
       "Hub Portuario                                     \n",
       "Houston                                    4.72   \n",
       "Los Angeles/Long Beach                    11.67   \n",
       "Miami/Fort Lauderdale                     16.85   \n",
       "Newark/New York                           46.60   \n",
       "Oakland                                    3.83   \n",
       "Seattle/Tacoma                             2.65   \n",
       "\n",
       "                        Count of Event_Khat (Catha Edulis)  \\\n",
       "Hub Portuario                                                \n",
       "Houston                                               1.89   \n",
       "Los Angeles/Long Beach                                2.31   \n",
       "Miami/Fort Lauderdale                                 2.94   \n",
       "Newark/New York                                       8.59   \n",
       "Oakland                                               5.17   \n",
       "Seattle/Tacoma                                        1.86   \n",
       "\n",
       "                        Count of Event_Lsd  Count of Event_Marijuana  \\\n",
       "Hub Portuario                                                          \n",
       "Houston                               2.16                     68.47   \n",
       "Los Angeles/Long Beach                6.19                    160.93   \n",
       "Miami/Fort Lauderdale                19.53                    115.00   \n",
       "Newark/New York                     176.66                    129.27   \n",
       "Oakland                              10.45                     87.47   \n",
       "Seattle/Tacoma                        9.47                    146.16   \n",
       "\n",
       "                        Count of Event_Methamphetamine  \\\n",
       "Hub Portuario                                            \n",
       "Houston                                           3.26   \n",
       "Los Angeles/Long Beach                           24.24   \n",
       "Miami/Fort Lauderdale                             5.39   \n",
       "Newark/New York                                  53.97   \n",
       "Oakland                                          32.61   \n",
       "Seattle/Tacoma                                    4.22   \n",
       "\n",
       "                        Count of Event_Other Drugs**  ...  \\\n",
       "Hub Portuario                                         ...   \n",
       "Houston                                        55.27  ...   \n",
       "Los Angeles/Long Beach                        279.15  ...   \n",
       "Miami/Fort Lauderdale                        1008.00  ...   \n",
       "Newark/New York                              1557.47  ...   \n",
       "Oakland                                       120.32  ...   \n",
       "Seattle/Tacoma                                 60.33  ...   \n",
       "\n",
       "                        Sum Qty (lbs)_Ecstasy  Sum Qty (lbs)_Fentanyl  \\\n",
       "Hub Portuario                                                           \n",
       "Houston                                  1.71                   60.63   \n",
       "Los Angeles/Long Beach                  10.91                    0.37   \n",
       "Miami/Fort Lauderdale                   10.69                    5.07   \n",
       "Newark/New York                         72.65                    2.42   \n",
       "Oakland                                 12.04                    0.09   \n",
       "Seattle/Tacoma                          11.58                    0.53   \n",
       "\n",
       "                        Sum Qty (lbs)_Heroin  Sum Qty (lbs)_Ketamine  \\\n",
       "Hub Portuario                                                          \n",
       "Houston                                 4.14                   26.05   \n",
       "Los Angeles/Long Beach                  0.80                  288.81   \n",
       "Miami/Fort Lauderdale                   1.14                   94.10   \n",
       "Newark/New York                         6.83                  283.20   \n",
       "Oakland                                 0.29                   28.39   \n",
       "Seattle/Tacoma                          0.54                    5.79   \n",
       "\n",
       "                        Sum Qty (lbs)_Khat (Catha Edulis)  Sum Qty (lbs)_Lsd  \\\n",
       "Hub Portuario                                                                  \n",
       "Houston                                           1865.67               0.01   \n",
       "Los Angeles/Long Beach                            2078.74               0.27   \n",
       "Miami/Fort Lauderdale                             1506.03               0.25   \n",
       "Newark/New York                                   7524.46               0.58   \n",
       "Oakland                                            654.26              27.03   \n",
       "Seattle/Tacoma                                    5842.55               0.59   \n",
       "\n",
       "                        Sum Qty (lbs)_Marijuana  \\\n",
       "Hub Portuario                                     \n",
       "Houston                                  263.92   \n",
       "Los Angeles/Long Beach                  1308.53   \n",
       "Miami/Fort Lauderdale                    351.58   \n",
       "Newark/New York                          623.48   \n",
       "Oakland                                  291.18   \n",
       "Seattle/Tacoma                           574.09   \n",
       "\n",
       "                        Sum Qty (lbs)_Methamphetamine  \\\n",
       "Hub Portuario                                           \n",
       "Houston                                        108.01   \n",
       "Los Angeles/Long Beach                         515.51   \n",
       "Miami/Fort Lauderdale                           17.19   \n",
       "Newark/New York                                 27.21   \n",
       "Oakland                                        212.43   \n",
       "Seattle/Tacoma                                   0.58   \n",
       "\n",
       "                        Sum Qty (lbs)_Other Drugs**  Sum_of_Counts  \n",
       "Hub Portuario                                                       \n",
       "Houston                                      216.24         134.19  \n",
       "Los Angeles/Long Beach                      3628.61         504.99  \n",
       "Miami/Fort Lauderdale                       1399.43        1237.28  \n",
       "Newark/New York                             2262.61        2398.60  \n",
       "Oakland                                      501.68         276.40  \n",
       "Seattle/Tacoma                                26.96         227.20  \n",
       "\n",
       "[6 rows x 21 columns]"
      ]
     },
     "execution_count": 24,
     "metadata": {},
     "output_type": "execute_result"
    }
   ],
   "source": [
    "grouped_data[['Count of Event_Cocaine', 'Count of Event_Ecstasy',\n",
    "       'Count of Event_Fentanyl', 'Count of Event_Heroin',\n",
    "       'Count of Event_Ketamine', 'Count of Event_Khat (Catha Edulis)',\n",
    "       'Count of Event_Lsd', 'Count of Event_Marijuana',\n",
    "       'Count of Event_Methamphetamine', 'Count of Event_Other Drugs**',\n",
    "       'Sum Qty (lbs)_Cocaine', 'Sum Qty (lbs)_Ecstasy',\n",
    "       'Sum Qty (lbs)_Fentanyl', 'Sum Qty (lbs)_Heroin',\n",
    "       'Sum Qty (lbs)_Ketamine', 'Sum Qty (lbs)_Khat (Catha Edulis)',\n",
    "       'Sum Qty (lbs)_Lsd', 'Sum Qty (lbs)_Marijuana',\n",
    "       'Sum Qty (lbs)_Methamphetamine', 'Sum Qty (lbs)_Other Drugs**',\n",
    "       'Sum_of_Counts']].round(2)"
   ]
  },
  {
   "cell_type": "markdown",
   "metadata": {},
   "source": [
    "### Ratio Variables e Imputaciones"
   ]
  },
  {
   "cell_type": "code",
   "execution_count": 38,
   "metadata": {},
   "outputs": [
    {
     "data": {
      "text/html": [
       "<div>\n",
       "<style scoped>\n",
       "    .dataframe tbody tr th:only-of-type {\n",
       "        vertical-align: middle;\n",
       "    }\n",
       "\n",
       "    .dataframe tbody tr th {\n",
       "        vertical-align: top;\n",
       "    }\n",
       "\n",
       "    .dataframe thead th {\n",
       "        text-align: right;\n",
       "    }\n",
       "</style>\n",
       "<table border=\"1\" class=\"dataframe\">\n",
       "  <thead>\n",
       "    <tr style=\"text-align: right;\">\n",
       "      <th></th>\n",
       "      <th>Date</th>\n",
       "      <th>Empty Exports</th>\n",
       "      <th>Loaded Exports</th>\n",
       "      <th>Empty Imports</th>\n",
       "      <th>Loaded Imports</th>\n",
       "      <th>Total TEUs</th>\n",
       "      <th>Total Imports</th>\n",
       "      <th>Total Exports</th>\n",
       "      <th>latitude</th>\n",
       "      <th>longitude</th>\n",
       "      <th>...</th>\n",
       "      <th>Ratio_Cocaine</th>\n",
       "      <th>Ratio_Ecstasy</th>\n",
       "      <th>Ratio_Fentanyl</th>\n",
       "      <th>Ratio_Heroin</th>\n",
       "      <th>Ratio_Ketamine</th>\n",
       "      <th>Ratio_Khat (Catha Edulis)</th>\n",
       "      <th>Ratio_Lsd</th>\n",
       "      <th>Ratio_Marijuana</th>\n",
       "      <th>Ratio_Methamphetamine</th>\n",
       "      <th>Ratio_Other Drugs**</th>\n",
       "    </tr>\n",
       "  </thead>\n",
       "  <tbody>\n",
       "    <tr>\n",
       "      <th>0</th>\n",
       "      <td>2018-10</td>\n",
       "      <td>60010.25</td>\n",
       "      <td>74085.50</td>\n",
       "      <td>10454.00</td>\n",
       "      <td>134470.50</td>\n",
       "      <td>333994.55</td>\n",
       "      <td>144924.50</td>\n",
       "      <td>134095.75</td>\n",
       "      <td>47.449355</td>\n",
       "      <td>-122.428779</td>\n",
       "      <td>...</td>\n",
       "      <td>0.010325</td>\n",
       "      <td>0.003380</td>\n",
       "      <td>NaN</td>\n",
       "      <td>0.031159</td>\n",
       "      <td>NaN</td>\n",
       "      <td>NaN</td>\n",
       "      <td>0.008758</td>\n",
       "      <td>0.113976</td>\n",
       "      <td>0.004833</td>\n",
       "      <td>0.130519</td>\n",
       "    </tr>\n",
       "    <tr>\n",
       "      <th>1</th>\n",
       "      <td>2018-10</td>\n",
       "      <td>187027.00</td>\n",
       "      <td>130782.00</td>\n",
       "      <td>1297.00</td>\n",
       "      <td>339602.00</td>\n",
       "      <td>658708.00</td>\n",
       "      <td>340899.00</td>\n",
       "      <td>317809.00</td>\n",
       "      <td>40.690946</td>\n",
       "      <td>-74.157057</td>\n",
       "      <td>...</td>\n",
       "      <td>3.723623</td>\n",
       "      <td>0.307446</td>\n",
       "      <td>0.233249</td>\n",
       "      <td>5.464157</td>\n",
       "      <td>3.993012</td>\n",
       "      <td>296.962667</td>\n",
       "      <td>0.014802</td>\n",
       "      <td>0.046242</td>\n",
       "      <td>0.108027</td>\n",
       "      <td>16.142819</td>\n",
       "    </tr>\n",
       "    <tr>\n",
       "      <th>2</th>\n",
       "      <td>2018-10</td>\n",
       "      <td>42467.25</td>\n",
       "      <td>78852.55</td>\n",
       "      <td>22335.75</td>\n",
       "      <td>82396.85</td>\n",
       "      <td>226052.40</td>\n",
       "      <td>104732.60</td>\n",
       "      <td>121319.80</td>\n",
       "      <td>37.900957</td>\n",
       "      <td>-122.209864</td>\n",
       "      <td>...</td>\n",
       "      <td>2.310445</td>\n",
       "      <td>0.206794</td>\n",
       "      <td>NaN</td>\n",
       "      <td>0.015432</td>\n",
       "      <td>2.068744</td>\n",
       "      <td>NaN</td>\n",
       "      <td>NaN</td>\n",
       "      <td>1.566709</td>\n",
       "      <td>3.284289</td>\n",
       "      <td>8.283458</td>\n",
       "    </tr>\n",
       "    <tr>\n",
       "      <th>3</th>\n",
       "      <td>2018-10</td>\n",
       "      <td>7040.00</td>\n",
       "      <td>39467.00</td>\n",
       "      <td>14133.00</td>\n",
       "      <td>29024.00</td>\n",
       "      <td>89664.00</td>\n",
       "      <td>43157.00</td>\n",
       "      <td>46507.00</td>\n",
       "      <td>26.144929</td>\n",
       "      <td>-79.937712</td>\n",
       "      <td>...</td>\n",
       "      <td>2.354294</td>\n",
       "      <td>0.446682</td>\n",
       "      <td>0.001764</td>\n",
       "      <td>NaN</td>\n",
       "      <td>0.706655</td>\n",
       "      <td>NaN</td>\n",
       "      <td>0.008470</td>\n",
       "      <td>2.259675</td>\n",
       "      <td>19.841604</td>\n",
       "      <td>25.671532</td>\n",
       "    </tr>\n",
       "    <tr>\n",
       "      <th>4</th>\n",
       "      <td>2018-10</td>\n",
       "      <td>490137.00</td>\n",
       "      <td>293660.90</td>\n",
       "      <td>24256.30</td>\n",
       "      <td>849907.55</td>\n",
       "      <td>1657961.75</td>\n",
       "      <td>874163.85</td>\n",
       "      <td>783797.90</td>\n",
       "      <td>33.804338</td>\n",
       "      <td>-118.379055</td>\n",
       "      <td>...</td>\n",
       "      <td>0.944671</td>\n",
       "      <td>0.092649</td>\n",
       "      <td>NaN</td>\n",
       "      <td>NaN</td>\n",
       "      <td>0.010803</td>\n",
       "      <td>NaN</td>\n",
       "      <td>0.033400</td>\n",
       "      <td>1.114274</td>\n",
       "      <td>9.325693</td>\n",
       "      <td>1.356643</td>\n",
       "    </tr>\n",
       "  </tbody>\n",
       "</table>\n",
       "<p>5 rows × 42 columns</p>\n",
       "</div>"
      ],
      "text/plain": [
       "      Date  Empty Exports  Loaded Exports  Empty Imports  Loaded Imports  \\\n",
       "0  2018-10       60010.25        74085.50       10454.00       134470.50   \n",
       "1  2018-10      187027.00       130782.00        1297.00       339602.00   \n",
       "2  2018-10       42467.25        78852.55       22335.75        82396.85   \n",
       "3  2018-10        7040.00        39467.00       14133.00        29024.00   \n",
       "4  2018-10      490137.00       293660.90       24256.30       849907.55   \n",
       "\n",
       "   Total TEUs  Total Imports  Total Exports   latitude   longitude  ...  \\\n",
       "0   333994.55      144924.50      134095.75  47.449355 -122.428779  ...   \n",
       "1   658708.00      340899.00      317809.00  40.690946  -74.157057  ...   \n",
       "2   226052.40      104732.60      121319.80  37.900957 -122.209864  ...   \n",
       "3    89664.00       43157.00       46507.00  26.144929  -79.937712  ...   \n",
       "4  1657961.75      874163.85      783797.90  33.804338 -118.379055  ...   \n",
       "\n",
       "   Ratio_Cocaine  Ratio_Ecstasy  Ratio_Fentanyl  Ratio_Heroin  Ratio_Ketamine  \\\n",
       "0       0.010325       0.003380             NaN      0.031159             NaN   \n",
       "1       3.723623       0.307446        0.233249      5.464157        3.993012   \n",
       "2       2.310445       0.206794             NaN      0.015432        2.068744   \n",
       "3       2.354294       0.446682        0.001764           NaN        0.706655   \n",
       "4       0.944671       0.092649             NaN           NaN        0.010803   \n",
       "\n",
       "   Ratio_Khat (Catha Edulis)  Ratio_Lsd  Ratio_Marijuana  \\\n",
       "0                        NaN   0.008758         0.113976   \n",
       "1                 296.962667   0.014802         0.046242   \n",
       "2                        NaN        NaN         1.566709   \n",
       "3                        NaN   0.008470         2.259675   \n",
       "4                        NaN   0.033400         1.114274   \n",
       "\n",
       "   Ratio_Methamphetamine  Ratio_Other Drugs**  \n",
       "0               0.004833             0.130519  \n",
       "1               0.108027            16.142819  \n",
       "2               3.284289             8.283458  \n",
       "3              19.841604            25.671532  \n",
       "4               9.325693             1.356643  \n",
       "\n",
       "[5 rows x 42 columns]"
      ]
     },
     "execution_count": 38,
     "metadata": {},
     "output_type": "execute_result"
    }
   ],
   "source": [
    "# List of drug types\n",
    "drug_types = ['Cocaine', 'Ecstasy', 'Fentanyl', 'Heroin', 'Ketamine', 'Khat (Catha Edulis)', 'Lsd', 'Marijuana', 'Methamphetamine', 'Other Drugs**']\n",
    "\n",
    "# Loop through each drug type and create the new variable\n",
    "for drug in drug_types:\n",
    "    sum_qty_col = f'Sum Qty (lbs)_{drug}'\n",
    "    count_event_col = f'Count of Event_{drug}'\n",
    "    new_col = f'Ratio_{drug}'\n",
    "    \n",
    "    # Calculate the ratio and create the new column\n",
    "    combined_data[new_col] = combined_data[sum_qty_col] / combined_data[count_event_col]\n",
    "\n",
    "# Display the updated dataframe\n",
    "combined_data.head()"
   ]
  },
  {
   "cell_type": "markdown",
   "metadata": {},
   "source": [
    "### Pipeline y estandarización de los datos:\n",
    "Estandarización de los datos. Missing Value imputados a cero."
   ]
  },
  {
   "cell_type": "code",
   "execution_count": 39,
   "metadata": {},
   "outputs": [],
   "source": [
    "#\n",
    "from sklearn.impute import SimpleImputer\n",
    "from sklearn.preprocessing import StandardScaler, OrdinalEncoder\n",
    "from sklearn.pipeline import FeatureUnion, Pipeline\n",
    "from sklearn.compose import ColumnTransformer\n"
   ]
  },
  {
   "cell_type": "code",
   "execution_count": 40,
   "metadata": {},
   "outputs": [],
   "source": [
    "# Reorder columns\n",
    "columns_order = ['Date'] + [col for col in combined_data.columns if col not in ['Date', 'Hub Portuario']] + ['Hub Portuario']\n",
    "combined_data = combined_data[columns_order]"
   ]
  },
  {
   "cell_type": "code",
   "execution_count": 41,
   "metadata": {},
   "outputs": [],
   "source": [
    "numeric_columns = combined_data.select_dtypes(include=['float64']).columns\n",
    "date = combined_data['Date']\n",
    "\n",
    "# Define the pipeline\n",
    "# Define the transformers for numeric and categorical columns\n",
    "numeric_transformer = Pipeline(steps=[\n",
    "    ('imputer', SimpleImputer(strategy='constant', fill_value=0)),\n",
    "    ('scaler', StandardScaler())\n",
    "])\n",
    "\n",
    "categorical_transformer = Pipeline(steps=[\n",
    "    ('ordinal_encoder', OrdinalEncoder())\n",
    "])\n",
    "\n",
    "# Combine transformers using ColumnTransformer\n",
    "preprocessor = ColumnTransformer(\n",
    "    transformers=[\n",
    "        ('num', numeric_transformer, numeric_columns),\n",
    "        ('cat', categorical_transformer, ['Hub Portuario'])\n",
    "    ]\n",
    ")\n",
    "\n",
    "# Define the final pipeline\n",
    "pipeline = Pipeline(steps=[\n",
    "    ('preprocessor', preprocessor)\n",
    "])\n",
    "\n",
    "# Apply the pipeline to the numeric columns\n",
    "standardized_data = combined_data.copy()\n",
    "standardized_data = pipeline.fit_transform(standardized_data)\n"
   ]
  },
  {
   "cell_type": "code",
   "execution_count": 42,
   "metadata": {},
   "outputs": [
    {
     "data": {
      "text/html": [
       "<div>\n",
       "<style scoped>\n",
       "    .dataframe tbody tr th:only-of-type {\n",
       "        vertical-align: middle;\n",
       "    }\n",
       "\n",
       "    .dataframe tbody tr th {\n",
       "        vertical-align: top;\n",
       "    }\n",
       "\n",
       "    .dataframe thead th {\n",
       "        text-align: right;\n",
       "    }\n",
       "</style>\n",
       "<table border=\"1\" class=\"dataframe\">\n",
       "  <thead>\n",
       "    <tr style=\"text-align: right;\">\n",
       "      <th></th>\n",
       "      <th>Date</th>\n",
       "      <th>Empty Exports</th>\n",
       "      <th>Loaded Exports</th>\n",
       "      <th>Empty Imports</th>\n",
       "      <th>Loaded Imports</th>\n",
       "      <th>Total TEUs</th>\n",
       "      <th>Total Imports</th>\n",
       "      <th>Total Exports</th>\n",
       "      <th>latitude</th>\n",
       "      <th>longitude</th>\n",
       "      <th>...</th>\n",
       "      <th>Ratio_Ecstasy</th>\n",
       "      <th>Ratio_Fentanyl</th>\n",
       "      <th>Ratio_Heroin</th>\n",
       "      <th>Ratio_Ketamine</th>\n",
       "      <th>Ratio_Khat (Catha Edulis)</th>\n",
       "      <th>Ratio_Lsd</th>\n",
       "      <th>Ratio_Marijuana</th>\n",
       "      <th>Ratio_Methamphetamine</th>\n",
       "      <th>Ratio_Other Drugs**</th>\n",
       "      <th>Hub Portuario</th>\n",
       "    </tr>\n",
       "  </thead>\n",
       "  <tbody>\n",
       "    <tr>\n",
       "      <th>0</th>\n",
       "      <td>2018-10</td>\n",
       "      <td>-0.459712</td>\n",
       "      <td>-0.428471</td>\n",
       "      <td>-0.087006</td>\n",
       "      <td>-0.426569</td>\n",
       "      <td>-0.358620</td>\n",
       "      <td>-0.432675</td>\n",
       "      <td>-0.462670</td>\n",
       "      <td>1.629994</td>\n",
       "      <td>-1.021196</td>\n",
       "      <td>...</td>\n",
       "      <td>-0.117660</td>\n",
       "      <td>-0.080882</td>\n",
       "      <td>-0.109058</td>\n",
       "      <td>-0.098756</td>\n",
       "      <td>-0.249226</td>\n",
       "      <td>-0.169394</td>\n",
       "      <td>-0.378352</td>\n",
       "      <td>-0.263318</td>\n",
       "      <td>-0.141122</td>\n",
       "      <td>5.0</td>\n",
       "    </tr>\n",
       "    <tr>\n",
       "      <th>1</th>\n",
       "      <td>2018-10</td>\n",
       "      <td>0.226634</td>\n",
       "      <td>0.425511</td>\n",
       "      <td>-0.252168</td>\n",
       "      <td>0.362197</td>\n",
       "      <td>0.289985</td>\n",
       "      <td>0.299816</td>\n",
       "      <td>0.286070</td>\n",
       "      <td>0.673502</td>\n",
       "      <td>1.387485</td>\n",
       "      <td>...</td>\n",
       "      <td>-0.072954</td>\n",
       "      <td>-0.067249</td>\n",
       "      <td>1.545080</td>\n",
       "      <td>-0.052201</td>\n",
       "      <td>-0.043216</td>\n",
       "      <td>-0.162152</td>\n",
       "      <td>-0.382631</td>\n",
       "      <td>-0.259260</td>\n",
       "      <td>0.275706</td>\n",
       "      <td>3.0</td>\n",
       "    </tr>\n",
       "    <tr>\n",
       "      <th>2</th>\n",
       "      <td>2018-10</td>\n",
       "      <td>-0.554507</td>\n",
       "      <td>-0.356668</td>\n",
       "      <td>0.127301</td>\n",
       "      <td>-0.626801</td>\n",
       "      <td>-0.574232</td>\n",
       "      <td>-0.582899</td>\n",
       "      <td>-0.514739</td>\n",
       "      <td>0.278645</td>\n",
       "      <td>-1.010273</td>\n",
       "      <td>...</td>\n",
       "      <td>-0.087753</td>\n",
       "      <td>-0.080882</td>\n",
       "      <td>-0.113846</td>\n",
       "      <td>-0.074636</td>\n",
       "      <td>-0.249226</td>\n",
       "      <td>-0.179889</td>\n",
       "      <td>-0.286576</td>\n",
       "      <td>-0.134348</td>\n",
       "      <td>0.071113</td>\n",
       "      <td>4.0</td>\n",
       "    </tr>\n",
       "    <tr>\n",
       "      <th>3</th>\n",
       "      <td>2018-10</td>\n",
       "      <td>-0.745941</td>\n",
       "      <td>-0.949906</td>\n",
       "      <td>-0.020650</td>\n",
       "      <td>-0.832029</td>\n",
       "      <td>-0.846663</td>\n",
       "      <td>-0.813050</td>\n",
       "      <td>-0.819646</td>\n",
       "      <td>-1.385143</td>\n",
       "      <td>1.099040</td>\n",
       "      <td>...</td>\n",
       "      <td>-0.052483</td>\n",
       "      <td>-0.080779</td>\n",
       "      <td>-0.118545</td>\n",
       "      <td>-0.090517</td>\n",
       "      <td>-0.249226</td>\n",
       "      <td>-0.169740</td>\n",
       "      <td>-0.242799</td>\n",
       "      <td>0.516799</td>\n",
       "      <td>0.523756</td>\n",
       "      <td>2.0</td>\n",
       "    </tr>\n",
       "    <tr>\n",
       "      <th>4</th>\n",
       "      <td>2018-10</td>\n",
       "      <td>1.864514</td>\n",
       "      <td>2.878847</td>\n",
       "      <td>0.161941</td>\n",
       "      <td>2.324411</td>\n",
       "      <td>2.285965</td>\n",
       "      <td>2.292992</td>\n",
       "      <td>2.185251</td>\n",
       "      <td>-0.301135</td>\n",
       "      <td>-0.819121</td>\n",
       "      <td>...</td>\n",
       "      <td>-0.104535</td>\n",
       "      <td>-0.080882</td>\n",
       "      <td>-0.118545</td>\n",
       "      <td>-0.098630</td>\n",
       "      <td>-0.249226</td>\n",
       "      <td>-0.139868</td>\n",
       "      <td>-0.315159</td>\n",
       "      <td>0.103241</td>\n",
       "      <td>-0.109204</td>\n",
       "      <td>1.0</td>\n",
       "    </tr>\n",
       "  </tbody>\n",
       "</table>\n",
       "<p>5 rows × 42 columns</p>\n",
       "</div>"
      ],
      "text/plain": [
       "      Date  Empty Exports  Loaded Exports  Empty Imports  Loaded Imports  \\\n",
       "0  2018-10      -0.459712       -0.428471      -0.087006       -0.426569   \n",
       "1  2018-10       0.226634        0.425511      -0.252168        0.362197   \n",
       "2  2018-10      -0.554507       -0.356668       0.127301       -0.626801   \n",
       "3  2018-10      -0.745941       -0.949906      -0.020650       -0.832029   \n",
       "4  2018-10       1.864514        2.878847       0.161941        2.324411   \n",
       "\n",
       "   Total TEUs  Total Imports  Total Exports  latitude  longitude  ...  \\\n",
       "0   -0.358620      -0.432675      -0.462670  1.629994  -1.021196  ...   \n",
       "1    0.289985       0.299816       0.286070  0.673502   1.387485  ...   \n",
       "2   -0.574232      -0.582899      -0.514739  0.278645  -1.010273  ...   \n",
       "3   -0.846663      -0.813050      -0.819646 -1.385143   1.099040  ...   \n",
       "4    2.285965       2.292992       2.185251 -0.301135  -0.819121  ...   \n",
       "\n",
       "   Ratio_Ecstasy  Ratio_Fentanyl  Ratio_Heroin  Ratio_Ketamine  \\\n",
       "0      -0.117660       -0.080882     -0.109058       -0.098756   \n",
       "1      -0.072954       -0.067249      1.545080       -0.052201   \n",
       "2      -0.087753       -0.080882     -0.113846       -0.074636   \n",
       "3      -0.052483       -0.080779     -0.118545       -0.090517   \n",
       "4      -0.104535       -0.080882     -0.118545       -0.098630   \n",
       "\n",
       "   Ratio_Khat (Catha Edulis)  Ratio_Lsd  Ratio_Marijuana  \\\n",
       "0                  -0.249226  -0.169394        -0.378352   \n",
       "1                  -0.043216  -0.162152        -0.382631   \n",
       "2                  -0.249226  -0.179889        -0.286576   \n",
       "3                  -0.249226  -0.169740        -0.242799   \n",
       "4                  -0.249226  -0.139868        -0.315159   \n",
       "\n",
       "   Ratio_Methamphetamine  Ratio_Other Drugs**  Hub Portuario  \n",
       "0              -0.263318            -0.141122            5.0  \n",
       "1              -0.259260             0.275706            3.0  \n",
       "2              -0.134348             0.071113            4.0  \n",
       "3               0.516799             0.523756            2.0  \n",
       "4               0.103241            -0.109204            1.0  \n",
       "\n",
       "[5 rows x 42 columns]"
      ]
     },
     "execution_count": 42,
     "metadata": {},
     "output_type": "execute_result"
    }
   ],
   "source": [
    "# Convert the processed data back into a pandas DataFrame\n",
    "standardized_data = pd.DataFrame(standardized_data, columns=numeric_columns.tolist() + ['Hub Portuario'])\n",
    "\n",
    "# Add the 'Date' column back to the processed DataFrame\n",
    "standardized_data['Date'] = date.values\n",
    "\n",
    "# Reorder the columns to match the original DataFrame structure\n",
    "standardized_data = standardized_data[['Date'] + numeric_columns.tolist() + ['Hub Portuario']]\n",
    "\n",
    "# Display the first few rows of the processed DataFrame\n",
    "standardized_data.head()"
   ]
  },
  {
   "cell_type": "code",
   "execution_count": 43,
   "metadata": {},
   "outputs": [],
   "source": [
    "# Extract the 'Hub Portuario' column before transformation\n",
    "hub_portuario_before = combined_data['Hub Portuario']\n",
    "\n",
    "# Extract the 'Hub Portuario' column after transformation\n",
    "hub_portuario_after = standardized_data['Hub Portuario']\n",
    "\n",
    "# Create a dictionary relating 'Hub Portuario' before and after transformation\n",
    "hub_portuario_dict = dict(zip(hub_portuario_before, hub_portuario_after))"
   ]
  },
  {
   "cell_type": "code",
   "execution_count": 44,
   "metadata": {},
   "outputs": [],
   "source": [
    "from plotnine import ggplot, aes, geom_point, labs, theme_538, scale_color_manual\n",
    "\n",
    "# Define the mapping for 'Hub Portuario'\n",
    "hub_portuario_mapping = {\n",
    "    1.0: 'Los Angeles/Long Beach',\n",
    "    2.0: 'Miami/Fort Lauderdale',\n",
    "    3.0: 'Newark/New York',\n",
    "    4.0: 'Oakland',\n",
    "    5.0: 'Seattle/Tacoma',\n",
    "    0.0: 'Houston'\n",
    "}\n",
    "\n",
    "# Map the 'Hub Portuario' values to their names\n",
    "standardized_data['Hub Portuario_name'] = standardized_data['Hub Portuario'].map(hub_portuario_mapping)\n"
   ]
  },
  {
   "cell_type": "code",
   "execution_count": 45,
   "metadata": {},
   "outputs": [],
   "source": [
    "combined_data.to_csv('../sources/seis_puertos_usa_brutos.csv')"
   ]
  },
  {
   "cell_type": "code",
   "execution_count": 46,
   "metadata": {},
   "outputs": [],
   "source": [
    "standardized_data.to_csv('../sources/seis_puertos_usa_standardized.csv')"
   ]
  },
  {
   "cell_type": "markdown",
   "metadata": {},
   "source": [
    "### Alternativa Imputaciones:"
   ]
  },
  {
   "cell_type": "code",
   "execution_count": null,
   "metadata": {},
   "outputs": [],
   "source": [
    "# Extract 'Ratio_' columns from combined_data\n",
    "ratio_columns = [col for col in combined_data.columns if col.startswith('Ratio_')]\n",
    "ratio_data = combined_data[['Hub Portuario'] + ratio_columns]"
   ]
  },
  {
   "cell_type": "code",
   "execution_count": null,
   "metadata": {},
   "outputs": [],
   "source": [
    "# Initialize the SimpleImputer and StandardScaler\n",
    "imputer = SimpleImputer(strategy='constant', fill_value=0)\n",
    "scaler = StandardScaler()\n",
    "\n",
    "# Create a copy of standardized_data to add the new columns\n",
    "standardized_data_with_ratios = standardized_data.copy()\n",
    "\n",
    "# Define the ratio columns\n",
    "ratio_columns = [col for col in standardized_data.columns if col.startswith('Ratio_')]\n",
    "\n",
    "# Process each 'Hub Portuario' separately\n",
    "for hub in ratio_data['Hub Portuario'].unique():\n",
    "    # Filter the data for the current hub\n",
    "    hub_data = standardized_data_with_ratios[standardized_data_with_ratios['Hub Portuario'] == hub]\n",
    "    \n",
    "    # Impute NaN values with the mean for the current hub\n",
    "    imputed_data = imputer.fit_transform(hub_data[ratio_columns])\n",
    "    \n",
    "    # Scale the imputed data\n",
    "    scaled_data = scaler.fit_transform(imputed_data)\n",
    "    \n",
    "    # Add the scaled columns to the standardized_data_with_ratios dataframe\n",
    "    for i, col in enumerate(ratio_columns):\n",
    "        standardized_data_with_ratios.loc[hub_data.index, col] = scaled_data[:, i]"
   ]
  },
  {
   "cell_type": "code",
   "execution_count": null,
   "metadata": {},
   "outputs": [],
   "source": [
    "# Display the updated dataframe\n",
    "standardized_data_with_ratios"
   ]
  },
  {
   "cell_type": "code",
   "execution_count": null,
   "metadata": {},
   "outputs": [],
   "source": [
    "combined_data.columns"
   ]
  },
  {
   "cell_type": "markdown",
   "metadata": {},
   "source": [
    "### Visualizaciones:\n",
    "- Comparar series temporales\n",
    "- Comparar volumen según posición geográfica\n",
    "- Una serie temporal por el target\n",
    "- Comparar tipos de target\n",
    "- Análisis de variables por puerto"
   ]
  },
  {
   "cell_type": "code",
   "execution_count": null,
   "metadata": {},
   "outputs": [],
   "source": [
    "from plotnine import ggplot, aes, geom_line, labs, theme_minimal, theme_538, scale_x_datetime, element_text, theme\n",
    "\n",
    "# Create the plot\n",
    "plot = (ggplot(combined_data, aes(x='Date', y='Total TEUs', group='Hub Portuario', color='Hub Portuario'))\n",
    "    + geom_line()\n",
    "    + labs(title='Total TEUs Over Time by Location',\n",
    "           x='Date',\n",
    "           y='Total TEUs')\n",
    "    + theme_538()\n",
    "    + scale_x_datetime(date_breaks='6 months', date_labels='%b %Y')\n",
    "    + theme(axis_text_x=element_text(rotation=45, hjust=1))\n",
    "    )\n",
    "\n",
    "plot"
   ]
  },
  {
   "cell_type": "markdown",
   "metadata": {},
   "source": [
    "Exploracion de los hubs más pequeños por separado:"
   ]
  },
  {
   "cell_type": "code",
   "execution_count": null,
   "metadata": {},
   "outputs": [],
   "source": [
    "# Filter the dataframe to exclude 'Los Angeles/Long Beach'\n",
    "filtered_data = combined_data[combined_data['Hub Portuario'] != 'Los Angeles/Long Beach']\n",
    "\n",
    "# Create the plot\n",
    "plot_filtered = (ggplot(filtered_data, aes(x='Date', y='Total TEUs', group='Hub Portuario', color='Hub Portuario'))\n",
    "    + geom_line()\n",
    "    + labs(title='Total TEUs Over Time by Location (Excluding Los Angeles/Long Beach)',\n",
    "           x='Date',\n",
    "           y='Total TEUs')\n",
    "    + theme_538()\n",
    "    + scale_x_datetime(date_breaks='6 months', date_labels='%b %Y')\n",
    "    + theme(axis_text_x=element_text(rotation=45, hjust=1))\n",
    "    )\n",
    "\n",
    "plot_filtered"
   ]
  },
  {
   "cell_type": "markdown",
   "metadata": {},
   "source": [
    "Faltó estandarizar e imputar NaN values:"
   ]
  },
  {
   "cell_type": "code",
   "execution_count": null,
   "metadata": {},
   "outputs": [],
   "source": [
    "from plotnine import ggplot, aes, geom_line, facet_grid, labs, theme_minimal, theme_538\n",
    "# Filter the dataframe to include all hubs\n",
    "filtered_combined_data = standardized_data\n",
    "\n",
    "# Convert the 'Date' column to datetime format\n",
    "filtered_combined_data['Date'] = pd.to_datetime(filtered_combined_data['Date'], format='%Y-%m')\n",
    "\n",
    "# Create the plot with facet_grid\n",
    "facet_plot = (ggplot(filtered_combined_data, aes(x='Date'))\n",
    "    + geom_line(aes(y='Total Imports', color='\"Total Imports\"'))\n",
    "    + geom_line(aes(y='Sum_of_Counts', color='\"Sum of Counts\"'))\n",
    "    + facet_grid('Hub Portuario ~ .')\n",
    "    + labs(title='Total Imports and Sum of Counts\\nOver Time by Selected Hub Portuario',\n",
    "           x='Date',\n",
    "           y='Value')\n",
    "    + theme_538()\n",
    "    )\n",
    "\n",
    "facet_plot"
   ]
  },
  {
   "cell_type": "code",
   "execution_count": null,
   "metadata": {},
   "outputs": [],
   "source": [
    "from plotnine import ggplot, aes, geom_line, labs, theme_minimal, theme_538\n",
    "import pandas as pd\n",
    "\n",
    "# Filter the dataframe for 'Seattle/Tacoma'\n",
    "seattle_data = standardized_data[standardized_data['Hub Portuario'] == 5]\n",
    "\n",
    "# Define the variables to plot\n",
    "variables_to_plot = ['Total TEUs', 'Total Imports', 'Sum_of_Counts']\n",
    "\n",
    "# Melt the dataframe to long format\n",
    "seattle_data_melted = seattle_data.melt(id_vars=['Date'], value_vars=variables_to_plot, var_name='Variable', value_name='Value')\n",
    "\n",
    "# Create the plot\n",
    "plot = (ggplot(seattle_data_melted, aes(x='Date', y='Value', color='Variable', group='Variable'))\n",
    "    + geom_line()\n",
    "    + labs(title='Various Metrics Over Time for Seattle/Tacoma',\n",
    "           x='Date',\n",
    "           y='Value')\n",
    "    + theme_538())\n",
    "\n",
    "plot"
   ]
  },
  {
   "cell_type": "code",
   "execution_count": null,
   "metadata": {},
   "outputs": [],
   "source": [
    "from plotnine import ggplot, aes, geom_line, labs, theme_minimal, theme_538\n",
    "import pandas as pd\n",
    "\n",
    "# Filter the dataframe for 'Seattle/Tacoma'\n",
    "seattle_data = standardized_data[standardized_data['Hub Portuario'] == 2]\n",
    "\n",
    "# Define the variables to plot\n",
    "variables_to_plot = ['Total TEUs', 'Total Exports', 'Total Imports', 'Loaded Imports', 'Loaded Exports', 'Sum_of_Counts']\n",
    "\n",
    "# Melt the dataframe to long format\n",
    "seattle_data_melted = seattle_data.melt(id_vars=['Date'], value_vars=variables_to_plot, var_name='Variable', value_name='Value')\n",
    "\n",
    "# Create the plot\n",
    "plot = (ggplot(seattle_data_melted, aes(x='Date', y='Value', color='Variable', group='Variable'))\n",
    "    + geom_line()\n",
    "    + labs(title='Various Metrics Over Time for Miami/Fort Lauderdale',\n",
    "           x='Date',\n",
    "           y='Value')\n",
    "    + theme_538())\n",
    "\n",
    "plot"
   ]
  },
  {
   "cell_type": "markdown",
   "metadata": {},
   "source": [
    "Algunas suposiciones:\n",
    "- Numero de incautaciones absolutas para distintas drogas para un mismo puerto: Miami y Seattle"
   ]
  },
  {
   "cell_type": "code",
   "execution_count": null,
   "metadata": {},
   "outputs": [],
   "source": [
    "from plotnine import ggplot, aes, geom_line, labs, theme_minimal, theme_538, theme, element_text, scale_x_datetime\n",
    "\n",
    "# Filter the dataframe for 'Miami/Fort Lauderdale'\n",
    "miami_data = combined_data[combined_data['Hub Portuario'] == 'Miami/Fort Lauderdale']\n",
    "\n",
    "# Define the variables to plot\n",
    "variables_to_plot = [\n",
    "    'Count of Event_Cocaine', 'Count of Event_Ecstasy', 'Count of Event_Fentanyl',\n",
    "    'Count of Event_Heroin', 'Count of Event_Ketamine', 'Count of Event_Khat (Catha Edulis)',\n",
    "    'Count of Event_Lsd', 'Count of Event_Marijuana', 'Count of Event_Methamphetamine',\n",
    "    'Count of Event_Other Drugs**'\n",
    "]\n",
    "\n",
    "# Melt the dataframe to long format\n",
    "miami_data_melted = miami_data.melt(id_vars=['Date'], value_vars=variables_to_plot, var_name='Variable', value_name='Value')\n",
    "\n",
    "# Create the plot\n",
    "plot = (ggplot(miami_data_melted, aes(x='Date', y='Value', color='Variable', group='Variable'))\n",
    "    + geom_line()\n",
    "    + labs(title='Drug Event Counts Over Time\\n for Miami/Fort Lauderdale',\n",
    "           x='Date',\n",
    "           y='Count of Events')\n",
    "    + theme_538()\n",
    "    + scale_x_datetime(date_breaks='6 months', date_labels='%b %Y')\n",
    "    + theme(axis_text_x=element_text(rotation=45, hjust=1))\n",
    ")\n",
    "\n",
    "plot"
   ]
  },
  {
   "cell_type": "code",
   "execution_count": null,
   "metadata": {},
   "outputs": [],
   "source": [
    "# Filter the dataframe for 'Seattle/Tacoma'\n",
    "miami_data = combined_data[combined_data['Hub Portuario'] == 'Seattle/Tacoma']\n",
    "\n",
    "# Define the variables to plot\n",
    "variables_to_plot = [\n",
    "    'Count of Event_Cocaine', 'Count of Event_Ecstasy', 'Count of Event_Fentanyl',\n",
    "    'Count of Event_Heroin', 'Count of Event_Ketamine', 'Count of Event_Khat (Catha Edulis)',\n",
    "    'Count of Event_Lsd', 'Count of Event_Marijuana', 'Count of Event_Methamphetamine',\n",
    "    'Count of Event_Other Drugs**'\n",
    "]\n",
    "\n",
    "# Melt the dataframe to long format\n",
    "miami_data_melted = miami_data.melt(id_vars=['Date'], value_vars=variables_to_plot, var_name='Variable', value_name='Value')\n",
    "\n",
    "# Create the plot\n",
    "plot = (ggplot(miami_data_melted, aes(x='Date', y='Value', color='Variable', group='Variable'))\n",
    "    + geom_line()\n",
    "    + labs(title='Drug Event Counts\\n Over Time for Seattle/Tacoma',\n",
    "           x='Date',\n",
    "           y='Count of Events')\n",
    "    + theme_538()\n",
    "    + scale_x_datetime(date_breaks='6 months', date_labels='%b %Y')\n",
    "    + theme(axis_text_x=element_text(rotation=45, hjust=1))\n",
    ")\n",
    "\n",
    "plot"
   ]
  },
  {
   "cell_type": "code",
   "execution_count": null,
   "metadata": {},
   "outputs": [],
   "source": [
    "# Filter the dataframe for 'Los Angeles/Long Beach'\n",
    "GLA_data = combined_data[combined_data['Hub Portuario'] == 'Los Angeles/Long Beach']\n",
    "\n",
    "# Define the variables to plot\n",
    "variables_to_plot = [\n",
    "    'Count of Event_Cocaine', 'Count of Event_Ecstasy', 'Count of Event_Fentanyl',\n",
    "    'Count of Event_Heroin', 'Count of Event_Ketamine', 'Count of Event_Khat (Catha Edulis)',\n",
    "    'Count of Event_Lsd', 'Count of Event_Marijuana', 'Count of Event_Methamphetamine',\n",
    "    'Count of Event_Other Drugs**'\n",
    "]\n",
    "\n",
    "# Melt the dataframe to long format\n",
    "GLA_data_melted = GLA_data.melt(id_vars=['Date'], value_vars=variables_to_plot, var_name='Variable', value_name='Value')\n",
    "\n",
    "# Create the plot\n",
    "plot = (ggplot(GLA_data_melted, aes(x='Date', y='Value', color='Variable', group='Variable'))\n",
    "    + geom_line()\n",
    "    + labs(title='Drug Event Counts \\nOver Time for Los Angeles/Long Beach',\n",
    "           x='Date',\n",
    "           y='Count of Events')\n",
    "    + theme_538()\n",
    "    + scale_x_datetime(date_breaks='6 months', date_labels='%b %Y')\n",
    "    + theme(axis_text_x=element_text(rotation=45, hjust=1))\n",
    "    )\n",
    "\n",
    "plot"
   ]
  },
  {
   "cell_type": "code",
   "execution_count": null,
   "metadata": {},
   "outputs": [],
   "source": [
    "# Filter the dataframe for 'Los Angeles/Long Beach'\n",
    "GLA_data = combined_data[combined_data['Hub Portuario'] == 'Newark/New York']\n",
    "\n",
    "# Define the variables to plot\n",
    "variables_to_plot = [\n",
    "    'Count of Event_Cocaine', 'Count of Event_Ecstasy', 'Count of Event_Fentanyl',\n",
    "    'Count of Event_Heroin', 'Count of Event_Ketamine', 'Count of Event_Khat (Catha Edulis)',\n",
    "    'Count of Event_Lsd', 'Count of Event_Marijuana', 'Count of Event_Methamphetamine',\n",
    "    'Count of Event_Other Drugs**'\n",
    "]\n",
    "\n",
    "# Melt the dataframe to long format\n",
    "GLA_data_melted = GLA_data.melt(id_vars=['Date'], value_vars=variables_to_plot, var_name='Variable', value_name='Value')\n",
    "\n",
    "# Create the plot\n",
    "plot = (ggplot(GLA_data_melted, aes(x='Date', y='Value', color='Variable', group='Variable'))\n",
    "    + geom_line()\n",
    "    + labs(title='Drug Event Counts \\nOver Time for Newark/New York',\n",
    "           x='Date',\n",
    "           y='Count of Events')\n",
    "    + theme_538()\n",
    "    + scale_x_datetime(date_breaks='6 months', date_labels='%b %Y')\n",
    "    + theme(axis_text_x=element_text(rotation=45, hjust=1))\n",
    "    )\n",
    "\n",
    "plot"
   ]
  },
  {
   "cell_type": "markdown",
   "metadata": {},
   "source": [
    "Estimación de incautación (por separado, según puerto) de: Cocaína, Extasis, Fentanilo, Heroina, Meth, Cannabis"
   ]
  },
  {
   "cell_type": "code",
   "execution_count": null,
   "metadata": {},
   "outputs": [],
   "source": [
    "\n",
    "# Create the plot\n",
    "plot = (ggplot(combined_data, aes(x='Date', y='Count of Event_Cocaine', group='Hub Portuario', color='Hub Portuario'))\n",
    "    + geom_line()\n",
    "    + labs(title='Count of Event Cocaine Over Time by Hub Portuario',\n",
    "           x='Date',\n",
    "           y='Count of Event Cocaine')\n",
    "    + theme_538()\n",
    "    + scale_x_datetime(date_breaks='6 months', date_labels='%b %Y')\n",
    "    + theme(axis_text_x=element_text(rotation=45, hjust=1))\n",
    "    )\n",
    "\n",
    "plot"
   ]
  },
  {
   "cell_type": "code",
   "execution_count": null,
   "metadata": {},
   "outputs": [],
   "source": [
    "# Create the plot\n",
    "plot = (ggplot(combined_data, aes(x='Date', y='Count of Event_Ecstasy', group='Hub Portuario', color='Hub Portuario'))\n",
    "    + geom_line()\n",
    "    + labs(title='Count of Event Ecstasy Over Time by Hub Portuario',\n",
    "           x='Date',\n",
    "           y='Count of Event Ecstasy')\n",
    "    + theme_538()\n",
    "    + scale_x_datetime(date_breaks='6 months', date_labels='%b %Y')\n",
    "    + theme(axis_text_x=element_text(rotation=45, hjust=1))\n",
    "    )\n",
    "\n",
    "plot"
   ]
  },
  {
   "cell_type": "code",
   "execution_count": null,
   "metadata": {},
   "outputs": [],
   "source": [
    "plot = (ggplot(combined_data, aes(x='Date', y='Count of Event_Fentanyl', group='Hub Portuario', color='Hub Portuario'))\n",
    "    + geom_line()\n",
    "    + labs(title='Count of Event Fentanyl Over Time by Hub Portuario',\n",
    "           x='Date',\n",
    "           y='Count of Event Fentanyl')\n",
    "    + theme_538()\n",
    "    + scale_x_datetime(date_breaks='6 months', date_labels='%b %Y')\n",
    "    + theme(axis_text_x=element_text(rotation=45, hjust=1))\n",
    "    )\n",
    "\n",
    "plot"
   ]
  },
  {
   "cell_type": "code",
   "execution_count": null,
   "metadata": {},
   "outputs": [],
   "source": [
    "plot = (ggplot(combined_data, aes(x='Date', y='Count of Event_Heroin', group='Hub Portuario', color='Hub Portuario'))\n",
    "    + geom_line()\n",
    "    + labs(title='Count of Event Heroin Over Time by Hub Portuario',\n",
    "           x='Date',\n",
    "           y='Count of Event Heroin')\n",
    "    + theme_538()\n",
    "    + scale_x_datetime(date_breaks='6 months', date_labels='%b %Y')\n",
    "    + theme(axis_text_x=element_text(rotation=45, hjust=1))\n",
    "    )\n",
    "\n",
    "plot"
   ]
  },
  {
   "cell_type": "code",
   "execution_count": null,
   "metadata": {},
   "outputs": [],
   "source": [
    "plot = (ggplot(combined_data, aes(x='Date', y='Count of Event_Marijuana', group='Hub Portuario', color='Hub Portuario'))\n",
    "    + geom_line()\n",
    "    + labs(title='Count of Event Marijuana Over Time by Hub Portuario',\n",
    "           x='Date',\n",
    "           y='Count of Event Marijuana')\n",
    "    + theme_538()\n",
    "    + scale_x_datetime(date_breaks='6 months', date_labels='%b %Y')\n",
    "    + theme(axis_text_x=element_text(rotation=45, hjust=1))\n",
    "    )\n",
    "\n",
    "plot"
   ]
  },
  {
   "cell_type": "markdown",
   "metadata": {},
   "source": [
    "En algunos estados (California, Nevada) la marihuana está legalizada. Así que no sé hasta qué punto es útil esta variable."
   ]
  },
  {
   "cell_type": "code",
   "execution_count": null,
   "metadata": {},
   "outputs": [],
   "source": [
    "plot = (ggplot(combined_data, aes(x='Date', y='Count of Event_Methamphetamine', group='Hub Portuario', color='Hub Portuario'))\n",
    "    + geom_line()\n",
    "    + labs(title='Count of Event Methamphetamine \\nOver Time by Hub Portuario',\n",
    "           x='Date',\n",
    "           y='Count of Event Methamphetamine')\n",
    "    + theme_538()\n",
    "    + scale_x_datetime(date_breaks='6 months', date_labels='%b %Y')\n",
    "    + theme(axis_text_x=element_text(rotation=45, hjust=1))\n",
    "    )\n",
    "\n",
    "plot"
   ]
  },
  {
   "cell_type": "code",
   "execution_count": null,
   "metadata": {},
   "outputs": [],
   "source": [
    "plot = (ggplot(combined_data, aes(x='Date', y='Count of Event_Other Drugs**', group='Hub Portuario', color='Hub Portuario'))\n",
    "    + geom_line()\n",
    "    + labs(title='Count of Event Other Drugs \\nOver Time by Hub Portuario',\n",
    "           x='Date',\n",
    "           y='Count of Event Other Drugs')\n",
    "    + theme_538()\n",
    "    + scale_x_datetime(date_breaks='6 months', date_labels='%b %Y')\n",
    "    + theme(axis_text_x=element_text(rotation=45, hjust=1))\n",
    "    )\n",
    "\n",
    "plot\n"
   ]
  },
  {
   "cell_type": "markdown",
   "metadata": {},
   "source": [
    "Parece que Miami y NY son los puertos con más entrada de estupefacientes. Se va a continuar el análisis para estos puertos, enfrentando las variables con más información con las variables de contenedores:"
   ]
  },
  {
   "cell_type": "code",
   "execution_count": null,
   "metadata": {},
   "outputs": [],
   "source": [
    "# Filter the dataframe for 'Miami/Fort Lauderdale'\n",
    "miami_data = standardized_data[standardized_data['Hub Portuario'] == 2.0]\n",
    "\n",
    "# Define the variables to plot\n",
    "variables_to_plot = ['Count of Event_Cocaine', 'Total Imports', 'Loaded Imports', 'Empty Imports']\n",
    "\n",
    "# Melt the dataframe to long format\n",
    "miami_data_melted = miami_data.melt(id_vars=['Date'], value_vars=variables_to_plot, var_name='Variable', value_name='Value')\n",
    "\n",
    "# Create the plot\n",
    "plot = (ggplot(miami_data_melted, aes(x='Date', y='Value', color='Variable', group='Variable'))\n",
    "    + geom_line()\n",
    "    + labs(title='Various Metrics on Event Cocaine\\nOver Time for Miami/Fort Lauderdale',\n",
    "           x='Date',\n",
    "           y='Value')\n",
    "    + theme_538())\n",
    "\n",
    "plot"
   ]
  },
  {
   "cell_type": "code",
   "execution_count": null,
   "metadata": {},
   "outputs": [],
   "source": [
    "# Filter the dataframe for 'Miami/Fort Lauderdale'\n",
    "miami_data = standardized_data[standardized_data['Hub Portuario'] == 2.0]\n",
    "\n",
    "# Define the variables to plot\n",
    "variables_to_plot = ['Count of Event_Other Drugs**', 'Total Imports', 'Loaded Imports', 'Empty Imports']\n",
    "\n",
    "# Melt the dataframe to long format\n",
    "miami_data_melted = miami_data.melt(id_vars=['Date'], value_vars=variables_to_plot, var_name='Variable', value_name='Value')\n",
    "\n",
    "# Create the plot\n",
    "plot = (ggplot(miami_data_melted, aes(x='Date', y='Value', color='Variable', group='Variable'))\n",
    "    + geom_line()\n",
    "    + labs(title='Various Metrics on Event_Other Drugs \\n Over Time for Miami/Fort Lauderdale',\n",
    "           x='Date',\n",
    "           y='Value')\n",
    "    + theme_538())\n",
    "\n",
    "plot"
   ]
  },
  {
   "cell_type": "code",
   "execution_count": null,
   "metadata": {},
   "outputs": [],
   "source": [
    "# Filter the dataframe for 'Miami/Fort Lauderdale'\n",
    "miami_data = standardized_data[standardized_data['Hub Portuario'] == 2.0]\n",
    "\n",
    "# Define the variables to plot\n",
    "variables_to_plot = ['Count of Event_Fentanyl', 'Total Imports', 'Loaded Imports', 'Empty Imports']\n",
    "\n",
    "# Melt the dataframe to long format\n",
    "miami_data_melted = miami_data.melt(id_vars=['Date'], value_vars=variables_to_plot, var_name='Variable', value_name='Value')\n",
    "\n",
    "# Create the plot\n",
    "plot = (ggplot(miami_data_melted, aes(x='Date', y='Value', color='Variable', group='Variable'))\n",
    "    + geom_line()\n",
    "    + labs(title='Various Metrics on Event Fentanyl\\nOver Time for Miami/Fort Lauderdale',\n",
    "           x='Date',\n",
    "           y='Value')\n",
    "    + theme_538())\n",
    "\n",
    "plot\n"
   ]
  },
  {
   "cell_type": "markdown",
   "metadata": {},
   "source": [
    "Con StandardScaler() no parece que se vea bien. Probar con MinMax entre una variable de 'droga' y otras de 'contenedores'"
   ]
  },
  {
   "cell_type": "markdown",
   "metadata": {},
   "source": [
    "Igual hay que revisar con \"Loaded Imports or Total Imports\""
   ]
  },
  {
   "cell_type": "code",
   "execution_count": null,
   "metadata": {},
   "outputs": [],
   "source": [
    "import matplotlib.pyplot as plt\n",
    "\n",
    "# Summarize the data by 'Hub Portuario'\n",
    "summary_data = combined_data.groupby('Hub Portuario').agg({\n",
    "    'Loaded Imports': 'sum',\n",
    "    'Empty Imports': 'sum'\n",
    "}).reset_index()\n",
    "\n",
    "# Iterate over each 'Hub Portuario' and create a pie chart\n",
    "for hub in summary_data['Hub Portuario']:\n",
    "    hub_data = summary_data[summary_data['Hub Portuario'] == hub]\n",
    "    hub_data_melted = hub_data.melt(id_vars=['Hub Portuario'], value_vars=['Loaded Imports', 'Empty Imports'], var_name='Import Type', value_name='Value')\n",
    "    \n",
    "    # Create the pie chart\n",
    "    fig, ax = plt.subplots(figsize=(7, 5))\n",
    "    hub_data_melted.groupby('Import Type').sum().plot(kind='pie', y='Value', ax=ax, autopct='%1.1f%%', startangle=90, legend=False)\n",
    "    ax.set_ylabel('')\n",
    "    ax.set_title(f'Loaded Imports and Empty Imports for {hub}')\n",
    "    plt.show()\n"
   ]
  },
  {
   "cell_type": "code",
   "execution_count": null,
   "metadata": {},
   "outputs": [],
   "source": [
    "# Assuming 'us_port_hubs' contains 'Hub Portuario', 'latitude', and 'longitude' columns\n",
    "summary_data = summary_data.merge(combined_data[['Hub Portuario', 'latitude', 'longitude']], on='Hub Portuario', how='left').drop_duplicates().reset_index(drop=True)\n",
    "# summary_data.drop(['latitude_x','longitude_x', 'latitude_y', 'longitude_y'], axis=1, inplace=True)"
   ]
  },
  {
   "cell_type": "code",
   "execution_count": null,
   "metadata": {},
   "outputs": [],
   "source": [
    "summary_data"
   ]
  },
  {
   "cell_type": "code",
   "execution_count": null,
   "metadata": {},
   "outputs": [],
   "source": [
    "# https://stackoverflow.com/questions/56277645/pie-charts-and-geopandas-map\n",
    "\n",
    "# https://community.plotly.com/t/plotting-pie-charts-on-a-map/1779"
   ]
  },
  {
   "cell_type": "markdown",
   "metadata": {},
   "source": [
    "Parece que hay algunos puertos con bastante entrada de contenedores vacíos.\n",
    "De todos modos, igual hay que probar con exportaciones."
   ]
  },
  {
   "cell_type": "code",
   "execution_count": null,
   "metadata": {},
   "outputs": [],
   "source": [
    "from sklearn.preprocessing import MinMaxScaler\n",
    "from plotnine import ggplot, aes, geom_line, labs, theme_minimal, theme_538\n",
    "\n",
    "# Filter the dataframe for 'Miami/Fort Lauderdale'\n",
    "miami_data = combined_data[combined_data['Hub Portuario'] == 'Miami/Fort Lauderdale']\n",
    "\n",
    "# Define the variables to scale and plot\n",
    "variables_to_plot = [\n",
    "    'Loaded Imports', #'Empty Imports', #'Total TEUs', 'Total Imports', 'Total Exports', # 'Empty Exports', 'Loaded Exports', \n",
    "    'Count of Event_Cocaine', #'Sum Qty (lbs)_Cocaine'\n",
    "]\n",
    "\n",
    "# Apply MinMaxScaler to the specified columns\n",
    "scaler = MinMaxScaler()\n",
    "miami_data_scaled = miami_data.copy()\n",
    "miami_data_scaled[variables_to_plot] = scaler.fit_transform(miami_data[variables_to_plot])\n",
    "\n",
    "# Melt the dataframe to long format\n",
    "miami_data_melted = miami_data_scaled.melt(id_vars=['Date'], value_vars=variables_to_plot, var_name='Variable', value_name='Value')\n",
    "\n",
    "# Create the plot\n",
    "plot = (ggplot(miami_data_melted, aes(x='Date', y='Value', color='Variable', group='Variable'))\n",
    "    + geom_line()\n",
    "    + labs(title='Scaled Metrics Over Time for Miami/Fort Lauderdale',\n",
    "           x='Date',\n",
    "           y='Scaled Value')\n",
    "    + theme_538()\n",
    "    + scale_x_datetime(date_breaks='6 months', date_labels='%b %Y')\n",
    "    + theme(axis_text_x=element_text(rotation=45, hjust=1))\n",
    "    )\n",
    "\n",
    "plot"
   ]
  },
  {
   "cell_type": "code",
   "execution_count": null,
   "metadata": {},
   "outputs": [],
   "source": [
    "# Filter the dataframe for 'Miami/Fort Lauderdale'\n",
    "NY_data = combined_data[combined_data['Hub Portuario'] == 'Newark/New York']\n",
    "\n",
    "# Define the variables to scale and plot\n",
    "variables_to_plot = [\n",
    "    'Loaded Imports', #'Empty Imports', #'Total TEUs', 'Total Imports', 'Total Exports', # 'Empty Exports', 'Loaded Exports', \n",
    "    'Count of Event_Cocaine', #'Sum Qty (lbs)_Cocaine'\n",
    "]\n",
    "\n",
    "# Apply MinMaxScaler to the specified columns\n",
    "scaler = MinMaxScaler()\n",
    "NY_data_scaled = NY_data.copy()\n",
    "NY_data_scaled[variables_to_plot] = scaler.fit_transform(NY_data[variables_to_plot])\n",
    "\n",
    "# Melt the dataframe to long format\n",
    "NY_data_melted = NY_data_scaled.melt(id_vars=['Date'], value_vars=variables_to_plot, var_name='Variable', value_name='Value')\n",
    "\n",
    "# Create the plot\n",
    "plot = (ggplot(NY_data_melted, aes(x='Date', y='Value', color='Variable', group='Variable'))\n",
    "    + geom_line()\n",
    "    + labs(title='Scaled Metrics Over Time for Newark/New York',\n",
    "           x='Date',\n",
    "           y='Scaled Value')\n",
    "    + theme_538()\n",
    "    + scale_x_datetime(date_breaks='6 months', date_labels='%b %Y')\n",
    "    + theme(axis_text_x=element_text(rotation=45, hjust=1)))\n",
    "\n",
    "plot"
   ]
  },
  {
   "cell_type": "markdown",
   "metadata": {},
   "source": [
    "Probar con otra variable de droga:"
   ]
  },
  {
   "cell_type": "code",
   "execution_count": null,
   "metadata": {},
   "outputs": [],
   "source": [
    "# Filter the dataframe for 'Miami/Fort Lauderdale'\n",
    "miami_data = combined_data[combined_data['Hub Portuario'] == 'Miami/Fort Lauderdale']\n",
    "\n",
    "# Define the variables to scale and plot\n",
    "variables_to_plot = [\n",
    "    'Loaded Imports', #'Empty Imports', #'Total TEUs', 'Total Imports', 'Total Exports', # 'Empty Exports', 'Loaded Exports', \n",
    "    'Count of Event_Marijuana', #'Sum Qty (lbs)_Cocaine'\n",
    "]\n",
    "\n",
    "# Apply MinMaxScaler to the specified columns\n",
    "scaler = MinMaxScaler()\n",
    "miami_data_scaled = miami_data.copy()\n",
    "miami_data_scaled[variables_to_plot] = scaler.fit_transform(miami_data[variables_to_plot])\n",
    "\n",
    "# Melt the dataframe to long format\n",
    "miami_data_melted = miami_data_scaled.melt(id_vars=['Date'], value_vars=variables_to_plot, var_name='Variable', value_name='Value')\n",
    "\n",
    "# Create the plot\n",
    "plot = (ggplot(miami_data_melted, aes(x='Date', y='Value', color='Variable', group='Variable'))\n",
    "    + geom_line()\n",
    "    + labs(title='Scaled Metrics Over Time for Miami/Fort Lauderdale',\n",
    "           x='Date',\n",
    "           y='Scaled Value')\n",
    "    + theme_538()\n",
    "    + scale_x_datetime(date_breaks='6 months', date_labels='%b %Y')\n",
    "    + theme(axis_text_x=element_text(rotation=45, hjust=1)))\n",
    "\n",
    "plot"
   ]
  },
  {
   "cell_type": "code",
   "execution_count": null,
   "metadata": {},
   "outputs": [],
   "source": [
    "# Filter the dataframe for 'Miami/Fort Lauderdale'\n",
    "miami_data = combined_data[combined_data['Hub Portuario'] == 'Miami/Fort Lauderdale']\n",
    "\n",
    "# Define the variables to scale and plot\n",
    "variables_to_plot = [\n",
    "    'Loaded Imports', #'Empty Imports', #'Total TEUs', 'Total Imports', 'Total Exports', # 'Empty Exports', 'Loaded Exports', \n",
    "    'Count of Event_Other Drugs**', #'Sum Qty (lbs)_Cocaine'\n",
    "]\n",
    "\n",
    "# Apply MinMaxScaler to the specified columns\n",
    "scaler = MinMaxScaler()\n",
    "miami_data_scaled = miami_data.copy()\n",
    "miami_data_scaled[variables_to_plot] = scaler.fit_transform(miami_data[variables_to_plot])\n",
    "\n",
    "# Melt the dataframe to long format\n",
    "miami_data_melted = miami_data_scaled.melt(id_vars=['Date'], value_vars=variables_to_plot, var_name='Variable', value_name='Value')\n",
    "\n",
    "# Create the plot\n",
    "plot = (ggplot(miami_data_melted, aes(x='Date', y='Value', color='Variable', group='Variable'))\n",
    "    + geom_line()\n",
    "    + labs(title='Scaled Metrics Over Time\\nfor Miami/Fort Lauderdale',\n",
    "           x='Date',\n",
    "           y='Scaled Value')\n",
    "    + theme_538()\n",
    "    + scale_x_datetime(date_breaks='6 months', date_labels='%b %Y')\n",
    "    + theme(axis_text_x=element_text(rotation=45, hjust=1)))\n",
    "\n",
    "plot"
   ]
  },
  {
   "cell_type": "code",
   "execution_count": null,
   "metadata": {},
   "outputs": [],
   "source": [
    "# Filter the dataframe for 'Miami/Fort Lauderdale'\n",
    "miami_data = standardized_data[standardized_data['Hub Portuario'] == 2.0]\n",
    "\n",
    "# Define the variables to plot\n",
    "variables_to_plot = [\n",
    "    'Loaded Imports', 'Empty Imports', 'Total TEUs', 'Total Imports', #'Total Exports', 'Empty Exports','Loaded Exports',\n",
    "    'Sum Qty (lbs)_Cocaine'\n",
    "]\n",
    "\n",
    "# Melt the dataframe to long format\n",
    "miami_data_melted = miami_data.melt(id_vars=['Date'], value_vars=variables_to_plot, var_name='Variable', value_name='Value')\n",
    "\n",
    "# Create the plot\n",
    "plot = (ggplot(miami_data_melted, aes(x='Date', y='Value', color='Variable', group='Variable'))\n",
    "    + geom_line()\n",
    "    + labs(title='Various Metrics on Cocaine Over Time\\nfor Miami/Fort Lauderdale',\n",
    "           x='Date',\n",
    "           y='Value')\n",
    "    + theme_538())\n",
    "\n",
    "plot"
   ]
  },
  {
   "cell_type": "markdown",
   "metadata": {},
   "source": [
    "Tratar ese outlier de 'Sum Cocaine'!"
   ]
  },
  {
   "cell_type": "code",
   "execution_count": null,
   "metadata": {},
   "outputs": [],
   "source": [
    "# Filter the dataframe for 'Miami/Fort Lauderdale'\n",
    "miami_data = standardized_data[standardized_data['Hub Portuario'] == 2.0]\n",
    "\n",
    "# Define the variables to plot\n",
    "variables_to_plot = [\n",
    "    'Loaded Imports', 'Empty Imports', 'Total TEUs', 'Total Imports', #'Total Exports', 'Empty Exports','Loaded Exports',\n",
    "    'Sum Qty (lbs)_Marijuana'\n",
    "]\n",
    "\n",
    "# Melt the dataframe to long format\n",
    "miami_data_melted = miami_data.melt(id_vars=['Date'], value_vars=variables_to_plot, var_name='Variable', value_name='Value')\n",
    "\n",
    "# Create the plot\n",
    "plot = (ggplot(miami_data_melted, aes(x='Date', y='Value', color='Variable', group='Variable'))\n",
    "    + geom_line()\n",
    "    + labs(title='Various Metrics on Marijuana Over Time\\nfor Miami/Fort Lauderdale',\n",
    "           x='Date',\n",
    "           y='Value')\n",
    "    + theme_538())\n",
    "\n",
    "plot"
   ]
  },
  {
   "cell_type": "code",
   "execution_count": null,
   "metadata": {},
   "outputs": [],
   "source": [
    "# Filter the dataframe for 'Miami/Fort Lauderdale'\n",
    "miami_data = standardized_data[standardized_data['Hub Portuario'] == 2.0]\n",
    "\n",
    "# Define the variables to plot\n",
    "variables_to_plot = [\n",
    "    'Loaded Imports', 'Empty Imports', 'Total TEUs', 'Total Imports', #'Total Exports', 'Empty Exports','Loaded Exports',\n",
    "    'Sum Qty (lbs)_Other Drugs**'\n",
    "]\n",
    "\n",
    "# Melt the dataframe to long format\n",
    "miami_data_melted = miami_data.melt(id_vars=['Date'], value_vars=variables_to_plot, var_name='Variable', value_name='Value')\n",
    "\n",
    "# Create the plot\n",
    "plot = (ggplot(miami_data_melted, aes(x='Date', y='Value', color='Variable', group='Variable'))\n",
    "    + geom_line()\n",
    "    + labs(title='Various Metrics on Other Drugs Over Time\\nfor Miami/Fort Lauderdale',\n",
    "           x='Date',\n",
    "           y='Value')\n",
    "    + theme_538())\n",
    "\n",
    "plot"
   ]
  },
  {
   "cell_type": "markdown",
   "metadata": {},
   "source": [
    "Realizar estudio para puerto de Nueva York y Los Angeles"
   ]
  },
  {
   "cell_type": "code",
   "execution_count": null,
   "metadata": {},
   "outputs": [],
   "source": [
    "# Filter the dataframe for 'Miami/Fort Lauderdale'\n",
    "miami_data = combined_data[combined_data['Hub Portuario'] == 'Oakland']\n",
    "\n",
    "# Define the variables to scale and plot\n",
    "variables_to_plot = [\n",
    "    'Loaded Imports', #'Empty Imports', #'Total TEUs', 'Total Imports', 'Total Exports', # 'Empty Exports', 'Loaded Exports', \n",
    "    'Count of Event_Other Drugs**', #'Sum Qty (lbs)_Cocaine'\n",
    "]\n",
    "\n",
    "# Apply MinMaxScaler to the specified columns\n",
    "scaler = MinMaxScaler()\n",
    "miami_data_scaled = miami_data.copy()\n",
    "miami_data_scaled[variables_to_plot] = scaler.fit_transform(miami_data[variables_to_plot])\n",
    "\n",
    "# Melt the dataframe to long format\n",
    "miami_data_melted = miami_data_scaled.melt(id_vars=['Date'], value_vars=variables_to_plot, var_name='Variable', value_name='Value')\n",
    "\n",
    "# Create the plot\n",
    "plot = (ggplot(miami_data_melted, aes(x='Date', y='Value', color='Variable', group='Variable'))\n",
    "    + geom_line()\n",
    "    + labs(title='Scaled Metrics Over Time for Oakland',\n",
    "           x='Date',\n",
    "           y='Scaled Value')\n",
    "    + theme_538()\n",
    "    + scale_x_datetime(date_breaks='6 months', date_labels='%b %Y')\n",
    "    + theme(axis_text_x=element_text(rotation=45, hjust=1)))\n",
    "\n",
    "plot"
   ]
  },
  {
   "cell_type": "markdown",
   "metadata": {},
   "source": [
    "### Histogramas\n",
    "- Para variables"
   ]
  },
  {
   "cell_type": "code",
   "execution_count": null,
   "metadata": {},
   "outputs": [],
   "source": [
    "import matplotlib.pyplot as plt\n",
    "\n",
    "# Filter the dataframe for 'Miami/Fort Lauderdale'\n",
    "miami_data = standardized_data[standardized_data['Hub Portuario'] == 2.0]\n",
    "\n",
    "# Plot the histogram for 'Sum_of_Counts'\n",
    "plt.figure(figsize=(10, 6))\n",
    "plt.hist(miami_data['Sum_of_Counts'], bins=30, edgecolor='black')\n",
    "plt.title('Histogram of Sum_of_Counts for Miami/Fort Lauderdale')\n",
    "plt.xlabel('Sum_of_Counts')\n",
    "plt.ylabel('Frequency')\n",
    "plt.grid(True)\n",
    "plt.show()"
   ]
  },
  {
   "cell_type": "code",
   "execution_count": null,
   "metadata": {},
   "outputs": [],
   "source": [
    "import matplotlib.pyplot as plt\n",
    "\n",
    "# Filter the dataframe for 'Miami/Fort Lauderdale'\n",
    "ny_data = standardized_data[standardized_data['Hub Portuario'] == 3.0]\n",
    "\n",
    "# Plot the histogram for 'Sum_of_Counts'\n",
    "plt.figure(figsize=(10, 6))\n",
    "plt.hist(ny_data['Sum_of_Counts'], bins=30, edgecolor='black')\n",
    "plt.title('Histogram of Sum_of_Counts for Newark/New York')\n",
    "plt.xlabel('Sum_of_Counts')\n",
    "plt.ylabel('Frequency')\n",
    "plt.grid(True)\n",
    "plt.show()"
   ]
  },
  {
   "cell_type": "code",
   "execution_count": null,
   "metadata": {},
   "outputs": [],
   "source": [
    "import matplotlib.pyplot as plt\n",
    "\n",
    "# Filter the dataframe for 'Miami/Fort Lauderdale'\n",
    "LA_data = standardized_data[standardized_data['Hub Portuario'] == 1.0]\n",
    "\n",
    "# Plot the histogram for 'Sum_of_Counts'\n",
    "plt.figure(figsize=(10, 6))\n",
    "plt.hist(LA_data['Sum_of_Counts'], bins=30, edgecolor='black')\n",
    "plt.title('Histogram of Sum_of_Counts for Greater Los Angeles')\n",
    "plt.xlabel('Sum_of_Counts')\n",
    "plt.ylabel('Frequency')\n",
    "plt.grid(True)\n",
    "plt.show()"
   ]
  },
  {
   "cell_type": "code",
   "execution_count": null,
   "metadata": {},
   "outputs": [],
   "source": [
    "ny_data = standardized_data[standardized_data['Hub Portuario'] == 2.0]\n",
    "\n",
    "# Plot the histogram for 'Sum_of_Counts'\n",
    "plt.figure(figsize=(10, 6))\n",
    "plt.hist(miami_data['Total TEUs'], bins=30, edgecolor='black')\n",
    "plt.title('Histogram of Total TEUs for Miami/Fort Lauderdale')\n",
    "plt.xlabel('Sum_of_Counts')\n",
    "plt.ylabel('Frequency')\n",
    "plt.grid(True)\n",
    "plt.show()"
   ]
  },
  {
   "cell_type": "code",
   "execution_count": null,
   "metadata": {},
   "outputs": [],
   "source": [
    "NY_data = standardized_data[standardized_data['Hub Portuario'] == 3.0]\n",
    "\n",
    "# Plot the histogram for 'Sum_of_Counts'\n",
    "plt.figure(figsize=(10, 6))\n",
    "plt.hist(NY_data['Total TEUs'], bins=30, edgecolor='black')\n",
    "plt.title('Histogram of Total TEUs for Newark/New York')\n",
    "plt.xlabel('Sum_of_Counts')\n",
    "plt.ylabel('Frequency')\n",
    "plt.grid(True)\n",
    "plt.show()"
   ]
  },
  {
   "cell_type": "code",
   "execution_count": null,
   "metadata": {},
   "outputs": [],
   "source": [
    "LA_data = standardized_data[standardized_data['Hub Portuario'] == 1.0]\n",
    "\n",
    "# Plot the histogram for 'Sum_of_Counts'\n",
    "plt.figure(figsize=(10, 6))\n",
    "plt.hist(LA_data['Total TEUs'], bins=30, edgecolor='black')\n",
    "plt.title('Histogram of Total TEUs for Greater Los Angeles')\n",
    "plt.xlabel('Sum_of_Counts')\n",
    "plt.ylabel('Frequency')\n",
    "plt.grid(True)\n",
    "plt.show()"
   ]
  },
  {
   "cell_type": "markdown",
   "metadata": {},
   "source": [
    "Hallar relacion entre variables 'Count of Event' con 'Sum Qty '"
   ]
  },
  {
   "cell_type": "code",
   "execution_count": null,
   "metadata": {},
   "outputs": [],
   "source": [
    "standardized_data.head()"
   ]
  },
  {
   "cell_type": "code",
   "execution_count": null,
   "metadata": {},
   "outputs": [],
   "source": [
    "# Define the variables to plot\n",
    "plot = (ggplot(standardized_data, aes(x='Count of Event_Cocaine', y='Sum Qty (lbs)_Cocaine', color='Hub Portuario_name'))\n",
    "    + geom_point()\n",
    "    + labs(title='Count of Event vs Sum Qty (lbs)\\nof Cocaine by Hub Portuario',\n",
    "           x='Count of Event Cocaine',\n",
    "           y='Sum Qty (lbs) Cocaine')\n",
    "    + theme_538()\n",
    "    + scale_color_manual(values=['#1f77b4', '#ff7f0e', '#2ca02c', '#d62728', '#9467bd', '#8c564b'])\n",
    "    )\n",
    "plot\n"
   ]
  },
  {
   "cell_type": "code",
   "execution_count": null,
   "metadata": {},
   "outputs": [],
   "source": [
    "# Create the plot\n",
    "plot = (ggplot(standardized_data, aes(x='Count of Event_Heroin', y='Sum Qty (lbs)_Heroin', color='Hub Portuario_name'))\n",
    "    + geom_point()\n",
    "    + labs(title='Count of Event vs Sum Qty (lbs)\\nof Heroin by Hub Portuario',\n",
    "           x='Count of Event Heroin',\n",
    "           y='Sum Qty (lbs) Heroin')\n",
    "    + theme_538()\n",
    "    )\n",
    "\n",
    "plot"
   ]
  },
  {
   "cell_type": "code",
   "execution_count": null,
   "metadata": {},
   "outputs": [],
   "source": [
    "# Filter the dataframe for 'Count of Event_Cocaine' and 'Sum Qty (lbs)_Cocaine' variables\n",
    "# Create the plot\n",
    "plot = (ggplot(standardized_data, aes(x='Count of Event_Marijuana', y='Sum Qty (lbs)_Marijuana', color='Hub Portuario_name'))\n",
    "    + geom_point()\n",
    "    + labs(title='Count of Event vs Sum Qty (lbs)\\nof Marijuana by Hub Portuario',\n",
    "           x='Count of Event Marijuana',\n",
    "           y='Sum Qty (lbs) Marijuana')\n",
    "    + theme_538()\n",
    "    )\n",
    "\n",
    "plot"
   ]
  },
  {
   "cell_type": "code",
   "execution_count": null,
   "metadata": {},
   "outputs": [],
   "source": [
    "# Filter the dataframe for 'Count of Event_Cocaine' and 'Sum Qty (lbs)_Cocaine' variables\n",
    "# Create the plot\n",
    "plot = (ggplot(standardized_data, aes(x='Count of Event_Other Drugs**', y='Sum Qty (lbs)_Other Drugs**', color='Hub Portuario_name'))\n",
    "    + geom_point()\n",
    "    + labs(title='Count of Event vs Sum Qty (lbs)\\nof Other Drugs** by Hub Portuario',\n",
    "           x='Count of Event Other Drugs**',\n",
    "           y='Sum Qty (lbs) Other Drugs**')\n",
    "    + theme_538()\n",
    "    )\n",
    "\n",
    "plot"
   ]
  },
  {
   "cell_type": "markdown",
   "metadata": {},
   "source": [
    "Revisar datos anteriores por puertos: Miami, Los Angeles, New York, Seattle y Oakland"
   ]
  },
  {
   "cell_type": "code",
   "execution_count": null,
   "metadata": {},
   "outputs": [],
   "source": [
    "from plotnine import ggplot, aes, geom_point, labs, theme_538\n",
    "\n",
    "# Filter the dataframe for 'Miami/Fort Lauderdale'\n",
    "miami_data = standardized_data[standardized_data['Hub Portuario_name'] == 'Newark/New York']\n",
    "\n",
    "# Create the plot\n",
    "plot = (ggplot(miami_data, aes(x='Count of Event_Heroin', y='Sum Qty (lbs)_Heroin'))\n",
    "    + geom_point()\n",
    "    + labs(title='Count of Event vs Sum Qty (lbs) of Heroin\\nfor Newark/New York',\n",
    "           x='Count of Event Heroin',\n",
    "           y='Sum Qty (lbs) Heroin')\n",
    "    + theme_538()\n",
    "    )\n",
    "\n",
    "plot"
   ]
  },
  {
   "cell_type": "markdown",
   "metadata": {},
   "source": [
    "StandardScaler para las columnas de ratio:"
   ]
  },
  {
   "cell_type": "markdown",
   "metadata": {},
   "source": [
    "Manejar información con 'Ratio_' variables:"
   ]
  },
  {
   "cell_type": "code",
   "execution_count": null,
   "metadata": {},
   "outputs": [],
   "source": [
    "from plotnine import ggplot, aes, geom_point, labs, theme_538\n",
    "\n",
    "# Create the plot\n",
    "plot = (ggplot(standardized_data, aes(x='Total Imports', y='Ratio_Cocaine', color='Hub Portuario'))\n",
    "    + geom_point()\n",
    "    + labs(title='Ratio of Cocaine to Total Imports by Hub Portuario',\n",
    "           x='Total Imports',\n",
    "           y='Normalized Ratio of Cocaine')\n",
    "    + theme_538()\n",
    "    )\n",
    "\n",
    "plot"
   ]
  },
  {
   "cell_type": "code",
   "execution_count": null,
   "metadata": {},
   "outputs": [],
   "source": [
    "# Create the plot\n",
    "plot = (ggplot(standardized_data, aes(x='Total Imports', y='Ratio_Marijuana', color='Hub Portuario'))\n",
    "    + geom_point()\n",
    "    + labs(title='Ratio of Marijuana to Total Imports by Hub Portuario',\n",
    "           x='Total Imports',\n",
    "           y='Normalized Ratio of Marijuana')\n",
    "    + theme_538()\n",
    "    )\n",
    "\n",
    "plot"
   ]
  },
  {
   "cell_type": "markdown",
   "metadata": {},
   "source": [
    "Representacion de ratios con contenedores como series temporales:"
   ]
  },
  {
   "cell_type": "code",
   "execution_count": null,
   "metadata": {},
   "outputs": [],
   "source": [
    "# Filter the dataframe for 'Miami/Fort Lauderdale'\n",
    "miami_data = standardized_data[standardized_data['Hub Portuario'] == 2]\n",
    "\n",
    "# Define the variables to plot\n",
    "variables_to_plot = ['Ratio_Marijuana', 'Total Imports']\n",
    "\n",
    "# Melt the dataframe to long format\n",
    "miami_data_melted = miami_data.melt(id_vars=['Date'], value_vars=variables_to_plot, var_name='Variable', value_name='Value')\n",
    "\n",
    "# Create the plot\n",
    "plot = (ggplot(miami_data_melted, aes(x='Date', y='Value', color='Variable', group='Variable'))\n",
    "    + geom_line()\n",
    "    + labs(title='Ratio of Marijuana and Total Imports\\nOver Time for Miami/Fort Lauderdale',\n",
    "           x='Date',\n",
    "           y='Value')\n",
    "    + theme_538()\n",
    "    + scale_x_datetime(date_breaks='6 months', date_labels='%b %Y')\n",
    "    + theme(axis_text_x=element_text(rotation=45, hjust=1)))\n",
    "\n",
    "plot"
   ]
  },
  {
   "cell_type": "code",
   "execution_count": null,
   "metadata": {},
   "outputs": [],
   "source": [
    "# Filter the dataframe for 'Miami/Fort Lauderdale'\n",
    "miami_data = combined_data[combined_data['Hub Portuario'] == 'Miami/Fort Lauderdale']\n",
    "\n",
    "# Define the variables to scale and plot\n",
    "variables_to_plot = ['Ratio_Marijuana', 'Total Imports']\n",
    "\n",
    "# Apply MinMaxScaler to the specified columns\n",
    "scaler = MinMaxScaler()\n",
    "miami_data_scaled = miami_data.copy()\n",
    "miami_data_scaled[variables_to_plot] = scaler.fit_transform(miami_data[variables_to_plot])\n",
    "\n",
    "# Melt the dataframe to long format\n",
    "miami_data_melted = miami_data_scaled.melt(id_vars=['Date'], value_vars=variables_to_plot, var_name='Variable', value_name='Value')\n",
    "\n",
    "# Create the plot\n",
    "plot = (ggplot(miami_data_melted, aes(x='Date', y='Value', color='Variable', group='Variable'))\n",
    "    + geom_line()\n",
    "    + labs(title='Scaled Metrics Over Time for Miami/Fort Lauderdale',\n",
    "           x='Date',\n",
    "           y='Scaled Value')\n",
    "    + theme_538()\n",
    "    + scale_x_datetime(date_breaks='6 months', date_labels='%b %Y')\n",
    "    + theme(axis_text_x=element_text(rotation=45, hjust=1)))\n",
    "\n",
    "plot"
   ]
  },
  {
   "cell_type": "code",
   "execution_count": null,
   "metadata": {},
   "outputs": [],
   "source": [
    "# Filter the dataframe for 'Miami/Fort Lauderdale'\n",
    "miami_data = combined_data[combined_data['Hub Portuario'] == 'Miami/Fort Lauderdale']\n",
    "\n",
    "# Define the variables to scale and plot\n",
    "variables_to_plot = ['Ratio_Ecstasy', 'Total Imports']\n",
    "\n",
    "# Apply MinMaxScaler to the specified columns\n",
    "scaler = MinMaxScaler()\n",
    "miami_data_scaled = miami_data.copy()\n",
    "miami_data_scaled[variables_to_plot] = scaler.fit_transform(miami_data[variables_to_plot])\n",
    "\n",
    "# Melt the dataframe to long format\n",
    "miami_data_melted = miami_data_scaled.melt(id_vars=['Date'], value_vars=variables_to_plot, var_name='Variable', value_name='Value')\n",
    "\n",
    "# Create the plot\n",
    "plot = (ggplot(miami_data_melted, aes(x='Date', y='Value', color='Variable', group='Variable'))\n",
    "    + geom_line()\n",
    "    + labs(title='Scaled Metrics Over Time for Miami/Fort Lauderdale',\n",
    "           x='Date',\n",
    "           y='Scaled Value')\n",
    "    + theme_538()\n",
    "    + scale_x_datetime(date_breaks='6 months', date_labels='%b %Y')\n",
    "    + theme(axis_text_x=element_text(rotation=45, hjust=1)))\n",
    "\n",
    "plot"
   ]
  },
  {
   "cell_type": "code",
   "execution_count": null,
   "metadata": {},
   "outputs": [],
   "source": [
    "# Filter the dataframe for 'Miami/Fort Lauderdale'\n",
    "miami_data = combined_data[combined_data['Hub Portuario'] == 'Miami/Fort Lauderdale']\n",
    "\n",
    "# Define the variables to scale and plot\n",
    "variables_to_plot = ['Ratio_Other Drugs**', 'Total Imports']\n",
    "\n",
    "# Apply MinMaxScaler to the specified columns\n",
    "scaler = MinMaxScaler()\n",
    "miami_data_scaled = miami_data.copy()\n",
    "miami_data_scaled[variables_to_plot] = scaler.fit_transform(miami_data[variables_to_plot])\n",
    "\n",
    "# Melt the dataframe to long format\n",
    "miami_data_melted = miami_data_scaled.melt(id_vars=['Date'], value_vars=variables_to_plot, var_name='Variable', value_name='Value')\n",
    "\n",
    "# Create the plot\n",
    "plot = (ggplot(miami_data_melted, aes(x='Date', y='Value', color='Variable', group='Variable'))\n",
    "    + geom_line()\n",
    "    + labs(title='Scaled Metrics Over Time for Miami/Fort Lauderdale',\n",
    "           x='Date',\n",
    "           y='Scaled Value')\n",
    "    + theme_538()\n",
    "    + scale_x_datetime(date_breaks='6 months', date_labels='%b %Y')\n",
    "    + theme(axis_text_x=element_text(rotation=45, hjust=1)))\n",
    "\n",
    "plot"
   ]
  },
  {
   "cell_type": "markdown",
   "metadata": {},
   "source": [
    "Estudio por Droga para cada Puerto. Datos escalados:"
   ]
  },
  {
   "cell_type": "code",
   "execution_count": null,
   "metadata": {},
   "outputs": [],
   "source": [
    "plot = (ggplot(standardized_data, aes(x='Date', y='Count of Event_Other Drugs**', group='Hub Portuario', color='Hub Portuario'))\n",
    "    + geom_line()\n",
    "    + labs(title='Count of Event Other Drugs \\nOver Time by Hub Portuario',\n",
    "           x='Date',\n",
    "           y='Normalized Count of Event Other Drugs')\n",
    "    + theme_538()\n",
    "    + scale_x_datetime(date_breaks='6 months', date_labels='%b %Y')\n",
    "    + theme(axis_text_x=element_text(rotation=45, hjust=1))\n",
    "    )\n",
    "\n",
    "plot"
   ]
  },
  {
   "cell_type": "code",
   "execution_count": null,
   "metadata": {},
   "outputs": [],
   "source": [
    "plot = (ggplot(standardized_data, aes(x='Date', y='Count of Event_Cocaine', group='Hub Portuario', color='Hub Portuario'))\n",
    "    + geom_line()\n",
    "    + labs(title='Count of Event Cocaine \\nOver Time by Hub Portuario',\n",
    "           x='Date',\n",
    "           y='Normalized Count of Event Cocaine')\n",
    "    + theme_538()\n",
    "    + scale_x_datetime(date_breaks='6 months', date_labels='%b %Y')\n",
    "    + theme(axis_text_x=element_text(rotation=45, hjust=1))\n",
    "    )\n",
    "\n",
    "plot"
   ]
  },
  {
   "cell_type": "code",
   "execution_count": null,
   "metadata": {},
   "outputs": [],
   "source": [
    "plot = (ggplot(standardized_data, aes(x='Date', y='Count of Event_Marijuana', group='Hub Portuario', color='Hub Portuario'))\n",
    "    + geom_line()\n",
    "    + labs(title='Count of Event Marijuana \\nOver Time by Hub Portuario',\n",
    "           x='Date',\n",
    "           y='Normalized Count of Event Marijuana')\n",
    "    + theme_538()\n",
    "    + scale_x_datetime(date_breaks='6 months', date_labels='%b %Y')\n",
    "    + theme(axis_text_x=element_text(rotation=45, hjust=1))\n",
    "    )\n",
    "\n",
    "plot"
   ]
  },
  {
   "cell_type": "code",
   "execution_count": null,
   "metadata": {},
   "outputs": [],
   "source": [
    "plot = (ggplot(combined_data, aes(x='Date', y='Sum Qty (lbs)_Marijuana', group='Hub Portuario', color='Hub Portuario'))\n",
    "    + geom_line()\n",
    "    + labs(title='Sum Qty (lbs) Marijuana \\nOver Time by Hub Portuario',\n",
    "           x='Date',\n",
    "           y='Sum Qty (lbs) Marijuana')\n",
    "    + theme_538()\n",
    "    + scale_x_datetime(date_breaks='6 months', date_labels='%b %Y')\n",
    "    + theme(axis_text_x=element_text(rotation=45, hjust=1))\n",
    "    )\n",
    "\n",
    "plot"
   ]
  },
  {
   "cell_type": "code",
   "execution_count": null,
   "metadata": {},
   "outputs": [],
   "source": [
    "plot = (ggplot(combined_data, aes(x='Date', y='Sum Qty (lbs)_Cocaine', group='Hub Portuario', color='Hub Portuario'))\n",
    "    + geom_line()\n",
    "    + labs(title='Sum Qty (lbs) Cocaine \\nOver Time by Hub Portuario',\n",
    "           x='Date',\n",
    "           y='Sum Qty (lbs) Cocaine')\n",
    "    + theme_538()\n",
    "    + scale_x_datetime(date_breaks='6 months', date_labels='%b %Y')\n",
    "    + theme(axis_text_x=element_text(rotation=45, hjust=1))\n",
    "    )\n",
    "\n",
    "plot"
   ]
  },
  {
   "cell_type": "code",
   "execution_count": null,
   "metadata": {},
   "outputs": [],
   "source": [
    "plot = (ggplot(combined_data, aes(x='Date', y='Sum Qty (lbs)_Other Drugs**', group='Hub Portuario', color='Hub Portuario'))\n",
    "    + geom_line()\n",
    "    + labs(title='Sum Qty (lbs) Other Drugs** \\nOver Time by Hub Portuario',\n",
    "           x='Date',\n",
    "           y='Sum Qty (lbs) Other Drugs**')\n",
    "    + theme_538()\n",
    "    + scale_x_datetime(date_breaks='6 months', date_labels='%b %Y')\n",
    "    + theme(axis_text_x=element_text(rotation=45, hjust=1))\n",
    "    )\n",
    "\n",
    "plot"
   ]
  },
  {
   "cell_type": "markdown",
   "metadata": {},
   "source": [
    "Serie temporal para ratios:"
   ]
  },
  {
   "cell_type": "code",
   "execution_count": null,
   "metadata": {},
   "outputs": [],
   "source": [
    "plot = (ggplot(standardized_data, aes(x='Date', y='Ratio_Cocaine', group='Hub Portuario', color='Hub Portuario_name'))\n",
    "    + geom_line()\n",
    "    + labs(title='Standardized Ratio_Cocaine \\nOver Time by Hub Portuario',\n",
    "           x='Date',\n",
    "           y='Normalized Ratio_Cocaine')\n",
    "    + theme_538()\n",
    "    + scale_x_datetime(date_breaks='6 months', date_labels='%b %Y')\n",
    "    + theme(axis_text_x=element_text(rotation=45, hjust=1))\n",
    "    )\n",
    "\n",
    "plot"
   ]
  },
  {
   "cell_type": "code",
   "execution_count": null,
   "metadata": {},
   "outputs": [],
   "source": [
    "plot = (ggplot(standardized_data, aes(x='Date', y='Ratio_Marijuana', group='Hub Portuario', color='Hub Portuario_name'))\n",
    "    + geom_line()\n",
    "    + labs(title='Standardized Ratio_Marijuana \\nOver Time by Hub Portuario',\n",
    "           x='Date',\n",
    "           y='Normalized Ratio_Marijuana')\n",
    "    + theme_538()\n",
    "    + scale_x_datetime(date_breaks='6 months', date_labels='%b %Y')\n",
    "    + theme(axis_text_x=element_text(rotation=45, hjust=1))\n",
    "    )\n",
    "\n",
    "plot"
   ]
  },
  {
   "cell_type": "code",
   "execution_count": null,
   "metadata": {},
   "outputs": [],
   "source": [
    "plot = (ggplot(standardized_data, aes(x='Date', y='Ratio_Other Drugs**', group='Hub Portuario', color='Hub Portuario_name'))\n",
    "    + geom_line()\n",
    "    + labs(title='Standardized Ratio_Other Drugs \\nOver Time by Hub Portuario',\n",
    "           x='Date',\n",
    "           y='Normalized Ratio_Other Drugs')\n",
    "    + theme_538()\n",
    "    + scale_x_datetime(date_breaks='6 months', date_labels='%b %Y')\n",
    "    + theme(axis_text_x=element_text(rotation=45, hjust=1))\n",
    "    )\n",
    "\n",
    "plot"
   ]
  },
  {
   "cell_type": "markdown",
   "metadata": {},
   "source": [
    "Dado un puerto, numero de eventos por droga:"
   ]
  },
  {
   "cell_type": "markdown",
   "metadata": {},
   "source": [
    "Hallar matriz de correlaciones (entre datos de contenedores y datos de incautaciones)"
   ]
  },
  {
   "cell_type": "code",
   "execution_count": null,
   "metadata": {},
   "outputs": [],
   "source": [
    "import seaborn as sns\n",
    "import matplotlib.pyplot as plt\n",
    "\n",
    "# List of unique hub portuarios\n",
    "hub_portuarios = standardized_data['Hub Portuario'].unique()\n",
    "\n",
    "# Columns to evaluate\n",
    "container_columns = ['Empty Exports', 'Loaded Exports', 'Empty Imports', 'Loaded Imports',\n",
    "                     'Total TEUs', 'Total Imports', 'Total Exports']\n",
    "event_columns = ['Count of Event_Cocaine', 'Count of Event_Ecstasy', 'Count of Event_Fentanyl', \n",
    "                 'Count of Event_Heroin', 'Count of Event_Ketamine', 'Count of Event_Khat (Catha Edulis)', \n",
    "                 'Count of Event_Lsd', 'Count of Event_Marijuana', 'Count of Event_Methamphetamine', \n",
    "                 'Count of Event_Other Drugs**', 'Sum Qty (lbs)_Cocaine', 'Sum Qty (lbs)_Ecstasy', \n",
    "                 'Sum Qty (lbs)_Fentanyl', 'Sum Qty (lbs)_Heroin', 'Sum Qty (lbs)_Ketamine', \n",
    "                 'Sum Qty (lbs)_Khat (Catha Edulis)', 'Sum Qty (lbs)_Lsd', 'Sum Qty (lbs)_Marijuana', \n",
    "                 'Sum Qty (lbs)_Methamphetamine', 'Sum Qty (lbs)_Other Drugs**', 'Sum_of_Counts', \n",
    "                 'Ratio_Cocaine', 'Ratio_Ecstasy', 'Ratio_Fentanyl', 'Ratio_Heroin', 'Ratio_Ketamine', \n",
    "                 'Ratio_Khat (Catha Edulis)', 'Ratio_Lsd', 'Ratio_Marijuana', 'Ratio_Methamphetamine', \n",
    "                 'Ratio_Other Drugs**']\n",
    "\n",
    "# Plot correlogram for each hub portuario\n",
    "for hub in hub_portuarios:\n",
    "    hub_data = standardized_data[standardized_data['Hub Portuario'] == hub]\n",
    "    \n",
    "    # Select only the relevant columns\n",
    "    hub_data_selected = hub_data[container_columns + event_columns]\n",
    "    \n",
    "    # Create the correlation matrix\n",
    "    corr_matrix = abs(hub_data_selected.corr())\n",
    "    \n",
    "    # Plot the heatmap\n",
    "    plt.figure(figsize=(10, 5))\n",
    "    ax = sns.heatmap(corr_matrix.iloc[:7, 7:], annot=True, fmt='.2f', cmap='coolwarm', cbar=True)\n",
    "    \n",
    "    # Add vertical lines to split sections\n",
    "    ax.axvline(x=10, color='black', linewidth=2)  # Split 'Count of Event_Other Drugs**' from 'Sum Qty (lbs)_Cocaine'\n",
    "    ax.axvline(x=21, color='black', linewidth=2)  # Split 'Sum_of_Counts' from 'Ratio_Cocaine'\n",
    "    \n",
    "    plt.title(f'Correlation Matrix for {hub_portuario_mapping[hub]}')\n",
    "    plt.show()"
   ]
  },
  {
   "cell_type": "markdown",
   "metadata": {},
   "source": [
    "Probar relaciones con 'latitud' y 'longitud'"
   ]
  },
  {
   "cell_type": "code",
   "execution_count": null,
   "metadata": {},
   "outputs": [],
   "source": [
    "import plotly.express as px\n",
    "\n",
    "# Create the bubble map\n",
    "fig = px.scatter_geo(combined_data,\n",
    "                     lat='latitude',\n",
    "                     lon='longitude',\n",
    "                     size='Sum_of_Counts',\n",
    "                     hover_name='Hub Portuario',\n",
    "                     title='Bubble Map of Sum of Counts by Location',\n",
    "                     projection='natural earth')\n",
    "\n",
    "# Center the map to 'United States'\n",
    "fig.update_geos(center=dict(lat=37.0902, lon=-95.7129), scope=\"north america\")\n",
    "\n",
    "# Show the plot\n",
    "fig.show()"
   ]
  },
  {
   "cell_type": "code",
   "execution_count": null,
   "metadata": {},
   "outputs": [],
   "source": [
    "import plotly.express as px\n",
    "\n",
    "# Fill NaN values in 'Count of Event_Cocaine' with 0\n",
    "combined_data['Count of Event_Cocaine'] = combined_data['Count of Event_Cocaine'].fillna(0)\n",
    "\n",
    "# Create the bubble map\n",
    "fig = px.scatter_geo(combined_data,\n",
    "                     lat='latitude',\n",
    "                     lon='longitude',\n",
    "                     size='Count of Event_Cocaine',\n",
    "                     hover_name='Hub Portuario',\n",
    "                     title='Bubble Map of Cocaine Seizures by Location',\n",
    "                     projection='natural earth')\n",
    "\n",
    "# Center the map to 'United States'\n",
    "fig.update_geos(center=dict(lat=37.0902, lon=-95.7129), scope=\"north america\")\n",
    "\n",
    "# Show the plot\n",
    "fig.show()"
   ]
  },
  {
   "cell_type": "code",
   "execution_count": null,
   "metadata": {},
   "outputs": [],
   "source": [
    "# Fill NaN values in 'Count of Event_Cocaine' with 0\n",
    "combined_data['Count of Event_Marijuana'] = combined_data['Count of Event_Marijuana'].fillna(0)\n",
    "\n",
    "# Create the bubble map\n",
    "fig = px.scatter_geo(combined_data,\n",
    "                     lat='latitude',\n",
    "                     lon='longitude',\n",
    "                     size='Count of Event_Marijuana',\n",
    "                     hover_name='Hub Portuario',\n",
    "                     title='Bubble Map of Marijuana Seizures by Location',\n",
    "                     projection='natural earth')\n",
    "\n",
    "# Center the map to 'United States'\n",
    "fig.update_geos(center=dict(lat=37.0902, lon=-95.7129), scope=\"north america\")\n",
    "\n",
    "# Show the plot\n",
    "fig.show()"
   ]
  },
  {
   "cell_type": "code",
   "execution_count": null,
   "metadata": {},
   "outputs": [],
   "source": [
    "# Fill NaN values in 'Count of Event_Cocaine' with 0\n",
    "combined_data['Count of Event_Other Drugs**'] = combined_data['Count of Event_Other Drugs**'].fillna(0)\n",
    "\n",
    "# Create the bubble map\n",
    "fig = px.scatter_geo(combined_data,\n",
    "                     lat='latitude',\n",
    "                     lon='longitude',\n",
    "                     size='Count of Event_Other Drugs**',\n",
    "                     hover_name='Hub Portuario',\n",
    "                     title='Bubble Map of Other Drugs** Seizures by Location',\n",
    "                     projection='natural earth')\n",
    "\n",
    "# Center the map to 'United States'\n",
    "fig.update_geos(center=dict(lat=37.0902, lon=-95.7129), scope=\"north america\")\n",
    "\n",
    "# Show the plot\n",
    "fig.show()"
   ]
  },
  {
   "cell_type": "code",
   "execution_count": null,
   "metadata": {},
   "outputs": [],
   "source": [
    "# Fill NaN values in 'Count of Event_Cocaine' with 0\n",
    "combined_data['Count of Event_Marijuana'] = combined_data['Count of Event_Marijuana'].fillna(0)\n",
    "\n",
    "# Create the bubble map\n",
    "fig = px.scatter_geo(combined_data,\n",
    "                     lat='latitude',\n",
    "                     lon='longitude',\n",
    "                     size=combined_data.groupby('Hub Portuario')['Count of Event_Marijuana'].transform('sum'),\n",
    "                     hover_name='Hub Portuario',\n",
    "                     title='Bubble Map of Sum of Marijuana Seizures by Location',\n",
    "                     projection='natural earth')\n",
    "\n",
    "# Center the map to 'United States'\n",
    "fig.update_geos(center=dict(lat=37.0902, lon=-95.7129), scope=\"north america\")\n",
    "\n",
    "# Show the plot\n",
    "fig.show()"
   ]
  },
  {
   "cell_type": "code",
   "execution_count": null,
   "metadata": {},
   "outputs": [],
   "source": [
    "# Fill NaN values in 'Count of Event_Cocaine' with 0\n",
    "combined_data['Count of Event_Cocaine'] = combined_data['Count of Event_Cocaine'].fillna(0)\n",
    "\n",
    "# Create the bubble map\n",
    "fig = px.scatter_geo(combined_data,\n",
    "                     lat='latitude',\n",
    "                     lon='longitude',\n",
    "                     size=combined_data.groupby('Hub Portuario')['Count of Event_Cocaine'].transform('sum'),\n",
    "                     hover_name='Hub Portuario',\n",
    "                     title='Bubble Map of Sum of Cocaine Seizures by Location',\n",
    "                     projection='natural earth')\n",
    "\n",
    "# Center the map to 'United States'\n",
    "fig.update_geos(center=dict(lat=37.0902, lon=-95.7129), scope=\"north america\")\n",
    "\n",
    "# Show the plot\n",
    "fig.show()"
   ]
  },
  {
   "cell_type": "code",
   "execution_count": null,
   "metadata": {},
   "outputs": [],
   "source": [
    "# Fill NaN values in 'Count of Event_Cocaine' with 0\n",
    "combined_data['Count of Event_Other Drugs**'] = combined_data['Count of Event_Other Drugs**'].fillna(0)\n",
    "\n",
    "# Create the bubble map\n",
    "fig = px.scatter_geo(combined_data,\n",
    "                     lat='latitude',\n",
    "                     lon='longitude',\n",
    "                     size=combined_data.groupby('Hub Portuario')['Count of Event_Other Drugs**'].transform('sum'),\n",
    "                     hover_name='Hub Portuario',\n",
    "                     title='Bubble Map of Sum of Other Drugs** Seizures by Location',\n",
    "                     projection='natural earth')\n",
    "\n",
    "# Center the map to 'United States'\n",
    "fig.update_geos(center=dict(lat=37.0902, lon=-95.7129), scope=\"north america\")\n",
    "\n",
    "# Show the plot\n",
    "fig.show()"
   ]
  },
  {
   "cell_type": "code",
   "execution_count": null,
   "metadata": {},
   "outputs": [],
   "source": [
    "# Fill NaN values in 'Count of Event_Cocaine' with 0\n",
    "combined_data['Total TEUs'] = combined_data['Total TEUs'].fillna(0)\n",
    "\n",
    "# Create the bubble map\n",
    "fig = px.scatter_geo(combined_data,\n",
    "                     lat='latitude',\n",
    "                     lon='longitude',\n",
    "                     size=combined_data.groupby('Hub Portuario')['Total TEUs'].transform('sum'),\n",
    "                     hover_name='Hub Portuario',\n",
    "                     title='Bubble Map of Sum of Total TEUs by Location',\n",
    "                     projection='natural earth')\n",
    "\n",
    "# Center the map to 'United States'\n",
    "fig.update_geos(center=dict(lat=37.0902, lon=-95.7129), scope=\"north america\")\n",
    "\n",
    "# Show the plot\n",
    "fig.show()"
   ]
  },
  {
   "cell_type": "code",
   "execution_count": null,
   "metadata": {},
   "outputs": [],
   "source": [
    "# Fill NaN values in 'Count of Event_Cocaine' with 0\n",
    "combined_data['Total Imports'] = combined_data['Total Imports'].fillna(0)\n",
    "\n",
    "# Create the bubble map\n",
    "fig = px.scatter_geo(combined_data,\n",
    "                     lat='latitude',\n",
    "                     lon='longitude',\n",
    "                     size=combined_data.groupby('Hub Portuario')['Total Imports'].transform('sum'),\n",
    "                     hover_name='Hub Portuario',\n",
    "                     title='Bubble Map of Sum of Total Imports by Location',\n",
    "                     projection='natural earth')\n",
    "\n",
    "# Center the map to 'United States'\n",
    "fig.update_geos(center=dict(lat=37.0902, lon=-95.7129), scope=\"north america\")\n",
    "\n",
    "# Show the plot\n",
    "fig.show()"
   ]
  },
  {
   "cell_type": "code",
   "execution_count": null,
   "metadata": {},
   "outputs": [],
   "source": [
    "# Fill NaN values in 'Count of Event_Cocaine' with 0\n",
    "combined_data['Loaded Imports'] = combined_data['Loaded Imports'].fillna(0)\n",
    "\n",
    "# Create the bubble map\n",
    "fig = px.scatter_geo(combined_data,\n",
    "                     lat='latitude',\n",
    "                     lon='longitude',\n",
    "                     size=combined_data.groupby('Hub Portuario')['Loaded Imports'].transform('sum'),\n",
    "                     hover_name='Hub Portuario',\n",
    "                     title='Bubble Map of Sum of Loaded Imports by Location',\n",
    "                     projection='natural earth')\n",
    "\n",
    "# Center the map to 'United States'\n",
    "fig.update_geos(center=dict(lat=37.0902, lon=-95.7129), scope=\"north america\")\n",
    "\n",
    "# Show the plot\n",
    "fig.show()"
   ]
  },
  {
   "cell_type": "code",
   "execution_count": null,
   "metadata": {},
   "outputs": [],
   "source": [
    "import plotly.express as px\n",
    "\n",
    "# Calculate the max value of 'Ratio_Cocaine' for each 'Hub Portuario'\n",
    "max_ratio_cocaine = combined_data.groupby('Hub Portuario')['Ratio_Cocaine'].max().reset_index()\n",
    "\n",
    "# Merge the max_ratio_cocaine with the combined_data to get the latitude and longitude\n",
    "bubble_data = pd.merge(max_ratio_cocaine, combined_data[['Hub Portuario', 'latitude', 'longitude']].drop_duplicates(), on='Hub Portuario')\n",
    "\n",
    "# Create the bubble map\n",
    "fig = px.scatter_geo(bubble_data,\n",
    "                     lat='latitude',\n",
    "                     lon='longitude',\n",
    "                     size='Ratio_Cocaine',\n",
    "                     hover_name='Hub Portuario',\n",
    "                     title='Bubble Map of Max Ratio_Cocaine by Location',\n",
    "                     projection='natural earth')\n",
    "\n",
    "# Center the map to 'United States'\n",
    "fig.update_geos(center=dict(lat=37.0902, lon=-95.7129), scope=\"north america\")\n",
    "\n",
    "# Show the plot\n",
    "fig.show()"
   ]
  },
  {
   "cell_type": "code",
   "execution_count": null,
   "metadata": {},
   "outputs": [],
   "source": [
    "# Calculate the max value of 'Ratio_' for each 'Hub Portuario'\n",
    "ratio_columns = [col for col in combined_data.columns if col.startswith('Ratio_')]\n",
    "max_ratios = combined_data.groupby('Hub Portuario')[ratio_columns].max().reset_index()\n",
    "\n",
    "# Melt the dataframe to long format for plotting\n",
    "max_ratios_melted = max_ratios.melt(id_vars=['Hub Portuario'], value_vars=ratio_columns, var_name='Ratio', value_name='Value')\n",
    "\n",
    "# Merge the max_ratios_melted with the combined_data to get the latitude and longitude\n",
    "bubble_data = pd.merge(max_ratios_melted, combined_data[['Hub Portuario', 'latitude', 'longitude']].drop_duplicates(), on='Hub Portuario')\n",
    "\n",
    "# Create the bubble map\n",
    "fig = px.scatter_geo(bubble_data,\n",
    "                     lat='latitude',\n",
    "                     lon='longitude',\n",
    "                     size='Value',\n",
    "                     color='Ratio',\n",
    "                     hover_name='Hub Portuario',\n",
    "                     title='Bubble Map of Max Ratios by Location',\n",
    "                     projection='natural earth')\n",
    "\n",
    "# Center the map to 'United States'\n",
    "fig.update_geos(center=dict(lat=37.0902, lon=-95.7129), scope=\"north america\")\n",
    "\n",
    "# Show the plot\n",
    "fig.show()"
   ]
  },
  {
   "cell_type": "code",
   "execution_count": null,
   "metadata": {},
   "outputs": [],
   "source": [
    "# Calculate the max value of 'Ratio_' for each 'Hub Portuario'\n",
    "ratio_columns = ['Ratio_Marijuana', 'Ratio_Cocaine', 'Ratio_Other Drugs**']\n",
    "max_ratios = combined_data.groupby('Hub Portuario')[ratio_columns].max().reset_index()\n",
    "\n",
    "# Melt the dataframe to long format for plotting\n",
    "max_ratios_melted = max_ratios.melt(id_vars=['Hub Portuario'], value_vars=ratio_columns, var_name='Ratio', value_name='Value')\n",
    "\n",
    "# Merge the max_ratios_melted with the combined_data to get the latitude and longitude\n",
    "bubble_data = pd.merge(max_ratios_melted, combined_data[['Hub Portuario', 'latitude', 'longitude']].drop_duplicates(), on='Hub Portuario')\n",
    "\n",
    "# Create the bubble map\n",
    "fig = px.scatter_geo(bubble_data,\n",
    "                     lat='latitude',\n",
    "                     lon='longitude',\n",
    "                     size='Value',\n",
    "                     color='Ratio',\n",
    "                     hover_name='Hub Portuario',\n",
    "                     title='Bubble Map of Max Ratios by Location',\n",
    "                     projection='natural earth')\n",
    "\n",
    "# Center the map to 'United States'\n",
    "fig.update_geos(center=dict(lat=37.0902, lon=-95.7129), scope=\"north america\")\n",
    "\n",
    "# Show the plot\n",
    "fig.show()"
   ]
  },
  {
   "cell_type": "code",
   "execution_count": null,
   "metadata": {},
   "outputs": [],
   "source": [
    "# Calculate the max value of 'Ratio_' for each 'Hub Portuario'\n",
    "ratio_columns = ['Count of Event_Marijuana', 'Count of Event_Cocaine', 'Count of Event_Other Drugs**']\n",
    "max_ratios = combined_data.groupby('Hub Portuario')[ratio_columns].sum().reset_index()\n",
    "\n",
    "# Melt the dataframe to long format for plotting\n",
    "max_ratios_melted = max_ratios.melt(id_vars=['Hub Portuario'], value_vars=ratio_columns, var_name='Ratio', value_name='Value')\n",
    "\n",
    "# Merge the max_ratios_melted with the combined_data to get the latitude and longitude\n",
    "bubble_data = pd.merge(max_ratios_melted, combined_data[['Hub Portuario', 'latitude', 'longitude']].drop_duplicates(), on='Hub Portuario')\n",
    "\n",
    "# Create the bubble map\n",
    "fig = px.scatter_geo(bubble_data,\n",
    "                     lat='latitude',\n",
    "                     lon='longitude',\n",
    "                     size='Value',\n",
    "                     color='Ratio',\n",
    "                     hover_name='Hub Portuario',\n",
    "                     title='Bubble Map of Sum Count of Event by Location',\n",
    "                     projection='natural earth')\n",
    "\n",
    "# Center the map to 'United States'\n",
    "fig.update_geos(center=dict(lat=37.0902, lon=-95.7129), scope=\"north america\")\n",
    "\n",
    "# Show the plot\n",
    "fig.show()"
   ]
  },
  {
   "cell_type": "markdown",
   "metadata": {},
   "source": [
    "### Operaciones diferenciables"
   ]
  },
  {
   "cell_type": "markdown",
   "metadata": {},
   "source": [
    "Probar con derivadas e integrales de las variables * (Cuanto varían o cuanto acumulan)"
   ]
  },
  {
   "cell_type": "markdown",
   "metadata": {},
   "source": [
    "## Outliers"
   ]
  },
  {
   "cell_type": "markdown",
   "metadata": {},
   "source": [
    "### Visualización Previa al Tratamiento de Outliers:"
   ]
  },
  {
   "cell_type": "code",
   "execution_count": null,
   "metadata": {},
   "outputs": [],
   "source": [
    "from plotnine import ggplot, aes, geom_boxplot, facet_wrap, labs, theme_538\n",
    "\n",
    "# Filter the columns to include only 'Sum Qty_*' and 'Count of Event_*'\n",
    "columns_to_plot = [col for col in standardized_data.columns if col.startswith('Count of Event')]\n",
    "\n",
    "# Melt the dataframe to long format\n",
    "standardized_data_melted = standardized_data.melt(id_vars=['Hub Portuario'], value_vars=columns_to_plot, var_name='Variable', value_name='Value')\n",
    "\n",
    "# Create the boxplot\n",
    "boxplot = (ggplot(standardized_data_melted, aes(x='Hub Portuario', y='Value'))\n",
    "    + geom_boxplot()\n",
    "    + facet_wrap('~ Variable', scales='free_y')\n",
    "    + labs(title='Boxplot of Count of Event by Hub Portuario',\n",
    "           x='Hub Portuario',\n",
    "           y='Value')\n",
    "    + theme_538()\n",
    ")\n",
    "\n",
    "boxplot"
   ]
  },
  {
   "cell_type": "code",
   "execution_count": null,
   "metadata": {},
   "outputs": [],
   "source": [
    "# Filter the columns to include only 'Sum Qty_*' and 'Count of Event_*'\n",
    "columns_to_plot = [col for col in standardized_data.columns if col.startswith('Sum Qty')]\n",
    "\n",
    "# Melt the dataframe to long format\n",
    "standardized_data_melted = standardized_data.melt(id_vars=['Hub Portuario'], value_vars=columns_to_plot, var_name='Variable', value_name='Value')\n",
    "\n",
    "# Create the boxplot\n",
    "boxplot = (ggplot(standardized_data_melted, aes(x='Hub Portuario', y='Value'))\n",
    "    + geom_boxplot()\n",
    "    + facet_wrap('~ Variable', scales='free_y')\n",
    "    + labs(title='Boxplot of Sum Qty by Hub Portuario',\n",
    "           x='Hub Portuario',\n",
    "           y='Value')\n",
    "    + theme_538()\n",
    ")\n",
    "\n",
    "boxplot"
   ]
  },
  {
   "cell_type": "code",
   "execution_count": null,
   "metadata": {},
   "outputs": [],
   "source": [
    "standardized_data['Hub Portuario_name'].unique()"
   ]
  },
  {
   "cell_type": "markdown",
   "metadata": {},
   "source": [
    "Visualizar con QQ-Plot"
   ]
  },
  {
   "cell_type": "markdown",
   "metadata": {},
   "source": [
    "QQ-Plots para Newark (sin filtrar):"
   ]
  },
  {
   "cell_type": "code",
   "execution_count": null,
   "metadata": {},
   "outputs": [],
   "source": [
    "import statsmodels.api as sm\n",
    "import matplotlib.pyplot as plt\n",
    "\n",
    "# Filter the dataframe for 'Newark/New York'\n",
    "newark_data = standardized_data[standardized_data['Hub Portuario_name'] == 'Newark/New York']\n",
    "\n",
    "# List of columns to generate QQ-plots for\n",
    "columns_to_plot = ['Empty Exports', 'Loaded Exports', 'Empty Imports', 'Loaded Imports',\n",
    "                   'Total TEUs', 'Total Imports', 'Total Exports']\n",
    "\n",
    "# Generate QQ-plots for each column\n",
    "for column in columns_to_plot:\n",
    "    sm.qqplot(newark_data[column], line='s')\n",
    "    plt.title(f'QQ-Plot for {column} (Newark/New York)')\n",
    "    plt.show()"
   ]
  },
  {
   "cell_type": "markdown",
   "metadata": {},
   "source": [
    "QQ-Plots para Fort Lauderdale (sin filtrar):"
   ]
  },
  {
   "cell_type": "code",
   "execution_count": null,
   "metadata": {},
   "outputs": [],
   "source": [
    "import statsmodels.api as sm\n",
    "import matplotlib.pyplot as plt\n",
    "\n",
    "# Filter the dataframe for 'Newark/New York'\n",
    "newark_data = standardized_data[standardized_data['Hub Portuario_name'] == 'Miami/Fort Lauderdale']\n",
    "\n",
    "# List of columns to generate QQ-plots for\n",
    "columns_to_plot = ['Empty Exports', 'Loaded Exports', 'Empty Imports', 'Loaded Imports',\n",
    "                   'Total TEUs', 'Total Imports', 'Total Exports']\n",
    "\n",
    "# Generate QQ-plots for each column\n",
    "for column in columns_to_plot:\n",
    "    sm.qqplot(newark_data[column], line='s')\n",
    "    plt.title(f'QQ-Plot for {column} (Miami/Fort Lauderdale)')\n",
    "    plt.show()"
   ]
  },
  {
   "cell_type": "markdown",
   "metadata": {},
   "source": [
    "QQ-Plots para LA (sin filtrar):"
   ]
  },
  {
   "cell_type": "code",
   "execution_count": null,
   "metadata": {},
   "outputs": [],
   "source": [
    "import statsmodels.api as sm\n",
    "import matplotlib.pyplot as plt\n",
    "\n",
    "# Filter the dataframe for 'Newark/New York'\n",
    "newark_data = standardized_data[standardized_data['Hub Portuario_name'] == 'Los Angeles/Long Beach']\n",
    "\n",
    "# List of columns to generate QQ-plots for\n",
    "columns_to_plot = ['Empty Exports', 'Loaded Exports', 'Empty Imports', 'Loaded Imports',\n",
    "                   'Total TEUs', 'Total Imports', 'Total Exports']\n",
    "\n",
    "# Generate QQ-plots for each column\n",
    "for column in columns_to_plot:\n",
    "    sm.qqplot(newark_data[column], line='s')\n",
    "    plt.title(f'QQ-Plot for {column} (Los Angeles/Long Beach)')\n",
    "    plt.show()"
   ]
  },
  {
   "cell_type": "markdown",
   "metadata": {},
   "source": [
    "Distribuciones de predictores para Fort Lauderdale:"
   ]
  },
  {
   "cell_type": "code",
   "execution_count": null,
   "metadata": {},
   "outputs": [],
   "source": [
    "import matplotlib.pyplot as plt\n",
    "\n",
    "# Filter the dataframe for 'Miami/Fort Lauderdale'\n",
    "miami_data = standardized_data[standardized_data['Hub Portuario_name'] == 'Miami/Fort Lauderdale']\n",
    "\n",
    "# Plot histograms for each variable in columns_to_plot\n",
    "for column in columns_to_plot:\n",
    "    plt.figure(figsize=(10, 6))\n",
    "    plt.hist(miami_data[column], bins=30, edgecolor='black')\n",
    "    plt.title(f'Histogram of {column} for Miami/Fort Lauderdale')\n",
    "    plt.xlabel(column)\n",
    "    plt.ylabel('Frequency')\n",
    "    plt.grid(True)\n",
    "    plt.show()"
   ]
  },
  {
   "cell_type": "markdown",
   "metadata": {},
   "source": [
    "Distribuciones de predictores para Newark:"
   ]
  },
  {
   "cell_type": "code",
   "execution_count": null,
   "metadata": {},
   "outputs": [],
   "source": [
    "import matplotlib.pyplot as plt\n",
    "\n",
    "# Filter the dataframe for 'Miami/Fort Lauderdale'\n",
    "miami_data = standardized_data[standardized_data['Hub Portuario_name'] == 'Newark/New York']\n",
    "\n",
    "# Plot histograms for each variable in columns_to_plot\n",
    "for column in columns_to_plot:\n",
    "    plt.figure(figsize=(10, 6))\n",
    "    plt.hist(miami_data[column], bins=30, edgecolor='black')\n",
    "    plt.title(f'Histogram of {column} for Newark/New York')\n",
    "    plt.xlabel(column)\n",
    "    plt.ylabel('Frequency')\n",
    "    plt.grid(True)\n",
    "    plt.show()"
   ]
  },
  {
   "cell_type": "markdown",
   "metadata": {},
   "source": [
    "Distribuciones de predictores para LA:"
   ]
  },
  {
   "cell_type": "code",
   "execution_count": null,
   "metadata": {},
   "outputs": [],
   "source": [
    "import matplotlib.pyplot as plt\n",
    "\n",
    "# Filter the dataframe for 'Miami/Fort Lauderdale'\n",
    "miami_data = standardized_data[standardized_data['Hub Portuario_name'] == 'Los Angeles/Long Beach']\n",
    "\n",
    "# Plot histograms for each variable in columns_to_plot\n",
    "for column in columns_to_plot:\n",
    "    plt.figure(figsize=(10, 6))\n",
    "    plt.hist(miami_data[column], bins=30, edgecolor='black')\n",
    "    plt.title(f'Histogram of {column} for Los Angeles/Long Beach')\n",
    "    plt.xlabel(column)\n",
    "    plt.ylabel('Frequency')\n",
    "    plt.grid(True)\n",
    "    plt.show()"
   ]
  },
  {
   "cell_type": "markdown",
   "metadata": {},
   "source": [
    "Tratamiento de Outliers:\n",
    "- Boxplots"
   ]
  },
  {
   "cell_type": "code",
   "execution_count": null,
   "metadata": {},
   "outputs": [],
   "source": [
    "from plotnine import ggplot, aes, geom_boxplot, labs, theme_538\n",
    "import seaborn as sns\n",
    "\n",
    "# Create the boxplot\n",
    "import matplotlib.pyplot as plt\n",
    "\n",
    "# Create the boxplot\n",
    "plt.figure(figsize=(10, 6))\n",
    "boxplot = sns.boxplot(x='Hub Portuario_name', y='Count of Event_Cocaine', data=standardized_data)\n",
    "boxplot.set_title('Boxplot of Count of Event_Cocaine by Hub Portuario')\n",
    "boxplot.set_xlabel('Hub Portuario')\n",
    "boxplot.set_ylabel('Count of Event_Cocaine')\n",
    "plt.show()\n",
    "\n",
    "boxplot"
   ]
  },
  {
   "cell_type": "code",
   "execution_count": null,
   "metadata": {},
   "outputs": [],
   "source": [
    "from plotnine import ggplot, aes, geom_boxplot, labs, theme_538\n",
    "import seaborn as sns\n",
    "\n",
    "# Create the boxplot\n",
    "import matplotlib.pyplot as plt\n",
    "\n",
    "# Create the boxplot\n",
    "plt.figure(figsize=(10, 6))\n",
    "boxplot = sns.boxplot(x='Hub Portuario_name', y='Count of Event_Other Drugs**', data=standardized_data)\n",
    "boxplot.set_title('Boxplot of Count of Other Drugs** by Hub Portuario')\n",
    "boxplot.set_xlabel('Hub Portuario')\n",
    "boxplot.set_ylabel('Count of Other Drugs**')\n",
    "plt.show()\n",
    "\n",
    "boxplot"
   ]
  },
  {
   "cell_type": "code",
   "execution_count": null,
   "metadata": {},
   "outputs": [],
   "source": [
    "# Create the boxplot\n",
    "plt.figure(figsize=(10, 6))\n",
    "boxplot = sns.boxplot(x='Hub Portuario_name', y='Ratio_Other Drugs**', data=standardized_data)\n",
    "boxplot.set_title('Boxplot ofRatio_Other Drugs** by Hub Portuario')\n",
    "boxplot.set_xlabel('Hub Portuario')\n",
    "boxplot.set_ylabel('Ratio_Other Drugs**')\n",
    "plt.show()\n",
    "\n",
    "boxplot"
   ]
  },
  {
   "cell_type": "code",
   "execution_count": null,
   "metadata": {},
   "outputs": [],
   "source": [
    "# Create the boxplot\n",
    "plt.figure(figsize=(10, 6))\n",
    "boxplot = sns.boxplot(x='Hub Portuario_name', y='Ratio_Cocaine', data=standardized_data)\n",
    "boxplot.set_title('Boxplot of Ratio_Cocaine by Hub Portuario')\n",
    "boxplot.set_xlabel('Hub Portuario')\n",
    "boxplot.set_ylabel('Ratio_Cocaine')\n",
    "plt.show()\n",
    "\n",
    "boxplot"
   ]
  },
  {
   "cell_type": "code",
   "execution_count": null,
   "metadata": {},
   "outputs": [],
   "source": [
    "# Create the boxplot\n",
    "plt.figure(figsize=(10, 6))\n",
    "boxplot = sns.boxplot(x='Hub Portuario_name', y='Sum_of_Counts', data=standardized_data)\n",
    "boxplot.set_title('Boxplot of Sum_of_Counts for Hub Portuario')\n",
    "boxplot.set_xlabel('Hub Portuario')\n",
    "boxplot.set_ylabel('Count of Other Drugs**')\n",
    "plt.show()\n",
    "\n",
    "boxplot"
   ]
  },
  {
   "cell_type": "code",
   "execution_count": null,
   "metadata": {},
   "outputs": [],
   "source": [
    "import numpy as np\n",
    "\n",
    "import matplotlib.pyplot as plt\n",
    "\n",
    "# Calculate the number of bins\n",
    "bins = int(round(np.sqrt(len(ny_import_sorted))))\n",
    "\n",
    "# Plot the histogram for 'Sum_of_Counts'\n",
    "plt.figure(figsize=(10, 6))\n",
    "plt.hist(ny_import_sorted['Sum_of_Counts'], bins=bins, edgecolor='black')\n",
    "plt.title('Histogram of Sum_of_Counts for Newark/New York')\n",
    "plt.xlabel('Sum_of_Counts')\n",
    "plt.ylabel('Frequency')\n",
    "plt.grid(True)\n",
    "plt.show()"
   ]
  },
  {
   "cell_type": "markdown",
   "metadata": {},
   "source": [
    "### Outliers:\n",
    "- Generar nuevo dataframe a partir de standardized_data. Eliminar filas con abs(Ratio_*) > 5"
   ]
  },
  {
   "cell_type": "code",
   "execution_count": null,
   "metadata": {},
   "outputs": [],
   "source": [
    "# List of columns to check for outliers\n",
    "ratio_columns = [col for col in standardized_data.columns if col.startswith('Ratio_')]\n",
    "\n",
    "# Filter the dataframe to remove rows with abs(Ratio_*) > 5\n",
    "filtered_data = standardized_data[~standardized_data[ratio_columns].abs().gt(5).any(axis=1)]"
   ]
  },
  {
   "cell_type": "markdown",
   "metadata": {},
   "source": [
    "### Outliers para Newark\n",
    "Outliers para Nueva York:"
   ]
  },
  {
   "cell_type": "code",
   "execution_count": null,
   "metadata": {},
   "outputs": [],
   "source": [
    "ny_import_sorted = standardized_data[standardized_data['Hub Portuario_name'] == 'Newark/New York'].sort_values(by='Total Imports', ascending=False)"
   ]
  },
  {
   "cell_type": "code",
   "execution_count": 104,
   "metadata": {},
   "outputs": [],
   "source": [
    "ny_standardized_update = standardized_data_updated.copy()"
   ]
  },
  {
   "cell_type": "code",
   "execution_count": 105,
   "metadata": {},
   "outputs": [
    {
     "data": {
      "text/html": [
       "<div>\n",
       "<style scoped>\n",
       "    .dataframe tbody tr th:only-of-type {\n",
       "        vertical-align: middle;\n",
       "    }\n",
       "\n",
       "    .dataframe tbody tr th {\n",
       "        vertical-align: top;\n",
       "    }\n",
       "\n",
       "    .dataframe thead th {\n",
       "        text-align: right;\n",
       "    }\n",
       "</style>\n",
       "<table border=\"1\" class=\"dataframe\">\n",
       "  <thead>\n",
       "    <tr style=\"text-align: right;\">\n",
       "      <th></th>\n",
       "      <th>Empty Exports</th>\n",
       "      <th>Loaded Exports</th>\n",
       "      <th>Empty Imports</th>\n",
       "      <th>Loaded Imports</th>\n",
       "      <th>Total TEUs</th>\n",
       "      <th>Total Imports</th>\n",
       "      <th>Total Exports</th>\n",
       "      <th>latitude</th>\n",
       "      <th>longitude</th>\n",
       "      <th>Count of Event_Cocaine</th>\n",
       "      <th>...</th>\n",
       "      <th>Ratio_Ecstasy</th>\n",
       "      <th>Ratio_Fentanyl</th>\n",
       "      <th>Ratio_Heroin</th>\n",
       "      <th>Ratio_Ketamine</th>\n",
       "      <th>Ratio_Khat (Catha Edulis)</th>\n",
       "      <th>Ratio_Lsd</th>\n",
       "      <th>Ratio_Marijuana</th>\n",
       "      <th>Ratio_Methamphetamine</th>\n",
       "      <th>Ratio_Other Drugs**</th>\n",
       "      <th>Hub Portuario</th>\n",
       "    </tr>\n",
       "  </thead>\n",
       "  <tbody>\n",
       "    <tr>\n",
       "      <th>0</th>\n",
       "      <td>-0.888607</td>\n",
       "      <td>1.765540</td>\n",
       "      <td>-0.167279</td>\n",
       "      <td>-0.299204</td>\n",
       "      <td>-0.272978</td>\n",
       "      <td>-0.258520</td>\n",
       "      <td>-0.453395</td>\n",
       "      <td>0.0</td>\n",
       "      <td>1.421085e-14</td>\n",
       "      <td>-0.568361</td>\n",
       "      <td>...</td>\n",
       "      <td>-0.302166</td>\n",
       "      <td>-0.193288</td>\n",
       "      <td>0.512738</td>\n",
       "      <td>-0.356296</td>\n",
       "      <td>-0.425835</td>\n",
       "      <td>1.628639</td>\n",
       "      <td>-0.524266</td>\n",
       "      <td>-0.207027</td>\n",
       "      <td>6.404878</td>\n",
       "      <td>0.0</td>\n",
       "    </tr>\n",
       "    <tr>\n",
       "      <th>1</th>\n",
       "      <td>-1.419778</td>\n",
       "      <td>0.277917</td>\n",
       "      <td>-0.161663</td>\n",
       "      <td>-1.146178</td>\n",
       "      <td>-1.042957</td>\n",
       "      <td>-0.524920</td>\n",
       "      <td>-1.341281</td>\n",
       "      <td>0.0</td>\n",
       "      <td>1.421085e-14</td>\n",
       "      <td>-0.568361</td>\n",
       "      <td>...</td>\n",
       "      <td>-0.000254</td>\n",
       "      <td>0.127320</td>\n",
       "      <td>-0.148423</td>\n",
       "      <td>-0.889422</td>\n",
       "      <td>-0.509518</td>\n",
       "      <td>-0.097004</td>\n",
       "      <td>-0.435555</td>\n",
       "      <td>-0.210684</td>\n",
       "      <td>-0.328368</td>\n",
       "      <td>0.0</td>\n",
       "    </tr>\n",
       "    <tr>\n",
       "      <th>2</th>\n",
       "      <td>-1.172381</td>\n",
       "      <td>0.327482</td>\n",
       "      <td>-0.168783</td>\n",
       "      <td>-0.798518</td>\n",
       "      <td>-0.780460</td>\n",
       "      <td>-0.420247</td>\n",
       "      <td>-1.083792</td>\n",
       "      <td>0.0</td>\n",
       "      <td>1.421085e-14</td>\n",
       "      <td>-0.758321</td>\n",
       "      <td>...</td>\n",
       "      <td>0.179133</td>\n",
       "      <td>0.332809</td>\n",
       "      <td>-0.103470</td>\n",
       "      <td>-0.890477</td>\n",
       "      <td>-0.661162</td>\n",
       "      <td>1.227844</td>\n",
       "      <td>-0.503504</td>\n",
       "      <td>-0.208782</td>\n",
       "      <td>-0.397269</td>\n",
       "      <td>0.0</td>\n",
       "    </tr>\n",
       "    <tr>\n",
       "      <th>3</th>\n",
       "      <td>-0.999608</td>\n",
       "      <td>-0.068844</td>\n",
       "      <td>-0.169361</td>\n",
       "      <td>-0.574017</td>\n",
       "      <td>-0.645239</td>\n",
       "      <td>-0.348750</td>\n",
       "      <td>-1.008506</td>\n",
       "      <td>0.0</td>\n",
       "      <td>1.421085e-14</td>\n",
       "      <td>-0.644345</td>\n",
       "      <td>...</td>\n",
       "      <td>0.463701</td>\n",
       "      <td>-0.345447</td>\n",
       "      <td>-0.149570</td>\n",
       "      <td>-0.201097</td>\n",
       "      <td>-0.661162</td>\n",
       "      <td>0.490080</td>\n",
       "      <td>-0.447139</td>\n",
       "      <td>-0.206104</td>\n",
       "      <td>-0.454215</td>\n",
       "      <td>0.0</td>\n",
       "    </tr>\n",
       "    <tr>\n",
       "      <th>4</th>\n",
       "      <td>-1.164784</td>\n",
       "      <td>0.078786</td>\n",
       "      <td>7.061567</td>\n",
       "      <td>-1.287497</td>\n",
       "      <td>-1.029210</td>\n",
       "      <td>6.445916</td>\n",
       "      <td>-1.136581</td>\n",
       "      <td>0.0</td>\n",
       "      <td>1.421085e-14</td>\n",
       "      <td>-0.701333</td>\n",
       "      <td>...</td>\n",
       "      <td>-0.018336</td>\n",
       "      <td>-0.383128</td>\n",
       "      <td>0.530809</td>\n",
       "      <td>-0.674769</td>\n",
       "      <td>-0.571224</td>\n",
       "      <td>-0.114536</td>\n",
       "      <td>-0.490009</td>\n",
       "      <td>-0.200797</td>\n",
       "      <td>-0.448307</td>\n",
       "      <td>0.0</td>\n",
       "    </tr>\n",
       "    <tr>\n",
       "      <th>...</th>\n",
       "      <td>...</td>\n",
       "      <td>...</td>\n",
       "      <td>...</td>\n",
       "      <td>...</td>\n",
       "      <td>...</td>\n",
       "      <td>...</td>\n",
       "      <td>...</td>\n",
       "      <td>...</td>\n",
       "      <td>...</td>\n",
       "      <td>...</td>\n",
       "      <td>...</td>\n",
       "      <td>...</td>\n",
       "      <td>...</td>\n",
       "      <td>...</td>\n",
       "      <td>...</td>\n",
       "      <td>...</td>\n",
       "      <td>...</td>\n",
       "      <td>...</td>\n",
       "      <td>...</td>\n",
       "      <td>...</td>\n",
       "      <td>...</td>\n",
       "    </tr>\n",
       "    <tr>\n",
       "      <th>70</th>\n",
       "      <td>1.222420</td>\n",
       "      <td>0.395343</td>\n",
       "      <td>-0.159448</td>\n",
       "      <td>0.955317</td>\n",
       "      <td>1.085826</td>\n",
       "      <td>0.151753</td>\n",
       "      <td>1.308779</td>\n",
       "      <td>0.0</td>\n",
       "      <td>1.421085e-14</td>\n",
       "      <td>-0.644345</td>\n",
       "      <td>...</td>\n",
       "      <td>-0.117409</td>\n",
       "      <td>-0.339257</td>\n",
       "      <td>-0.199886</td>\n",
       "      <td>0.682348</td>\n",
       "      <td>-0.183636</td>\n",
       "      <td>-0.786405</td>\n",
       "      <td>-0.234348</td>\n",
       "      <td>5.657233</td>\n",
       "      <td>0.123054</td>\n",
       "      <td>0.0</td>\n",
       "    </tr>\n",
       "    <tr>\n",
       "      <th>71</th>\n",
       "      <td>1.246679</td>\n",
       "      <td>0.589343</td>\n",
       "      <td>-0.161559</td>\n",
       "      <td>0.637567</td>\n",
       "      <td>0.968232</td>\n",
       "      <td>0.047713</td>\n",
       "      <td>1.379909</td>\n",
       "      <td>0.0</td>\n",
       "      <td>1.421085e-14</td>\n",
       "      <td>-0.340408</td>\n",
       "      <td>...</td>\n",
       "      <td>-0.577764</td>\n",
       "      <td>-0.383128</td>\n",
       "      <td>-0.174685</td>\n",
       "      <td>0.200792</td>\n",
       "      <td>-0.661162</td>\n",
       "      <td>6.877333</td>\n",
       "      <td>-0.028550</td>\n",
       "      <td>-0.215186</td>\n",
       "      <td>1.467423</td>\n",
       "      <td>0.0</td>\n",
       "    </tr>\n",
       "    <tr>\n",
       "      <th>72</th>\n",
       "      <td>0.259127</td>\n",
       "      <td>-2.433436</td>\n",
       "      <td>-0.168368</td>\n",
       "      <td>0.610886</td>\n",
       "      <td>0.195865</td>\n",
       "      <td>0.032535</td>\n",
       "      <td>-0.333187</td>\n",
       "      <td>0.0</td>\n",
       "      <td>1.421085e-14</td>\n",
       "      <td>-0.663341</td>\n",
       "      <td>...</td>\n",
       "      <td>-0.325251</td>\n",
       "      <td>-0.376668</td>\n",
       "      <td>-0.199431</td>\n",
       "      <td>-0.380963</td>\n",
       "      <td>-0.088131</td>\n",
       "      <td>-0.678498</td>\n",
       "      <td>0.450883</td>\n",
       "      <td>-0.211613</td>\n",
       "      <td>0.376978</td>\n",
       "      <td>0.0</td>\n",
       "    </tr>\n",
       "    <tr>\n",
       "      <th>73</th>\n",
       "      <td>0.375713</td>\n",
       "      <td>1.063501</td>\n",
       "      <td>-0.165901</td>\n",
       "      <td>0.005811</td>\n",
       "      <td>0.343989</td>\n",
       "      <td>-0.159280</td>\n",
       "      <td>0.630760</td>\n",
       "      <td>0.0</td>\n",
       "      <td>1.421085e-14</td>\n",
       "      <td>-0.720329</td>\n",
       "      <td>...</td>\n",
       "      <td>-0.547904</td>\n",
       "      <td>-0.383128</td>\n",
       "      <td>-0.199886</td>\n",
       "      <td>0.767742</td>\n",
       "      <td>-0.423344</td>\n",
       "      <td>-0.004085</td>\n",
       "      <td>0.573101</td>\n",
       "      <td>-0.101044</td>\n",
       "      <td>0.421672</td>\n",
       "      <td>0.0</td>\n",
       "    </tr>\n",
       "    <tr>\n",
       "      <th>74</th>\n",
       "      <td>0.032084</td>\n",
       "      <td>-0.005726</td>\n",
       "      <td>-0.166449</td>\n",
       "      <td>-0.098895</td>\n",
       "      <td>0.032120</td>\n",
       "      <td>-0.193421</td>\n",
       "      <td>0.030445</td>\n",
       "      <td>0.0</td>\n",
       "      <td>1.421085e-14</td>\n",
       "      <td>-0.720329</td>\n",
       "      <td>...</td>\n",
       "      <td>-0.177664</td>\n",
       "      <td>1.411201</td>\n",
       "      <td>8.425782</td>\n",
       "      <td>4.237755</td>\n",
       "      <td>-0.042708</td>\n",
       "      <td>-0.597569</td>\n",
       "      <td>0.510230</td>\n",
       "      <td>-0.214636</td>\n",
       "      <td>0.943485</td>\n",
       "      <td>0.0</td>\n",
       "    </tr>\n",
       "  </tbody>\n",
       "</table>\n",
       "<p>75 rows × 41 columns</p>\n",
       "</div>"
      ],
      "text/plain": [
       "    Empty Exports  Loaded Exports  Empty Imports  Loaded Imports  Total TEUs  \\\n",
       "0       -0.888607        1.765540      -0.167279       -0.299204   -0.272978   \n",
       "1       -1.419778        0.277917      -0.161663       -1.146178   -1.042957   \n",
       "2       -1.172381        0.327482      -0.168783       -0.798518   -0.780460   \n",
       "3       -0.999608       -0.068844      -0.169361       -0.574017   -0.645239   \n",
       "4       -1.164784        0.078786       7.061567       -1.287497   -1.029210   \n",
       "..            ...             ...            ...             ...         ...   \n",
       "70       1.222420        0.395343      -0.159448        0.955317    1.085826   \n",
       "71       1.246679        0.589343      -0.161559        0.637567    0.968232   \n",
       "72       0.259127       -2.433436      -0.168368        0.610886    0.195865   \n",
       "73       0.375713        1.063501      -0.165901        0.005811    0.343989   \n",
       "74       0.032084       -0.005726      -0.166449       -0.098895    0.032120   \n",
       "\n",
       "    Total Imports  Total Exports  latitude     longitude  \\\n",
       "0       -0.258520      -0.453395       0.0  1.421085e-14   \n",
       "1       -0.524920      -1.341281       0.0  1.421085e-14   \n",
       "2       -0.420247      -1.083792       0.0  1.421085e-14   \n",
       "3       -0.348750      -1.008506       0.0  1.421085e-14   \n",
       "4        6.445916      -1.136581       0.0  1.421085e-14   \n",
       "..            ...            ...       ...           ...   \n",
       "70       0.151753       1.308779       0.0  1.421085e-14   \n",
       "71       0.047713       1.379909       0.0  1.421085e-14   \n",
       "72       0.032535      -0.333187       0.0  1.421085e-14   \n",
       "73      -0.159280       0.630760       0.0  1.421085e-14   \n",
       "74      -0.193421       0.030445       0.0  1.421085e-14   \n",
       "\n",
       "    Count of Event_Cocaine  ...  Ratio_Ecstasy  Ratio_Fentanyl  Ratio_Heroin  \\\n",
       "0                -0.568361  ...      -0.302166       -0.193288      0.512738   \n",
       "1                -0.568361  ...      -0.000254        0.127320     -0.148423   \n",
       "2                -0.758321  ...       0.179133        0.332809     -0.103470   \n",
       "3                -0.644345  ...       0.463701       -0.345447     -0.149570   \n",
       "4                -0.701333  ...      -0.018336       -0.383128      0.530809   \n",
       "..                     ...  ...            ...             ...           ...   \n",
       "70               -0.644345  ...      -0.117409       -0.339257     -0.199886   \n",
       "71               -0.340408  ...      -0.577764       -0.383128     -0.174685   \n",
       "72               -0.663341  ...      -0.325251       -0.376668     -0.199431   \n",
       "73               -0.720329  ...      -0.547904       -0.383128     -0.199886   \n",
       "74               -0.720329  ...      -0.177664        1.411201      8.425782   \n",
       "\n",
       "    Ratio_Ketamine  Ratio_Khat (Catha Edulis)  Ratio_Lsd  Ratio_Marijuana  \\\n",
       "0        -0.356296                  -0.425835   1.628639        -0.524266   \n",
       "1        -0.889422                  -0.509518  -0.097004        -0.435555   \n",
       "2        -0.890477                  -0.661162   1.227844        -0.503504   \n",
       "3        -0.201097                  -0.661162   0.490080        -0.447139   \n",
       "4        -0.674769                  -0.571224  -0.114536        -0.490009   \n",
       "..             ...                        ...        ...              ...   \n",
       "70        0.682348                  -0.183636  -0.786405        -0.234348   \n",
       "71        0.200792                  -0.661162   6.877333        -0.028550   \n",
       "72       -0.380963                  -0.088131  -0.678498         0.450883   \n",
       "73        0.767742                  -0.423344  -0.004085         0.573101   \n",
       "74        4.237755                  -0.042708  -0.597569         0.510230   \n",
       "\n",
       "    Ratio_Methamphetamine  Ratio_Other Drugs**  Hub Portuario  \n",
       "0               -0.207027             6.404878            0.0  \n",
       "1               -0.210684            -0.328368            0.0  \n",
       "2               -0.208782            -0.397269            0.0  \n",
       "3               -0.206104            -0.454215            0.0  \n",
       "4               -0.200797            -0.448307            0.0  \n",
       "..                    ...                  ...            ...  \n",
       "70               5.657233             0.123054            0.0  \n",
       "71              -0.215186             1.467423            0.0  \n",
       "72              -0.211613             0.376978            0.0  \n",
       "73              -0.101044             0.421672            0.0  \n",
       "74              -0.214636             0.943485            0.0  \n",
       "\n",
       "[75 rows x 41 columns]"
      ]
     },
     "execution_count": 105,
     "metadata": {},
     "output_type": "execute_result"
    }
   ],
   "source": [
    "ny_standardized_update"
   ]
  },
  {
   "cell_type": "code",
   "execution_count": null,
   "metadata": {},
   "outputs": [],
   "source": [
    "from plotnine import ggplot, aes, geom_point, facet_wrap, labs, theme_538\n",
    "\n",
    "# List of variables to plot against 'Total Imports'\n",
    "variables_to_plot = [\n",
    "    'Count of Event_Cocaine','Count of Event_Heroin','Count of Event_Marijuana',\n",
    "    'Count of Event_Other Drugs**', 'Sum Qty (lbs)_Cocaine','Sum Qty (lbs)_Heroin',\n",
    "    'Sum Qty (lbs)_Marijuana','Sum Qty (lbs)_Other Drugs**', 'Sum_of_Counts', 'Ratio_Cocaine',\n",
    "    'Ratio_Marijuana']\n",
    "\n",
    "# Identify the top 2 points with the highest value in 'Total Imports'\n",
    "ny_import_sorted['Top_2'] = ny_import_sorted['Total Imports'].rank(method='first', ascending=False) <= 2\n",
    "\n",
    "# Melt the dataframe to long format\n",
    "ny_import_sorted_melted = ny_import_sorted.melt(id_vars=['Total Imports', 'Top_2'], value_vars=variables_to_plot, var_name='Variable', value_name='Value')\n",
    "\n",
    "# Create the plot\n",
    "plot = (ggplot(ny_import_sorted_melted, aes(x='Total Imports', y='Value', color='Top_2'))\n",
    "    + geom_point()\n",
    "    + facet_wrap('~ Variable', scales='free_y')\n",
    "    + labs(title='Total Imports vs Various Metrics for Newark/New York',\n",
    "           x='Total Imports',\n",
    "           y='Value')\n",
    "    + theme_538()\n",
    "    + scale_color_manual(values={True: 'red', False: 'black'})\n",
    ")\n",
    "\n",
    "plot"
   ]
  },
  {
   "cell_type": "code",
   "execution_count": null,
   "metadata": {},
   "outputs": [],
   "source": [
    "# Filter the dataframe for 'Newark/New York'\n",
    "newark_data = filtered_data[filtered_data['Hub Portuario_name'] == 'Newark/New York']\n",
    "\n",
    "# Drop out values greater than 10 for columns with numeric data types\n",
    "ny_import_sorted['Top_2'] = ny_import_sorted['Total Imports'].rank(method='first', ascending=False) <= 2\n",
    "numeric_columns = newark_data.select_dtypes(include='number').columns\n",
    "newark_data_filtered = newark_data[ny_import_sorted['Top_2'] == False]"
   ]
  },
  {
   "cell_type": "code",
   "execution_count": null,
   "metadata": {},
   "outputs": [],
   "source": [
    "from plotnine import ggplot, aes, geom_point, labs, theme_538, facet_wrap\n",
    "\n",
    "# Melt the dataframe to long format for plotting\n",
    "newark_data_filtered_melted = newark_data_filtered.melt(id_vars=['Total Imports'], value_vars=variables_to_plot, var_name='Variable', value_name='Value')\n",
    "\n",
    "# Create the scatter plot with faceting\n",
    "plot = (ggplot(newark_data_filtered_melted, aes(x='Total Imports', y='Value'))\n",
    "    + geom_point()\n",
    "    + labs(title='Scatter Plot of Total Imports vs Various Variables for Newark',\n",
    "           x='Total Imports',\n",
    "           y='Value')\n",
    "    + theme_538()\n",
    "    + facet_wrap('~ Variable', scales='free_y')\n",
    ")\n",
    "\n",
    "plot"
   ]
  },
  {
   "cell_type": "markdown",
   "metadata": {},
   "source": [
    "QQ-Plots para Newark (Filtrados)"
   ]
  },
  {
   "cell_type": "code",
   "execution_count": null,
   "metadata": {},
   "outputs": [],
   "source": [
    "import statsmodels.api as sm\n",
    "import matplotlib.pyplot as plt\n",
    "\n",
    "# List of columns to generate QQ-plots for\n",
    "columns_to_plot = ['Empty Exports', 'Loaded Exports', 'Empty Imports', 'Loaded Imports',\n",
    "                   'Total TEUs', 'Total Imports', 'Total Exports']\n",
    "\n",
    "# Generate QQ-plots for each column\n",
    "for column in columns_to_plot:\n",
    "    sm.qqplot(newark_data_filtered[column], line='s')\n",
    "    plt.title(f'QQ-Plot for {column} (Newark/New York)')\n",
    "    plt.show()"
   ]
  },
  {
   "cell_type": "markdown",
   "metadata": {},
   "source": [
    "Tras transformacion logaritmica:"
   ]
  },
  {
   "cell_type": "code",
   "execution_count": 106,
   "metadata": {},
   "outputs": [
    {
     "data": {
      "image/png": "[encoded data removed]"
     },
     "metadata": {
      "image/png": {
       "height": 480,
       "width": 640
      }
     },
     "output_type": "display_data"
    }
   ],
   "source": [
    "from plotnine import ggplot, aes, geom_point, facet_wrap, labs, theme_538\n",
    "\n",
    "# List of variables to plot against 'Total Imports'\n",
    "variables_to_plot = [\n",
    "    'Count of Event_Cocaine','Count of Event_Heroin','Count of Event_Marijuana',\n",
    "    'Count of Event_Other Drugs**', 'Sum Qty (lbs)_Cocaine','Sum Qty (lbs)_Heroin',\n",
    "    'Sum Qty (lbs)_Marijuana','Sum Qty (lbs)_Other Drugs**', 'Sum_of_Counts', 'Ratio_Cocaine',\n",
    "    'Ratio_Marijuana']\n",
    "\n",
    "# Identify the top 2 points with the highest value in 'Total Imports'\n",
    "ny_standardized_update['Top_2'] = ny_standardized_update['Total Imports'].rank(method='first', ascending=False) <= 2\n",
    "\n",
    "# Melt the dataframe to long format\n",
    "ny_standardized_update_melted = ny_standardized_update.melt(id_vars=['Total Imports', 'Top_2'], value_vars=variables_to_plot, var_name='Variable', value_name='Value')\n",
    "\n",
    "# Create the plot\n",
    "plot = (ggplot(ny_standardized_update_melted, aes(x='Total Imports', y='Value', color='Top_2'))\n",
    "    + geom_point()\n",
    "    + facet_wrap('~ Variable', scales='free_y')\n",
    "    + labs(title='Total Imports vs Various Metrics for Newark/New York',\n",
    "           x='Total Imports',\n",
    "           y='Value')\n",
    "    + theme_538()\n",
    "    + scale_color_manual(values={True: 'red', False: 'black'})\n",
    ")\n",
    "\n",
    "plot"
   ]
  },
  {
   "cell_type": "code",
   "execution_count": null,
   "metadata": {},
   "outputs": [],
   "source": []
  },
  {
   "cell_type": "markdown",
   "metadata": {},
   "source": [
    "### Outliers para Miami"
   ]
  },
  {
   "cell_type": "markdown",
   "metadata": {},
   "source": [
    "Outliers para Miami:"
   ]
  },
  {
   "cell_type": "code",
   "execution_count": null,
   "metadata": {},
   "outputs": [],
   "source": [
    "# Filter the dataframe for 'Miami/Fort Lauderdale'\n",
    "everglades_data = filtered_data[filtered_data['Hub Portuario_name'] == 'Miami/Fort Lauderdale']"
   ]
  },
  {
   "cell_type": "code",
   "execution_count": null,
   "metadata": {},
   "outputs": [],
   "source": [
    "# Filter the dataframe for 'Miami/Fort Lauderdale'\n",
    "\n",
    "# Create the plot\n",
    "plot = (ggplot(everglades_data, aes(x='Empty Imports', y='Count of Event_Cocaine'))\n",
    "    + geom_point()\n",
    "    + labs(title='Empty Imports vs Count of Event_Cocaine for Miami/Fort Lauderdale',\n",
    "           x='Empty Imports',\n",
    "           y='Count of Event_Cocaine')\n",
    "    + theme_538())\n",
    "\n",
    "plot"
   ]
  },
  {
   "cell_type": "code",
   "execution_count": null,
   "metadata": {},
   "outputs": [],
   "source": [
    "everglades_data.to_csv('../sources/everglades_data.csv', index=False)\n",
    "newark_data.to_csv('../sources/newark_data.csv', index=False)"
   ]
  },
  {
   "cell_type": "markdown",
   "metadata": {},
   "source": [
    "### Visualización tras el tratamiento de Outliers\n",
    "Revisar outliers, funciones de Sum vs Count y ratios vs contenedores"
   ]
  },
  {
   "cell_type": "code",
   "execution_count": null,
   "metadata": {},
   "outputs": [],
   "source": [
    "# Filter the dataframe for 'Count of Event_Cocaine' and 'Sum Qty (lbs)_Cocaine' variables\n",
    "# Create the plot\n",
    "plot = (ggplot(filtered_data, aes(x='Count of Event_Marijuana', y='Sum Qty (lbs)_Marijuana', color='Hub Portuario'))\n",
    "    + geom_point()\n",
    "    + labs(title='Count of Event vs Sum Qty (lbs) of Marijuana by Hub Portuario',\n",
    "           x='Count of Event Marijuana',\n",
    "           y='Sum Qty (lbs) Marijuana')\n",
    "    + theme_538()\n",
    "    )\n",
    "\n",
    "plot"
   ]
  },
  {
   "cell_type": "code",
   "execution_count": null,
   "metadata": {},
   "outputs": [],
   "source": [
    "# Filter the dataframe for 'Count of Event_Cocaine' and 'Sum Qty (lbs)_Cocaine' variables\n",
    "# Create the plot\n",
    "plot = (ggplot(filtered_data, aes(x='Count of Event_Cocaine', y='Sum Qty (lbs)_Cocaine', color='Hub Portuario'))\n",
    "    + geom_point()\n",
    "    + labs(title='Count of Event vs Sum Qty (lbs) of Cocaine by Hub Portuario',\n",
    "           x='Count of Event Cocaine',\n",
    "           y='Sum Qty (lbs) Cocaine')\n",
    "    + theme_538()\n",
    "    )\n",
    "\n",
    "plot"
   ]
  },
  {
   "cell_type": "code",
   "execution_count": null,
   "metadata": {},
   "outputs": [],
   "source": [
    "# Filter the dataframe for 'Count of Event_Cocaine' and 'Sum Qty (lbs)_Cocaine' variables\n",
    "# Create the plot\n",
    "plot = (ggplot(filtered_data, aes(x='Count of Event_Other Drugs**', y='Sum Qty (lbs)_Other Drugs**', color='Hub Portuario'))\n",
    "    + geom_point()\n",
    "    + labs(title='Count of Event vs Sum Qty (lbs) of Other Drugs** by Hub Portuario',\n",
    "           x='Count of Event Other Drugs**',\n",
    "           y='Sum Qty (lbs) Other Drugs**')\n",
    "    + theme_538()\n",
    "    )\n",
    "\n",
    "plot"
   ]
  },
  {
   "cell_type": "code",
   "execution_count": null,
   "metadata": {},
   "outputs": [],
   "source": [
    "# Create the boxplot\n",
    "plt.figure(figsize=(10, 6))\n",
    "boxplot = sns.boxplot(x='Hub Portuario', y='Count of Event_Cocaine', data=filtered_data)\n",
    "boxplot.set_title('Boxplot of Count of Event_Cocaine by Hub Portuario')\n",
    "boxplot.set_xlabel('Hub Portuario')\n",
    "boxplot.set_ylabel('Count of Event_Cocaine')\n",
    "plt.show()\n",
    "\n",
    "boxplot"
   ]
  },
  {
   "cell_type": "code",
   "execution_count": null,
   "metadata": {},
   "outputs": [],
   "source": [
    "# Create the boxplot\n",
    "plt.figure(figsize=(10, 6))\n",
    "boxplot = sns.boxplot(x='Hub Portuario', y='Ratio_Cocaine', data=filtered_data)\n",
    "boxplot.set_title('Boxplot of Count of Ratio_Cocaine by Hub Portuario')\n",
    "boxplot.set_xlabel('Hub Portuario')\n",
    "boxplot.set_ylabel('Count of Ratio_Cocaine')\n",
    "plt.show()\n",
    "\n",
    "boxplot"
   ]
  },
  {
   "cell_type": "code",
   "execution_count": null,
   "metadata": {},
   "outputs": [],
   "source": [
    "# Create the boxplot\n",
    "plt.figure(figsize=(10, 6))\n",
    "boxplot = sns.boxplot(x='Hub Portuario', y='Ratio_Other Drugs**', data=filtered_data)\n",
    "boxplot.set_title('Boxplot of Count of Ratio_Other Drugs** by Hub Portuario')\n",
    "boxplot.set_xlabel('Hub Portuario')\n",
    "boxplot.set_ylabel('Count of Ratio_Other Drugs**')\n",
    "plt.show()\n",
    "\n",
    "boxplot"
   ]
  },
  {
   "cell_type": "code",
   "execution_count": null,
   "metadata": {},
   "outputs": [],
   "source": [
    "# Create the plot\n",
    "plot = (ggplot(filtered_data, aes(x='Total Imports', y='Ratio_Cocaine', color='Hub Portuario'))\n",
    "    + geom_point()\n",
    "    + labs(title='Ratio of Cocaine to Total Imports by Hub Portuario',\n",
    "           x='Total Imports',\n",
    "           y='Ratio of Cocaine')\n",
    "    + theme_538()\n",
    "    )\n",
    "\n",
    "plot"
   ]
  },
  {
   "cell_type": "markdown",
   "metadata": {},
   "source": [
    "Dado que me interesa relacionar TEUs con Incautaciones, para filtered data, recuperar graficas de series temporales:"
   ]
  },
  {
   "cell_type": "markdown",
   "metadata": {},
   "source": [
    "- Indices de filtered_data en combined_data.\n",
    "- Visualizacion con filtered_data\n",
    "- Containers vs Ratio_*"
   ]
  },
  {
   "cell_type": "code",
   "execution_count": null,
   "metadata": {},
   "outputs": [],
   "source": [
    "# Filter the dataframe for 'Miami/Fort Lauderdale'\n",
    "miami_data = filtered_data[filtered_data['Hub Portuario'] == 2.0]\n",
    "\n",
    "# Define the variables to scale and plot\n",
    "variables_to_plot = [\n",
    "    'Loaded Imports', #'Empty Imports', #'Total TEUs', 'Total Imports', 'Total Exports', # 'Empty Exports', 'Loaded Exports', \n",
    "    'Count of Event_Other Drugs**', #'Sum Qty (lbs)_Cocaine'\n",
    "]\n",
    "\n",
    "# Apply MinMaxScaler to the specified columns\n",
    "scaler = MinMaxScaler()\n",
    "miami_data_scaled = miami_data.copy()\n",
    "miami_data_scaled[variables_to_plot] = scaler.fit_transform(miami_data[variables_to_plot])\n",
    "\n",
    "# Melt the dataframe to long format\n",
    "miami_data_melted = miami_data_scaled.melt(id_vars=['Date'], value_vars=variables_to_plot, var_name='Variable', value_name='Value')\n",
    "\n",
    "# Create the plot\n",
    "plot = (ggplot(miami_data_melted, aes(x='Date', y='Value', color='Variable', group='Variable'))\n",
    "    + geom_line()\n",
    "    + labs(title='Scaled Metrics Over Time\\nfor Miami/Fort Lauderdale',\n",
    "           x='Date',\n",
    "           y='Scaled Value')\n",
    "    + theme_538()\n",
    "    + scale_x_datetime(date_breaks='6 months', date_labels='%b %Y')\n",
    "    + theme(axis_text_x=element_text(rotation=45, hjust=1)))\n",
    "\n",
    "plot"
   ]
  },
  {
   "cell_type": "markdown",
   "metadata": {},
   "source": [
    "### Transformacion Logaritmica\n",
    "Para 'Sum of Counts' en datos del puerto de Newark"
   ]
  },
  {
   "cell_type": "code",
   "execution_count": 127,
   "metadata": {},
   "outputs": [],
   "source": [
    "six_ports = pd.read_csv('../sources/seis_puertos_usa_brutos.csv')"
   ]
  },
  {
   "cell_type": "code",
   "execution_count": 128,
   "metadata": {},
   "outputs": [],
   "source": [
    "newark_data_transformed = six_ports.loc[six_ports['Hub Portuario'] == 'Newark/New York']"
   ]
  },
  {
   "cell_type": "code",
   "execution_count": 129,
   "metadata": {},
   "outputs": [
    {
     "data": {
      "text/html": [
       "<div>\n",
       "<style scoped>\n",
       "    .dataframe tbody tr th:only-of-type {\n",
       "        vertical-align: middle;\n",
       "    }\n",
       "\n",
       "    .dataframe tbody tr th {\n",
       "        vertical-align: top;\n",
       "    }\n",
       "\n",
       "    .dataframe thead th {\n",
       "        text-align: right;\n",
       "    }\n",
       "</style>\n",
       "<table border=\"1\" class=\"dataframe\">\n",
       "  <thead>\n",
       "    <tr style=\"text-align: right;\">\n",
       "      <th></th>\n",
       "      <th>Unnamed: 0</th>\n",
       "      <th>Date</th>\n",
       "      <th>Empty Exports</th>\n",
       "      <th>Loaded Exports</th>\n",
       "      <th>Empty Imports</th>\n",
       "      <th>Loaded Imports</th>\n",
       "      <th>Total TEUs</th>\n",
       "      <th>Total Imports</th>\n",
       "      <th>Total Exports</th>\n",
       "      <th>latitude</th>\n",
       "      <th>...</th>\n",
       "      <th>Ratio_Ecstasy</th>\n",
       "      <th>Ratio_Fentanyl</th>\n",
       "      <th>Ratio_Heroin</th>\n",
       "      <th>Ratio_Ketamine</th>\n",
       "      <th>Ratio_Khat (Catha Edulis)</th>\n",
       "      <th>Ratio_Lsd</th>\n",
       "      <th>Ratio_Marijuana</th>\n",
       "      <th>Ratio_Methamphetamine</th>\n",
       "      <th>Ratio_Other Drugs**</th>\n",
       "      <th>Hub Portuario</th>\n",
       "    </tr>\n",
       "  </thead>\n",
       "  <tbody>\n",
       "    <tr>\n",
       "      <th>1</th>\n",
       "      <td>1</td>\n",
       "      <td>2018-10</td>\n",
       "      <td>187027.0</td>\n",
       "      <td>130782.0</td>\n",
       "      <td>1297.0</td>\n",
       "      <td>339602.0</td>\n",
       "      <td>658708.0</td>\n",
       "      <td>340899.0</td>\n",
       "      <td>317809.0</td>\n",
       "      <td>40.690946</td>\n",
       "      <td>...</td>\n",
       "      <td>0.307446</td>\n",
       "      <td>0.233249</td>\n",
       "      <td>5.464157</td>\n",
       "      <td>3.993012</td>\n",
       "      <td>296.962667</td>\n",
       "      <td>0.014802</td>\n",
       "      <td>0.046242</td>\n",
       "      <td>0.108027</td>\n",
       "      <td>16.142819</td>\n",
       "      <td>Newark/New York</td>\n",
       "    </tr>\n",
       "    <tr>\n",
       "      <th>9</th>\n",
       "      <td>9</td>\n",
       "      <td>2018-11</td>\n",
       "      <td>164584.0</td>\n",
       "      <td>115415.0</td>\n",
       "      <td>2055.0</td>\n",
       "      <td>301826.0</td>\n",
       "      <td>583880.0</td>\n",
       "      <td>303881.0</td>\n",
       "      <td>279999.0</td>\n",
       "      <td>40.690946</td>\n",
       "      <td>...</td>\n",
       "      <td>0.489961</td>\n",
       "      <td>0.627168</td>\n",
       "      <td>0.394603</td>\n",
       "      <td>0.473793</td>\n",
       "      <td>191.361243</td>\n",
       "      <td>0.004226</td>\n",
       "      <td>0.984864</td>\n",
       "      <td>0.064375</td>\n",
       "      <td>1.227891</td>\n",
       "      <td>Newark/New York</td>\n",
       "    </tr>\n",
       "    <tr>\n",
       "      <th>14</th>\n",
       "      <td>14</td>\n",
       "      <td>2018-12</td>\n",
       "      <td>175037.0</td>\n",
       "      <td>115927.0</td>\n",
       "      <td>1094.0</td>\n",
       "      <td>317332.0</td>\n",
       "      <td>609390.0</td>\n",
       "      <td>318426.0</td>\n",
       "      <td>290964.0</td>\n",
       "      <td>40.690946</td>\n",
       "      <td>...</td>\n",
       "      <td>0.598407</td>\n",
       "      <td>0.879644</td>\n",
       "      <td>0.739283</td>\n",
       "      <td>0.466829</td>\n",
       "      <td>NaN</td>\n",
       "      <td>0.012346</td>\n",
       "      <td>0.265918</td>\n",
       "      <td>0.087083</td>\n",
       "      <td>1.075266</td>\n",
       "      <td>Newark/New York</td>\n",
       "    </tr>\n",
       "    <tr>\n",
       "      <th>20</th>\n",
       "      <td>20</td>\n",
       "      <td>2019-01</td>\n",
       "      <td>182337.0</td>\n",
       "      <td>111833.0</td>\n",
       "      <td>1016.0</td>\n",
       "      <td>327345.0</td>\n",
       "      <td>622531.0</td>\n",
       "      <td>328361.0</td>\n",
       "      <td>294170.0</td>\n",
       "      <td>40.690946</td>\n",
       "      <td>...</td>\n",
       "      <td>0.770437</td>\n",
       "      <td>0.046297</td>\n",
       "      <td>0.385809</td>\n",
       "      <td>5.017501</td>\n",
       "      <td>NaN</td>\n",
       "      <td>0.007824</td>\n",
       "      <td>0.862297</td>\n",
       "      <td>0.119050</td>\n",
       "      <td>0.949123</td>\n",
       "      <td>Newark/New York</td>\n",
       "    </tr>\n",
       "    <tr>\n",
       "      <th>28</th>\n",
       "      <td>28</td>\n",
       "      <td>2019-02</td>\n",
       "      <td>175358.0</td>\n",
       "      <td>113358.0</td>\n",
       "      <td>977000.0</td>\n",
       "      <td>295523.0</td>\n",
       "      <td>585216.0</td>\n",
       "      <td>1272523.0</td>\n",
       "      <td>288716.0</td>\n",
       "      <td>40.690946</td>\n",
       "      <td>...</td>\n",
       "      <td>0.479030</td>\n",
       "      <td>NaN</td>\n",
       "      <td>5.602718</td>\n",
       "      <td>1.890739</td>\n",
       "      <td>113.493972</td>\n",
       "      <td>0.004118</td>\n",
       "      <td>0.408701</td>\n",
       "      <td>0.182396</td>\n",
       "      <td>0.962211</td>\n",
       "      <td>Newark/New York</td>\n",
       "    </tr>\n",
       "  </tbody>\n",
       "</table>\n",
       "<p>5 rows × 43 columns</p>\n",
       "</div>"
      ],
      "text/plain": [
       "    Unnamed: 0     Date  Empty Exports  Loaded Exports  Empty Imports  \\\n",
       "1            1  2018-10       187027.0        130782.0         1297.0   \n",
       "9            9  2018-11       164584.0        115415.0         2055.0   \n",
       "14          14  2018-12       175037.0        115927.0         1094.0   \n",
       "20          20  2019-01       182337.0        111833.0         1016.0   \n",
       "28          28  2019-02       175358.0        113358.0       977000.0   \n",
       "\n",
       "    Loaded Imports  Total TEUs  Total Imports  Total Exports   latitude  ...  \\\n",
       "1         339602.0    658708.0       340899.0       317809.0  40.690946  ...   \n",
       "9         301826.0    583880.0       303881.0       279999.0  40.690946  ...   \n",
       "14        317332.0    609390.0       318426.0       290964.0  40.690946  ...   \n",
       "20        327345.0    622531.0       328361.0       294170.0  40.690946  ...   \n",
       "28        295523.0    585216.0      1272523.0       288716.0  40.690946  ...   \n",
       "\n",
       "    Ratio_Ecstasy  Ratio_Fentanyl  Ratio_Heroin  Ratio_Ketamine  \\\n",
       "1        0.307446        0.233249      5.464157        3.993012   \n",
       "9        0.489961        0.627168      0.394603        0.473793   \n",
       "14       0.598407        0.879644      0.739283        0.466829   \n",
       "20       0.770437        0.046297      0.385809        5.017501   \n",
       "28       0.479030             NaN      5.602718        1.890739   \n",
       "\n",
       "    Ratio_Khat (Catha Edulis)  Ratio_Lsd  Ratio_Marijuana  \\\n",
       "1                  296.962667   0.014802         0.046242   \n",
       "9                  191.361243   0.004226         0.984864   \n",
       "14                        NaN   0.012346         0.265918   \n",
       "20                        NaN   0.007824         0.862297   \n",
       "28                 113.493972   0.004118         0.408701   \n",
       "\n",
       "    Ratio_Methamphetamine  Ratio_Other Drugs**    Hub Portuario  \n",
       "1                0.108027            16.142819  Newark/New York  \n",
       "9                0.064375             1.227891  Newark/New York  \n",
       "14               0.087083             1.075266  Newark/New York  \n",
       "20               0.119050             0.949123  Newark/New York  \n",
       "28               0.182396             0.962211  Newark/New York  \n",
       "\n",
       "[5 rows x 43 columns]"
      ]
     },
     "execution_count": 129,
     "metadata": {},
     "output_type": "execute_result"
    }
   ],
   "source": [
    "import numpy as np\n",
    "\n",
    "# Create a new dataframe by copying the existing one\n",
    "newark_data_transformed = newark_data_transformed.copy()\n",
    "\n",
    "# Apply the logarithmic transformation to the 'Sum_of_Counts' variable\n",
    "newark_data_transformed['Sum_of_Counts'] = np.log(newark_data_transformed['Sum_of_Counts'])\n",
    "\n",
    "# Display the first few rows of the new dataframe\n",
    "newark_data_transformed.head()"
   ]
  },
  {
   "cell_type": "code",
   "execution_count": 130,
   "metadata": {},
   "outputs": [
    {
     "data": {
      "text/html": [
       "<div>\n",
       "<style scoped>\n",
       "    .dataframe tbody tr th:only-of-type {\n",
       "        vertical-align: middle;\n",
       "    }\n",
       "\n",
       "    .dataframe tbody tr th {\n",
       "        vertical-align: top;\n",
       "    }\n",
       "\n",
       "    .dataframe thead th {\n",
       "        text-align: right;\n",
       "    }\n",
       "</style>\n",
       "<table border=\"1\" class=\"dataframe\">\n",
       "  <thead>\n",
       "    <tr style=\"text-align: right;\">\n",
       "      <th></th>\n",
       "      <th>Date</th>\n",
       "      <th>Empty Exports</th>\n",
       "      <th>Loaded Exports</th>\n",
       "      <th>Empty Imports</th>\n",
       "      <th>Loaded Imports</th>\n",
       "      <th>Total TEUs</th>\n",
       "      <th>Total Imports</th>\n",
       "      <th>Total Exports</th>\n",
       "      <th>latitude</th>\n",
       "      <th>longitude</th>\n",
       "      <th>...</th>\n",
       "      <th>Ratio_Ecstasy</th>\n",
       "      <th>Ratio_Fentanyl</th>\n",
       "      <th>Ratio_Heroin</th>\n",
       "      <th>Ratio_Ketamine</th>\n",
       "      <th>Ratio_Khat (Catha Edulis)</th>\n",
       "      <th>Ratio_Lsd</th>\n",
       "      <th>Ratio_Marijuana</th>\n",
       "      <th>Ratio_Methamphetamine</th>\n",
       "      <th>Ratio_Other Drugs**</th>\n",
       "      <th>Hub Portuario</th>\n",
       "    </tr>\n",
       "  </thead>\n",
       "  <tbody>\n",
       "    <tr>\n",
       "      <th>0</th>\n",
       "      <td>2018-10</td>\n",
       "      <td>60010.25</td>\n",
       "      <td>74085.50</td>\n",
       "      <td>10454.00</td>\n",
       "      <td>134470.50</td>\n",
       "      <td>333994.55</td>\n",
       "      <td>144924.50</td>\n",
       "      <td>134095.75</td>\n",
       "      <td>47.449355</td>\n",
       "      <td>-122.428779</td>\n",
       "      <td>...</td>\n",
       "      <td>0.003380</td>\n",
       "      <td>NaN</td>\n",
       "      <td>0.031159</td>\n",
       "      <td>NaN</td>\n",
       "      <td>NaN</td>\n",
       "      <td>0.008758</td>\n",
       "      <td>0.113976</td>\n",
       "      <td>0.004833</td>\n",
       "      <td>0.130519</td>\n",
       "      <td>Seattle/Tacoma</td>\n",
       "    </tr>\n",
       "    <tr>\n",
       "      <th>1</th>\n",
       "      <td>2018-10</td>\n",
       "      <td>187027.00</td>\n",
       "      <td>130782.00</td>\n",
       "      <td>1297.00</td>\n",
       "      <td>339602.00</td>\n",
       "      <td>658708.00</td>\n",
       "      <td>340899.00</td>\n",
       "      <td>317809.00</td>\n",
       "      <td>40.690946</td>\n",
       "      <td>-74.157057</td>\n",
       "      <td>...</td>\n",
       "      <td>0.307446</td>\n",
       "      <td>0.233249</td>\n",
       "      <td>5.464157</td>\n",
       "      <td>3.993012</td>\n",
       "      <td>296.962667</td>\n",
       "      <td>0.014802</td>\n",
       "      <td>0.046242</td>\n",
       "      <td>0.108027</td>\n",
       "      <td>16.142819</td>\n",
       "      <td>Newark/New York</td>\n",
       "    </tr>\n",
       "    <tr>\n",
       "      <th>2</th>\n",
       "      <td>2018-10</td>\n",
       "      <td>42467.25</td>\n",
       "      <td>78852.55</td>\n",
       "      <td>22335.75</td>\n",
       "      <td>82396.85</td>\n",
       "      <td>226052.40</td>\n",
       "      <td>104732.60</td>\n",
       "      <td>121319.80</td>\n",
       "      <td>37.900957</td>\n",
       "      <td>-122.209864</td>\n",
       "      <td>...</td>\n",
       "      <td>0.206794</td>\n",
       "      <td>NaN</td>\n",
       "      <td>0.015432</td>\n",
       "      <td>2.068744</td>\n",
       "      <td>NaN</td>\n",
       "      <td>NaN</td>\n",
       "      <td>1.566709</td>\n",
       "      <td>3.284289</td>\n",
       "      <td>8.283458</td>\n",
       "      <td>Oakland</td>\n",
       "    </tr>\n",
       "    <tr>\n",
       "      <th>3</th>\n",
       "      <td>2018-10</td>\n",
       "      <td>7040.00</td>\n",
       "      <td>39467.00</td>\n",
       "      <td>14133.00</td>\n",
       "      <td>29024.00</td>\n",
       "      <td>89664.00</td>\n",
       "      <td>43157.00</td>\n",
       "      <td>46507.00</td>\n",
       "      <td>26.144929</td>\n",
       "      <td>-79.937712</td>\n",
       "      <td>...</td>\n",
       "      <td>0.446682</td>\n",
       "      <td>0.001764</td>\n",
       "      <td>NaN</td>\n",
       "      <td>0.706655</td>\n",
       "      <td>NaN</td>\n",
       "      <td>0.008470</td>\n",
       "      <td>2.259675</td>\n",
       "      <td>19.841604</td>\n",
       "      <td>25.671532</td>\n",
       "      <td>Miami/Fort Lauderdale</td>\n",
       "    </tr>\n",
       "    <tr>\n",
       "      <th>4</th>\n",
       "      <td>2018-10</td>\n",
       "      <td>490137.00</td>\n",
       "      <td>293660.90</td>\n",
       "      <td>24256.30</td>\n",
       "      <td>849907.55</td>\n",
       "      <td>1657961.75</td>\n",
       "      <td>874163.85</td>\n",
       "      <td>783797.90</td>\n",
       "      <td>33.804338</td>\n",
       "      <td>-118.379055</td>\n",
       "      <td>...</td>\n",
       "      <td>0.092649</td>\n",
       "      <td>NaN</td>\n",
       "      <td>NaN</td>\n",
       "      <td>0.010803</td>\n",
       "      <td>NaN</td>\n",
       "      <td>0.033400</td>\n",
       "      <td>1.114274</td>\n",
       "      <td>9.325693</td>\n",
       "      <td>1.356643</td>\n",
       "      <td>Los Angeles/Long Beach</td>\n",
       "    </tr>\n",
       "  </tbody>\n",
       "</table>\n",
       "<p>5 rows × 42 columns</p>\n",
       "</div>"
      ],
      "text/plain": [
       "      Date  Empty Exports  Loaded Exports  Empty Imports  Loaded Imports  \\\n",
       "0  2018-10       60010.25        74085.50       10454.00       134470.50   \n",
       "1  2018-10      187027.00       130782.00        1297.00       339602.00   \n",
       "2  2018-10       42467.25        78852.55       22335.75        82396.85   \n",
       "3  2018-10        7040.00        39467.00       14133.00        29024.00   \n",
       "4  2018-10      490137.00       293660.90       24256.30       849907.55   \n",
       "\n",
       "   Total TEUs  Total Imports  Total Exports   latitude   longitude  ...  \\\n",
       "0   333994.55      144924.50      134095.75  47.449355 -122.428779  ...   \n",
       "1   658708.00      340899.00      317809.00  40.690946  -74.157057  ...   \n",
       "2   226052.40      104732.60      121319.80  37.900957 -122.209864  ...   \n",
       "3    89664.00       43157.00       46507.00  26.144929  -79.937712  ...   \n",
       "4  1657961.75      874163.85      783797.90  33.804338 -118.379055  ...   \n",
       "\n",
       "   Ratio_Ecstasy  Ratio_Fentanyl  Ratio_Heroin  Ratio_Ketamine  \\\n",
       "0       0.003380             NaN      0.031159             NaN   \n",
       "1       0.307446        0.233249      5.464157        3.993012   \n",
       "2       0.206794             NaN      0.015432        2.068744   \n",
       "3       0.446682        0.001764           NaN        0.706655   \n",
       "4       0.092649             NaN           NaN        0.010803   \n",
       "\n",
       "   Ratio_Khat (Catha Edulis)  Ratio_Lsd  Ratio_Marijuana  \\\n",
       "0                        NaN   0.008758         0.113976   \n",
       "1                 296.962667   0.014802         0.046242   \n",
       "2                        NaN        NaN         1.566709   \n",
       "3                        NaN   0.008470         2.259675   \n",
       "4                        NaN   0.033400         1.114274   \n",
       "\n",
       "   Ratio_Methamphetamine  Ratio_Other Drugs**           Hub Portuario  \n",
       "0               0.004833             0.130519          Seattle/Tacoma  \n",
       "1               0.108027            16.142819         Newark/New York  \n",
       "2               3.284289             8.283458                 Oakland  \n",
       "3              19.841604            25.671532   Miami/Fort Lauderdale  \n",
       "4               9.325693             1.356643  Los Angeles/Long Beach  \n",
       "\n",
       "[5 rows x 42 columns]"
      ]
     },
     "execution_count": 130,
     "metadata": {},
     "output_type": "execute_result"
    }
   ],
   "source": [
    "# Merge the newark_data_transformed with combined_data on 'Date'\n",
    "combined_data_updated = combined_data.merge(newark_data_transformed[['Date', 'Sum_of_Counts']], on='Date', how='left', suffixes=('', '_newark'))\n",
    "\n",
    "# Update the 'Sum_of_Counts' column where 'Hub Portuario' is 'Newark/New York'\n",
    "combined_data_updated.loc[combined_data_updated['Hub Portuario'] == 'Newark/New York', 'Sum_of_Counts'] = combined_data_updated['Sum_of_Counts_newark']\n",
    "\n",
    "# Drop the temporary 'Sum_of_Counts_newark' column\n",
    "combined_data_updated.drop(columns=['Sum_of_Counts_newark'], inplace=True)\n",
    "\n",
    "# Display the updated combined_data\n",
    "combined_data_updated.head()"
   ]
  },
  {
   "cell_type": "code",
   "execution_count": 131,
   "metadata": {},
   "outputs": [],
   "source": [
    "newark_ny  = combined_data_updated.loc[combined_data_updated['Hub Portuario'] == 'Newark/New York']"
   ]
  },
  {
   "cell_type": "markdown",
   "metadata": {},
   "source": [
    "Representacion transformacion Sum of Counts"
   ]
  },
  {
   "cell_type": "code",
   "execution_count": 109,
   "metadata": {},
   "outputs": [],
   "source": [
    "standardized_data_updated['Top_2'] = standardized_data_updated['Total Imports'].rank(method='first', ascending=False) <= 2\n",
    "numeric_columns = standardized_data_updated.select_dtypes(include='number').columns\n",
    "standardized_data_updated_filtered = standardized_data_updated[standardized_data_updated['Top_2'] == False]"
   ]
  },
  {
   "cell_type": "code",
   "execution_count": 111,
   "metadata": {},
   "outputs": [
    {
     "data": {
      "image/png": "[encoded data removed]"
     },
     "metadata": {
      "image/png": {
       "height": 480,
       "width": 640
      }
     },
     "output_type": "display_data"
    }
   ],
   "source": [
    "from plotnine import ggplot, aes, geom_point, labs, theme_538\n",
    "\n",
    "# Create the scatter plot\n",
    "plot = (ggplot(standardized_data_updated_filtered, aes(x='Total Imports', y='Sum_of_Counts'))\n",
    "    + geom_point()\n",
    "    + labs(title='Scatter Plot of Total Imports vs Sum of Counts for Newark',\n",
    "           x='Total Imports',\n",
    "           y='Sum of Counts')\n",
    "    + theme_538()\n",
    ")\n",
    "\n",
    "plot"
   ]
  },
  {
   "cell_type": "code",
   "execution_count": 101,
   "metadata": {},
   "outputs": [
    {
     "data": {
      "image/png": "[encoded data removed]",
      "text/plain": [
       "<Figure size 1000x600 with 1 Axes>"
      ]
     },
     "metadata": {},
     "output_type": "display_data"
    }
   ],
   "source": [
    "import matplotlib.pyplot as plt\n",
    "\n",
    "# Plot the histogram for 'Sum_of_Counts'\n",
    "plt.figure(figsize=(10, 6))\n",
    "plt.hist(standardized_data_updated['Sum_of_Counts'], bins=9, edgecolor='black')\n",
    "plt.title('Histogram of Sum of Counts for Newark')\n",
    "plt.xlabel('Sum of Counts')\n",
    "plt.ylabel('Frequency')\n",
    "plt.grid(True)\n",
    "plt.show()"
   ]
  },
  {
   "cell_type": "code",
   "execution_count": 100,
   "metadata": {},
   "outputs": [
    {
     "data": {
      "image/png": "[encoded data removed]",
      "text/plain": [
       "<Figure size 1000x600 with 1 Axes>"
      ]
     },
     "metadata": {},
     "output_type": "display_data"
    }
   ],
   "source": [
    "import seaborn as sns\n",
    "\n",
    "import matplotlib.pyplot as plt\n",
    "\n",
    "# Create the boxplot\n",
    "plt.figure(figsize=(10, 6))\n",
    "boxplot = sns.boxplot(y='Sum_of_Counts', data=standardized_data_updated)\n",
    "boxplot.set_title('Boxplot of Sum of Counts for Newark')\n",
    "boxplot.set_ylabel('Sum of Counts')\n",
    "plt.show()"
   ]
  },
  {
   "cell_type": "markdown",
   "metadata": {},
   "source": [
    "Estandarizar tras transformacion logaritmica:"
   ]
  },
  {
   "cell_type": "code",
   "execution_count": 117,
   "metadata": {},
   "outputs": [],
   "source": [
    "# Apply the pipeline to the numeric columns\n",
    "standardized_data_updated = newark_ny.copy()\n",
    "standardized_data_updated = pipeline.fit_transform(standardized_data_updated)"
   ]
  },
  {
   "cell_type": "markdown",
   "metadata": {},
   "source": [
    "Eliminando ese nuevo outlier"
   ]
  },
  {
   "cell_type": "code",
   "execution_count": null,
   "metadata": {},
   "outputs": [],
   "source": [
    "newark_data_transformed['Sum_of_Counts'].sort_values()"
   ]
  },
  {
   "cell_type": "code",
   "execution_count": null,
   "metadata": {},
   "outputs": [],
   "source": [
    "# Filter the dataframe for rows with 'Sum_of_Counts' > -5\n",
    "newark_data_filtered_positive = newark_data_transformed[newark_data_transformed['Sum_of_Counts'] > -5]"
   ]
  },
  {
   "cell_type": "code",
   "execution_count": null,
   "metadata": {},
   "outputs": [],
   "source": [
    "# Create the boxplot\n",
    "plt.figure(figsize=(10, 6))\n",
    "boxplot = sns.boxplot(y='Sum_of_Counts', data=newark_data_filtered_positive)\n",
    "boxplot.set_title('Boxplot of Sum of Counts for Newark')\n",
    "boxplot.set_ylabel('Sum of Counts')\n",
    "plt.show()"
   ]
  },
  {
   "cell_type": "code",
   "execution_count": null,
   "metadata": {},
   "outputs": [],
   "source": [
    "# Plot the histogram for 'Sum_of_Counts'\n",
    "plt.figure(figsize=(10, 6))\n",
    "plt.hist(newark_data_filtered_positive['Sum_of_Counts'], bins=9, edgecolor='black')\n",
    "plt.title('Histogram of Sum of Counts for Newark')\n",
    "plt.xlabel('Sum of Counts')\n",
    "plt.ylabel('Frequency')\n",
    "plt.grid(True)\n",
    "plt.show()"
   ]
  },
  {
   "cell_type": "code",
   "execution_count": null,
   "metadata": {},
   "outputs": [],
   "source": [
    "# Create the scatter plot\n",
    "plot = (ggplot(newark_data_filtered_positive, aes(x='Total Imports', y='Sum_of_Counts'))\n",
    "    + geom_point()\n",
    "    + labs(title='Scatter Plot of Total Imports vs Sum of Counts for Newark',\n",
    "           x='Total Imports',\n",
    "           y='Sum of Counts')\n",
    "    + theme_538()\n",
    ")\n",
    "\n",
    "plot"
   ]
  },
  {
   "cell_type": "markdown",
   "metadata": {},
   "source": [
    "### Guardar puerto de Newark tras modificaciones\n",
    "newark_data_filtered_positive"
   ]
  },
  {
   "cell_type": "code",
   "execution_count": null,
   "metadata": {},
   "outputs": [],
   "source": [
    "newark_data_filtered_positive.to_csv('../sources/newark_data_treated.csv')"
   ]
  },
  {
   "cell_type": "code",
   "execution_count": 113,
   "metadata": {},
   "outputs": [],
   "source": [
    "standardized_data_updated.to_csv('../sources/newark_data_treated_v2.csv')"
   ]
  },
  {
   "cell_type": "code",
   "execution_count": 119,
   "metadata": {},
   "outputs": [
    {
     "data": {
      "text/plain": [
       "array([[-8.88607270e-01,  1.76554025e+00, -1.67278696e-01, ...,\n",
       "        -2.07027224e-01,  6.40487755e+00,  0.00000000e+00],\n",
       "       [-1.41977807e+00,  2.77916870e-01, -1.61662781e-01, ...,\n",
       "        -2.10684098e-01, -3.28367674e-01,  0.00000000e+00],\n",
       "       [-1.17238118e+00,  3.27481728e-01, -1.68782694e-01, ...,\n",
       "        -2.08781785e-01, -3.97269322e-01,  0.00000000e+00],\n",
       "       ...,\n",
       "       [ 2.59126840e-01, -2.43343575e+00, -1.68367798e-01, ...,\n",
       "        -2.11613323e-01,  3.76978296e-01,  0.00000000e+00],\n",
       "       [ 3.75713185e-01,  1.06350051e+00, -1.65900648e-01, ...,\n",
       "        -1.01044348e-01,  4.21672428e-01,  0.00000000e+00],\n",
       "       [ 3.20840447e-02, -5.72577370e-03, -1.66448904e-01, ...,\n",
       "        -2.14636478e-01,  9.43485206e-01,  0.00000000e+00]])"
      ]
     },
     "execution_count": 119,
     "metadata": {},
     "output_type": "execute_result"
    }
   ],
   "source": [
    "standardized_data_updated"
   ]
  },
  {
   "cell_type": "markdown",
   "metadata": {},
   "source": [
    "## Modelo Machine Learning"
   ]
  },
  {
   "cell_type": "markdown",
   "metadata": {},
   "source": [
    "### Estudiando el Modelo\n",
    "- Qué target?\n",
    "- Qué métrica de evaluación?"
   ]
  },
  {
   "cell_type": "markdown",
   "metadata": {},
   "source": [
    "- Se descartan outliers? O se mantienen?\n",
    "- Qué influencia tienen \"deltas\" altos y aislados? Vs datos constantes altos\n",
    "- Sobre qué variables se toman: ratios_*?\n",
    "- Importa más si crece o decrece? Tomar derivadas\n",
    "- Cómo puntuar: penaliza más si containers bajan pero drogas suben\n",
    "- La relación entre derivadas de variables (nos dan valores negativos o positivos).\n",
    "- Cociente entre derivadas (cociente de signos). DEpende de cuál sube y cual baja:\n",
    "    - Es peor si baja containers, pero suben incautaciones -> Aplicar arc tan*\n",
    "\n",
    "- Existen puertos con constante trasiego y numeros constantes. Frente a otros con deltas altos (un ratio con media baja pero ocasiones puntuales con una incautacion de gran cantidad)\n",
    "\n",
    "- El target es una metrica que depende del presente* de contenedores y de datos pasados (ponderados) de incautaciones.\n"
   ]
  },
  {
   "cell_type": "markdown",
   "metadata": {},
   "source": [
    "Para tratar una serie temporal:\n",
    "- Está ordenada en el tiempo. OK\n",
    "- ¿Qué error? MAE, MAPE, MedAE, MedAPE, SMAPE\n",
    "- Proceso estocástico\n",
    "- El sistema es ergódico (*). E"
   ]
  },
  {
   "cell_type": "markdown",
   "metadata": {},
   "source": [
    "### Guardar y cargar datos II"
   ]
  },
  {
   "cell_type": "code",
   "execution_count": null,
   "metadata": {},
   "outputs": [],
   "source": [
    "# Create a copy of combined_data\n",
    "combined_data_copy = combined_data.copy()\n",
    "\n",
    "# Select rows with indices in filtered_data\n",
    "filtered_combined_data = combined_data_copy.loc[filtered_data.index]"
   ]
  },
  {
   "cell_type": "code",
   "execution_count": null,
   "metadata": {},
   "outputs": [],
   "source": [
    "# Guardar filter_combined_data y filtered_data\n",
    "filtered_combined_data.to_csv('../sources/filtered_combined_data.csv', index=False)\n",
    "filtered_data.to_csv('../sources/filtered_data.csv', index=False)"
   ]
  },
  {
   "cell_type": "markdown",
   "metadata": {},
   "source": [
    "### Cargar datos II\n",
    "Cargar datos:"
   ]
  },
  {
   "cell_type": "code",
   "execution_count": null,
   "metadata": {},
   "outputs": [],
   "source": [
    "filtered_data = pd.read_csv('../sources/filtered_data.csv')\n",
    "filtered_combined_data = pd.read_csv('../sources/filtered_combined_data.csv')"
   ]
  },
  {
   "cell_type": "markdown",
   "metadata": {},
   "source": [
    "### Predictores"
   ]
  },
  {
   "cell_type": "markdown",
   "metadata": {},
   "source": [
    "Predictores: derivadas de TEUs"
   ]
  },
  {
   "cell_type": "code",
   "execution_count": null,
   "metadata": {},
   "outputs": [],
   "source": [
    "import numpy as np\n",
    "from scipy import signal\n",
    "from scipy.ndimage import gaussian_filter1d\n"
   ]
  },
  {
   "cell_type": "code",
   "execution_count": null,
   "metadata": {},
   "outputs": [],
   "source": [
    "# Define the TEU columns to include\n",
    "teu_columns = ['Empty Exports', 'Loaded Exports', 'Empty Imports', 'Loaded Imports', 'Total TEUs', 'Total Imports', 'Total Exports']\n",
    "\n",
    "# Create the filtered_predictors dataframe by selecting the TEU columns and additional columns from filtered_data\n",
    "filtered_predictors = filtered_data[['Hub Portuario', 'Date', 'latitude', 'longitude'] + teu_columns]\n",
    "columns_to_differentiate = teu_columns"
   ]
  },
  {
   "cell_type": "code",
   "execution_count": null,
   "metadata": {},
   "outputs": [],
   "source": [
    "# Define the TEU columns to include\n",
    "teu_columns = ['Empty Exports', 'Loaded Exports', 'Empty Imports', 'Loaded Imports', 'Total TEUs', 'Total Imports', 'Total Exports']\n",
    "\n",
    "# Create the filtered_predictors dataframe by selecting the TEU columns and additional columns from filtered_data\n",
    "non_filtered_predictors = combined_data[['Hub Portuario', 'Date', 'latitude', 'longitude'] + teu_columns]"
   ]
  },
  {
   "cell_type": "markdown",
   "metadata": {},
   "source": [
    "De momento, se seguirá trabajando con 'filtered_data' y, por lo tanto, 'filtered_predictors'"
   ]
  },
  {
   "cell_type": "markdown",
   "metadata": {},
   "source": [
    "### Pruebas y Visualizaciones para Suavizados"
   ]
  },
  {
   "cell_type": "code",
   "execution_count": null,
   "metadata": {},
   "outputs": [],
   "source": [
    "from scipy.misc import derivative\n",
    "\n",
    "# Define a function to apply differentiation\n",
    "def differentiate_column(column):\n",
    "    return column.diff().fillna(0)\n",
    "\n",
    "# Apply the differentiation function to the specified columns\n",
    "\n",
    "for col in columns_to_differentiate:\n",
    "    filtered_predictors[f'{col}_diff'] = differentiate_column(filtered_predictors[col])\n",
    "\n",
    "# Display the updated dataframe\n",
    "filtered_predictors.head()\n",
    "\n",
    "# Filter the dataframe for 'Hub Portuario' == 2\n",
    "miami_data = filtered_predictors[filtered_predictors['Hub Portuario'] == 2]"
   ]
  },
  {
   "cell_type": "code",
   "execution_count": null,
   "metadata": {},
   "outputs": [],
   "source": [
    "from plotnine import ggplot, aes, geom_line, labs, theme_538, facet_wrap, scale_x_datetime, theme, element_text\n",
    "\n",
    "# Melt the dataframe to long format\n",
    "variables_to_plot = ['Loaded Imports', 'Loaded Imports_diff']\n",
    "miami_data_melted = miami_data.melt(id_vars=['Date'], value_vars=variables_to_plot, var_name='Variable', value_name='Value')\n",
    "\n",
    "# Create the plot\n",
    "plot = (ggplot(miami_data_melted, aes(x='Date', y='Value', color='Variable', group='Variable'))\n",
    "    + geom_line()\n",
    "    + labs(title='Loaded Imports and Loaded Imports_diff\\nOver Time for Miami/Fort Lauderdale',\n",
    "           x='Date',\n",
    "           y='Value')\n",
    "    + theme_538()\n",
    "    + facet_wrap('~ Variable', scales='free_y')\n",
    "    + scale_x_datetime(date_breaks='12 months', date_labels='%b %Y')\n",
    "    + theme(axis_text_x=element_text(rotation=45, hjust=1))\n",
    "    )\n",
    "\n",
    "plot"
   ]
  },
  {
   "cell_type": "code",
   "execution_count": null,
   "metadata": {},
   "outputs": [],
   "source": [
    "# Define a function to apply differentiation\n",
    "def differentiate_column(column):\n",
    "    return column.diff().fillna(0)\n",
    "\n",
    "# Apply the differentiation function to the specified columns\n",
    "columns_to_differentiate = ['Empty Exports', 'Loaded Exports', 'Empty Imports', 'Loaded Imports', 'Total TEUs', 'Total Imports', 'Total Exports']\n",
    "for col in columns_to_differentiate:\n",
    "    non_filtered_predictors[f'{col}_diff'] = differentiate_column(non_filtered_predictors[col])"
   ]
  },
  {
   "cell_type": "code",
   "execution_count": null,
   "metadata": {},
   "outputs": [],
   "source": [
    "from plotnine import ggplot, aes, geom_line, labs, theme_538, facet_wrap\n",
    "\n",
    "# Filter the dataframe for 'Hub Portuario' == 2\n",
    "miami_data = non_filtered_predictors[non_filtered_predictors['Hub Portuario'] == 'Miami/Fort Lauderdale']\n",
    "\n",
    "# Melt the dataframe to long format\n",
    "variables_to_plot = ['Loaded Imports', 'Loaded Imports_diff']\n",
    "miami_data_melted = miami_data.melt(id_vars=['Date'], value_vars=variables_to_plot, var_name='Variable', value_name='Value')\n",
    "\n",
    "# Create the plot\n",
    "plot = (ggplot(miami_data_melted, aes(x='Date', y='Value', color='Variable', group='Variable'))\n",
    "    + geom_line()\n",
    "    + labs(title='Loaded Imports and Loaded Imports_diff Over Time for Miami/Fort Lauderdale',\n",
    "           x='Date',\n",
    "           y='Value')\n",
    "    + theme_538()\n",
    "    + facet_wrap('~ Variable', scales='free_y'))\n",
    "\n",
    "plot"
   ]
  },
  {
   "cell_type": "markdown",
   "metadata": {},
   "source": [
    "En ambos casos, la volatilidad de la variable original, más la implementación original de scipy.derivative da como resultado una función de diferencias que varía mucho. Para evitar ello, hace falta realizar un suavizado sobre la función original para intentar aproximar a la principal línea de tendencia de la curva (main trend line)"
   ]
  },
  {
   "cell_type": "markdown",
   "metadata": {},
   "source": [
    "Looking at your graph, I see the issue with the derivative calculation. The \"Loaded Imports_diff\" line (in cyan) is showing high volatility that doesn't reflect the smoother underlying trend in the \"Loaded Imports\" data (in red).\\\n",
    "The problem is likely that you're using a simple difference method in scipy's derivative function, which calculates point-by-point differences. This makes the derivative very sensitive to noise in the original data.\n",
    "Here's how you can get a smoother derivative:\\\n",
    "\n",
    "- Apply smoothing to the original data before taking the derivative\n",
    "- Use a wider window size for the derivative calculation\n",
    "- Apply smoothing to the derivative result itself\n",
    "\n",
    "Here's some code that should help:"
   ]
  },
  {
   "cell_type": "code",
   "execution_count": null,
   "metadata": {},
   "outputs": [],
   "source": [
    "\n",
    "# Assuming df is your dataframe with 'Date' and 'Loaded Imports' columns\n",
    "# First, smooth the original data\n",
    "filtered_predictors['Loaded_Imports_Smoothed'] = gaussian_filter1d(filtered_predictors['Loaded Imports'], sigma=3)\n",
    "\n",
    "# Option 1: Calculate derivative with a wider window\n",
    "def smooth_derivative(x, y, window=5):\n",
    "    \"\"\"Calculate a smoother derivative using a wider window\"\"\"\n",
    "    n = len(y)\n",
    "    result = np.zeros(n)\n",
    "    \n",
    "    half_window = window // 2\n",
    "    for i in range(n):\n",
    "        left = max(0, i - half_window)\n",
    "        right = min(n - 1, i + half_window)\n",
    "        if right > left:  # Ensure we have points for calculation\n",
    "            slope, _ = np.polyfit(x[left:right+1], y[left:right+1], 1)\n",
    "            result[i] = slope\n",
    "    \n",
    "    return result\n",
    "\n",
    "# Convert dates to numeric for calculation\n",
    "x_numeric = np.arange(len(filtered_predictors))\n",
    "filtered_predictors['Loaded_Imports_diff_smooth'] = smooth_derivative(x_numeric, filtered_predictors['Loaded Imports'], window=15)\n"
   ]
  },
  {
   "cell_type": "markdown",
   "metadata": {},
   "source": [
    "Visualizacion gráfica:"
   ]
  },
  {
   "cell_type": "code",
   "execution_count": null,
   "metadata": {},
   "outputs": [],
   "source": [
    "from plotnine import ggplot, aes, geom_line, labs, theme_538, facet_wrap\n",
    "\n",
    "# Filter the dataframe for 'Hub Portuario' == 2.0\n",
    "miami_data = filtered_predictors[filtered_predictors['Hub Portuario'] == 2.0]\n",
    "\n",
    "# Melt the dataframe to long format\n",
    "variables_to_plot = ['Loaded Imports', 'Loaded_Imports_diff_smooth']\n",
    "miami_data_melted = miami_data.melt(id_vars=['Date'], value_vars=variables_to_plot, var_name='Variable', value_name='Value')\n",
    "\n",
    "# Create the plot\n",
    "plot = (ggplot(miami_data_melted, aes(x='Date', y='Value', color='Variable', group='Variable'))\n",
    "    + geom_line()\n",
    "    + labs(title='Loaded Imports and Loaded_Imports_diff_smooth Over Time for Miami/Fort Lauderdale',\n",
    "           x='Date',\n",
    "           y='Value')\n",
    "    + theme_538()\n",
    "    + facet_wrap('~ Variable', scales='free_y'))\n",
    "\n",
    "plot"
   ]
  },
  {
   "cell_type": "markdown",
   "metadata": {},
   "source": [
    "Filtros en señal de entrada:"
   ]
  },
  {
   "cell_type": "code",
   "execution_count": null,
   "metadata": {},
   "outputs": [],
   "source": [
    "# Probar con MA:\n",
    "filtered_predictors['Loaded_Imports_MA'] = filtered_predictors['Loaded Imports'].rolling(window=6).mean()\n",
    "\n",
    "# Apply for 'hub portuario' == 2\n",
    "miami_data = filtered_predictors[filtered_predictors['Hub Portuario'] == 2.0]\n",
    "miami_data['Loaded_Imports_MA'] = miami_data['Loaded Imports'].rolling(window=4).mean()\n",
    "\n",
    "# Option 2: Use scipy's savgol_filter for differentiation and smoothing in one step\n",
    "miami_data['Loaded_Imports_diff_savgol'] = signal.savgol_filter(miami_data['Loaded_Imports_MA'], window_length=4, polyorder=3, deriv=1)\n",
    "\n",
    "# Option 3: Apply additional smoothing to the derivative\n",
    "miami_data['Loaded_Imports_diff'] = np.gradient(miami_data['Loaded_Imports_MA'])\n",
    "miami_data['Loaded_Imports_diff_smoothed'] = gaussian_filter1d(miami_data['Loaded_Imports_diff'], sigma=3)"
   ]
  },
  {
   "cell_type": "code",
   "execution_count": null,
   "metadata": {},
   "outputs": [],
   "source": [
    "# Filter the dataframe for 'Hub Portuario' == 2.0\n",
    "# miami_data = filtered_predictors[filtered_predictors['Hub Portuario'] == 2.0]\n",
    "\n",
    "# Melt the dataframe to long format\n",
    "variables_to_plot = ['Loaded_Imports_MA', 'Loaded_Imports_diff_smoothed']\n",
    "miami_data_melted = miami_data.melt(id_vars=['Date'], value_vars=variables_to_plot, var_name='Variable', value_name='Value')\n",
    "\n",
    "# Create the plot\n",
    "plot = (ggplot(miami_data_melted, aes(x='Date', y='Value', color='Variable', group='Variable'))\n",
    "    + geom_line()\n",
    "    + labs(title='Loaded Imports and Loaded_Imports_diff_smoothed\\nOver Time for Miami/Fort Lauderdale',\n",
    "           x='Date',\n",
    "           y='Value')\n",
    "    + theme_538()\n",
    "    + facet_wrap('~ Variable', scales='free_y')\n",
    "    + scale_x_datetime(date_breaks='12 months', date_labels='%b %Y')\n",
    "    + theme(axis_text_x=element_text(rotation=45, hjust=1))\n",
    "    )\n",
    "\n",
    "plot"
   ]
  },
  {
   "cell_type": "code",
   "execution_count": null,
   "metadata": {},
   "outputs": [],
   "source": [
    "miami_data['Loaded_Imports_EWMA'] = miami_data['Loaded Imports'].ewm(span=4).mean()"
   ]
  },
  {
   "cell_type": "code",
   "execution_count": null,
   "metadata": {},
   "outputs": [],
   "source": [
    "# Option 2: Use scipy's savgol_filter for differentiation and smoothing in one step\n",
    "miami_data['Loaded_Imports_diff_emwa'] = signal.savgol_filter(miami_data['Loaded_Imports_EWMA'], window_length=4, polyorder=2, deriv=1)\n",
    "\n",
    "# Option 3: Apply additional smoothing to the derivative\n",
    "miami_data['Loaded_Imports_emwa_diff'] = np.gradient(miami_data['Loaded_Imports_EWMA'])\n",
    "miami_data['Loaded_Imports_emwa_diff_smoothed'] = gaussian_filter1d(miami_data['Loaded_Imports_emwa_diff'], sigma=3)"
   ]
  },
  {
   "cell_type": "code",
   "execution_count": null,
   "metadata": {},
   "outputs": [],
   "source": [
    "# Melt the dataframe to long format\n",
    "variables_to_plot = ['Loaded_Imports_EWMA', 'Loaded_Imports_emwa_diff_smoothed']\n",
    "miami_data_melted = miami_data.melt(id_vars=['Date'], value_vars=variables_to_plot, var_name='Variable', value_name='Value')\n",
    "\n",
    "# Create the plot\n",
    "plot = (ggplot(miami_data_melted, aes(x='Date', y='Value', color='Variable', group='Variable'))\n",
    "    + geom_line()\n",
    "    + labs(title='Loaded Imports and\\Loaded_Imports_emwa_diff_smoothed\\nOver Time for Miami/Fort Lauderdale',\n",
    "           x='Date',\n",
    "           y='Value')\n",
    "    + theme_538()\n",
    "    + facet_wrap('~ Variable', scales='free_y', )\n",
    "    + scale_x_datetime(date_breaks='12 months', date_labels='%b %Y')\n",
    "    + theme(axis_text_x=element_text(rotation=45, hjust=1))\n",
    "    )\n",
    "\n",
    "plot"
   ]
  },
  {
   "cell_type": "code",
   "execution_count": null,
   "metadata": {},
   "outputs": [],
   "source": [
    "import statsmodels.api as sm\n",
    "lowess = sm.nonparametric.lowess\n",
    "miami_data['Loaded_Imports_Lowess'] = lowess(miami_data['Loaded Imports'], np.arange(len(miami_data)), frac=0.1)[:, 1]"
   ]
  },
  {
   "cell_type": "code",
   "execution_count": null,
   "metadata": {},
   "outputs": [],
   "source": [
    "# Option 2: Use scipy's savgol_filter for differentiation and smoothing in one step\n",
    "miami_data['Loaded_Imports_diff_lowess'] = signal.savgol_filter(miami_data['Loaded_Imports_Lowess'], window_length=6, polyorder=2, deriv=1)\n",
    "\n",
    "# Option 3: Apply additional smoothing to the derivative\n",
    "miami_data['Loaded_Imports_lowess_diff'] = np.gradient(miami_data['Loaded_Imports_Lowess'])\n",
    "miami_data['Loaded_Imports_diff_smoothed'] = gaussian_filter1d(miami_data['Loaded_Imports_lowess_diff'], sigma=3)"
   ]
  },
  {
   "cell_type": "code",
   "execution_count": null,
   "metadata": {},
   "outputs": [],
   "source": [
    "# Melt the dataframe to long format\n",
    "variables_to_plot = ['Loaded_Imports_Lowess', 'Loaded_Imports_diff_lowess']\n",
    "miami_data_melted = miami_data.melt(id_vars=['Date'], value_vars=variables_to_plot, var_name='Variable', value_name='Value')\n",
    "\n",
    "# Create the plot\n",
    "plot = (ggplot(miami_data_melted, aes(x='Date', y='Value', color='Variable', group='Variable'))\n",
    "    + geom_line()\n",
    "    + labs(title='Loaded Imports and Loaded_Imports_diff_lowess\\nOver Time for Miami/Fort Lauderdale',\n",
    "           x='Date',\n",
    "           y='Value')\n",
    "    + theme_538()\n",
    "    + facet_wrap('~ Variable', scales='free_y')\n",
    "    + scale_x_datetime(date_breaks='12 months', date_labels='%b %Y')\n",
    "    + theme(axis_text_x=element_text(rotation=45, hjust=1))\n",
    ")\n",
    "\n",
    "plot"
   ]
  },
  {
   "cell_type": "markdown",
   "metadata": {},
   "source": [
    "### Generar predictores por hub portuario para todas las variables de TEUs\n",
    "Generar predictores con smooth_data and smooth_data_diff, per hub portuario"
   ]
  },
  {
   "cell_type": "code",
   "execution_count": null,
   "metadata": {},
   "outputs": [],
   "source": [
    "# Generar predictors para el modelo, usando MA (ventana = 5), y para diff, savgol (M=5)\n",
    "\n",
    "# 1. Separar por hub portuario\n",
    "model_predictors = pd.DataFrame()\n",
    "for puerto in filtered_predictors['Hub Portuario'].unique():\n",
    "    puerto_data = filtered_predictors[filtered_predictors['Hub Portuario'] == puerto]\n",
    "    \n",
    "    # 2. Generar variables smoothed (MA, 5)\n",
    "    for col in columns_to_differentiate:\n",
    "        puerto_data[f'{col}_MA'] = puerto_data[col].rolling(window=5).mean()\n",
    "    \n",
    "    # 3. Aplicar derivada con savgol (M=5)\n",
    "    for col in columns_to_differentiate:\n",
    "        puerto_data[f'{col}_diff_savgol'] = signal.savgol_filter(puerto_data[f'{col}_MA'], window_length=5, polyorder=3, deriv=1)\n",
    "    \n",
    "    # 4. Añadir variables suavizadas y derivadas suavizadas al dataframe model_predictors\n",
    "    model_predictors = pd.concat([model_predictors, puerto_data], ignore_index=True)"
   ]
  },
  {
   "cell_type": "markdown",
   "metadata": {},
   "source": [
    "#### Missing Values después de Filtrado/Suavizado:\n",
    "Procesar NaN generados por aplicar los filtros:"
   ]
  },
  {
   "cell_type": "code",
   "execution_count": null,
   "metadata": {},
   "outputs": [],
   "source": [
    "# List of '_MA' columns\n",
    "ma_columns = [col for col in model_predictors.columns if col.endswith('_MA')]\n",
    "\n",
    "# Select rows with NaN values in the '_MA' columns\n",
    "rows_with_nan = model_predictors[model_predictors[ma_columns].isna().any(axis=1)]\n",
    "\n",
    "# Iterate over each 'Hub Portuario'\n",
    "for hub in rows_with_nan['Hub Portuario'].unique():\n",
    "    # Filter rows for the current 'Hub Portuario'\n",
    "    hub_rows_with_nan = rows_with_nan[rows_with_nan['Hub Portuario'] == hub]\n",
    "    \n",
    "    # Iterate over each '_MA' column\n",
    "    for ma_col in ma_columns:\n",
    "        # Get the associated column name by removing '_MA'\n",
    "        associated_col = ma_col.replace('_MA', '')\n",
    "        \n",
    "        # Calculate the mean of the associated column for the current 'Hub Portuario'\n",
    "        mean_value = rows_with_nan[rows_with_nan['Hub Portuario'] == hub][associated_col].mean()\n",
    "        \n",
    "        # Impute NaN values in the '_MA' column with the mean value\n",
    "        model_predictors.loc[hub_rows_with_nan.index, ma_col] = mean_value\n"
   ]
  },
  {
   "cell_type": "code",
   "execution_count": null,
   "metadata": {},
   "outputs": [],
   "source": [
    "# List of '_diff_savgol' columns\n",
    "diff_savgol_columns = [col for col in model_predictors.columns if col.endswith('_diff_savgol')]\n",
    "\n",
    "# Select rows with NaN values in the 'diff' columns\n",
    "rows_with_nan = model_predictors[model_predictors[diff_savgol_columns].isna().any(axis=1)]\n",
    "\n",
    "# Iterate over each '_diff_savgol' column\n",
    "for diff_col in diff_savgol_columns:\n",
    "    # Get the associated '_MA' column name by replacing '_diff_savgol' with '_MA'\n",
    "    ma_col = diff_col.replace('_diff_savgol', '_MA')\n",
    "    \n",
    "    # Calculate the mean of the differences of the '_MA' column using rows with NaN values\n",
    "    mean_diff = rows_with_nan[ma_col].diff().mean()\n",
    "    \n",
    "    # Impute NaN values in the '_diff_savgol' column with the mean difference\n",
    "    model_predictors[diff_col].fillna(mean_diff, inplace=True)"
   ]
  },
  {
   "cell_type": "markdown",
   "metadata": {},
   "source": [
    "### Generación del target:\n",
    "A partir de los predictores (derivadas de datos de TEUs suavizados) que adivinen el target (relacionado con la incautación de estupefacientes)."
   ]
  },
  {
   "cell_type": "markdown",
   "metadata": {},
   "source": [
    "Para el target, me interesa: ratios sobre drogas, y lags sobre ratios. Al realizar suavizado (filtro de convolución, implícitamente la muestra actual depende de las anteriores, por lo que realmente no hace falta realizar el lag)"
   ]
  },
  {
   "cell_type": "markdown",
   "metadata": {},
   "source": [
    "Se va a trabajar con datos procesados por StandardScaler()"
   ]
  },
  {
   "cell_type": "code",
   "execution_count": null,
   "metadata": {},
   "outputs": [],
   "source": [
    "filtered_data.columns"
   ]
  },
  {
   "cell_type": "markdown",
   "metadata": {},
   "source": [
    "- ¿Qué quiere decir 'Ratio'? Se refiere a la cantidad de droga incautada por redada (Count of Event).\n",
    "\n",
    "    - Visto en las gráficas y tratados outliers: existen puertos con constantes redadas e incautaciones. En algunos casos, salen picos (deltas) que implican una redada con mucha droga incautada.\n",
    "\n",
    "- ¿Qué busca el modelo?\n",
    "\n",
    "    - Enfrentar rachas* vs deltas** del target obtenido a partir de las variables de incautaciones [me interesa el ratio presente y un numero indeterminado de lags de ratios] y tratarlo en función de la tendencia de los predictores.\n",
    "\n",
    "- Entonces el target, ¿qué variable es?\n",
    "    - Puntuación de = la derivada de (la suma de ratios ponderados por media movil (u otro modo de ponderacion + convolucion) de Count_of_Event para cada droga ).\n",
    "\n",
    "\\* **Racha**: el ratio no varía mucho entre meses consecutivos. Dado que se maneja datos con StandardScaler(), datos que se encuentran cercanos a la media de la función. \\\n",
    "\n",
    "\\*\\* **Delta**: de vez en cuando, en un mes aislado, hay un pico que se sale de lo esperado (datos en la cola de la distribución, pasó el filtro de outliers)\\\n",
    "\n",
    "\\*\\*\\* **Derivada de Counts**: Counts está suavizado por el mismo filtro que los predictores, se aplica su derivada. \n",
    "\n"
   ]
  },
  {
   "cell_type": "markdown",
   "metadata": {},
   "source": [
    "### Diseño del target:\n",
    "**Opción A**: Target: derivada ((Weighted sum of ratios x MA (Count_of_Event)[Drug Type])\n",
    "\n",
    "De este target, tendrán más peso los ratios de drogas con mayor promedio temporal de incautaciones. Y sobre ello, se realiza la variación filtrada (Derivada y suavizado con savitzky-golan filter)\n",
    "\n",
    "**Opción B**: Target: (Weighted sum of ratios x MA (Count_of_Event)[Drug Type])"
   ]
  },
  {
   "cell_type": "code",
   "execution_count": null,
   "metadata": {},
   "outputs": [],
   "source": [
    "# Filter columns that start with 'Count of Event_' and 'Ratio_'\n",
    "count_columns = [col for col in filtered_data.columns if col.startswith('Count of Event_')]\n",
    "ratio_columns = [col for col in filtered_data.columns if col.startswith('Ratio_')]\n",
    "\n",
    "# Create a new dataframe with the filtered columns\n",
    "new_dataframe = filtered_data[['Hub Portuario', 'Date'] + count_columns + ratio_columns]\n",
    "\n",
    "# Define the 'Count of Event_' columns\n",
    "count_columns = [col for col in new_dataframe.columns if col.startswith('Count of Event_')]\n",
    "\n",
    "# Apply rolling average with window length of 5 for each 'Hub Portuario'\n",
    "for col in count_columns:\n",
    "    new_dataframe[f'{col}_MA'] = new_dataframe.groupby('Hub Portuario')[col].transform(lambda x: x.rolling(window=5).mean())\n"
   ]
  },
  {
   "cell_type": "markdown",
   "metadata": {},
   "source": [
    "Tratamiento MVs tras suavizado:"
   ]
  },
  {
   "cell_type": "code",
   "execution_count": null,
   "metadata": {},
   "outputs": [],
   "source": [
    "# List of '_MA' columns\n",
    "event_columns = [col for col in new_dataframe.columns if col.endswith('_MA')]\n",
    "\n",
    "# Select rows with NaN values in the '_MA' columns\n",
    "rows_with_nan = new_dataframe[new_dataframe[event_columns].isna().any(axis=1)]\n",
    "\n",
    "# Iterate over each 'Hub Portuario'\n",
    "for hub in rows_with_nan['Hub Portuario'].unique():\n",
    "    # Filter rows for the current 'Hub Portuario'\n",
    "    hub_rows_with_nan = rows_with_nan[rows_with_nan['Hub Portuario'] == hub]\n",
    "    \n",
    "    # Iterate over each '_MA' column\n",
    "    for ma_col in event_columns:\n",
    "        # Get the associated column name by removing '_MA'\n",
    "        associated_col = ma_col.replace('_MA', '')\n",
    "        \n",
    "        # Calculate the mean of the associated column for the current 'Hub Portuario'\n",
    "        mean_value = rows_with_nan[rows_with_nan['Hub Portuario'] == hub][associated_col].mean()\n",
    "        \n",
    "        # Impute NaN values in the '_MA' column with the mean value\n",
    "        new_dataframe.loc[hub_rows_with_nan.index, ma_col] = mean_value\n"
   ]
  },
  {
   "cell_type": "markdown",
   "metadata": {},
   "source": [
    "Weighted sum of ratios:\n",
    "- ¿Sobre qué pondero? Sobre Count of Event suavizado."
   ]
  },
  {
   "cell_type": "code",
   "execution_count": null,
   "metadata": {},
   "outputs": [],
   "source": [
    "# Define the 'Count of Event_%_MA' columns and 'Ratio_' columns\n",
    "count_ma_columns = [col for col in new_dataframe.columns if col.startswith('Count of Event_') and col.endswith('_MA')]\n",
    "ratio_columns = [col for col in new_dataframe.columns if col.startswith('Ratio_')]\n",
    "\n",
    "# Calculate the sum of products\n",
    "new_dataframe['Sum_of_Products'] = (new_dataframe[count_ma_columns].values * new_dataframe[ratio_columns].values).sum(axis=1)\n"
   ]
  },
  {
   "cell_type": "markdown",
   "metadata": {},
   "source": [
    "Aplicar la derivada a la columna 'Sum_of_Products'"
   ]
  },
  {
   "cell_type": "code",
   "execution_count": null,
   "metadata": {},
   "outputs": [],
   "source": [
    "from scipy.signal import savgol_filter\n",
    "\n",
    "# Apply savgol_filter for differentiation and smoothing in one step\n",
    "new_dataframe['Sum_of_Products_diff'] = savgol_filter(new_dataframe['Sum_of_Products'], window_length=5, polyorder=2, deriv=1)"
   ]
  },
  {
   "cell_type": "code",
   "execution_count": null,
   "metadata": {},
   "outputs": [],
   "source": [
    "model_target_complete = new_dataframe[['Hub Portuario','Date','Sum_of_Products']]\n",
    "# Apply left join\n",
    "model_data = pd.merge(model_predictors, model_target_complete, on=['Hub Portuario', 'Date'], how='left')\n",
    "model_data.rename(columns={'Sum_of_Products_diff':'Target'}, inplace=True)"
   ]
  },
  {
   "cell_type": "markdown",
   "metadata": {},
   "source": [
    "## Aplicación del Modelo de Machine Learning"
   ]
  },
  {
   "cell_type": "code",
   "execution_count": null,
   "metadata": {},
   "outputs": [],
   "source": [
    "# Guardar a csv 'model_predictors' y 'model_target'\n",
    "model_data.to_csv('../sources/model_data.csv', index=False)\n",
    "# model_data_2.to_csv('../sources/model_data_2.csv', index=False)"
   ]
  },
  {
   "cell_type": "code",
   "execution_count": null,
   "metadata": {},
   "outputs": [],
   "source": [
    "# Cargar csv del modelo:\n",
    "model_data = pd.read_csv('../sources/model_data.csv')"
   ]
  },
  {
   "cell_type": "markdown",
   "metadata": {},
   "source": [
    "### Modelo Puerto Único\n",
    "Separar datos por 'Hub Portuario'. Se elimina la variable 'Hub Portuario' y coordenadas"
   ]
  },
  {
   "cell_type": "code",
   "execution_count": null,
   "metadata": {},
   "outputs": [],
   "source": [
    "# Select all columns except 'Date'\n",
    "model_data_no_date = model_data.loc[:, model_data.columns != 'Date']\n",
    "\n",
    "# Display the first few rows of the new dataframe\n",
    "model_data_no_date.head()"
   ]
  },
  {
   "cell_type": "code",
   "execution_count": null,
   "metadata": {},
   "outputs": [],
   "source": [
    "# Filter the dataframe for 'Hub Portuario' == 2\n",
    "hub_2_data = model_data[model_data['Hub Portuario'] == 2.0]\n",
    "\n",
    "# # Generate date range\n",
    "# date_range = pd.date_range(start='2018-10', end='2025-01', freq='M')\n",
    "\n",
    "# # Convert to list of integers\n",
    "# date_integers = list(range(len(date_range)))\n",
    "\n",
    "# # Create a dictionary to map original dates to date integers\n",
    "# date_mapping = dict(zip(date_range.strftime('%Y-%m'), date_integers))\n",
    "\n",
    "# # Substitute the values in 'Date' column with corresponding 'date_integers' values\n",
    "# model_data['Date'] = model_data['Date'].map(date_mapping)\n",
    "\n",
    "# Calculate the variance of each column\n",
    "variance = model_data_no_date.var()\n",
    "\n",
    "# Drop columns with variance = 0\n",
    "hub_2_data = model_data_no_date.loc[:, variance != 0]\n",
    "hub_2_data['Date'] = model_data['Date']"
   ]
  },
  {
   "cell_type": "code",
   "execution_count": null,
   "metadata": {},
   "outputs": [],
   "source": [
    "hub_2_data.head()"
   ]
  },
  {
   "cell_type": "markdown",
   "metadata": {},
   "source": [
    "#### Matriz de correlaciones + Visualizaciones:"
   ]
  },
  {
   "cell_type": "code",
   "execution_count": null,
   "metadata": {},
   "outputs": [],
   "source": [
    "import seaborn as sns\n",
    "\n",
    "import matplotlib.pyplot as plt\n",
    "\n",
    "hub_2_no_date = hub_2_data.loc[:, hub_2_data.columns != 'Date']\n",
    "\n",
    "# Calculate the correlation matrix\n",
    "corr_matrix = hub_2_no_date.corr().abs()\n",
    "\n",
    "# Plot the heatmap\n",
    "plt.figure(figsize=(12, 10))\n",
    "sns.heatmap(corr_matrix, annot=True, cmap='coolwarm', fmt='.2f')\n",
    "plt.title('Correlation Matrix (Absolute Values) for hub_2_data')\n",
    "plt.show()"
   ]
  },
  {
   "cell_type": "code",
   "execution_count": null,
   "metadata": {},
   "outputs": [],
   "source": [
    "from plotnine import ggplot, aes, geom_line, labs, theme_538, facet_wrap, scale_x_datetime, theme, element_text\n",
    "\n",
    "# Melt the dataframe to long format\n",
    "variables_to_plot = ['Loaded Imports_MA', 'Loaded Imports_diff_savgol']\n",
    "hub_2_data_melted = hub_2_data.melt(id_vars=['Date'], value_vars=variables_to_plot, var_name='Variable', value_name='Value')\n",
    "\n",
    "# Create the plot\n",
    "plot = (ggplot(hub_2_data_melted, aes(x='Date', y='Value', color='Variable', group='Variable'))\n",
    "    + geom_line()\n",
    "    + labs(title='Empty Exports and Loaded Exports Over Time for Hub 2',\n",
    "           x='Date',\n",
    "           y='Value')\n",
    "    + theme_538()\n",
    "    + facet_wrap('~ Variable', scales='free_y')\n",
    "    + scale_x_datetime(date_breaks='12 months', date_labels='%b %Y')\n",
    "    + theme(axis_text_x=element_text(rotation=45, hjust=1))\n",
    "    )\n",
    "\n",
    "plot"
   ]
  },
  {
   "cell_type": "markdown",
   "metadata": {},
   "source": [
    "#### Mejor Modelo\n",
    "- Validación de hiperparámetros\n",
    "- Generalización\n",
    "- Métrica de evaluación"
   ]
  },
  {
   "cell_type": "code",
   "execution_count": null,
   "metadata": {},
   "outputs": [],
   "source": []
  },
  {
   "cell_type": "markdown",
   "metadata": {},
   "source": [
    "### Modelo N-Puertos\n",
    "Se trabajan con las variables de coordenadas"
   ]
  }
 ],
 "metadata": {
  "kernelspec": {
   "display_name": "Python 3",
   "language": "python",
   "name": "python3"
  },
  "language_info": {
   "codemirror_mode": {
    "name": "ipython",
    "version": 3
   },
   "file_extension": ".py",
   "mimetype": "text/x-python",
   "name": "python",
   "nbconvert_exporter": "python",
   "pygments_lexer": "ipython3",
   "version": "3.10.12"
  }
 },
 "nbformat": 4,
 "nbformat_minor": 2
}

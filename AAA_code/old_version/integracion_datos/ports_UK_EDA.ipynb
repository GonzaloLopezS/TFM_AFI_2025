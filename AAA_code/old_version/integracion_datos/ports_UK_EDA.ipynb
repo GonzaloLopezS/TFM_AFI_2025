{
 "cells": [
  {
   "cell_type": "markdown",
   "metadata": {},
   "source": [
    "Añadir tablas de DEpartment for Transportation (UK) para informacion en puertos:"
   ]
  },
  {
   "cell_type": "code",
   "execution_count": 2,
   "metadata": {},
   "outputs": [],
   "source": [
    "import pandas as pd\n",
    "import xlrd\n",
    "import re\n",
    "from curating_functions import remove_note"
   ]
  },
  {
   "cell_type": "markdown",
   "metadata": {},
   "source": [
    "**Port0602**: counts of vessels - cargo and passenger - arriving at UK major ports, and selected other ports, from 2009 "
   ]
  },
  {
   "cell_type": "code",
   "execution_count": 3,
   "metadata": {},
   "outputs": [],
   "source": [
    "ficheros_uk = '../home_uk/port0602.xls' # Otras fuentes: \n",
    "uk_number_vessels_ports = pd.read_excel(ficheros_uk,\n",
    "                                   sheet_name ='port0602',\n",
    "                                   header=8,\n",
    "                                   usecols=\"A:Q\",\n",
    "                                   skiprows=[9,122,123,124,125,126,127,128,129],\n",
    "                                   engine='xlrd'\n",
    "                                   )"
   ]
  },
  {
   "cell_type": "markdown",
   "metadata": {},
   "source": [
    "Entre 2017 y 2017.1 hay un cambio en la contabilidad"
   ]
  },
  {
   "cell_type": "markdown",
   "metadata": {},
   "source": [
    "**Port0601**: counts of vessels - cargo and passenger - arriving at UK major ports, and selected other ports, from 2009 **by vessel type and size**\\. $\\red{Rechazada~por~falta~de~granularidad}$\n",
    "**Port0302**: UK major port freight traffic by port and route (filter by direction, cargo group and year):\n",
    "    - $\\orange{Aporta~informacion~sobre~tipo~de~barco~entrante~o~saliente~con~cargamento~y~puerto.~PUEDE~SERVIR}$\\\n",
    "    - port0302: Table with Port, freight by scope\\\n",
    "    - Data: Year | Port | Cargo Group | REgion | Direction | Tonnage | Units\n"
   ]
  },
  {
   "cell_type": "markdown",
   "metadata": {},
   "source": [
    "\n",
    "**Port0301**: UK major port freight traffic by port and year (filter by direction and cargo type), from 2000\\\n",
    "Metric: Tonnage"
   ]
  },
  {
   "cell_type": "code",
   "execution_count": 4,
   "metadata": {},
   "outputs": [],
   "source": [
    "ficheros_uk = '../home_uk/port0301.xls' # Otras fuentes: \n",
    "uk_ports_freight = pd.read_excel(ficheros_uk,\n",
    "                                   sheet_name ='port0301', # ver hoja 'Data'\n",
    "                                   header=10,\n",
    "                                   usecols=\"A:Q\",\n",
    "                                   skiprows=[40,46,59,67,68],\n",
    "                                   engine='xlrd'\n",
    "                                   )"
   ]
  },
  {
   "cell_type": "markdown",
   "metadata": {},
   "source": [
    "**port0203**: UK major port unitised main freight traffic by port, cargo type, metric and loaded status (filter by direction and year)\\\n",
    "**fle0100**: UK Ship Register annual statistics and commercial data comparison: 2003 to 2023 (No desagregado)"
   ]
  },
  {
   "cell_type": "markdown",
   "metadata": {},
   "source": [
    "Para Port0302:\n",
    " - La hoja 'port0302' aporta información sobre tonelaje de cargamento para cada puerto segun domestic/international...\n",
    " - La hoja 'Data' especifica cada grupo de 'Cargo' por puerto y año y el sentido (entrada/salida). $\\green{Usaremos~estos~datos}$"
   ]
  },
  {
   "cell_type": "code",
   "execution_count": 5,
   "metadata": {},
   "outputs": [],
   "source": [
    "# descargar Port0302:\n",
    "ficheros_uk = '../home_uk/port0302.xls' # Otras fuentes: \n",
    "uk_vessels_freight = pd.read_excel(ficheros_uk,\n",
    "                                   sheet_name ='Data', # ver hoja 'Data'\n",
    "                                   header=0,\n",
    "                                   usecols=\"A:J\",\n",
    "                                   engine='xlrd'\n",
    "                                   )"
   ]
  },
  {
   "cell_type": "markdown",
   "metadata": {},
   "source": [
    "Incluir los ficheros extraidos del zip:\n",
    "- **port0502**: UK major port traffic by port (filter by direction), quarterly from 2009 (metric: thousand tonnes (tonnage). $\\green{Puede~servir}$)\n",
    "- **port0503**: UK major port traffic by port (filter by direction and cargo group). $\\orange{No~se~perciben~muchas~diferencias~respecto~a~port0502}$"
   ]
  },
  {
   "cell_type": "code",
   "execution_count": 111,
   "metadata": {},
   "outputs": [],
   "source": [
    "ficheros_uk = '../home_uk/quarterly-port-freight-statistics-july-to-september-2024-tables/port0502.xls' # Otras fuentes: \n",
    "uk_port_freight_quaterly = pd.read_excel(ficheros_uk,\n",
    "                                   sheet_name ='PORT0502', # ver hoja 'Data'\n",
    "                                   header=9,\n",
    "                                   usecols=\"A:BL\",\n",
    "                                   skiprows=[63],\n",
    "                                   engine='xlrd'\n",
    "                                   )"
   ]
  },
  {
   "cell_type": "markdown",
   "metadata": {},
   "source": [
    "### Union de dataframes con Puertos:"
   ]
  },
  {
   "cell_type": "markdown",
   "metadata": {},
   "source": [
    "1. Limpiar columnas con [Notes]"
   ]
  },
  {
   "cell_type": "code",
   "execution_count": 7,
   "metadata": {},
   "outputs": [],
   "source": [
    "uk_ports_freight['Port'] = uk_ports_freight['Port'].apply(remove_note)"
   ]
  },
  {
   "cell_type": "code",
   "execution_count": 8,
   "metadata": {},
   "outputs": [],
   "source": [
    "uk_number_vessels_ports[' Port'] = uk_number_vessels_ports[' Port'].apply(remove_note)\n",
    "uk_number_vessels_ports.rename(columns={' Port':'Port'}, inplace=True)"
   ]
  },
  {
   "cell_type": "code",
   "execution_count": 9,
   "metadata": {},
   "outputs": [],
   "source": [
    "uk_vessels_freight['Port'] = uk_vessels_freight['Port'].apply(remove_note)"
   ]
  },
  {
   "cell_type": "code",
   "execution_count": 112,
   "metadata": {},
   "outputs": [
    {
     "data": {
      "text/plain": [
       "Index(['Major Port', '2009 Q1', '2009 Q2', '2009 Q3', '2009 Q4', '2010 Q1',\n",
       "       '2010 Q2', '2010 Q3', '2010 Q4', '2011 Q1', '2011 Q2', '2011 Q3',\n",
       "       '2011 Q4', '2012 Q1', '2012 Q2', '2012 Q3', '2012 Q4', '2013 Q1',\n",
       "       '2013 Q2', '2013 Q3', '2013 Q4', '2014 Q1', '2014 Q2', '2014 Q3',\n",
       "       '2014 Q4', '2015 Q1', '2015 Q2', '2015 Q3', '2015 Q4', '2016 Q1',\n",
       "       '2016 Q2', '2016 Q3', '2016 Q4', '2017 Q1', '2017 Q2', '2017 Q3',\n",
       "       '2017 Q4', '2018 Q1', '2018 Q2', '2018 Q3', '2018 Q4', '2019 Q1',\n",
       "       '2019 Q2', '2019 Q3', '2019 Q4', '2020 Q1', '2020 Q2\\n [Note 9]',\n",
       "       '2020 Q3', '2020 Q4', '2021 Q1', '2021 Q2', '2021 Q3', '2021 Q4',\n",
       "       '2022 Q1', '2022 Q2', '2022 Q3', '2022 Q4', '2023 Q1', '2023 Q2',\n",
       "       '2023 Q3', '2023 Q4', '2024 Q1 [Note 10]', '2024 Q2 [Note 10]',\n",
       "       '2024 Q3 [Note 10]'],\n",
       "      dtype='object')"
      ]
     },
     "execution_count": 112,
     "metadata": {},
     "output_type": "execute_result"
    }
   ],
   "source": [
    "uk_port_freight_quaterly.columns"
   ]
  },
  {
   "cell_type": "code",
   "execution_count": 113,
   "metadata": {},
   "outputs": [],
   "source": [
    "uk_port_freight_quaterly['Major Port'] = uk_port_freight_quaterly['Major Port'].apply(remove_note)\n",
    "uk_port_freight_quaterly.at[27, \"Major Port\"] = uk_port_freight_quaterly.at[27, \"Major Port\"].split(\" [\")[0]"
   ]
  },
  {
   "cell_type": "code",
   "execution_count": 10,
   "metadata": {},
   "outputs": [],
   "source": [
    "df1 = uk_number_vessels_ports[[\"Port\",\"Major/Minor ports\",\"Port group\"]]\n",
    "df2 = uk_ports_freight[[\"Port\",\"UK Country\"]]\n",
    "\n",
    "df_ports_uk = pd.merge(left = df1,\n",
    "         right = df2,\n",
    "         how = 'outer',\n",
    "         left_on=['Port', df1.groupby('Port').cumcount()],\n",
    "         right_on=['Port', df2.groupby('Port').cumcount()])\n",
    "\n",
    "df_ports_uk['id_Port'] = df_ports_uk.index"
   ]
  },
  {
   "cell_type": "code",
   "execution_count": 61,
   "metadata": {},
   "outputs": [],
   "source": [
    "puertos_uk = df_ports_uk[\"Port\"]\n",
    "puertos_uk = puertos_uk.tolist()"
   ]
  },
  {
   "cell_type": "code",
   "execution_count": null,
   "metadata": {},
   "outputs": [],
   "source": [
    "unique_ports = uk_vessels_freight[\"Port\"].unique()\n",
    "unique_ports_list = unique_ports.tolist()"
   ]
  },
  {
   "cell_type": "code",
   "execution_count": 74,
   "metadata": {},
   "outputs": [
    {
     "name": "stdout",
     "output_type": "stream",
     "text": [
      "Loch Ryan\n",
      "Southampton\n",
      "Stranraer\n",
      "50\n"
     ]
    }
   ],
   "source": [
    "n = 0\n",
    "for i in unique_ports_list:\n",
    "    if i in puertos_uk:\n",
    "        n += 1\n",
    "    else:\n",
    "        print(i)\n",
    "        #Add i to df_ports_uk\n",
    "        new_row = pd.DataFrame({\"Port\":[i],\"id_Port\":[len(df_ports_uk)]})\n",
    "        df_ports_uk = pd.concat([df_ports_uk, new_row], ignore_index=False)\n",
    "\n",
    "print(n)"
   ]
  },
  {
   "cell_type": "code",
   "execution_count": 127,
   "metadata": {},
   "outputs": [
    {
     "data": {
      "text/html": [
       "<div>\n",
       "<style scoped>\n",
       "    .dataframe tbody tr th:only-of-type {\n",
       "        vertical-align: middle;\n",
       "    }\n",
       "\n",
       "    .dataframe tbody tr th {\n",
       "        vertical-align: top;\n",
       "    }\n",
       "\n",
       "    .dataframe thead th {\n",
       "        text-align: right;\n",
       "    }\n",
       "</style>\n",
       "<table border=\"1\" class=\"dataframe\">\n",
       "  <thead>\n",
       "    <tr style=\"text-align: right;\">\n",
       "      <th></th>\n",
       "      <th>Port</th>\n",
       "      <th>key_1</th>\n",
       "      <th>Major/Minor ports</th>\n",
       "      <th>Port group</th>\n",
       "      <th>UK Country</th>\n",
       "      <th>id_Port</th>\n",
       "    </tr>\n",
       "  </thead>\n",
       "  <tbody>\n",
       "    <tr>\n",
       "      <th>0</th>\n",
       "      <td>Grimsby and Immingham</td>\n",
       "      <td>NaN</td>\n",
       "      <td>NaN</td>\n",
       "      <td>NaN</td>\n",
       "      <td>NaN</td>\n",
       "      <td>124</td>\n",
       "    </tr>\n",
       "  </tbody>\n",
       "</table>\n",
       "</div>"
      ],
      "text/plain": [
       "                    Port  key_1 Major/Minor ports Port group UK Country  \\\n",
       "0  Grimsby and Immingham    NaN               NaN        NaN        NaN   \n",
       "\n",
       "   id_Port  \n",
       "0      124  "
      ]
     },
     "execution_count": 127,
     "metadata": {},
     "output_type": "execute_result"
    }
   ],
   "source": [
    "df_ports_uk.loc[df_ports_uk[\"Port\"] == \"Grimsby and Immingham\"] "
   ]
  },
  {
   "cell_type": "code",
   "execution_count": 114,
   "metadata": {},
   "outputs": [],
   "source": [
    "unique_ports = uk_port_freight_quaterly[\"Major Port\"].unique()\n",
    "unique_ports_list = unique_ports.tolist()"
   ]
  },
  {
   "cell_type": "code",
   "execution_count": 116,
   "metadata": {},
   "outputs": [
    {
     "name": "stdout",
     "output_type": "stream",
     "text": [
      "Cromarty Firth \n",
      "Goole \n",
      "Grimsby and Immingham\n",
      "Loch Ryan\n",
      "Poole \n",
      "Rivers Hull and Humber \n",
      "Southampton\n",
      "Sullom Voe \n",
      "45\n"
     ]
    }
   ],
   "source": [
    "n = 0\n",
    "for i in unique_ports_list:\n",
    "    if i in puertos_uk:\n",
    "        n += 1\n",
    "    else:\n",
    "        print(i)\n",
    "        #Add i to df_ports_uk\n",
    "        new_row = pd.DataFrame({\"Port\":[i],\"id_Port\":[len(df_ports_uk)]})\n",
    "        df_ports_uk = pd.concat([df_ports_uk, new_row], ignore_index=False)\n",
    "\n",
    "print(n)"
   ]
  },
  {
   "cell_type": "markdown",
   "metadata": {},
   "source": [
    "Se ha creado la tabla/dataframe \"UK_PORTS\" con el identificador (PK) id_Port, detrayendo de los dataframes originales las columnas que caracterizan a los puertos.\n",
    "Ahora, de esos primeros dataframes, una vez extraidas las columnas de atributos de puerto, se sustituye el nombre de puerto por el numero de identificador (que hace las veces de foreign key para la tabla \"UK PORTS\")"
   ]
  },
  {
   "cell_type": "code",
   "execution_count": 11,
   "metadata": {},
   "outputs": [],
   "source": [
    "key_value_dict = dict(zip(df_ports_uk['Port'], df_ports_uk['id_Port'])) "
   ]
  },
  {
   "cell_type": "code",
   "execution_count": 20,
   "metadata": {},
   "outputs": [
    {
     "name": "stderr",
     "output_type": "stream",
     "text": [
      "/tmp/ipykernel_38638/2293702691.py:2: SettingWithCopyWarning: \n",
      "A value is trying to be set on a copy of a slice from a DataFrame\n",
      "\n",
      "See the caveats in the documentation: https://pandas.pydata.org/pandas-docs/stable/user_guide/indexing.html#returning-a-view-versus-a-copy\n",
      "  uk_freight.rename(columns={'Port':'FK_Port'}, inplace=True)\n",
      "/tmp/ipykernel_38638/2293702691.py:3: SettingWithCopyWarning: \n",
      "A value is trying to be set on a copy of a slice from a DataFrame.\n",
      "Try using .loc[row_indexer,col_indexer] = value instead\n",
      "\n",
      "See the caveats in the documentation: https://pandas.pydata.org/pandas-docs/stable/user_guide/indexing.html#returning-a-view-versus-a-copy\n",
      "  uk_freight['id_Port'] = uk_freight['FK_Port'].map(key_value_dict)\n"
     ]
    }
   ],
   "source": [
    "uk_freight = uk_ports_freight.iloc[:, [1] + list(range(3, len(uk_ports_freight.columns)-1))]\n",
    "uk_freight.rename(columns={'Port':'FK_Port'}, inplace=True)\n",
    "uk_freight['id_Port'] = uk_freight['FK_Port'].map(key_value_dict)"
   ]
  },
  {
   "cell_type": "markdown",
   "metadata": {},
   "source": [
    "Se ha incluido la columna id_Port que es la foreign key que la relaciona con Ports_UK:"
   ]
  },
  {
   "cell_type": "markdown",
   "metadata": {},
   "source": [
    "Se hace lo mismo para UK_vessels:"
   ]
  },
  {
   "cell_type": "code",
   "execution_count": 21,
   "metadata": {},
   "outputs": [
    {
     "name": "stderr",
     "output_type": "stream",
     "text": [
      "/tmp/ipykernel_38638/32495670.py:2: SettingWithCopyWarning: \n",
      "A value is trying to be set on a copy of a slice from a DataFrame.\n",
      "Try using .loc[row_indexer,col_indexer] = value instead\n",
      "\n",
      "See the caveats in the documentation: https://pandas.pydata.org/pandas-docs/stable/user_guide/indexing.html#returning-a-view-versus-a-copy\n",
      "  uk_vessels_in_port['id_Port'] = uk_vessels_in_port['Port'].map(key_value_dict)\n"
     ]
    }
   ],
   "source": [
    "uk_vessels_in_port = uk_number_vessels_ports.iloc[:, [0] + list(range(3, len(uk_ports_freight.columns)-1))]\n",
    "uk_vessels_in_port['id_Port'] = uk_vessels_in_port['Port'].map(key_value_dict)"
   ]
  },
  {
   "cell_type": "code",
   "execution_count": 81,
   "metadata": {},
   "outputs": [],
   "source": [
    "uk_vessels_freight = uk_vessels_freight.drop(uk_vessels_freight.columns[2], axis=1)\n",
    "uk_vessels_freight['id_Port'] = uk_vessels_freight['Port'].map(key_value_dict)"
   ]
  },
  {
   "cell_type": "code",
   "execution_count": 129,
   "metadata": {},
   "outputs": [],
   "source": [
    "uk_port_freight_quaterly['id_Port'] = uk_vessels_freight['Major Port'].map(key_value_dict)"
   ]
  },
  {
   "cell_type": "markdown",
   "metadata": {},
   "source": [
    "Eliminar duplicados de df_ports_uk"
   ]
  },
  {
   "cell_type": "markdown",
   "metadata": {},
   "source": [
    "Por ejemplo, London solo sale en la tabla 'freight' pero no en 'vessels_in_port'. Es posible que haya que considerar entidades regionales que engloben distintos puertos (ver la columna 'Port group' de df_ports_uk)"
   ]
  },
  {
   "cell_type": "markdown",
   "metadata": {},
   "source": [
    "Ya tenemos las tablas df_ports_uk, uk_freight y uk_vessels_in_port, que relacionan puertos, regiones, con numero de barcos y volumen de cargamento.\\\n",
    "Con la cantidad de tonelaje que entra en cada puerto (o sale) se puede identificar si el puerto es un puerto de carga (de containers), pesquero, deportivo o de otro tipo.\n",
    "\n"
   ]
  },
  {
   "cell_type": "markdown",
   "metadata": {},
   "source": [
    "*Guardar .csv de los dataframes creados:"
   ]
  },
  {
   "cell_type": "code",
   "execution_count": 168,
   "metadata": {},
   "outputs": [],
   "source": [
    "uk_vessels_in_port.to_csv('../home_uk/uk_vessels_in_port.csv', index=False)\n",
    "uk_freight.to_csv('../home_uk/uk_freight.csv', index=False)\n",
    "uk_vessels_freight.to_csv('../home_uk/uk_freight_in_vessels.csv', index=False)\n",
    "uk_port_freight_quaterly.to_csv('../home_uk/uk_port_freight_quaterly.csv', index=False)"
   ]
  },
  {
   "cell_type": "code",
   "execution_count": 138,
   "metadata": {},
   "outputs": [
    {
     "data": {
      "text/plain": [
       "['Aberdeen',\n",
       " 'Appledore',\n",
       " 'Ardrishaig',\n",
       " 'Ayr',\n",
       " 'Barrow',\n",
       " 'Barry',\n",
       " 'Belfast',\n",
       " 'Berwick-On-Tweed',\n",
       " 'Bideford',\n",
       " 'Blyth',\n",
       " 'Boston',\n",
       " 'Bridgwater',\n",
       " 'Brightlingsea',\n",
       " 'Bristol',\n",
       " 'Buckie',\n",
       " 'Burry Port',\n",
       " 'Cairnryan',\n",
       " 'Cardiff',\n",
       " 'Chichester',\n",
       " 'Clyde',\n",
       " 'Coleraine',\n",
       " 'Corpach',\n",
       " 'Cowes, Isle of Wight ',\n",
       " 'Cromarty Firth',\n",
       " 'Dover',\n",
       " 'Dundee',\n",
       " 'Falmouth',\n",
       " 'Felixstowe',\n",
       " 'Fishguard',\n",
       " 'Fleetwood',\n",
       " 'Forth',\n",
       " 'Fowey',\n",
       " 'Fraserburgh',\n",
       " 'Garston',\n",
       " \"Gill's Bay Scotland\",\n",
       " 'Glensanda',\n",
       " 'Goole',\n",
       " 'Great Yarmouth',\n",
       " 'Grimsby & Immingham',\n",
       " 'Harwich',\n",
       " 'Heysham',\n",
       " 'Holyhead',\n",
       " \"Hughtown (St Mary's)\",\n",
       " 'Hull',\n",
       " 'Inverkeithing',\n",
       " 'Inverness',\n",
       " 'Ipswich',\n",
       " 'Kilroot',\n",
       " 'Kilroot Power Station Jetty',\n",
       " \"King's Lynn\",\n",
       " 'Lancaster',\n",
       " 'Larne',\n",
       " 'Lerwick',\n",
       " 'Littlehampton',\n",
       " 'Liverpool',\n",
       " 'Llandulas',\n",
       " 'Loch Ryan ',\n",
       " 'London',\n",
       " 'Londonderry',\n",
       " 'Lowestoft',\n",
       " 'Manchester',\n",
       " 'Medway',\n",
       " 'Milford Haven',\n",
       " 'Mistley',\n",
       " 'Montrose',\n",
       " 'Mostyn',\n",
       " 'Neath',\n",
       " 'Newhaven',\n",
       " 'Newport',\n",
       " 'Newport, Isle of Wight',\n",
       " 'Orkney',\n",
       " 'Other ports',\n",
       " 'Padstow',\n",
       " 'Penzance',\n",
       " 'Perth',\n",
       " 'Peterhead',\n",
       " 'Plymouth',\n",
       " 'Poole',\n",
       " 'Port Penrhyn',\n",
       " 'Port Talbot',\n",
       " 'Porthoustock',\n",
       " 'Portsmouth ',\n",
       " 'Ramsgate ',\n",
       " 'River Ouse',\n",
       " 'River Trent',\n",
       " 'Rivers Hull and Humber',\n",
       " 'Rye',\n",
       " 'Scalloway',\n",
       " 'Scrabster',\n",
       " 'Seaham',\n",
       " 'Sharpness',\n",
       " 'Shoreham',\n",
       " 'Silloth',\n",
       " 'Southampton ',\n",
       " 'Stornoway',\n",
       " 'Stranraer ',\n",
       " 'Sullom Voe',\n",
       " 'Sunderland',\n",
       " 'Sutton Bridge',\n",
       " 'Swansea',\n",
       " 'Tees and Hartlepool',\n",
       " 'Teignmouth',\n",
       " 'Troon',\n",
       " 'Truro',\n",
       " 'Tyne',\n",
       " 'Wallasea',\n",
       " 'Warrenpoint',\n",
       " 'Weymouth & Portland',\n",
       " 'Whitstable',\n",
       " 'Wick',\n",
       " 'Wisbech',\n",
       " 'Workington',\n",
       " 'Fleetwood ',\n",
       " 'Ipswich ',\n",
       " 'London ',\n",
       " 'Portsmouth',\n",
       " 'Ramsgate',\n",
       " 'Rivers Hull & Humber',\n",
       " 'Tees & Hartlepool',\n",
       " 'Loch Ryan',\n",
       " 'Southampton',\n",
       " 'Stranraer',\n",
       " 'Cromarty Firth ',\n",
       " 'Goole ',\n",
       " 'Grimsby and Immingham',\n",
       " 'Poole ',\n",
       " 'Rivers Hull and Humber ',\n",
       " 'Sullom Voe ']"
      ]
     },
     "execution_count": 138,
     "metadata": {},
     "output_type": "execute_result"
    }
   ],
   "source": [
    "df_ports_uk[\"Port\"].unique().tolist()"
   ]
  },
  {
   "cell_type": "code",
   "execution_count": 141,
   "metadata": {},
   "outputs": [],
   "source": [
    "df_ports_uk[\"Port\"] = df_ports_uk[\"Port\"].str.rstrip()\n",
    "df_ports_uk.drop_duplicates(subset=['Port'], keep='first', inplace=True)"
   ]
  },
  {
   "cell_type": "markdown",
   "metadata": {},
   "source": [
    "### Cargar CSV drug_seizure UK\n",
    "Vamos a relacionar el puerto con la región o autoridad pertinente"
   ]
  },
  {
   "cell_type": "code",
   "execution_count": 149,
   "metadata": {},
   "outputs": [],
   "source": [
    "uk_drug_seizure_df = pd.read_csv('../home_uk/uk_drug_seizure_df.csv',\n",
    "            sep = ',',\n",
    "            header = 0,\n",
    "            skiprows = [44,45,46,47])"
   ]
  },
  {
   "cell_type": "markdown",
   "metadata": {},
   "source": [
    "Ver: https://medium.com/@alexroz/6-python-libraries-to-make-beautiful-maps-9fb9edb28b27\n",
    "- cartopy\n",
    "- folium and geopandas\n",
    "- plotly\n",
    "- ipyleaflet\n",
    "- geemap\n",
    "- ridgemap"
   ]
  },
  {
   "cell_type": "markdown",
   "metadata": {},
   "source": [
    "Para vincular el puerto con el Area Policial, chatGPT recomienda:\n",
    "1. Si se tienen las coordenadas de los puertos y de las areas policiales (AP): geopandas + spatial join\n",
    "2. Si se tiene informacion sobre la ciudad o CP: uso de APIs publicas,\n",
    "\n",
    "En este caso, se prueba primero con [2]\n",
    "\n",
    "*Otra opcion es mediante 'embeddings' si diera tiempo."
   ]
  },
  {
   "cell_type": "code",
   "execution_count": 177,
   "metadata": {},
   "outputs": [],
   "source": [
    "# Primera solucion aportada por ChatGPT\n",
    "port_group_to_police = {\n",
    "    'Scotland East Coast': 'Northumbria',\n",
    "    'Bristol Channel': 'Avon & Somerset',\n",
    "    'Scotland West Coast': 'Cumbria',\n",
    "    'Lancs and Cumbria': 'Cumbria',\n",
    "    'Northern Ireland': 'Northern Ireland',  # Ajusta según necesidad\n",
    "    'North East': 'Cleveland',\n",
    "    'Wash & Northern E Anglia': 'Norfolk ',\n",
    "    'Thames and Kent': 'Kent ',\n",
    "    'Sussex and Hampshire': 'Sussex',\n",
    "    'West Country': 'Devon & Cornwall ',\n",
    "    'Haven': 'Essex',\n",
    "    'West and North Wales': 'North Wales',\n",
    "    'Humber': 'Humberside'\n",
    "}\n",
    "\n",
    "# Asignar la región policial al dataframe de puertos\n",
    "df_ports_uk['Police force region'] = df_ports_uk['Port group'].map(port_group_to_police)"
   ]
  },
  {
   "cell_type": "code",
   "execution_count": 179,
   "metadata": {},
   "outputs": [],
   "source": [
    "df_ports_uk.to_csv('../home_uk/uk_ports.csv', index=False)"
   ]
  }
 ],
 "metadata": {
  "kernelspec": {
   "display_name": "Python 3",
   "language": "python",
   "name": "python3"
  },
  "language_info": {
   "codemirror_mode": {
    "name": "ipython",
    "version": 3
   },
   "file_extension": ".py",
   "mimetype": "text/x-python",
   "name": "python",
   "nbconvert_exporter": "python",
   "pygments_lexer": "ipython3",
   "version": "3.10.12"
  }
 },
 "nbformat": 4,
 "nbformat_minor": 2
}

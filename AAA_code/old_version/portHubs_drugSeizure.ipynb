{
 "cells": [
  {
   "cell_type": "markdown",
   "metadata": {},
   "source": [
    "Liaison between 'ports_and_freights' and 'drug_seizures' given the dictionary: port_hub and Area of Responsability"
   ]
  },
  {
   "cell_type": "code",
   "execution_count": 1,
   "metadata": {},
   "outputs": [],
   "source": [
    "import pandas as pd\n",
    "import numpy as np"
   ]
  },
  {
   "cell_type": "code",
   "execution_count": 2,
   "metadata": {},
   "outputs": [],
   "source": [
    "ports_and_freights_df = pd.read_csv('ports_and_freights.csv', sep=',')\n",
    "drug_seizures_df = pd.read_csv('drug_seizures_df.csv', sep=',')"
   ]
  },
  {
   "cell_type": "code",
   "execution_count": 3,
   "metadata": {},
   "outputs": [],
   "source": [
    "ports_and_freights_df.drop('Unnamed: 0', axis=1, inplace=True)\n",
    "drug_seizures_df.drop('Unnamed: 0', axis=1, inplace=True)"
   ]
  },
  {
   "cell_type": "markdown",
   "metadata": {},
   "source": [
    "LEFT: ports_and_freights_df\\\n",
    "RIGHT: drug_seizures_df\n",
    "\n",
    "ON: Port hub\\\n",
    "To create column 'Port hub' in drug_seizures_df, the dictionary should have 'Area of Responsability' as key and 'Port hub' as value"
   ]
  },
  {
   "cell_type": "code",
   "execution_count": 4,
   "metadata": {},
   "outputs": [],
   "source": [
    "dict_port_hub = {\n",
    "'Bristol Channel':['South Wales', 'Avon & Somerset', 'Devon & Cornwall', 'Dorset','South Wales10'],\n",
    "'Haven': ['Dyfed-Powys', 'Gwent'],\n",
    "'Humber': ['Humberside', 'Lincolnshire', 'South Yorkshire','Lincolnshire 1','Lincolnshire1','Lincolnshire7'],\n",
    "'Lancs and Cumbria': ['Lancashire', 'Cumbria', 'Cheshire'],\n",
    "'Michigan-canada':'DETROIT SECTOR',\n",
    "'North East': ['Northumbria', 'Durham', 'Cleveland', 'North Yorkshire','Greater Manchester','Greater Manchester1','Greater Manchester7','Merseyside'],\n",
    "'Northern Ireland': None,\n",
    "'Scotland East Coast':None,\n",
    "'Scotland West Coast':None,\n",
    "'Sussex and Hampshire': ['Sussex', 'Hampshire', 'Surrey','Sussex1','Sussex7,9'],\n",
    "'Thames and Kent': ['Kent', 'Thames Valley', 'Hertfordshire', 'Bedfordshire', 'Essex', 'Metropolitan Police', 'City of London Police', 'British Transport Police','Kent ','Kent 1','Kent1','Kent7,8','London, City of','Metropolitan Police10'],\n",
    "'Wash & Northern E Anglia': ['Norfolk', 'Suffolk', 'Cambridgeshire','Norfolk9','Suffolk9'],\n",
    "'West Country': ['Gloucestershire', 'Wiltshire'],\n",
    "'West and North Wales': ['North Wales', 'Staffordshire','Staffordshire8', 'West Mercia'],\n",
    "\n",
    "'baltimore, md, filadelfia, pa':['BALTIMORE FIELD OFFICE'],\n",
    "'boston, ma':['BOSTON FIELD OFFICE'],\n",
    "'charleston, sc':None,\n",
    "'chicago, il':'CHICAGO FIELD OFFICE',\n",
    "'corpus christi, tx':None,\n",
    "'detroit, mi/ toledo, cleveland, oh':'DETROIT FIELD OFFICE',\n",
    "'duluth, mn':'GRAND FORKS SECTOR',\n",
    "'erie/buffalo, ny, hamilton/toronto, canada':['BUFFALO FIELD OFFICE','BUFFALO SECTOR'],\n",
    "'great los angeles, ca':'LOS ANGELES FIELD OFFICE',\n",
    "'honolulu, hi':None,\n",
    "'houston/galveston, tx':'HOUSTON FIELD OFFICE',\n",
    "'jackson county, ms, mobile, al':'NEW ORLEANS SECTOR',\n",
    "'jacksonville, fl':'MIAMI SECTOR',\n",
    "'miami-fort lauderdale, fl':'MIAMI FIELD OFFICE',\n",
    "'new orleans, lo':'NEW ORLEANS FIELD OFFICE',\n",
    "'newark/new york, nj/ny':'NEW YORK FIELD OFFICE',\n",
    "'norfolk, va':None,\n",
    "'portland, or':'PORTLAND FIELD OFFICE',\n",
    "'san diego, ca':['SAN DIEGO FIELD OFFICE','SAN DIEGO SECTOR'],\n",
    "'san francisco bay area, ca':'SAN FRANCISCO FIELD OFFICE',\n",
    "'san juan, puerto rico':'SAN JUAN FIELD OFFICE',\n",
    "'savannah, ga':['ATLANTA FIELD OFFICE'],\n",
    "'seattle/tacoma, wa':['SEATTLE FIELD OFFICE','BLAINE SECTOR'],\n",
    "'tampa, fl':'TAMPA FIELD OFFICE',\n",
    "'wilmington, nc':None\n",
    "}"
   ]
  },
  {
   "cell_type": "code",
   "execution_count": 6,
   "metadata": {},
   "outputs": [],
   "source": [
    "ports_and_freights_PortHub = ports_and_freights_df['Port hub'].unique().tolist()\n",
    "ports_and_freights_PortHub = [x for x in ports_and_freights_PortHub if str(x) != 'nan']\n",
    "ports_and_freights_PortHub.sort()"
   ]
  },
  {
   "cell_type": "code",
   "execution_count": 7,
   "metadata": {},
   "outputs": [],
   "source": [
    "drug_seizures_df_AoR = drug_seizures_df['Area of Responsibility'].unique().tolist()\n",
    "drug_seizures_df_AoR = [x for x in drug_seizures_df_AoR if str(x) != 'nan']\n",
    "drug_seizures_df_AoR.sort()"
   ]
  },
  {
   "cell_type": "code",
   "execution_count": 8,
   "metadata": {},
   "outputs": [],
   "source": [
    "def add_column_from_reversed_dict(df, column_a, original_dict, new_column_name):\n",
    "    \"\"\"Adds a new column using a reversed dictionary, handling lists as values and skipping errors.\n",
    "\n",
    "    Args:\n",
    "        df: The Pandas DataFrame.\n",
    "        column_a: The name of the column whose values are *values* in the original dictionary.\n",
    "        original_dict: The original dictionary (can have lists as values).\n",
    "        new_column_name: The name of the new column.\n",
    "\n",
    "    Returns:\n",
    "        The modified Pandas DataFrame.\n",
    "    \"\"\"\n",
    "\n",
    "    reversed_dict = {}\n",
    "    for key, value in original_dict.items():\n",
    "        if isinstance(value, list):  # Handle lists of values\n",
    "            for v in value:\n",
    "                reversed_dict[v] = key  # Map each element in the list to the key\n",
    "        else:\n",
    "            reversed_dict[value] = key # Handle single values\n",
    "\n",
    "    df[new_column_name] = df[column_a].apply(lambda x: reversed_dict.get(x)) # Use .get() to handle missing keys\n",
    "    return df"
   ]
  },
  {
   "cell_type": "code",
   "execution_count": 9,
   "metadata": {},
   "outputs": [],
   "source": [
    "# Añadir columna \"port_name\" en freights_df\n",
    "drug_seizures_df_modified = add_column_from_reversed_dict(drug_seizures_df, 'Area of Responsibility', dict_port_hub, 'Port hub')"
   ]
  },
  {
   "cell_type": "markdown",
   "metadata": {},
   "source": [
    "Aggregate on Port hub and Year:"
   ]
  },
  {
   "cell_type": "code",
   "execution_count": 10,
   "metadata": {},
   "outputs": [
    {
     "data": {
      "text/plain": [
       "Index(['Area of Responsibility', 'Year', 'Drug Type', 'Count of Event',\n",
       "       'Sum Qty (kg)', 'Sum Qty (lbs)', 'FY', 'Month (abbv)', 'Component',\n",
       "       'Region', 'Land Filter', 'Month', 'Date', 'Port hub'],\n",
       "      dtype='object')"
      ]
     },
     "execution_count": 10,
     "metadata": {},
     "output_type": "execute_result"
    }
   ],
   "source": [
    "drug_seizures_df_modified.columns"
   ]
  },
  {
   "cell_type": "code",
   "execution_count": 11,
   "metadata": {},
   "outputs": [
    {
     "data": {
      "text/html": [
       "<div>\n",
       "<style scoped>\n",
       "    .dataframe tbody tr th:only-of-type {\n",
       "        vertical-align: middle;\n",
       "    }\n",
       "\n",
       "    .dataframe tbody tr th {\n",
       "        vertical-align: top;\n",
       "    }\n",
       "\n",
       "    .dataframe thead th {\n",
       "        text-align: right;\n",
       "    }\n",
       "</style>\n",
       "<table border=\"1\" class=\"dataframe\">\n",
       "  <thead>\n",
       "    <tr style=\"text-align: right;\">\n",
       "      <th></th>\n",
       "      <th>Area of Responsibility</th>\n",
       "      <th>Year</th>\n",
       "      <th>Drug Type</th>\n",
       "      <th>Count of Event</th>\n",
       "      <th>Sum Qty (kg)</th>\n",
       "      <th>Sum Qty (lbs)</th>\n",
       "      <th>FY</th>\n",
       "      <th>Month (abbv)</th>\n",
       "      <th>Component</th>\n",
       "      <th>Region</th>\n",
       "      <th>Land Filter</th>\n",
       "      <th>Month</th>\n",
       "      <th>Date</th>\n",
       "      <th>Port hub</th>\n",
       "    </tr>\n",
       "  </thead>\n",
       "  <tbody>\n",
       "    <tr>\n",
       "      <th>0</th>\n",
       "      <td>Cleveland</td>\n",
       "      <td>2018</td>\n",
       "      <td>Unnamed: 24</td>\n",
       "      <td>340</td>\n",
       "      <td>NaN</td>\n",
       "      <td>NaN</td>\n",
       "      <td>NaN</td>\n",
       "      <td>NaN</td>\n",
       "      <td>NaN</td>\n",
       "      <td>NaN</td>\n",
       "      <td>NaN</td>\n",
       "      <td>NaN</td>\n",
       "      <td>NaN</td>\n",
       "      <td>North East</td>\n",
       "    </tr>\n",
       "    <tr>\n",
       "      <th>1</th>\n",
       "      <td>Durham</td>\n",
       "      <td>2018</td>\n",
       "      <td>Unnamed: 24</td>\n",
       "      <td>595</td>\n",
       "      <td>NaN</td>\n",
       "      <td>NaN</td>\n",
       "      <td>NaN</td>\n",
       "      <td>NaN</td>\n",
       "      <td>NaN</td>\n",
       "      <td>NaN</td>\n",
       "      <td>NaN</td>\n",
       "      <td>NaN</td>\n",
       "      <td>NaN</td>\n",
       "      <td>North East</td>\n",
       "    </tr>\n",
       "    <tr>\n",
       "      <th>2</th>\n",
       "      <td>Northumbria</td>\n",
       "      <td>2018</td>\n",
       "      <td>Unnamed: 24</td>\n",
       "      <td>586</td>\n",
       "      <td>NaN</td>\n",
       "      <td>NaN</td>\n",
       "      <td>NaN</td>\n",
       "      <td>NaN</td>\n",
       "      <td>NaN</td>\n",
       "      <td>NaN</td>\n",
       "      <td>NaN</td>\n",
       "      <td>NaN</td>\n",
       "      <td>NaN</td>\n",
       "      <td>North East</td>\n",
       "    </tr>\n",
       "    <tr>\n",
       "      <th>3</th>\n",
       "      <td>Cheshire</td>\n",
       "      <td>2018</td>\n",
       "      <td>Unnamed: 24</td>\n",
       "      <td>186</td>\n",
       "      <td>NaN</td>\n",
       "      <td>NaN</td>\n",
       "      <td>NaN</td>\n",
       "      <td>NaN</td>\n",
       "      <td>NaN</td>\n",
       "      <td>NaN</td>\n",
       "      <td>NaN</td>\n",
       "      <td>NaN</td>\n",
       "      <td>NaN</td>\n",
       "      <td>Lancs and Cumbria</td>\n",
       "    </tr>\n",
       "    <tr>\n",
       "      <th>4</th>\n",
       "      <td>Cumbria</td>\n",
       "      <td>2018</td>\n",
       "      <td>Unnamed: 24</td>\n",
       "      <td>21</td>\n",
       "      <td>NaN</td>\n",
       "      <td>NaN</td>\n",
       "      <td>NaN</td>\n",
       "      <td>NaN</td>\n",
       "      <td>NaN</td>\n",
       "      <td>NaN</td>\n",
       "      <td>NaN</td>\n",
       "      <td>NaN</td>\n",
       "      <td>NaN</td>\n",
       "      <td>Lancs and Cumbria</td>\n",
       "    </tr>\n",
       "    <tr>\n",
       "      <th>...</th>\n",
       "      <td>...</td>\n",
       "      <td>...</td>\n",
       "      <td>...</td>\n",
       "      <td>...</td>\n",
       "      <td>...</td>\n",
       "      <td>...</td>\n",
       "      <td>...</td>\n",
       "      <td>...</td>\n",
       "      <td>...</td>\n",
       "      <td>...</td>\n",
       "      <td>...</td>\n",
       "      <td>...</td>\n",
       "      <td>...</td>\n",
       "      <td>...</td>\n",
       "    </tr>\n",
       "    <tr>\n",
       "      <th>24403</th>\n",
       "      <td>TUCSON SECTOR</td>\n",
       "      <td>2023</td>\n",
       "      <td>Other Drugs**</td>\n",
       "      <td>4</td>\n",
       "      <td>0.101015</td>\n",
       "      <td>0.2227</td>\n",
       "      <td>2023.0</td>\n",
       "      <td>SEP</td>\n",
       "      <td>U.S. Border Patrol</td>\n",
       "      <td>Southwest Border</td>\n",
       "      <td>Land Only</td>\n",
       "      <td>9.0</td>\n",
       "      <td>2023-09</td>\n",
       "      <td>None</td>\n",
       "    </tr>\n",
       "    <tr>\n",
       "      <th>24404</th>\n",
       "      <td>YUMA SECTOR</td>\n",
       "      <td>2023</td>\n",
       "      <td>Fentanyl</td>\n",
       "      <td>2</td>\n",
       "      <td>2.246374</td>\n",
       "      <td>4.9524</td>\n",
       "      <td>2023.0</td>\n",
       "      <td>SEP</td>\n",
       "      <td>U.S. Border Patrol</td>\n",
       "      <td>Southwest Border</td>\n",
       "      <td>Land Only</td>\n",
       "      <td>9.0</td>\n",
       "      <td>2023-09</td>\n",
       "      <td>None</td>\n",
       "    </tr>\n",
       "    <tr>\n",
       "      <th>24405</th>\n",
       "      <td>YUMA SECTOR</td>\n",
       "      <td>2023</td>\n",
       "      <td>Marijuana</td>\n",
       "      <td>11</td>\n",
       "      <td>0.186926</td>\n",
       "      <td>0.4121</td>\n",
       "      <td>2023.0</td>\n",
       "      <td>SEP</td>\n",
       "      <td>U.S. Border Patrol</td>\n",
       "      <td>Southwest Border</td>\n",
       "      <td>Land Only</td>\n",
       "      <td>9.0</td>\n",
       "      <td>2023-09</td>\n",
       "      <td>None</td>\n",
       "    </tr>\n",
       "    <tr>\n",
       "      <th>24406</th>\n",
       "      <td>YUMA SECTOR</td>\n",
       "      <td>2023</td>\n",
       "      <td>Methamphetamine</td>\n",
       "      <td>2</td>\n",
       "      <td>38.307101</td>\n",
       "      <td>84.4526</td>\n",
       "      <td>2023.0</td>\n",
       "      <td>SEP</td>\n",
       "      <td>U.S. Border Patrol</td>\n",
       "      <td>Southwest Border</td>\n",
       "      <td>Land Only</td>\n",
       "      <td>9.0</td>\n",
       "      <td>2023-09</td>\n",
       "      <td>None</td>\n",
       "    </tr>\n",
       "    <tr>\n",
       "      <th>24407</th>\n",
       "      <td>YUMA SECTOR</td>\n",
       "      <td>2023</td>\n",
       "      <td>Other Drugs**</td>\n",
       "      <td>2</td>\n",
       "      <td>0.793016</td>\n",
       "      <td>1.7483</td>\n",
       "      <td>2023.0</td>\n",
       "      <td>SEP</td>\n",
       "      <td>U.S. Border Patrol</td>\n",
       "      <td>Southwest Border</td>\n",
       "      <td>Land Only</td>\n",
       "      <td>9.0</td>\n",
       "      <td>2023-09</td>\n",
       "      <td>None</td>\n",
       "    </tr>\n",
       "  </tbody>\n",
       "</table>\n",
       "<p>24408 rows × 14 columns</p>\n",
       "</div>"
      ],
      "text/plain": [
       "      Area of Responsibility  Year        Drug Type Count of Event  \\\n",
       "0                  Cleveland  2018      Unnamed: 24            340   \n",
       "1                     Durham  2018      Unnamed: 24            595   \n",
       "2                Northumbria  2018      Unnamed: 24            586   \n",
       "3                   Cheshire  2018      Unnamed: 24            186   \n",
       "4                    Cumbria  2018      Unnamed: 24             21   \n",
       "...                      ...   ...              ...            ...   \n",
       "24403          TUCSON SECTOR  2023    Other Drugs**              4   \n",
       "24404            YUMA SECTOR  2023         Fentanyl              2   \n",
       "24405            YUMA SECTOR  2023        Marijuana             11   \n",
       "24406            YUMA SECTOR  2023  Methamphetamine              2   \n",
       "24407            YUMA SECTOR  2023    Other Drugs**              2   \n",
       "\n",
       "       Sum Qty (kg)  Sum Qty (lbs)      FY Month (abbv)           Component  \\\n",
       "0               NaN            NaN     NaN          NaN                 NaN   \n",
       "1               NaN            NaN     NaN          NaN                 NaN   \n",
       "2               NaN            NaN     NaN          NaN                 NaN   \n",
       "3               NaN            NaN     NaN          NaN                 NaN   \n",
       "4               NaN            NaN     NaN          NaN                 NaN   \n",
       "...             ...            ...     ...          ...                 ...   \n",
       "24403      0.101015         0.2227  2023.0          SEP  U.S. Border Patrol   \n",
       "24404      2.246374         4.9524  2023.0          SEP  U.S. Border Patrol   \n",
       "24405      0.186926         0.4121  2023.0          SEP  U.S. Border Patrol   \n",
       "24406     38.307101        84.4526  2023.0          SEP  U.S. Border Patrol   \n",
       "24407      0.793016         1.7483  2023.0          SEP  U.S. Border Patrol   \n",
       "\n",
       "                 Region Land Filter  Month     Date           Port hub  \n",
       "0                   NaN         NaN    NaN      NaN         North East  \n",
       "1                   NaN         NaN    NaN      NaN         North East  \n",
       "2                   NaN         NaN    NaN      NaN         North East  \n",
       "3                   NaN         NaN    NaN      NaN  Lancs and Cumbria  \n",
       "4                   NaN         NaN    NaN      NaN  Lancs and Cumbria  \n",
       "...                 ...         ...    ...      ...                ...  \n",
       "24403  Southwest Border   Land Only    9.0  2023-09               None  \n",
       "24404  Southwest Border   Land Only    9.0  2023-09               None  \n",
       "24405  Southwest Border   Land Only    9.0  2023-09               None  \n",
       "24406  Southwest Border   Land Only    9.0  2023-09               None  \n",
       "24407  Southwest Border   Land Only    9.0  2023-09               None  \n",
       "\n",
       "[24408 rows x 14 columns]"
      ]
     },
     "execution_count": 11,
     "metadata": {},
     "output_type": "execute_result"
    }
   ],
   "source": [
    "drug_seizures_df_modified"
   ]
  },
  {
   "cell_type": "markdown",
   "metadata": {},
   "source": [
    "Realizar Left Join:"
   ]
  },
  {
   "cell_type": "code",
   "execution_count": 12,
   "metadata": {},
   "outputs": [],
   "source": [
    "merged_df = pd.merge(ports_and_freights_df, drug_seizures_df_modified, on=['Port hub','Year'], how='left')"
   ]
  },
  {
   "cell_type": "markdown",
   "metadata": {},
   "source": [
    "Generar dataframe de salida, seleccionando columnas necesarias, agrupando y realizando funciones de agregacion:"
   ]
  },
  {
   "cell_type": "code",
   "execution_count": 13,
   "metadata": {},
   "outputs": [
    {
     "data": {
      "text/plain": [
       "port_name                    object\n",
       "Region/State                 object\n",
       "Port hub                     object\n",
       "coord_0                     float64\n",
       "coord_1                     float64\n",
       "Major/Minor ports            object\n",
       "id_Port                     float64\n",
       "Year                        float64\n",
       "Loaded InBound DOMESTIC     float64\n",
       "Empty InBound DOMESTIC      float64\n",
       "Loaded OutBound DOMESTIC    float64\n",
       "Empty OutBound DOMESTIC     float64\n",
       "Total DOMESTIC              float64\n",
       "Loaded InBound FOREIGN      float64\n",
       "Loaded OutBound  FOREIGN    float64\n",
       "Total OutBound  FOREIGN     float64\n",
       "Total Loaded Grand          float64\n",
       "Area of Responsibility       object\n",
       "Drug Type                    object\n",
       "Count of Event               object\n",
       "Sum Qty (kg)                float64\n",
       "Sum Qty (lbs)               float64\n",
       "FY                          float64\n",
       "Month (abbv)                 object\n",
       "Component                    object\n",
       "Region                       object\n",
       "Land Filter                  object\n",
       "Month                       float64\n",
       "Date                         object\n",
       "dtype: object"
      ]
     },
     "execution_count": 13,
     "metadata": {},
     "output_type": "execute_result"
    }
   ],
   "source": [
    "merged_df.dtypes"
   ]
  },
  {
   "cell_type": "code",
   "execution_count": 14,
   "metadata": {},
   "outputs": [],
   "source": [
    "merged_df['Count of Event'] = pd.to_numeric(merged_df['Count of Event'], errors='coerce')"
   ]
  },
  {
   "cell_type": "code",
   "execution_count": 15,
   "metadata": {},
   "outputs": [],
   "source": [
    "input_dataframe = merged_df[['Port hub','coord_0','coord_1','Major/Minor ports','Year',\n",
    "                                  'Loaded InBound DOMESTIC','Empty InBound DOMESTIC','Loaded OutBound DOMESTIC',\n",
    "                                  'Empty OutBound DOMESTIC','Total DOMESTIC','Loaded InBound FOREIGN','Loaded OutBound  FOREIGN',\n",
    "                                  'Total OutBound  FOREIGN','Total Loaded Grand','Drug Type','Count of Event','Sum Qty (kg)','Sum Qty (lbs)',\n",
    "                                  'Component','Region','Land Filter']]"
   ]
  },
  {
   "cell_type": "code",
   "execution_count": 16,
   "metadata": {},
   "outputs": [
    {
     "data": {
      "text/plain": [
       "array(['Ecstasy', 'Ketamine', 'Khat (Catha Edulis)', 'Marijuana',\n",
       "       'Other Drugs**', 'Cocaine', 'Heroin', 'Methamphetamine',\n",
       "       'Fentanyl', 'Lsd', 'Unnamed: 24', 'Class A', 'Class B', 'Class C',\n",
       "       'Crack', 'LSD', 'Methadone', 'Morphine', 'Other Class A',\n",
       "       'Cannabis', 'Amphetamines', 'Barbiturates', 'Mephedrone',\n",
       "       'Other Class B', 'Anabolic steroids', 'Benzodiazepines', 'GHB',\n",
       "       'Temazepam', 'Other Class C', 'Nitrous Oxide',\n",
       "       'Classification Unknown', nan], dtype=object)"
      ]
     },
     "execution_count": 16,
     "metadata": {},
     "output_type": "execute_result"
    }
   ],
   "source": [
    "input_dataframe['Drug Type'].unique()"
   ]
  },
  {
   "cell_type": "code",
   "execution_count": 17,
   "metadata": {},
   "outputs": [
    {
     "data": {
      "text/plain": [
       "Index(['Port hub', 'coord_0', 'coord_1', 'Major/Minor ports', 'Year',\n",
       "       'Loaded InBound DOMESTIC', 'Empty InBound DOMESTIC',\n",
       "       'Loaded OutBound DOMESTIC', 'Empty OutBound DOMESTIC', 'Total DOMESTIC',\n",
       "       'Loaded InBound FOREIGN', 'Loaded OutBound  FOREIGN',\n",
       "       'Total OutBound  FOREIGN', 'Total Loaded Grand', 'Drug Type',\n",
       "       'Count of Event', 'Sum Qty (kg)', 'Sum Qty (lbs)', 'Component',\n",
       "       'Region', 'Land Filter'],\n",
       "      dtype='object')"
      ]
     },
     "execution_count": 17,
     "metadata": {},
     "output_type": "execute_result"
    }
   ],
   "source": [
    "input_dataframe.columns"
   ]
  },
  {
   "cell_type": "code",
   "execution_count": null,
   "metadata": {},
   "outputs": [],
   "source": [
    "# input_dataframe_freight = input_dataframe[['Port hub', 'coord_0', 'coord_1', 'Major/Minor ports', 'Year',\n",
    "#        'Loaded InBound DOMESTIC', 'Empty InBound DOMESTIC',\n",
    "#        'Loaded OutBound DOMESTIC', 'Empty OutBound DOMESTIC', 'Total DOMESTIC',\n",
    "#        'Loaded InBound FOREIGN', 'Loaded OutBound  FOREIGN',\n",
    "#        'Total OutBound  FOREIGN', 'Total Loaded Grand','Component',\n",
    "#        'Region', 'Land Filter']]"
   ]
  },
  {
   "cell_type": "code",
   "execution_count": 18,
   "metadata": {},
   "outputs": [
    {
     "ename": "NameError",
     "evalue": "name 'input_dataframe_freight' is not defined",
     "output_type": "error",
     "traceback": [
      "\u001b[0;31m---------------------------------------------------------------------------\u001b[0m",
      "\u001b[0;31mNameError\u001b[0m                                 Traceback (most recent call last)",
      "Cell \u001b[0;32mIn[18], line 1\u001b[0m\n\u001b[0;32m----> 1\u001b[0m \u001b[43minput_dataframe_freight\u001b[49m\u001b[38;5;241m.\u001b[39mcolumns\n",
      "\u001b[0;31mNameError\u001b[0m: name 'input_dataframe_freight' is not defined"
     ]
    }
   ],
   "source": [
    "input_dataframe_freight.columns"
   ]
  },
  {
   "cell_type": "code",
   "execution_count": 85,
   "metadata": {},
   "outputs": [],
   "source": [
    "pivot_df = pd.pivot_table(input_dataframe,\n",
    "                          values=['Count of Event', 'Sum Qty (kg)', 'Sum Qty (lbs)'],\n",
    "                          index=['Port hub','Year'],\n",
    "                          columns=['Drug Type'],\n",
    "                          aggfunc='sum')\n",
    "\n",
    "# Flatten the MultiIndex columns\n",
    "pivot_df.columns = ['_'.join(col) for col in pivot_df.columns]\n",
    "\n",
    "# Reset the index to make 'Port hub' and 'Year' regular columns\n",
    "pivot_df = pivot_df.reset_index()"
   ]
  },
  {
   "cell_type": "code",
   "execution_count": 19,
   "metadata": {},
   "outputs": [
    {
     "name": "stderr",
     "output_type": "stream",
     "text": [
      "/tmp/ipykernel_294363/496430120.py:1: SettingWithCopyWarning: \n",
      "A value is trying to be set on a copy of a slice from a DataFrame\n",
      "\n",
      "See the caveats in the documentation: https://pandas.pydata.org/pandas-docs/stable/user_guide/indexing.html#returning-a-view-versus-a-copy\n",
      "  input_dataframe.rename(columns={'coord_0':'latitude','coord_1':'longitude'}, inplace=True)\n"
     ]
    }
   ],
   "source": [
    "input_dataframe.rename(columns={'coord_0':'latitude','coord_1':'longitude'}, inplace=True)"
   ]
  },
  {
   "cell_type": "markdown",
   "metadata": {},
   "source": [
    "Al final no hago pivot_table y trabajaré con 'Drug Type' como una variable más."
   ]
  },
  {
   "cell_type": "code",
   "execution_count": 88,
   "metadata": {},
   "outputs": [
    {
     "data": {
      "text/plain": [
       "2765118"
      ]
     },
     "execution_count": 88,
     "metadata": {},
     "output_type": "execute_result"
    }
   ],
   "source": [
    "162654*17"
   ]
  },
  {
   "cell_type": "code",
   "execution_count": 20,
   "metadata": {},
   "outputs": [],
   "source": [
    "input_dataframe.to_csv('dataset_port_drugs.csv',sep=',',index=False)"
   ]
  }
 ],
 "metadata": {
  "kernelspec": {
   "display_name": "Python 3",
   "language": "python",
   "name": "python3"
  },
  "language_info": {
   "codemirror_mode": {
    "name": "ipython",
    "version": 3
   },
   "file_extension": ".py",
   "mimetype": "text/x-python",
   "name": "python",
   "nbconvert_exporter": "python",
   "pygments_lexer": "ipython3",
   "version": "3.10.12"
  }
 },
 "nbformat": 4,
 "nbformat_minor": 2
}

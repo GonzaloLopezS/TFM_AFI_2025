{
 "cells": [
  {
   "cell_type": "code",
   "execution_count": 1,
   "metadata": {},
   "outputs": [],
   "source": [
    "import pandas as pd\n",
    "import numpy as np"
   ]
  },
  {
   "cell_type": "markdown",
   "metadata": {},
   "source": [
    "1. Columnas 'Informacion Puerto': Port_name| Major/Minor_ports | Port_hub (Cluster) | State/Region | id_Port | LAT | LON | Police force region |\n",
    "    - US: Obtener de clusters de 'cargueros_september_df'\n",
    "    - UK: Obtener de uk_ports"
   ]
  },
  {
   "cell_type": "code",
   "execution_count": 2,
   "metadata": {},
   "outputs": [],
   "source": [
    "ports_uk = pd.read_csv('../home_uk/uk_ports.csv',sep=',',  usecols=lambda x: x != \"key_1\")"
   ]
  },
  {
   "cell_type": "code",
   "execution_count": 4,
   "metadata": {},
   "outputs": [],
   "source": [
    "ports_usa = pd.read_excel('../ais_noaa_gov/p16021coll2_14565_containers_2022.xls',\n",
    "                          sheet_name ='2022 TEUs by Name',\n",
    "                          header=0,\n",
    "                          usecols=\"A:B\",\n",
    "                          skiprows=[1,2],\n",
    "                          engine='xlrd')"
   ]
  },
  {
   "cell_type": "code",
   "execution_count": 7,
   "metadata": {},
   "outputs": [],
   "source": [
    "ports_uk.columns\n",
    "ports_uk.rename(columns={'Port group': 'Port hub', 'UK Country': 'Region/State'}, inplace=True)"
   ]
  },
  {
   "cell_type": "code",
   "execution_count": 38,
   "metadata": {},
   "outputs": [],
   "source": [
    "ports_uk= ports_uk.drop(columns={'Police force region'}, axis=1)"
   ]
  },
  {
   "cell_type": "code",
   "execution_count": 39,
   "metadata": {},
   "outputs": [],
   "source": [
    "ports_uk.to_csv('../home_uk/ports_uk.csv', sep=',')"
   ]
  },
  {
   "cell_type": "code",
   "execution_count": 41,
   "metadata": {},
   "outputs": [
    {
     "data": {
      "text/plain": [
       "array(['Scotland East Coast', 'Bristol Channel', 'Scotland West Coast',\n",
       "       'Lancs and Cumbria', 'Northern Ireland', 'North East',\n",
       "       'Wash & Northern E Anglia', 'Thames and Kent',\n",
       "       'Sussex and Hampshire', 'West Country', 'Haven',\n",
       "       'West and North Wales', 'Humber', nan], dtype=object)"
      ]
     },
     "execution_count": 41,
     "metadata": {},
     "output_type": "execute_result"
    }
   ],
   "source": [
    "ports_uk['Port hub'].unique()"
   ]
  },
  {
   "cell_type": "code",
   "execution_count": 62,
   "metadata": {},
   "outputs": [
    {
     "data": {
      "text/html": [
       "<div>\n",
       "<style scoped>\n",
       "    .dataframe tbody tr th:only-of-type {\n",
       "        vertical-align: middle;\n",
       "    }\n",
       "\n",
       "    .dataframe tbody tr th {\n",
       "        vertical-align: top;\n",
       "    }\n",
       "\n",
       "    .dataframe thead th {\n",
       "        text-align: right;\n",
       "    }\n",
       "</style>\n",
       "<table border=\"1\" class=\"dataframe\">\n",
       "  <thead>\n",
       "    <tr style=\"text-align: right;\">\n",
       "      <th></th>\n",
       "      <th>Port</th>\n",
       "      <th>Major/Minor ports</th>\n",
       "      <th>Port hub</th>\n",
       "      <th>Region/State</th>\n",
       "      <th>id_Port</th>\n",
       "    </tr>\n",
       "  </thead>\n",
       "  <tbody>\n",
       "    <tr>\n",
       "      <th>71</th>\n",
       "      <td>Other ports</td>\n",
       "      <td>Minor port</td>\n",
       "      <td>NaN</td>\n",
       "      <td>NaN</td>\n",
       "      <td>71</td>\n",
       "    </tr>\n",
       "    <tr>\n",
       "      <th>112</th>\n",
       "      <td>Rivers Hull &amp; Humber</td>\n",
       "      <td>NaN</td>\n",
       "      <td>NaN</td>\n",
       "      <td>England</td>\n",
       "      <td>117</td>\n",
       "    </tr>\n",
       "    <tr>\n",
       "      <th>113</th>\n",
       "      <td>Tees &amp; Hartlepool</td>\n",
       "      <td>NaN</td>\n",
       "      <td>NaN</td>\n",
       "      <td>England</td>\n",
       "      <td>118</td>\n",
       "    </tr>\n",
       "    <tr>\n",
       "      <th>114</th>\n",
       "      <td>Grimsby and Immingham</td>\n",
       "      <td>NaN</td>\n",
       "      <td>NaN</td>\n",
       "      <td>NaN</td>\n",
       "      <td>124</td>\n",
       "    </tr>\n",
       "  </tbody>\n",
       "</table>\n",
       "</div>"
      ],
      "text/plain": [
       "                      Port Major/Minor ports Port hub Region/State  id_Port\n",
       "71             Other ports        Minor port      NaN          NaN       71\n",
       "112   Rivers Hull & Humber               NaN      NaN      England      117\n",
       "113      Tees & Hartlepool               NaN      NaN      England      118\n",
       "114  Grimsby and Immingham               NaN      NaN          NaN      124"
      ]
     },
     "execution_count": 62,
     "metadata": {},
     "output_type": "execute_result"
    }
   ],
   "source": [
    "ports_uk.loc[ports_uk['Port hub'].isna()]"
   ]
  },
  {
   "cell_type": "markdown",
   "metadata": {},
   "source": [
    "Coordenadas UK_hubs:\n",
    "- 'Scotland East Coast': [57.144555555555556, -2.086388888888889],\n",
    "- 'Bristol Channel': [51.50705555555555, -2.7167222222222223],\n",
    "- 'Scotland West Coast': [55.470333333333336, -4.639166666666666],\n",
    "- 'Lancs and Cumbria': [53.45308333333334, -3.0247777777777776],\n",
    "- 'Northern Ireland': [54.62802777777778, -5.890138888888888],\n",
    "- 'North East': [54.91469444444444, -1.3645277777777778],\n",
    "- 'Wash & Northern E Anglia': [52.962472222222225, -0.003472222222222222],\n",
    "- 'Thames and Kent': [51.124138888888886, 1.3383611111111111],\n",
    "- 'Sussex and Hampshire': [50.9065, -1.4428611111111111],\n",
    "- 'West Country': [50.70716666666667, -1.9895555555555555],\n",
    "- 'Haven': [51.95605555555556, 1.2995277777777776],\n",
    "- 'West and North Wales': [53.31111111111111, -4.628111111111112],\n",
    "- 'Humber': [53.5805, -0.07241666666666667]\n"
   ]
  },
  {
   "cell_type": "code",
   "execution_count": 63,
   "metadata": {},
   "outputs": [],
   "source": [
    "dict_hub_coordinates = {\n",
    "    'Scotland East Coast': [57.144555555555556, -2.086388888888889],\n",
    "    'Bristol Channel': [51.50705555555555, -2.7167222222222223],\n",
    "    'Scotland West Coast': [55.470333333333336, -4.639166666666666],\n",
    "    'Lancs and Cumbria': [53.45308333333334, -3.0247777777777776],\n",
    "    'Northern Ireland': [54.62802777777778, -5.890138888888888],\n",
    "    'North East': [54.91469444444444, -1.3645277777777778],\n",
    "    'Wash & Northern E Anglia': [52.962472222222225, -0.003472222222222222],\n",
    "    'Thames and Kent': [51.124138888888886, 1.3383611111111111],\n",
    "    'Sussex and Hampshire': [50.9065, -1.4428611111111111],\n",
    "    'West Country': [50.70716666666667, -1.9895555555555555],\n",
    "    'Haven': [51.95605555555556, 1.2995277777777776],\n",
    "    'West and North Wales': [53.31111111111111, -4.628111111111112],\n",
    "    'Humber': [53.5805, -0.07241666666666667]\n",
    "}"
   ]
  },
  {
   "cell_type": "code",
   "execution_count": 74,
   "metadata": {},
   "outputs": [
    {
     "data": {
      "text/plain": [
       "dict_keys(['Scotland East Coast', 'Bristol Channel', 'Scotland West Coast', 'Lancs and Cumbria', 'Northern Ireland', 'North East', 'Wash & Northern E Anglia', 'Thames and Kent', 'Sussex and Hampshire', 'West Country', 'Haven', 'West and North Wales', 'Humber'])"
      ]
     },
     "execution_count": 74,
     "metadata": {},
     "output_type": "execute_result"
    }
   ],
   "source": [
    "dict_hub_coordinates.keys()"
   ]
  },
  {
   "cell_type": "code",
   "execution_count": null,
   "metadata": {},
   "outputs": [],
   "source": [
    "def get_coords(hub):\n",
    "    coords = dict_hub_coordinates.get(hub)\n",
    "    if coords:\n",
    "        return pd.Series(coords)  # Return a Series for correct assignment\n",
    "    else:\n",
    "        return pd.Series([None, None])  # Return None values if not found\n",
    "\n",
    "ports_uk[['coord_0', 'coord_1']] = ports_uk['Port hub'].apply(get_coords)"
   ]
  },
  {
   "cell_type": "code",
   "execution_count": 9,
   "metadata": {},
   "outputs": [],
   "source": [
    "ports_usa.to_csv('../ais_noaa_gov/ports_usa.csv')"
   ]
  },
  {
   "cell_type": "code",
   "execution_count": 10,
   "metadata": {},
   "outputs": [],
   "source": [
    "us_port_hubs = pd.read_csv('../ais_noaa_gov/us_port_hubs.csv',sep=',',)"
   ]
  },
  {
   "cell_type": "code",
   "execution_count": 12,
   "metadata": {},
   "outputs": [
    {
     "data": {
      "text/plain": [
       "Index(['Unnamed: 0', 'clusters', 'coord_0', 'coord_1', 'location'], dtype='object')"
      ]
     },
     "execution_count": 12,
     "metadata": {},
     "output_type": "execute_result"
    }
   ],
   "source": [
    "us_port_hubs.columns"
   ]
  },
  {
   "cell_type": "code",
   "execution_count": 13,
   "metadata": {},
   "outputs": [],
   "source": [
    "us_port_hubs = us_port_hubs.drop(['Unnamed: 0'], axis=1)"
   ]
  },
  {
   "cell_type": "code",
   "execution_count": 15,
   "metadata": {},
   "outputs": [],
   "source": [
    "us_port_hubs.to_csv('../ais_noaa_gov/port_hubs_usa.csv')"
   ]
  },
  {
   "cell_type": "code",
   "execution_count": 26,
   "metadata": {},
   "outputs": [
    {
     "data": {
      "text/html": [
       "<div>\n",
       "<style scoped>\n",
       "    .dataframe tbody tr th:only-of-type {\n",
       "        vertical-align: middle;\n",
       "    }\n",
       "\n",
       "    .dataframe tbody tr th {\n",
       "        vertical-align: top;\n",
       "    }\n",
       "\n",
       "    .dataframe thead th {\n",
       "        text-align: right;\n",
       "    }\n",
       "</style>\n",
       "<table border=\"1\" class=\"dataframe\">\n",
       "  <thead>\n",
       "    <tr style=\"text-align: right;\">\n",
       "      <th></th>\n",
       "      <th>Unnamed: 0</th>\n",
       "      <th>port_name</th>\n",
       "      <th>STATE</th>\n",
       "      <th>matched_port_name</th>\n",
       "      <th>coord_0</th>\n",
       "      <th>coord_1</th>\n",
       "      <th>allocated_location</th>\n",
       "    </tr>\n",
       "  </thead>\n",
       "  <tbody>\n",
       "    <tr>\n",
       "      <th>0</th>\n",
       "      <td>0</td>\n",
       "      <td>baltimore, md</td>\n",
       "      <td>MD</td>\n",
       "      <td>baltimore, md, filadelfia, pa</td>\n",
       "      <td>39.162017</td>\n",
       "      <td>-76.084075</td>\n",
       "      <td>baltimore, md, filadelfia, pa</td>\n",
       "    </tr>\n",
       "    <tr>\n",
       "      <th>1</th>\n",
       "      <td>1</td>\n",
       "      <td>beaumont, tx</td>\n",
       "      <td>TX</td>\n",
       "      <td>houston/galveston, tx</td>\n",
       "      <td>29.602093</td>\n",
       "      <td>-94.667153</td>\n",
       "      <td>houston/galveston, tx</td>\n",
       "    </tr>\n",
       "    <tr>\n",
       "      <th>2</th>\n",
       "      <td>2</td>\n",
       "      <td>bellingham, wa</td>\n",
       "      <td>WA</td>\n",
       "      <td>seattle/tacoma, wa</td>\n",
       "      <td>47.449355</td>\n",
       "      <td>-122.428779</td>\n",
       "      <td>seattle/tacoma, wa</td>\n",
       "    </tr>\n",
       "    <tr>\n",
       "      <th>3</th>\n",
       "      <td>3</td>\n",
       "      <td>bethel, ak</td>\n",
       "      <td>AK</td>\n",
       "      <td>NaN</td>\n",
       "      <td>NaN</td>\n",
       "      <td>NaN</td>\n",
       "      <td>NaN</td>\n",
       "    </tr>\n",
       "    <tr>\n",
       "      <th>4</th>\n",
       "      <td>4</td>\n",
       "      <td>brevig mission, ak</td>\n",
       "      <td>AK</td>\n",
       "      <td>NaN</td>\n",
       "      <td>NaN</td>\n",
       "      <td>NaN</td>\n",
       "      <td>NaN</td>\n",
       "    </tr>\n",
       "    <tr>\n",
       "      <th>...</th>\n",
       "      <td>...</td>\n",
       "      <td>...</td>\n",
       "      <td>...</td>\n",
       "      <td>...</td>\n",
       "      <td>...</td>\n",
       "      <td>...</td>\n",
       "      <td>...</td>\n",
       "    </tr>\n",
       "    <tr>\n",
       "      <th>105</th>\n",
       "      <td>105</td>\n",
       "      <td>whittier, ak</td>\n",
       "      <td>AK</td>\n",
       "      <td>NaN</td>\n",
       "      <td>NaN</td>\n",
       "      <td>NaN</td>\n",
       "      <td>NaN</td>\n",
       "    </tr>\n",
       "    <tr>\n",
       "      <th>106</th>\n",
       "      <td>106</td>\n",
       "      <td>wilmington, de</td>\n",
       "      <td>DE</td>\n",
       "      <td>baltimore, md, filadelfia, pa</td>\n",
       "      <td>39.162017</td>\n",
       "      <td>-76.084075</td>\n",
       "      <td>baltimore, md, filadelfia, pa</td>\n",
       "    </tr>\n",
       "    <tr>\n",
       "      <th>107</th>\n",
       "      <td>107</td>\n",
       "      <td>wilmington, nc</td>\n",
       "      <td>NC</td>\n",
       "      <td>wilmington, nc</td>\n",
       "      <td>34.444471</td>\n",
       "      <td>-77.206152</td>\n",
       "      <td>wilmington, nc</td>\n",
       "    </tr>\n",
       "    <tr>\n",
       "      <th>108</th>\n",
       "      <td>108</td>\n",
       "      <td>wrangell, ak</td>\n",
       "      <td>AK</td>\n",
       "      <td>NaN</td>\n",
       "      <td>NaN</td>\n",
       "      <td>NaN</td>\n",
       "      <td>NaN</td>\n",
       "    </tr>\n",
       "    <tr>\n",
       "      <th>109</th>\n",
       "      <td>109</td>\n",
       "      <td>yakutat, ak</td>\n",
       "      <td>AK</td>\n",
       "      <td>NaN</td>\n",
       "      <td>NaN</td>\n",
       "      <td>NaN</td>\n",
       "      <td>NaN</td>\n",
       "    </tr>\n",
       "  </tbody>\n",
       "</table>\n",
       "<p>110 rows × 7 columns</p>\n",
       "</div>"
      ],
      "text/plain": [
       "     Unnamed: 0           port_name STATE              matched_port_name  \\\n",
       "0             0       baltimore, md    MD  baltimore, md, filadelfia, pa   \n",
       "1             1        beaumont, tx    TX          houston/galveston, tx   \n",
       "2             2      bellingham, wa    WA             seattle/tacoma, wa   \n",
       "3             3          bethel, ak    AK                            NaN   \n",
       "4             4  brevig mission, ak    AK                            NaN   \n",
       "..          ...                 ...   ...                            ...   \n",
       "105         105        whittier, ak    AK                            NaN   \n",
       "106         106      wilmington, de    DE  baltimore, md, filadelfia, pa   \n",
       "107         107      wilmington, nc    NC                 wilmington, nc   \n",
       "108         108        wrangell, ak    AK                            NaN   \n",
       "109         109         yakutat, ak    AK                            NaN   \n",
       "\n",
       "       coord_0     coord_1             allocated_location  \n",
       "0    39.162017  -76.084075  baltimore, md, filadelfia, pa  \n",
       "1    29.602093  -94.667153          houston/galveston, tx  \n",
       "2    47.449355 -122.428779             seattle/tacoma, wa  \n",
       "3          NaN         NaN                            NaN  \n",
       "4          NaN         NaN                            NaN  \n",
       "..         ...         ...                            ...  \n",
       "105        NaN         NaN                            NaN  \n",
       "106  39.162017  -76.084075  baltimore, md, filadelfia, pa  \n",
       "107  34.444471  -77.206152                 wilmington, nc  \n",
       "108        NaN         NaN                            NaN  \n",
       "109        NaN         NaN                            NaN  \n",
       "\n",
       "[110 rows x 7 columns]"
      ]
     },
     "execution_count": 26,
     "metadata": {},
     "output_type": "execute_result"
    }
   ],
   "source": [
    "us_port_hubs"
   ]
  },
  {
   "cell_type": "code",
   "execution_count": 16,
   "metadata": {},
   "outputs": [
    {
     "data": {
      "text/html": [
       "<div>\n",
       "<style scoped>\n",
       "    .dataframe tbody tr th:only-of-type {\n",
       "        vertical-align: middle;\n",
       "    }\n",
       "\n",
       "    .dataframe tbody tr th {\n",
       "        vertical-align: top;\n",
       "    }\n",
       "\n",
       "    .dataframe thead th {\n",
       "        text-align: right;\n",
       "    }\n",
       "</style>\n",
       "<table border=\"1\" class=\"dataframe\">\n",
       "  <thead>\n",
       "    <tr style=\"text-align: right;\">\n",
       "      <th></th>\n",
       "      <th>PORT NAME</th>\n",
       "      <th>STATE</th>\n",
       "    </tr>\n",
       "  </thead>\n",
       "  <tbody>\n",
       "    <tr>\n",
       "      <th>0</th>\n",
       "      <td>Baltimore, MD</td>\n",
       "      <td>MD</td>\n",
       "    </tr>\n",
       "    <tr>\n",
       "      <th>1</th>\n",
       "      <td>Beaumont, TX</td>\n",
       "      <td>TX</td>\n",
       "    </tr>\n",
       "    <tr>\n",
       "      <th>2</th>\n",
       "      <td>Bellingham, WA</td>\n",
       "      <td>WA</td>\n",
       "    </tr>\n",
       "    <tr>\n",
       "      <th>3</th>\n",
       "      <td>Bethel, AK</td>\n",
       "      <td>AK</td>\n",
       "    </tr>\n",
       "    <tr>\n",
       "      <th>4</th>\n",
       "      <td>Brevig Mission, AK</td>\n",
       "      <td>AK</td>\n",
       "    </tr>\n",
       "    <tr>\n",
       "      <th>...</th>\n",
       "      <td>...</td>\n",
       "      <td>...</td>\n",
       "    </tr>\n",
       "    <tr>\n",
       "      <th>105</th>\n",
       "      <td>Whittier, AK</td>\n",
       "      <td>AK</td>\n",
       "    </tr>\n",
       "    <tr>\n",
       "      <th>106</th>\n",
       "      <td>Wilmington, DE</td>\n",
       "      <td>DE</td>\n",
       "    </tr>\n",
       "    <tr>\n",
       "      <th>107</th>\n",
       "      <td>Wilmington, NC</td>\n",
       "      <td>NC</td>\n",
       "    </tr>\n",
       "    <tr>\n",
       "      <th>108</th>\n",
       "      <td>Wrangell, AK</td>\n",
       "      <td>AK</td>\n",
       "    </tr>\n",
       "    <tr>\n",
       "      <th>109</th>\n",
       "      <td>Yakutat, AK</td>\n",
       "      <td>AK</td>\n",
       "    </tr>\n",
       "  </tbody>\n",
       "</table>\n",
       "<p>110 rows × 2 columns</p>\n",
       "</div>"
      ],
      "text/plain": [
       "              PORT NAME STATE\n",
       "0         Baltimore, MD    MD\n",
       "1          Beaumont, TX    TX\n",
       "2        Bellingham, WA    WA\n",
       "3            Bethel, AK    AK\n",
       "4    Brevig Mission, AK    AK\n",
       "..                  ...   ...\n",
       "105        Whittier, AK    AK\n",
       "106      Wilmington, DE    DE\n",
       "107      Wilmington, NC    NC\n",
       "108        Wrangell, AK    AK\n",
       "109         Yakutat, AK    AK\n",
       "\n",
       "[110 rows x 2 columns]"
      ]
     },
     "execution_count": 16,
     "metadata": {},
     "output_type": "execute_result"
    }
   ],
   "source": [
    "ports_usa"
   ]
  },
  {
   "cell_type": "code",
   "execution_count": 18,
   "metadata": {},
   "outputs": [],
   "source": [
    "us_port_hubs = pd.read_csv('../ais_noaa_gov/Allocated_Ports_Data.csv',sep=',',)"
   ]
  },
  {
   "cell_type": "code",
   "execution_count": 20,
   "metadata": {},
   "outputs": [
    {
     "data": {
      "text/plain": [
       "Index(['Unnamed: 0', 'port_name', 'STATE', 'matched_port_name', 'coord_0',\n",
       "       'coord_1', 'allocated_location'],\n",
       "      dtype='object')"
      ]
     },
     "execution_count": 20,
     "metadata": {},
     "output_type": "execute_result"
    }
   ],
   "source": [
    "us_port_hubs.columns"
   ]
  },
  {
   "cell_type": "code",
   "execution_count": 21,
   "metadata": {},
   "outputs": [],
   "source": [
    "ports_usa = us_port_hubs.drop(['Unnamed: 0', 'allocated_location'], axis = 1)\n",
    "ports_usa.rename(columns={'matched_port_name': 'Port hub', 'STATE': 'Region/State'}, inplace=True)"
   ]
  },
  {
   "cell_type": "code",
   "execution_count": 35,
   "metadata": {},
   "outputs": [
    {
     "data": {
      "text/html": [
       "<div>\n",
       "<style scoped>\n",
       "    .dataframe tbody tr th:only-of-type {\n",
       "        vertical-align: middle;\n",
       "    }\n",
       "\n",
       "    .dataframe tbody tr th {\n",
       "        vertical-align: top;\n",
       "    }\n",
       "\n",
       "    .dataframe thead th {\n",
       "        text-align: right;\n",
       "    }\n",
       "</style>\n",
       "<table border=\"1\" class=\"dataframe\">\n",
       "  <thead>\n",
       "    <tr style=\"text-align: right;\">\n",
       "      <th></th>\n",
       "      <th>port_name</th>\n",
       "      <th>Region/State</th>\n",
       "      <th>Port hub</th>\n",
       "      <th>coord_0</th>\n",
       "      <th>coord_1</th>\n",
       "    </tr>\n",
       "  </thead>\n",
       "  <tbody>\n",
       "    <tr>\n",
       "      <th>0</th>\n",
       "      <td>baltimore, md</td>\n",
       "      <td>MD</td>\n",
       "      <td>baltimore, md, filadelfia, pa</td>\n",
       "      <td>39.162017</td>\n",
       "      <td>-76.084075</td>\n",
       "    </tr>\n",
       "    <tr>\n",
       "      <th>1</th>\n",
       "      <td>beaumont, tx</td>\n",
       "      <td>TX</td>\n",
       "      <td>houston/galveston, tx</td>\n",
       "      <td>29.602093</td>\n",
       "      <td>-94.667153</td>\n",
       "    </tr>\n",
       "    <tr>\n",
       "      <th>2</th>\n",
       "      <td>bellingham, wa</td>\n",
       "      <td>WA</td>\n",
       "      <td>seattle/tacoma, wa</td>\n",
       "      <td>47.449355</td>\n",
       "      <td>-122.428779</td>\n",
       "    </tr>\n",
       "    <tr>\n",
       "      <th>3</th>\n",
       "      <td>bethel, ak</td>\n",
       "      <td>AK</td>\n",
       "      <td>NaN</td>\n",
       "      <td>NaN</td>\n",
       "      <td>NaN</td>\n",
       "    </tr>\n",
       "    <tr>\n",
       "      <th>4</th>\n",
       "      <td>brevig mission, ak</td>\n",
       "      <td>AK</td>\n",
       "      <td>NaN</td>\n",
       "      <td>NaN</td>\n",
       "      <td>NaN</td>\n",
       "    </tr>\n",
       "    <tr>\n",
       "      <th>...</th>\n",
       "      <td>...</td>\n",
       "      <td>...</td>\n",
       "      <td>...</td>\n",
       "      <td>...</td>\n",
       "      <td>...</td>\n",
       "    </tr>\n",
       "    <tr>\n",
       "      <th>105</th>\n",
       "      <td>whittier, ak</td>\n",
       "      <td>AK</td>\n",
       "      <td>NaN</td>\n",
       "      <td>NaN</td>\n",
       "      <td>NaN</td>\n",
       "    </tr>\n",
       "    <tr>\n",
       "      <th>106</th>\n",
       "      <td>wilmington, de</td>\n",
       "      <td>DE</td>\n",
       "      <td>baltimore, md, filadelfia, pa</td>\n",
       "      <td>39.162017</td>\n",
       "      <td>-76.084075</td>\n",
       "    </tr>\n",
       "    <tr>\n",
       "      <th>107</th>\n",
       "      <td>wilmington, nc</td>\n",
       "      <td>NC</td>\n",
       "      <td>wilmington, nc</td>\n",
       "      <td>34.444471</td>\n",
       "      <td>-77.206152</td>\n",
       "    </tr>\n",
       "    <tr>\n",
       "      <th>108</th>\n",
       "      <td>wrangell, ak</td>\n",
       "      <td>AK</td>\n",
       "      <td>NaN</td>\n",
       "      <td>NaN</td>\n",
       "      <td>NaN</td>\n",
       "    </tr>\n",
       "    <tr>\n",
       "      <th>109</th>\n",
       "      <td>yakutat, ak</td>\n",
       "      <td>AK</td>\n",
       "      <td>NaN</td>\n",
       "      <td>NaN</td>\n",
       "      <td>NaN</td>\n",
       "    </tr>\n",
       "  </tbody>\n",
       "</table>\n",
       "<p>110 rows × 5 columns</p>\n",
       "</div>"
      ],
      "text/plain": [
       "              port_name Region/State                       Port hub  \\\n",
       "0         baltimore, md           MD  baltimore, md, filadelfia, pa   \n",
       "1          beaumont, tx           TX          houston/galveston, tx   \n",
       "2        bellingham, wa           WA             seattle/tacoma, wa   \n",
       "3            bethel, ak           AK                            NaN   \n",
       "4    brevig mission, ak           AK                            NaN   \n",
       "..                  ...          ...                            ...   \n",
       "105        whittier, ak           AK                            NaN   \n",
       "106      wilmington, de           DE  baltimore, md, filadelfia, pa   \n",
       "107      wilmington, nc           NC                 wilmington, nc   \n",
       "108        wrangell, ak           AK                            NaN   \n",
       "109         yakutat, ak           AK                            NaN   \n",
       "\n",
       "       coord_0     coord_1  \n",
       "0    39.162017  -76.084075  \n",
       "1    29.602093  -94.667153  \n",
       "2    47.449355 -122.428779  \n",
       "3          NaN         NaN  \n",
       "4          NaN         NaN  \n",
       "..         ...         ...  \n",
       "105        NaN         NaN  \n",
       "106  39.162017  -76.084075  \n",
       "107  34.444471  -77.206152  \n",
       "108        NaN         NaN  \n",
       "109        NaN         NaN  \n",
       "\n",
       "[110 rows x 5 columns]"
      ]
     },
     "execution_count": 35,
     "metadata": {},
     "output_type": "execute_result"
    }
   ],
   "source": [
    "ports_usa"
   ]
  },
  {
   "cell_type": "code",
   "execution_count": 81,
   "metadata": {},
   "outputs": [],
   "source": [
    "ports_uk = ports_uk.rename(columns={'Port':'port_name'})"
   ]
  },
  {
   "cell_type": "code",
   "execution_count": 82,
   "metadata": {},
   "outputs": [],
   "source": [
    "ports_dataframe = pd.concat([ports_usa, ports_uk], axis = 0, ignore_index=True, join='outer')"
   ]
  },
  {
   "cell_type": "code",
   "execution_count": 84,
   "metadata": {},
   "outputs": [],
   "source": [
    "ports_dataframe.to_csv('../AAA_code/ports_dataframe_input.csv', sep=',')"
   ]
  },
  {
   "cell_type": "code",
   "execution_count": 29,
   "metadata": {},
   "outputs": [],
   "source": [
    "cbp_nationwide = pd.read_csv('../CBP_drug_seizures/nationwide-drugs-fy22-fy25-dec.csv', sep=',')"
   ]
  },
  {
   "cell_type": "code",
   "execution_count": 33,
   "metadata": {},
   "outputs": [],
   "source": [
    "cbp_AMO = pd.read_csv('../CBP_drug_seizures/amo-drug-seizures-fy22-fy25-nov.csv', sep=',')"
   ]
  },
  {
   "cell_type": "code",
   "execution_count": 30,
   "metadata": {},
   "outputs": [],
   "source": [
    "police_force_region = cbp_nationwide[\"Area of Responsibility\"].unique()"
   ]
  },
  {
   "cell_type": "code",
   "execution_count": 32,
   "metadata": {},
   "outputs": [
    {
     "data": {
      "text/plain": [
       "array(['baltimore, md, filadelfia, pa', 'houston/galveston, tx',\n",
       "       'seattle/tacoma, wa', nan,\n",
       "       'erie/buffalo, ny, hamilton/toronto, canada', 'corpus christi, tx',\n",
       "       'tampa, fl', 'Michigan-canada',\n",
       "       'detroit, mi/ toledo, cleveland, oh', 'duluth, mn', 'boston, ma',\n",
       "       'san juan, puerto rico', 'honolulu, hi', 'chicago, il',\n",
       "       'jacksonville, fl', 'new orleans, lo',\n",
       "       'jackson county, ms, mobile, al', 'wilmington, nc',\n",
       "       'great los angeles, ca', 'newark/new york, nj/ny',\n",
       "       'miami-fort lauderdale, fl', 'charleston, sc', 'portland, or',\n",
       "       'san francisco bay area, ca', 'savannah, ga', 'norfolk, va',\n",
       "       'san diego, ca'], dtype=object)"
      ]
     },
     "execution_count": 32,
     "metadata": {},
     "output_type": "execute_result"
    }
   ],
   "source": [
    "ports_usa['Port hub'].unique()"
   ]
  },
  {
   "cell_type": "code",
   "execution_count": 31,
   "metadata": {},
   "outputs": [
    {
     "data": {
      "text/plain": [
       "array(['ATLANTA FIELD OFFICE', 'BALTIMORE FIELD OFFICE',\n",
       "       'CHICAGO FIELD OFFICE', 'HOUSTON FIELD OFFICE',\n",
       "       'LOS ANGELES FIELD OFFICE', 'MIAMI FIELD OFFICE',\n",
       "       'NEW ORLEANS FIELD OFFICE', 'NEW YORK FIELD OFFICE',\n",
       "       'PRECLEARANCE FIELD OFFICE', 'SAN FRANCISCO FIELD OFFICE',\n",
       "       'SAN JUAN FIELD OFFICE', 'TAMPA FIELD OFFICE',\n",
       "       'BOSTON FIELD OFFICE', 'BUFFALO FIELD OFFICE',\n",
       "       'DETROIT FIELD OFFICE', 'SEATTLE FIELD OFFICE',\n",
       "       'PORTLAND FIELD OFFICE', 'EL PASO FIELD OFFICE',\n",
       "       'LAREDO FIELD OFFICE', 'SAN DIEGO FIELD OFFICE',\n",
       "       'TUCSON FIELD OFFICE', 'MIAMI SECTOR', 'NEW ORLEANS SECTOR',\n",
       "       'RAMEY SECTOR', 'BLAINE SECTOR', 'DETROIT SECTOR',\n",
       "       'GRAND FORKS SECTOR', 'HOULTON SECTOR', 'SPOKANE SECTOR',\n",
       "       'SWANTON SECTOR', 'BIG BEND SECTOR', 'DEL RIO SECTOR',\n",
       "       'EL CENTRO SECTOR', 'EL PASO SECTOR', 'LAREDO SECTOR',\n",
       "       'RIO GRANDE VALLEY SECTOR', 'SAN DIEGO SECTOR', 'TUCSON SECTOR',\n",
       "       'YUMA SECTOR', 'BUFFALO SECTOR', 'HAVRE SECTOR'], dtype=object)"
      ]
     },
     "execution_count": 31,
     "metadata": {},
     "output_type": "execute_result"
    }
   ],
   "source": [
    "police_force_region"
   ]
  },
  {
   "cell_type": "code",
   "execution_count": 34,
   "metadata": {},
   "outputs": [
    {
     "data": {
      "text/plain": [
       "array(['AMOC Air And Marine Operations Center',\n",
       "       'Ground Tactical Air Controller', 'NASOC - Corpus Christi',\n",
       "       'NASOC - Houston', 'NASOC - Jacksonville',\n",
       "       'New Orleans Air And Marine Branch', 'Bellingham Air Branch',\n",
       "       'Great Lakes Air And Marine Branch', 'Laredo Air Branch',\n",
       "       'Tucson Air Branch', 'Caribbean Air And Marine Branch',\n",
       "       'Jacksonville Air And Marine Branch',\n",
       "       'Miami Air And Marine Branch', 'Manassas Air Branch',\n",
       "       'El Paso Air Branch', 'NASOC - Sierra Vista', 'Yuma Air Branch',\n",
       "       'NASOC - Grand Forks', 'Mc Allen Air And Marine Branch',\n",
       "       'NASOC - San Angelo', 'San Diego Air And Marine Branch',\n",
       "       'National Air Training Center Oklahoma City',\n",
       "       'Houston Air And Marine Branch', 'Mexico City IAC',\n",
       "       'NASOC - Albuquerque'], dtype=object)"
      ]
     },
     "execution_count": 34,
     "metadata": {},
     "output_type": "execute_result"
    }
   ],
   "source": [
    "cbp_AMO[\"Branch\"].unique()"
   ]
  },
  {
   "cell_type": "code",
   "execution_count": null,
   "metadata": {},
   "outputs": [],
   "source": [
    "dict_cbp = {\n",
    "    'baltimore, md, filadelfia, pa':'BALTIMORE FIELD OFFICE',\n",
    "    'houston/galveston, tx':'HOUSTON FIELD OFFICE',\n",
    "    'seattle/tacoma, wa': 'SEATTLE FIELD OFFICE',\n",
    "    'erie/buffalo, ny, hamilton/toronto, canada':['BUFFALO FIELD OFFICE','BUFFALO SECTOR'],\n",
    "    'corpus christi, tx': 'NASOC - Corpus Christi',\n",
    "    'tampa, fl': 'TAMPA FIELD OFFICE',\n",
    "    'Michigan-canada': 'Great Lakes Air And Marine Branch',\n",
    "    'detroit, mi/ toledo, cleveland, oh':'DETROIT FIELD OFFICE',\n",
    "    'duluth, mn': 'GRAND FORKS SECTOR',\n",
    "    'boston, ma': 'BOSTON FIELD OFFICE',\n",
    "    'san juan, puerto rico': 'SAN JUAN FIELD OFFICE',\n",
    "    'honolulu, hi': 0,\n",
    "    'chicago, il':'CHICAGO FIELD OFFICE',\n",
    "    'jacksonville, fl': ['NASOC - Jacksonville','Jacksonville Air And Marine Branch'],\n",
    "    'new orleans, lo': ['NEW ORLEANS FIELD OFFICE','NEW ORLEANS SECTOR'],\n",
    "    'jackson county, ms, mobile, al':'New Orleans Air And Marine Branch',\n",
    "    'wilmington, nc':0,\n",
    "    'great los angeles, ca':'LOS ANGELES FIELD OFFICE',\n",
    "    'newark/new york, nj/ny':'NEW YORK FIELD OFFICE',\n",
    "    'miami-fort lauderdale, fl':'MIAMI FIELD OFFICE',\n",
    "    'charleston, sc':0,\n",
    "    'portland, or':'PORTLAND FIELD OFFICE',\n",
    "    'san francisco bay area, ca':'SAN FRANCISCO FIELD OFFICE',\n",
    "    'savannah, ga':'ATLANTA FIELD OFFICE',\n",
    "    'norfolk, va':'Manassas Air Branch',\n",
    "    'san diego, ca':'SAN DIEGO FIELD OFFICE'\n",
    "}"
   ]
  }
 ],
 "metadata": {
  "kernelspec": {
   "display_name": "Python 3",
   "language": "python",
   "name": "python3"
  },
  "language_info": {
   "codemirror_mode": {
    "name": "ipython",
    "version": 3
   },
   "file_extension": ".py",
   "mimetype": "text/x-python",
   "name": "python",
   "nbconvert_exporter": "python",
   "pygments_lexer": "ipython3",
   "version": "3.10.12"
  }
 },
 "nbformat": 4,
 "nbformat_minor": 2
}

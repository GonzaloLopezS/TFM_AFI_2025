{
 "cells": [
  {
   "cell_type": "code",
   "execution_count": 1,
   "metadata": {
    "executionInfo": {
     "elapsed": 297,
     "status": "ok",
     "timestamp": 1741691754709,
     "user": {
      "displayName": "Gonzalo Lopez Segovia",
      "userId": "14672744580543195966"
     },
     "user_tz": -60
    },
    "id": "mNaMzUMwaHpD"
   },
   "outputs": [],
   "source": [
    "import pandas as pd\n",
    "import numpy as np"
   ]
  },
  {
   "cell_type": "code",
   "execution_count": null,
   "metadata": {
    "colab": {
     "base_uri": "https://localhost:8080/"
    },
    "executionInfo": {
     "elapsed": 21499,
     "status": "ok",
     "timestamp": 1741691778055,
     "user": {
      "displayName": "Gonzalo Lopez Segovia",
      "userId": "14672744580543195966"
     },
     "user_tz": -60
    },
    "id": "MaOg5ppqaLtV",
    "outputId": "f3eceeec-d5d8-4c04-f24d-e76941781099"
   },
   "outputs": [],
   "source": [
    "from google.colab import drive\n",
    "drive.mount('/content/drive')"
   ]
  },
  {
   "cell_type": "code",
   "execution_count": null,
   "metadata": {
    "executionInfo": {
     "elapsed": 12,
     "status": "ok",
     "timestamp": 1741691780847,
     "user": {
      "displayName": "Gonzalo Lopez Segovia",
      "userId": "14672744580543195966"
     },
     "user_tz": -60
    },
    "id": "22-FHeYzaNpu"
   },
   "outputs": [],
   "source": [
    "import os\n",
    "path = '/content/drive/MyDrive/Colab Notebooks/TFM_en_colab'\n",
    "os.chdir(path)"
   ]
  },
  {
   "cell_type": "code",
   "execution_count": 2,
   "metadata": {
    "executionInfo": {
     "elapsed": 1531,
     "status": "ok",
     "timestamp": 1741691784191,
     "user": {
      "displayName": "Gonzalo Lopez Segovia",
      "userId": "14672744580543195966"
     },
     "user_tz": -60
    },
    "id": "KY-3woc4aHpE"
   },
   "outputs": [],
   "source": [
    "from sklearn.model_selection import train_test_split, cross_val_score, GridSearchCV, TimeSeriesSplit\n",
    "from sklearn.linear_model import LinearRegression\n",
    "from sklearn.metrics import mean_squared_error, r2_score, accuracy_score, mean_absolute_percentage_error\n",
    "from sklearn.ensemble import RandomForestRegressor, AdaBoostRegressor, BaggingRegressor, GradientBoostingRegressor\n",
    "from sklearn.tree import DecisionTreeRegressor"
   ]
  },
  {
   "cell_type": "code",
   "execution_count": 3,
   "metadata": {
    "executionInfo": {
     "elapsed": 4,
     "status": "ok",
     "timestamp": 1741692316539,
     "user": {
      "displayName": "Gonzalo Lopez Segovia",
      "userId": "14672744580543195966"
     },
     "user_tz": -60
    },
    "id": "fUvMFIi_aHpR"
   },
   "outputs": [],
   "source": [
    "regressors = {\n",
    "    'LR': LinearRegression(),\n",
    "    'adaBoostRegressor': AdaBoostRegressor(random_state=256),\n",
    "    'baggingRegressor': BaggingRegressor(random_state=256),\n",
    "    'GBR': GradientBoostingRegressor(random_state=256),\n",
    "    'DT': DecisionTreeRegressor(random_state=256)\n",
    "}\n",
    "\n",
    "params = {\n",
    "    'LR':{\n",
    "        'fit_intercept':[True, False]\n",
    "    },\n",
    "    'adaBoostRegressor':{\n",
    "        'n_estimators':[2,4,8,16,32,64,128],\n",
    "        'learning_rate':[1e-3, 1e-2, 1e-1, 1, 10, 1e2],\n",
    "        'loss':['linear','square']\n",
    "    },\n",
    "    'baggingRegressor':{\n",
    "        'n_estimators':[2,4,8,16,32,64],\n",
    "        'max_samples':[5,10,25,40],\n",
    "        'max_features':[1,2,3]\n",
    "    },\n",
    "    'GBR':{\n",
    "        'loss':['squared_error','absolute_error'],\n",
    "        'learning_rate':[1e-3, 1e-2, 1e-1, 1, 10, 1e2],\n",
    "        'n_estimators':[2,4,8,16,32,64],\n",
    "        'validation_fraction':[0.05, 0.1, 0.2], # subconjunto de validacion\n",
    "        'n_iter_no_change':[2,3, 5, 10], # tras varias iteraciones loss function no mejora, fin del entrenamiento\n",
    "        'tol':[1e-4, 1e-3, 1e-2, 1e-1], # una tolerancia al decrecimiento\n",
    "    },\n",
    "    'DT':{\n",
    "        'criterion':['squared_error','absolute_error','poisson'],\n",
    "        'max_depth':[None,1,2,3,4],\n",
    "        'min_samples_split':[2,4,8,16,32],\n",
    "        'min_samples_leaf': [1,2,3,5,10,20]\n",
    "    }\n",
    "}\n"
   ]
  },
  {
   "cell_type": "code",
   "execution_count": 4,
   "metadata": {
    "executionInfo": {
     "elapsed": 5,
     "status": "ok",
     "timestamp": 1741692363422,
     "user": {
      "displayName": "Gonzalo Lopez Segovia",
      "userId": "14672744580543195966"
     },
     "user_tz": -60
    },
    "id": "oCdeAn99e2zf"
   },
   "outputs": [],
   "source": [
    "scoring = {\n",
    "    'r2': 'r2',\n",
    "    'mape':'neg_mean_absolute_percentage_error',\n",
    "    'mae': 'neg_mean_absolute_error',\n",
    "    'medae':'neg_median_absolute_error',\n",
    "    'rmsle': 'neg_root_mean_squared_log_error',\n",
    "    'mpd':'neg_mean_poisson_deviance'\n",
    "}\n"
   ]
  },
  {
   "cell_type": "markdown",
   "metadata": {
    "id": "dA0rMAW5aHpG"
   },
   "source": [
    "## Modelos Puerto de Newark:"
   ]
  },
  {
   "cell_type": "markdown",
   "metadata": {
    "id": "SPQoEABGaHpH"
   },
   "source": [
    "### Datos Newark sin transformar"
   ]
  },
  {
   "cell_type": "code",
   "execution_count": 6,
   "metadata": {
    "id": "kZwL5nVEaHpI"
   },
   "outputs": [],
   "source": [
    "newark_data = pd.read_csv('../sources/newark_data.csv')\n"
   ]
  },
  {
   "cell_type": "code",
   "execution_count": 7,
   "metadata": {
    "id": "9n-cAPOLaHpJ"
   },
   "outputs": [
    {
     "name": "stderr",
     "output_type": "stream",
     "text": [
      "/home/gonzalopc/.local/lib/python3.10/site-packages/matplotlib/projections/__init__.py:63: UserWarning: Unable to import Axes3D. This may be due to multiple versions of Matplotlib being installed (e.g. as a system package and as a pip package). As a result, the 3D projection is not available.\n"
     ]
    },
    {
     "data": {
      "image/png": "[encoded data removed]"
     },
     "metadata": {
      "image/png": {
       "height": 480,
       "width": 640
      }
     },
     "output_type": "display_data"
    }
   ],
   "source": [
    "from plotnine import ggplot, aes, geom_line, labs\n",
    "from sklearn.preprocessing import MinMaxScaler\n",
    "\n",
    "# Select the columns to plot\n",
    "columns_to_plot = ['Sum_of_Counts', 'Total Imports']\n",
    "\n",
    "# Apply MinMaxScaler to the selected columns\n",
    "scaler = MinMaxScaler()\n",
    "newark_data_scaled = newark_data.copy()\n",
    "newark_data_scaled[columns_to_plot] = scaler.fit_transform(newark_data[columns_to_plot])\n",
    "\n",
    "# Melt the dataframe for plotting\n",
    "newark_data_melted = newark_data_scaled.melt(id_vars=['Date'], value_vars=columns_to_plot, var_name='Variable', value_name='Value')\n",
    "\n",
    "# Convert 'Date' to datetime\n",
    "newark_data_melted['Date'] = pd.to_datetime(newark_data_melted['Date'])\n",
    "\n",
    "# Plot using plotnine\n",
    "plot = (ggplot(newark_data_melted, aes(x='Date', y='Value', color='Variable'))\n",
    "    + geom_line()\n",
    "    + labs(title='Scaled Values of Sum_of_Counts, Loaded Imports, Total Imports, and Total TEUs',\n",
    "           x='Date', y='Scaled Value'))\n",
    "\n",
    "plot"
   ]
  },
  {
   "cell_type": "code",
   "execution_count": 8,
   "metadata": {
    "id": "5mg0BSYHaHpJ"
   },
   "outputs": [],
   "source": [
    "newark_data_input = newark_data.loc[:,['Date','Empty Exports','Loaded Exports','Empty Imports','Loaded Imports','Total TEUs', 'Total Imports', 'Total Exports','Ratio_Cocaine']]\n",
    "newark_data_input_corr = newark_data_input[['Empty Exports','Loaded Exports','Empty Imports','Loaded Imports','Total TEUs', 'Total Imports', 'Total Exports','Ratio_Cocaine']]"
   ]
  },
  {
   "cell_type": "code",
   "execution_count": 9,
   "metadata": {
    "id": "Oiofct-waHpL"
   },
   "outputs": [
    {
     "data": {
      "image/png": "[encoded data removed]",
      "text/plain": [
       "<Figure size 1000x800 with 2 Axes>"
      ]
     },
     "metadata": {},
     "output_type": "display_data"
    }
   ],
   "source": [
    "import seaborn as sns\n",
    "\n",
    "import matplotlib.pyplot as plt\n",
    "\n",
    "# Calculate the correlation matrix\n",
    "corr_matrix = newark_data_input_corr.corr().abs()\n",
    "\n",
    "# Plot the heatmap\n",
    "plt.figure(figsize=(10, 8))\n",
    "sns.heatmap(corr_matrix, annot=True, cmap='coolwarm', fmt='.2f')\n",
    "plt.title('Correlation Matrix of Newark Data Input')\n",
    "plt.show()"
   ]
  },
  {
   "cell_type": "code",
   "execution_count": null,
   "metadata": {
    "id": "LKcfHyboaHpL"
   },
   "outputs": [],
   "source": [
    "\n",
    "X = newark_data_input.drop('Ratio_Cocaine', axis=1)\n",
    "y = newark_data_input['Ratio_Cocaine']\n",
    "\n",
    "# Opcion A: Division como train/test\n",
    "X_train, X_test, y_train, y_test = train_test_split(X, y, test_size=0.2, random_state=42)"
   ]
  },
  {
   "cell_type": "code",
   "execution_count": null,
   "metadata": {
    "id": "bunCrkeEaHpM"
   },
   "outputs": [],
   "source": [
    "# Create a RandomForestRegressor model\n",
    "rf_regressor = RandomForestRegressor(n_estimators=100, random_state=42)\n",
    "\n",
    "# Fit the model to the training data\n",
    "rf_regressor.fit(X_train, y_train)"
   ]
  },
  {
   "cell_type": "code",
   "execution_count": null,
   "metadata": {
    "id": "TN6fb-FXaHpN"
   },
   "outputs": [],
   "source": [
    "# Evaluate the model on the training data\n",
    "y_train_pred = rf_regressor.predict(X_train)\n",
    "train_mse = mean_squared_error(y_train, y_train_pred)\n",
    "train_r2 = r2_score(y_train, y_train_pred)\n",
    "\n",
    "print(f'Training MSE: {train_mse}')\n",
    "print(f'Training R2: {train_r2}')\n",
    "\n",
    "# Predict on the test data\n",
    "y_test_pred = rf_regressor.predict(X_test)\n",
    "test_mse = mean_squared_error(y_test, y_test_pred)\n",
    "test_r2 = r2_score(y_test, y_test_pred)\n",
    "\n",
    "print(f'Test MSE: {test_mse}')\n",
    "print(f'Test R2: {test_r2}')"
   ]
  },
  {
   "cell_type": "code",
   "execution_count": null,
   "metadata": {
    "id": "AkbJDtZqaHpO"
   },
   "outputs": [],
   "source": [
    "# Define the features and target variable\n",
    "X_filtered = newark_data_input.drop(['Date', 'Ratio_Cocaine'], axis=1)\n",
    "y_filtered = newark_data_input['Ratio_Cocaine']\n",
    "\n",
    "# Initialize TimeSeriesSplit\n",
    "tscv = TimeSeriesSplit(n_splits=5)\n",
    "\n",
    "# Initialize the RandomForestRegressor\n",
    "rf_regressor_ts = RandomForestRegressor(n_estimators=100, random_state=42)\n",
    "\n",
    "# Perform cross-validation\n",
    "for train_index, test_index in tscv.split(X_filtered):\n",
    "    X_train_ts, X_test_ts = X_filtered.iloc[train_index], X_filtered.iloc[test_index]\n",
    "    y_train_ts, y_test_ts = y_filtered.iloc[train_index], y_filtered.iloc[test_index]\n",
    "\n",
    "    # Fit the model\n",
    "    rf_regressor_ts.fit(X_train_ts, y_train_ts)\n",
    "\n",
    "    # Predict on the test data\n",
    "    y_test_pred_ts = rf_regressor_ts.predict(X_test_ts)\n",
    "\n",
    "    # Evaluate the model\n",
    "    test_mse_ts = mean_squared_error(y_test_ts, y_test_pred_ts)\n",
    "    test_r2_ts = r2_score(y_test_ts, y_test_pred_ts)\n",
    "\n",
    "    print(f'Test MSE: {test_mse_ts}')\n",
    "    print(f'Test R2: {test_r2_ts}')"
   ]
  },
  {
   "cell_type": "markdown",
   "metadata": {
    "id": "7Q-usV7NaHpO"
   },
   "source": [
    "### Datos Newark Transformados"
   ]
  },
  {
   "cell_type": "code",
   "execution_count": null,
   "metadata": {
    "executionInfo": {
     "elapsed": 312,
     "status": "ok",
     "timestamp": 1741691787574,
     "user": {
      "displayName": "Gonzalo Lopez Segovia",
      "userId": "14672744580543195966"
     },
     "user_tz": -60
    },
    "id": "dIJ4f-uWaHpP"
   },
   "outputs": [],
   "source": [
    "# newark_data = pd.read_csv('../sources/newark_data_treated.csv')\n",
    "newark_data = pd.read_csv('newark_data_treated.csv')"
   ]
  },
  {
   "cell_type": "code",
   "execution_count": null,
   "metadata": {
    "executionInfo": {
     "elapsed": 13,
     "status": "ok",
     "timestamp": 1741691790656,
     "user": {
      "displayName": "Gonzalo Lopez Segovia",
      "userId": "14672744580543195966"
     },
     "user_tz": -60
    },
    "id": "LnYOOpvtaHpP"
   },
   "outputs": [],
   "source": [
    "newark_data_input = newark_data.loc[:,['Date','Empty Exports','Loaded Exports','Empty Imports','Loaded Imports','Total TEUs', 'Total Imports', 'Total Exports','Sum_of_Counts']]\n",
    "newark_data_input_corr = newark_data_input[['Empty Exports','Loaded Exports','Empty Imports','Loaded Imports','Total TEUs', 'Total Imports', 'Total Exports','Sum_of_Counts']]"
   ]
  },
  {
   "cell_type": "code",
   "execution_count": 12,
   "metadata": {
    "colab": {
     "base_uri": "https://localhost:8080/",
     "height": 793
    },
    "executionInfo": {
     "elapsed": 816,
     "status": "ok",
     "timestamp": 1741691792686,
     "user": {
      "displayName": "Gonzalo Lopez Segovia",
      "userId": "14672744580543195966"
     },
     "user_tz": -60
    },
    "id": "nLD1A-9raHpP",
    "outputId": "69065f85-7f65-4659-deb6-e090148bb544"
   },
   "outputs": [
    {
     "data": {
      "image/png": "[encoded data removed]",
      "text/plain": [
       "<Figure size 1000x800 with 2 Axes>"
      ]
     },
     "metadata": {},
     "output_type": "display_data"
    }
   ],
   "source": [
    "import seaborn as sns\n",
    "\n",
    "import matplotlib.pyplot as plt\n",
    "\n",
    "# Calculate the correlation matrix\n",
    "corr_matrix = newark_data_input_corr.corr().abs()\n",
    "\n",
    "# Plot the heatmap\n",
    "plt.figure(figsize=(10, 8))\n",
    "sns.heatmap(corr_matrix, annot=True, cmap='coolwarm', fmt='.2f')\n",
    "plt.title('Correlation Matrix of Newark Port Data Input')\n",
    "plt.show()"
   ]
  },
  {
   "cell_type": "code",
   "execution_count": null,
   "metadata": {
    "id": "pVdu_9GtaHpQ"
   },
   "outputs": [],
   "source": [
    "# Use last year for test\n",
    "# Convert 'Date' to datetime\n",
    "newark_data_input['Date'] = pd.to_datetime(newark_data_input['Date'])\n",
    "\n",
    "# Split the data\n",
    "train_data = newark_data_input[newark_data_input['Date'] < '2024-01-01']\n",
    "test_data = newark_data_input[newark_data_input['Date'] >= '2024-01-01']"
   ]
  },
  {
   "cell_type": "code",
   "execution_count": null,
   "metadata": {
    "id": "XvGg_Z2oaHpQ"
   },
   "outputs": [],
   "source": [
    "# Define the features and target variable for train_data\n",
    "X_train = train_data.drop(['Sum_of_Counts','Date'], axis=1)\n",
    "y_train = train_data['Sum_of_Counts']\n",
    "\n",
    "# Define the features and target variable for test_data\n",
    "X_test = test_data.drop(['Sum_of_Counts','Date'], axis=1)\n",
    "y_test = test_data['Sum_of_Counts']"
   ]
  },
  {
   "cell_type": "code",
   "execution_count": null,
   "metadata": {
    "colab": {
     "base_uri": "https://localhost:8080/"
    },
    "collapsed": true,
    "executionInfo": {
     "elapsed": 61453,
     "status": "ok",
     "timestamp": 1741548324051,
     "user": {
      "displayName": "Gonzalo Lopez Segovia",
      "userId": "14672744580543195966"
     },
     "user_tz": -60
    },
    "id": "3Q3R2ucuaHpR",
    "outputId": "12dc1cba-4f32-416c-d142-9e7c673be6ed"
   },
   "outputs": [],
   "source": [
    "regressorsCV = {}\n",
    "\n",
    "for name in list(params.keys()):\n",
    "    print(\"*************\")\n",
    "    print(name)\n",
    "    print(\"*************\")\n",
    "    regressorsCV[name] = GridSearchCV(\n",
    "        estimator=regressors[name],\n",
    "        param_grid=params[name],\n",
    "        scoring= 'neg_mean_absolute_percentage_error', #scoring,\n",
    "        refit='mape',\n",
    "        return_train_score=True,\n",
    "        n_jobs=-1,\n",
    "        cv=5, verbose = 2\n",
    "    )\n",
    "\n",
    "    regressorsCV[name].fit(X_train, y_train)"
   ]
  },
  {
   "cell_type": "code",
   "execution_count": null,
   "metadata": {
    "colab": {
     "base_uri": "https://localhost:8080/"
    },
    "executionInfo": {
     "elapsed": 17,
     "status": "ok",
     "timestamp": 1741548751562,
     "user": {
      "displayName": "Gonzalo Lopez Segovia",
      "userId": "14672744580543195966"
     },
     "user_tz": -60
    },
    "id": "tDuu99pBTLmo",
    "outputId": "37bfbc86-2340-4ce6-88f3-78615750d66b"
   },
   "outputs": [],
   "source": [
    "test_scores = []\n",
    "\n",
    "for name in list(params.keys()):\n",
    "    print(name)\n",
    "    print(\"Numero de configuraciones: \", pd.DataFrame.from_dict(regressorsCV[name].cv_results_).shape[0])\n",
    "\n",
    "    # Get sorted results, ensuring lower MAPE is better\n",
    "    aux = pd.DataFrame.from_dict(regressorsCV[name].cv_results_).sort_values(by=\"mean_test_score\", ascending=True).iloc[0]\n",
    "\n",
    "    # Ensure MAPE is positive\n",
    "    mape_cv_test = abs(aux['mean_test_score'])\n",
    "    mape_cv_train = abs(aux['mean_train_score'])\n",
    "\n",
    "    # Get best model and compute MAPE\n",
    "    best_model = regressorsCV[name].best_estimator_\n",
    "    mape_train = mean_absolute_percentage_error(y_train, best_model.predict(X_train))\n",
    "    mape_test = mean_absolute_percentage_error(y_test, best_model.predict(X_test))\n",
    "\n",
    "    test_scores.append((name, mape_train, mape_cv_train, mape_cv_test, mape_test))\n"
   ]
  },
  {
   "cell_type": "code",
   "execution_count": null,
   "metadata": {
    "id": "Pac0AYBYXuvK"
   },
   "outputs": [],
   "source": [
    "resultado = pd.DataFrame(test_scores,columns=['Regressor','mape_train','mape_cv_train','mape_validation','mape_test'])\n",
    "resultado"
   ]
  },
  {
   "cell_type": "markdown",
   "metadata": {
    "id": "ClVFMGPz6sFX"
   },
   "source": [
    "Versión alternativa tras eliminar columnas redundantes:"
   ]
  },
  {
   "cell_type": "code",
   "execution_count": null,
   "metadata": {
    "executionInfo": {
     "elapsed": 4,
     "status": "ok",
     "timestamp": 1741692055533,
     "user": {
      "displayName": "Gonzalo Lopez Segovia",
      "userId": "14672744580543195966"
     },
     "user_tz": -60
    },
    "id": "NeGsk5M36_iK"
   },
   "outputs": [],
   "source": [
    "newark_data_input_2 = newark_data.loc[:,['Date','Empty Exports','Loaded Exports','Empty Imports','Loaded Imports','Total TEUs','Sum_of_Counts']]"
   ]
  },
  {
   "cell_type": "code",
   "execution_count": null,
   "metadata": {
    "executionInfo": {
     "elapsed": 6,
     "status": "ok",
     "timestamp": 1741692737589,
     "user": {
      "displayName": "Gonzalo Lopez Segovia",
      "userId": "14672744580543195966"
     },
     "user_tz": -60
    },
    "id": "UlYSnQuS8CtT"
   },
   "outputs": [],
   "source": [
    "# Use last year for test\n",
    "# Convert 'Date' to datetime\n",
    "newark_data_input_2['Date'] = pd.to_datetime(newark_data_input_2['Date'])\n",
    "\n",
    "# Split the data\n",
    "train_data_2 = newark_data_input_2[newark_data_input_2['Date'] < '2024-01-01']\n",
    "test_data_2 = newark_data_input_2[newark_data_input_2['Date'] >= '2024-01-01']"
   ]
  },
  {
   "cell_type": "code",
   "execution_count": null,
   "metadata": {
    "executionInfo": {
     "elapsed": 15,
     "status": "ok",
     "timestamp": 1741692740672,
     "user": {
      "displayName": "Gonzalo Lopez Segovia",
      "userId": "14672744580543195966"
     },
     "user_tz": -60
    },
    "id": "iFA7GuEv8gh9"
   },
   "outputs": [],
   "source": [
    "# Define the features and target variable for train_data\n",
    "X_train_2 = train_data_2.drop(['Sum_of_Counts','Date'], axis=1)\n",
    "y_train_2 = train_data_2['Sum_of_Counts']\n",
    "\n",
    "# Define the features and target variable for test_data\n",
    "X_test_2 = test_data_2.drop(['Sum_of_Counts','Date'], axis=1)\n",
    "y_test_2 = test_data_2['Sum_of_Counts']"
   ]
  },
  {
   "cell_type": "code",
   "execution_count": null,
   "metadata": {
    "colab": {
     "base_uri": "https://localhost:8080/"
    },
    "collapsed": true,
    "executionInfo": {
     "elapsed": 55841,
     "status": "ok",
     "timestamp": 1741693012425,
     "user": {
      "displayName": "Gonzalo Lopez Segovia",
      "userId": "14672744580543195966"
     },
     "user_tz": -60
    },
    "id": "8JJo0KO09K78",
    "outputId": "1aa3e8ff-9a04-44e9-d06c-492d759492fa"
   },
   "outputs": [],
   "source": [
    "regressorsCV_2 = {}\n",
    "\n",
    "for name in list(params.keys()):\n",
    "    print(\"*************\")\n",
    "    print(name)\n",
    "    print(\"*************\")\n",
    "    regressorsCV_2[name] = GridSearchCV(\n",
    "        estimator=regressors[name],\n",
    "        param_grid=params[name],\n",
    "        scoring= 'r2', #scoring,\n",
    "        refit='r2',\n",
    "        return_train_score=True,\n",
    "        n_jobs=-1,\n",
    "        cv=5, verbose = 2\n",
    "    )\n",
    "\n",
    "    regressorsCV_2[name].fit(X_train_2, y_train_2)"
   ]
  },
  {
   "cell_type": "code",
   "execution_count": null,
   "metadata": {
    "colab": {
     "base_uri": "https://localhost:8080/"
    },
    "executionInfo": {
     "elapsed": 10,
     "status": "ok",
     "timestamp": 1741693018261,
     "user": {
      "displayName": "Gonzalo Lopez Segovia",
      "userId": "14672744580543195966"
     },
     "user_tz": -60
    },
    "id": "3SYu_1589YhL",
    "outputId": "a8fd38d6-ece6-4f60-c096-ea3d719a3157"
   },
   "outputs": [],
   "source": [
    "test_scores_2b = []\n",
    "\n",
    "for name in list(params.keys()):\n",
    "    print(name)\n",
    "    print(\"Numero de configuraciones: \", pd.DataFrame.from_dict(regressorsCV_2[name].cv_results_).shape[0])\n",
    "\n",
    "    # Get sorted results, ensuring lower MAPE is better\n",
    "    aux = pd.DataFrame.from_dict(regressorsCV_2[name].cv_results_).sort_values(by=\"mean_test_score\", ascending=True).iloc[0]\n",
    "\n",
    "    # Ensure MAPE is positive\n",
    "    r2_cv_test = aux['mean_test_score']\n",
    "    r2_cv_train = aux['mean_train_score']\n",
    "\n",
    "    # Get best model and compute MAPE\n",
    "    best_model = regressorsCV_2[name].best_estimator_\n",
    "    r2_train = r2_score(y_train_2, best_model.predict(X_train_2))\n",
    "    r2_test = r2_score(y_test_2, best_model.predict(X_test_2))\n",
    "\n",
    "    test_scores_2b.append((name, r2_train, r2_cv_train, r2_cv_test, r2_test))\n"
   ]
  },
  {
   "cell_type": "code",
   "execution_count": null,
   "metadata": {
    "colab": {
     "base_uri": "https://localhost:8080/",
     "height": 250
    },
    "executionInfo": {
     "elapsed": 27,
     "status": "ok",
     "timestamp": 1741692654714,
     "user": {
      "displayName": "Gonzalo Lopez Segovia",
      "userId": "14672744580543195966"
     },
     "user_tz": -60
    },
    "id": "3PJmLoGu9yyB",
    "outputId": "0609e6d5-704d-430f-bae9-0c7fb982e380"
   },
   "outputs": [],
   "source": [
    "resultado_2 = pd.DataFrame(test_scores_2,columns=['Regressor','mape_train','mape_cv_train','mape_validation','mape_test'])\n",
    "resultado_2"
   ]
  },
  {
   "cell_type": "code",
   "execution_count": null,
   "metadata": {
    "colab": {
     "base_uri": "https://localhost:8080/",
     "height": 250
    },
    "executionInfo": {
     "elapsed": 30,
     "status": "ok",
     "timestamp": 1741693031803,
     "user": {
      "displayName": "Gonzalo Lopez Segovia",
      "userId": "14672744580543195966"
     },
     "user_tz": -60
    },
    "id": "DMyqJ8Cd9yqh",
    "outputId": "68d24d24-1d4d-4f2f-9bca-1a04e5623dd5"
   },
   "outputs": [],
   "source": [
    "resultado_b = pd.DataFrame(test_scores_2b,columns=['Regressor','r2_train','r2_cv_train','r2_validation','r2_test'])\n",
    "resultado_b"
   ]
  },
  {
   "cell_type": "markdown",
   "metadata": {
    "id": "hjeqJBvN8I39"
   },
   "source": [
    "Eliminando más columnas redundantes"
   ]
  },
  {
   "cell_type": "code",
   "execution_count": null,
   "metadata": {
    "executionInfo": {
     "elapsed": 4,
     "status": "ok",
     "timestamp": 1741693494931,
     "user": {
      "displayName": "Gonzalo Lopez Segovia",
      "userId": "14672744580543195966"
     },
     "user_tz": -60
    },
    "id": "qA47KwQE_zQQ"
   },
   "outputs": [],
   "source": [
    "newark_data_input_3 = newark_data.loc[:,['Date','Empty Exports','Total Imports','Sum_of_Counts']]\n",
    "\n",
    "newark_data_input_3['Date'] = pd.to_datetime(newark_data_input_3['Date'])\n",
    "\n",
    "# Split the data\n",
    "train_data_3 = newark_data_input_3[newark_data_input_3['Date'] < '2024-01-01']\n",
    "test_data_3 = newark_data_input_3[newark_data_input_3['Date'] >= '2024-01-01']\n",
    "\n",
    "# Define the features and target variable for train_data\n",
    "X_train_3 = train_data_3.drop(['Sum_of_Counts','Date'], axis=1)\n",
    "y_train_3 = train_data_3['Sum_of_Counts']\n",
    "\n",
    "# Define the features and target variable for test_data\n",
    "X_test_3 = test_data_3.drop(['Sum_of_Counts','Date'], axis=1)\n",
    "y_test_3 = test_data_3['Sum_of_Counts']"
   ]
  },
  {
   "cell_type": "code",
   "execution_count": null,
   "metadata": {
    "colab": {
     "base_uri": "https://localhost:8080/"
    },
    "collapsed": true,
    "executionInfo": {
     "elapsed": 51702,
     "status": "ok",
     "timestamp": 1741693795151,
     "user": {
      "displayName": "Gonzalo Lopez Segovia",
      "userId": "14672744580543195966"
     },
     "user_tz": -60
    },
    "id": "gNLxxAIOAu-v",
    "outputId": "496d6197-6387-4df1-f633-7daeda78c882"
   },
   "outputs": [],
   "source": [
    "regressorsCV_3 = {}\n",
    "\n",
    "for name in list(params.keys()):\n",
    "    print(\"*************\")\n",
    "    print(name)\n",
    "    print(\"*************\")\n",
    "    regressorsCV_3[name] = GridSearchCV(\n",
    "        estimator=regressors[name],\n",
    "        param_grid=params[name],\n",
    "        scoring= 'neg_mean_absolute_percentage_error', #scoring,\n",
    "        refit='mape',\n",
    "        return_train_score=True,\n",
    "        n_jobs=-1,\n",
    "        cv=5, verbose = 2\n",
    "    )\n",
    "\n",
    "    regressorsCV_3[name].fit(X_train_3, y_train_3)"
   ]
  },
  {
   "cell_type": "code",
   "execution_count": null,
   "metadata": {
    "colab": {
     "base_uri": "https://localhost:8080/"
    },
    "executionInfo": {
     "elapsed": 7,
     "status": "ok",
     "timestamp": 1741693810530,
     "user": {
      "displayName": "Gonzalo Lopez Segovia",
      "userId": "14672744580543195966"
     },
     "user_tz": -60
    },
    "id": "VY3TA0Y_A7uh",
    "outputId": "356bc891-9ebc-4809-e0cc-8e2af7b663a1"
   },
   "outputs": [],
   "source": [
    "test_scores_3 = []\n",
    "\n",
    "for name in list(params.keys()):\n",
    "    print(name)\n",
    "    print(\"Numero de configuraciones: \", pd.DataFrame.from_dict(regressorsCV_3[name].cv_results_).shape[0])\n",
    "\n",
    "    # Get sorted results, ensuring lower MAPE is better\n",
    "    aux = pd.DataFrame.from_dict(regressorsCV_3[name].cv_results_).sort_values(by=\"mean_test_score\", ascending=True).iloc[0]\n",
    "\n",
    "    # Ensure MAPE is positive\n",
    "    mape_cv_test = aux['mean_test_score']\n",
    "    mape_cv_train = aux['mean_train_score']\n",
    "\n",
    "    # Get best model and compute MAPE\n",
    "    best_model = regressorsCV_3[name].best_estimator_\n",
    "    mape_train = mean_absolute_percentage_error(y_train_3, best_model.predict(X_train_3))\n",
    "    mape_test = mean_absolute_percentage_error(y_test_3, best_model.predict(X_test_3))\n",
    "\n",
    "    test_scores_3.append((name, mape_train, mape_cv_train, mape_cv_test, mape_test))\n"
   ]
  },
  {
   "cell_type": "code",
   "execution_count": null,
   "metadata": {
    "colab": {
     "base_uri": "https://localhost:8080/",
     "height": 250
    },
    "executionInfo": {
     "elapsed": 24,
     "status": "ok",
     "timestamp": 1741693564384,
     "user": {
      "displayName": "Gonzalo Lopez Segovia",
      "userId": "14672744580543195966"
     },
     "user_tz": -60
    },
    "id": "LpaTs9_GBFLT",
    "outputId": "36e08b38-83f5-48ef-9315-14d58b458ff9"
   },
   "outputs": [],
   "source": [
    "resultado_3b = pd.DataFrame(test_scores_3b,columns=['Regressor','r2_train','r2_cv_train','r2_validation','r2_test'])\n",
    "resultado_3b"
   ]
  },
  {
   "cell_type": "code",
   "execution_count": null,
   "metadata": {
    "colab": {
     "base_uri": "https://localhost:8080/",
     "height": 250
    },
    "executionInfo": {
     "elapsed": 27,
     "status": "ok",
     "timestamp": 1741693836380,
     "user": {
      "displayName": "Gonzalo Lopez Segovia",
      "userId": "14672744580543195966"
     },
     "user_tz": -60
    },
    "id": "Z21nkZ9zB6aN",
    "outputId": "8f04ebca-a7f6-4126-c0b0-5896414fb175"
   },
   "outputs": [],
   "source": [
    "resultado_3 = pd.DataFrame(test_scores_3,columns=['Regressor','mape_train','mape_cv_train','mape_validation','mape_test'])\n",
    "resultado_3"
   ]
  },
  {
   "cell_type": "markdown",
   "metadata": {
    "id": "PTpeB8UNaHpS"
   },
   "source": [
    "## Modelos Puerto de Everglades:"
   ]
  },
  {
   "cell_type": "code",
   "execution_count": 13,
   "metadata": {
    "id": "gw8-kohgaHpT"
   },
   "outputs": [],
   "source": [
    "everglades_data = pd.read_csv('../sources/everglades_data.csv')"
   ]
  },
  {
   "cell_type": "code",
   "execution_count": 14,
   "metadata": {
    "id": "MBHbTZF8aHpT"
   },
   "outputs": [],
   "source": [
    "everglades_data_input = everglades_data.loc[:,['Date','Empty Exports','Loaded Exports','Empty Imports','Loaded Imports','Total TEUs', 'Total Imports', 'Total Exports','Sum_of_Counts']]\n",
    "everglades_data_input_corr = everglades_data_input[['Empty Exports','Loaded Exports','Empty Imports','Loaded Imports','Total TEUs', 'Total Imports', 'Total Exports','Sum_of_Counts']]"
   ]
  },
  {
   "cell_type": "code",
   "execution_count": 15,
   "metadata": {
    "id": "7KN2K1rPaHpT",
    "outputId": "b1a673c8-4337-4a06-d3ec-8ae28e5ec297"
   },
   "outputs": [
    {
     "data": {
      "image/png": "[encoded data removed]",
      "text/plain": [
       "<Figure size 1000x800 with 2 Axes>"
      ]
     },
     "metadata": {},
     "output_type": "display_data"
    }
   ],
   "source": [
    "import seaborn as sns\n",
    "\n",
    "import matplotlib.pyplot as plt\n",
    "\n",
    "# Calculate the correlation matrix\n",
    "corr_matrix = everglades_data_input_corr.corr().abs()\n",
    "\n",
    "# Plot the heatmap\n",
    "plt.figure(figsize=(10, 8))\n",
    "sns.heatmap(corr_matrix, annot=True, cmap='coolwarm', fmt='.2f')\n",
    "plt.title('Correlation Matrix of Fort Lauderdale Data Input')\n",
    "plt.show()"
   ]
  },
  {
   "cell_type": "code",
   "execution_count": null,
   "metadata": {
    "id": "bYV8viu4aHpU"
   },
   "outputs": [],
   "source": [
    "# Use last year for test\n",
    "# Convert 'Date' to datetime\n",
    "everglades_data_input['Date'] = pd.to_datetime(everglades_data_input['Date'])\n",
    "\n",
    "# Split the data\n",
    "train_data = everglades_data_input[everglades_data_input['Date'] < '2024-01-01']\n",
    "test_data = everglades_data_input[everglades_data_input['Date'] >= '2024-01-01']"
   ]
  },
  {
   "cell_type": "code",
   "execution_count": null,
   "metadata": {
    "id": "X_w90BO3aHpU"
   },
   "outputs": [],
   "source": [
    "# Define the features and target variable for train_data\n",
    "X_train = train_data.drop('Sum_of_Counts', axis=1)\n",
    "y_train = train_data['Sum_of_Counts']\n",
    "\n",
    "# Define the features and target variable for test_data\n",
    "X_test = test_data.drop('Sum_of_Counts', axis=1)\n",
    "y_test = test_data['Sum_of_Counts']"
   ]
  },
  {
   "cell_type": "code",
   "execution_count": null,
   "metadata": {
    "id": "_SdLvVJRaHpU"
   },
   "outputs": [],
   "source": [
    "regressors = {\n",
    "    'LR', LinearRegression(),\n",
    "    'adaBoostRegressor', AdaBoostRegressor(random_state=256),\n",
    "    'baggingRegressor', BaggingRegressor(random_state=256),\n",
    "    'GBR', GradientBoostingRegressor(random_state=256)\n",
    "}\n",
    "\n",
    "params = {\n",
    "    'LR':{\n",
    "        'fit_intercept':[True, False]\n",
    "    },\n",
    "    'adaBoostRegressor':{\n",
    "        'n_estimators':[2,4,8,16,32,64],\n",
    "        'learning_rate':[1e-3, 1e-2, 1e-1, 1, 10, 1e2],\n",
    "        'loss':['linear','square']\n",
    "    },\n",
    "    'baggingRegressor':{\n",
    "        'n_estimators':[2,4,8,16,32,64],\n",
    "        'max_samples':[5,10,25,40],\n",
    "        'max_features':[1,2,3]\n",
    "    },\n",
    "    'GBR':{\n",
    "        'loss':['linear','square'],\n",
    "        'learning_rate':[1e-3, 1e-2, 1e-1, 1, 10, 1e2],\n",
    "        'n_estimators':[2,4,8,16,32,64],\n",
    "        'validation_fraction':[0.05, 0.1, 0.2], # subconjunto de validacion\n",
    "        'n_iter_no_change':[2,3, 5, 10], # tras varias iteraciones loss function no mejora, fin del entrenamiento\n",
    "        'tol':[1e-4, 1e-3, 1e-2, 1e-1], # una tolerancia al decrecimiento\n",
    "    }\n",
    "}\n"
   ]
  },
  {
   "cell_type": "code",
   "execution_count": null,
   "metadata": {
    "id": "bTbz3dG0aHpV"
   },
   "outputs": [],
   "source": [
    "regressorsCV = {}\n",
    "\n",
    "for name in list(params.keys()):\n",
    "    print(\"*************\")\n",
    "    print(name)\n",
    "    print(\"*************\")\n",
    "    regressorsCV[name] = GridSearchCV(\n",
    "        estimator=regressors[name],\n",
    "        param_grid=params[name],\n",
    "        scoring=['mean_squared_error','r2_score'],\n",
    "        return_train_score=True,\n",
    "        n_jobs=-1,\n",
    "        cv=5, verbose = 2\n",
    "    )\n",
    "\n",
    "    regressorsCV[name].fit(X_train, y_train)"
   ]
  },
  {
   "cell_type": "code",
   "execution_count": null,
   "metadata": {
    "id": "nVR-yXP5aHpV"
   },
   "outputs": [],
   "source": [
    "# compute results\n",
    "test_scores = []\n",
    "\n",
    "\n",
    "for name in list(params.keys()):\n",
    "    print(name)\n",
    "    print(\"Número de configuraciones: \", pd.DataFrame.from_dict(regressorsCV[name].cv_results_).shape[0])\n",
    "    aux = pd.DataFrame.from_dict(regressorsCV[name].cv_results_).sort_values(by=\"mean_test_score\",ascending=False).iloc[0]\n",
    "\n",
    "    # Accuracy\n",
    "    mse_cv_test = aux['mean_test_score']\n",
    "    mse_cv_train = aux['mean_train_score']\n",
    "\n",
    "    mse_train = mean_squared_error(y_train, regressorsCV[name].predict(X_train))\n",
    "    mse_test = mean_squared_error(y_test, regressorsCV[name].predict(X_test))\n",
    "\n",
    "    # R2:\n",
    "    r2_train = r2_score(y_train, regressorsCV[name].predict(X_train))\n",
    "    r2_test = r2_score(y_test, regressorsCV[name].predict(X_test))\n",
    "\n",
    "    test_scores.append((name,mse_train,mse_cv_train,mse_cv_test,mse_test,r2_train,r2_test))\n",
    "\n",
    "# mirar el rendimiento en validacion para obtener el mejor modelo\n",
    "resultado = pd.DataFrame(test_scores,columns=['Regressor','mse_train','mse_CV_train','mse_validation','mse_test','r2_train','r2_test'])\n",
    "sorted_resultado = resultado.sort_values(by=\"mse_validation\",ascending=False)"
   ]
  },
  {
   "cell_type": "code",
   "execution_count": null,
   "metadata": {
    "id": "C40C0p6SaHpW"
   },
   "outputs": [],
   "source": [
    "sorted_resultado"
   ]
  },
  {
   "cell_type": "markdown",
   "metadata": {
    "id": "80qkPsn5aHpW"
   },
   "source": [
    "## Modelo de series temporales"
   ]
  },
  {
   "cell_type": "code",
   "execution_count": null,
   "metadata": {
    "executionInfo": {
     "elapsed": 198,
     "status": "ok",
     "timestamp": 1741694863458,
     "user": {
      "displayName": "Gonzalo Lopez Segovia",
      "userId": "14672744580543195966"
     },
     "user_tz": -60
    },
    "id": "DxT3ihw5aHpX"
   },
   "outputs": [],
   "source": [
    "from prophet import Prophet\n",
    "from prophet.plot import add_changepoints_to_plot"
   ]
  },
  {
   "cell_type": "code",
   "execution_count": null,
   "metadata": {
    "executionInfo": {
     "elapsed": 400,
     "status": "ok",
     "timestamp": 1741695165825,
     "user": {
      "displayName": "Gonzalo Lopez Segovia",
      "userId": "14672744580543195966"
     },
     "user_tz": -60
    },
    "id": "s8Tvaj6maHpY"
   },
   "outputs": [],
   "source": [
    "everglades_data = pd.read_csv('everglades_data.csv')"
   ]
  },
  {
   "cell_type": "markdown",
   "metadata": {
    "id": "bWewr2K4aHpY"
   },
   "source": [
    "Serie temporal para Loaded Imports en Miami/Fort Lauderdale:"
   ]
  },
  {
   "cell_type": "code",
   "execution_count": null,
   "metadata": {
    "id": "SKYlYijvaHpY"
   },
   "outputs": [],
   "source": [
    "# Añadir 'Loaded Imports' como variable exógena para predecir \"Count of Event_Other Drugs**\"\n",
    "df_imports = everglades_data[['Date', 'Count of Event_Other Drugs**','Loaded Imports']]"
   ]
  },
  {
   "cell_type": "code",
   "execution_count": null,
   "metadata": {
    "id": "zBKDUlElaHpZ"
   },
   "outputs": [],
   "source": [
    "df_imports['Date'] = pd.to_datetime(df_imports['Date'])\n",
    "df_imports_train = df_imports[df_imports['Date'] < '2024-01-01']\n",
    "df_imports_test = df_imports[df_imports['Date'] >= '2024-01-01']\n"
   ]
  },
  {
   "cell_type": "code",
   "execution_count": null,
   "metadata": {},
   "outputs": [],
   "source": [
    "df_imports_train = df_imports_train.rename(columns={\n",
    "    'Date': 'ds', \n",
    "    'Count of Event_Other Drugs**': 'y'  # This should be your target variable\n",
    "})\n",
    "\n",
    "df_imports_test = df_imports_test.rename(columns={\n",
    "    'Date': 'ds', \n",
    "    'Count of Event_Other Drugs**': 'y'  # This should be your target variable\n",
    "})"
   ]
  },
  {
   "cell_type": "code",
   "execution_count": null,
   "metadata": {},
   "outputs": [],
   "source": [
    "# Ensure column names are correctly formatted\n",
    "df_imports_train.columns = df_imports_train.columns.str.strip()\n",
    "df_imports_test.columns = df_imports_test.columns.str.strip()"
   ]
  },
  {
   "cell_type": "code",
   "execution_count": null,
   "metadata": {
    "id": "OQUkhuxyaHpZ"
   },
   "outputs": [],
   "source": [
    "# df_imports_train['cap'] = 0.5\n",
    "m = Prophet()\n",
    "m.add_regressor('Loaded Imports')\n",
    "m.fit(df_imports_train)"
   ]
  },
  {
   "cell_type": "code",
   "execution_count": null,
   "metadata": {
    "id": "453QAG_6aHpZ"
   },
   "outputs": [],
   "source": [
    "prediction = m.predict(df_imports_test)\n",
    "print(prediction[['ds', 'yhat', 'yhat_lower', 'yhat_upper']])"
   ]
  },
  {
   "cell_type": "code",
   "execution_count": null,
   "metadata": {},
   "outputs": [],
   "source": [
    "# Make future dataframe for prediction\n",
    "future = m.make_future_dataframe(periods=len(df_imports_test))\n",
    "# Add the regressor values for both training and prediction periods\n",
    "future['Loaded Imports'] = pd.concat([df_imports_train['Loaded Imports'], df_imports_test['Loaded Imports']])\n",
    "\n",
    "# Make predictions\n",
    "forecast = m.predict(future)"
   ]
  },
  {
   "cell_type": "code",
   "execution_count": null,
   "metadata": {},
   "outputs": [],
   "source": [
    "# Get in-sample predictions (trend component)\n",
    "train_forecast = m.predict(df_imports_train)\n",
    "df_imports_train['trend'] = train_forecast['trend']\n"
   ]
  },
  {
   "cell_type": "code",
   "execution_count": null,
   "metadata": {},
   "outputs": [],
   "source": [
    "plt.figure(figsize=(12,6))\n",
    "\n",
    "# Plot training data\n",
    "plt.scatter(df_imports_train['ds'], df_imports_train['y'], color='green', label=\"Training Data\", alpha=0.6)\n",
    "\n",
    "# Plot trendline for training data\n",
    "plt.plot(df_imports_train['ds'], df_imports_train['trend'], color='blue', linewidth=2, linestyle='dashed', label=\"Training Trend\")\n",
    "\n",
    "# Other plot elements (forecast, test data, regressor)\n",
    "plt.plot(forecast['ds'], forecast['yhat'], label=\"Forecast\", color='blue')\n",
    "plt.fill_between(forecast['ds'], forecast['yhat_lower'], forecast['yhat_upper'], alpha=0.3, color='blue', label=\"95% Confidence\")\n",
    "plt.scatter(df_imports_test['ds'], df_imports_test['y'], color='orange', label=\"Test Data (Actual)\", alpha=0.7)\n",
    "plt.plot(df_imports['Date'], df_imports['Loaded Imports'], color='purple', linestyle='dashed', label=\"Loaded Imports\")\n",
    "\n",
    "plt.xlabel(\"Date\")\n",
    "plt.ylabel(\"Count of Drug Events\")\n",
    "plt.title(\"Prophet Forecast with Training Trendline\")\n",
    "plt.legend()\n",
    "plt.grid(True)\n",
    "\n",
    "plt.show()\n"
   ]
  },
  {
   "cell_type": "code",
   "execution_count": null,
   "metadata": {},
   "outputs": [],
   "source": [
    "df_imports_st = df_imports.copy()\n",
    "df_imports_st.rename({'Date':'ds'}, inplace=True, axis=1)"
   ]
  },
  {
   "cell_type": "code",
   "execution_count": null,
   "metadata": {},
   "outputs": [],
   "source": [
    "# Crear el dataframe futuro con la misma frecuencia de los datos originales\n",
    "future = m.make_future_dataframe(periods=len(df_imports_test), freq='M')\n",
    "\n",
    "# Unir los valores reales de 'Loaded Imports' de train y test\n",
    "future = future.merge(df_imports_st[['ds', 'Loaded Imports']], on='ds', how='left')\n",
    "\n",
    "# Rellenar valores faltantes de la regresora\n",
    "future['Loaded Imports'].fillna(method='ffill', inplace=True)"
   ]
  },
  {
   "cell_type": "code",
   "execution_count": null,
   "metadata": {},
   "outputs": [],
   "source": [
    "# Import necessary libraries\n",
    "import matplotlib.pyplot as plt\n",
    "import matplotlib.dates as mdates\n",
    "import pandas as pd\n",
    "import numpy as np\n",
    "\n",
    "# Create the forecast plot with both predicted and actual values\n",
    "def plot_prophet_forecast(model, forecast, df_train, df_test, target_col='y', regressor_col='Loaded Imports'):\n",
    "    \"\"\"\n",
    "    Create a comprehensive visualization of Prophet forecast results\n",
    "    \n",
    "    Parameters:\n",
    "    -----------\n",
    "    model : Prophet model\n",
    "        The fitted Prophet model\n",
    "    forecast : DataFrame\n",
    "        The forecast DataFrame from model.predict()\n",
    "    df_train : DataFrame\n",
    "        Training data with 'ds' and target column\n",
    "    df_test : DataFrame\n",
    "        Test data with 'ds' and target column\n",
    "    target_col : str\n",
    "        Name of the target column (default: 'y')\n",
    "    regressor_col : str\n",
    "        Name of the regressor column (default: 'Loaded Imports')\n",
    "    \"\"\"\n",
    "    # Create figure and primary axis for the forecast\n",
    "    fig, ax1 = plt.subplots(figsize=(14, 8))\n",
    "    \n",
    "    # Set a professional style\n",
    "    plt.style.use('seaborn-v0_8-whitegrid')\n",
    "    \n",
    "    # Plot the forecast line with uncertainty intervals\n",
    "    ax1.plot(forecast['ds'], forecast['yhat'], color='#0072B2', linewidth=2, label='Forecast')\n",
    "    ax1.fill_between(forecast['ds'], \n",
    "                     forecast['yhat_lower'], forecast['yhat_upper'], \n",
    "                     color='#0072B2', alpha=0.2, label='95% Confidence Interval')\n",
    "    \n",
    "    # Plot the actual training data points\n",
    "    ax1.plot(df_train['ds'], df_train[target_col], 'o', color='#009E73', \n",
    "             markersize=4, alpha=0.7, label='Training Data')\n",
    "    \n",
    "    # Plot the actual test data points to compare with forecast\n",
    "    ax1.plot(df_test['ds'], df_test[target_col], 'o', color='#D55E00', \n",
    "             markersize=6, label='Test Data (Actual)')\n",
    "    \n",
    "    # Enhance the x-axis with better date formatting\n",
    "    ax1.xaxis.set_major_formatter(mdates.DateFormatter('%b %Y'))\n",
    "    ax1.xaxis.set_major_locator(mdates.MonthLocator(interval=3))\n",
    "    plt.xticks(rotation=45)\n",
    "    \n",
    "    # Create a secondary y-axis for the regressor\n",
    "    ax2 = ax1.twinx()\n",
    "    \n",
    "    # Plot the regressor values (Loaded Imports)\n",
    "    combined_df = pd.concat([df_train, df_test])\n",
    "    ax2.plot(combined_df['ds'], combined_df[regressor_col], '--', color='#CC79A7', \n",
    "             linewidth=1.5, label=regressor_col)\n",
    "    \n",
    "    # Calculate correlation to add to the plot\n",
    "    correlation = combined_df[[target_col, regressor_col]].corr().iloc[0, 1]\n",
    "    \n",
    "    # Determine cross-validation metrics if possible\n",
    "    cv_metrics = None\n",
    "    try:\n",
    "        from prophet.diagnostics import cross_validation, performance_metrics\n",
    "        cv_results = cross_validation(model, initial='180 days', period='30 days', horizon='90 days')\n",
    "        cv_metrics = performance_metrics(cv_results)\n",
    "        mape = cv_metrics['mape'].mean()\n",
    "        rmse = cv_metrics['rmse'].mean()\n",
    "        metrics_text = f'MAPE: {mape:.2f}%\\nRMSE: {rmse:.2f}'\n",
    "    except:\n",
    "        metrics_text = ''\n",
    "    \n",
    "    # Add correlation and metrics information\n",
    "    plt.figtext(0.15, 0.02, \n",
    "                f'Correlation between target and regressor: {correlation:.2f}\\n{metrics_text}',\n",
    "                fontsize=10, ha='left')\n",
    "    \n",
    "    # Set titles and labels with clear descriptions\n",
    "    ax1.set_title('Prophet Forecast of Drug Events with Loaded Imports as Regressor', \n",
    "                  fontsize=16, pad=20)\n",
    "    ax1.set_xlabel('Date', fontsize=12, labelpad=10)\n",
    "    ax1.set_ylabel('Count of Drug Events', fontsize=12, labelpad=10, color='#0072B2')\n",
    "    ax2.set_ylabel(regressor_col, fontsize=12, labelpad=10, color='#CC79A7')\n",
    "    \n",
    "    # Create a combined legend for both axes\n",
    "    lines1, labels1 = ax1.get_legend_handles_labels()\n",
    "    lines2, labels2 = ax2.get_legend_handles_labels()\n",
    "    ax1.legend(lines1 + lines2, labels1 + labels2, loc='upper left')\n",
    "    \n",
    "    # Improve the layout\n",
    "    plt.tight_layout()\n",
    "    plt.subplots_adjust(bottom=0.15)\n",
    "    \n",
    "    # Add performance indicators - trend component, seasonality, etc.\n",
    "    if len(model.seasonalities) > 0:\n",
    "        ax3 = plt.axes([0.15, 0.85, 0.25, 0.1], facecolor='whitesmoke')\n",
    "        components = ['trend']\n",
    "        components.extend(list(model.seasonalities.keys()))\n",
    "        for comp in components[:3]:  # Limit to first 3 components\n",
    "            if comp in forecast:\n",
    "                ax3.plot(forecast['ds'], forecast[comp], label=comp)\n",
    "        ax3.legend(loc='center left', fontsize=8)\n",
    "        ax3.set_title('Key Components', fontsize=8)\n",
    "        ax3.xaxis.set_visible(False)\n",
    "    \n",
    "    return fig\n",
    "\n",
    "# Use the function to create your plot\n",
    "fig = plot_prophet_forecast(\n",
    "    model=m,\n",
    "    forecast=forecast,\n",
    "    df_train=df_imports_train,\n",
    "    df_test=df_imports_test,\n",
    "    target_col='y',  # This is 'Count of Event_Other Drugs**' renamed\n",
    "    regressor_col='Loaded Imports'\n",
    ")\n",
    "\n",
    "# Show the plot\n",
    "plt.show()\n",
    "\n",
    "# If you want to save the plot to a file\n",
    "# fig.savefig('drug_events_forecast.png', dpi=300, bbox_inches='tight')"
   ]
  },
  {
   "cell_type": "code",
   "execution_count": null,
   "metadata": {
    "id": "Te2P0Zl_aHpa"
   },
   "outputs": [],
   "source": [
    "# Plot the forecast\n",
    "fig = m.plot(prediction)\n",
    "ax = fig.gca()\n",
    "\n",
    "# Plot the actual values\n",
    "ax.plot(df_imports_test['ds'], df_imports_test['y'], 'r.', label='Actual')\n",
    "\n",
    "# Customize the plot\n",
    "plt.legend()\n",
    "plt.title('Forecast vs Actuals')\n",
    "plt.xlabel('Date')\n",
    "plt.ylabel('Loaded Imports')\n",
    "plt.show()"
   ]
  },
  {
   "cell_type": "code",
   "execution_count": null,
   "metadata": {
    "id": "Ih_Ll0uhaHpa"
   },
   "outputs": [],
   "source": [
    "\n",
    "# Plot the forecast\n",
    "fig = m.plot(prediction)\n",
    "ax = fig.gca()\n",
    "\n",
    "# Plot the actual values\n",
    "ax.plot(df_imports_test['ds'], df_imports_test['y'], 'r.', label='Actual')\n",
    "a = add_changepoints_to_plot(fig.gca(), m, prediction)\n",
    "\n",
    "# Customize the plot\n",
    "plt.legend()\n",
    "plt.title('Forecast vs Actuals')\n",
    "plt.xlabel('Date')\n",
    "plt.ylabel('Loaded Imports')\n",
    "plt.show()"
   ]
  },
  {
   "cell_type": "markdown",
   "metadata": {},
   "source": [
    "Opcion 2:"
   ]
  },
  {
   "cell_type": "code",
   "execution_count": null,
   "metadata": {},
   "outputs": [],
   "source": [
    "df_imports_train"
   ]
  },
  {
   "cell_type": "code",
   "execution_count": null,
   "metadata": {},
   "outputs": [],
   "source": [
    "# Specify the dates where you want changepoints to occur\n",
    "changepoints = pd.to_datetime(['2020-05-01', '2022-04-01', '2023-06-01']).to_list()\n",
    "m = Prophet(changepoints=changepoints)\n",
    "\n",
    "# Add your regressor\n",
    "m.add_regressor('Loaded Imports')\n",
    "\n",
    "# Fit the model\n",
    "m.fit(df_imports_train)"
   ]
  },
  {
   "cell_type": "code",
   "execution_count": null,
   "metadata": {},
   "outputs": [],
   "source": [
    "# Generate the forecast\n",
    "future = m.make_future_dataframe(periods=len(df_imports_test))\n",
    "future['Loaded Imports'] = pd.concat([df_imports_train['Loaded Imports'], df_imports_test['Loaded Imports']])\n",
    "forecast = m.predict(future)\n",
    "\n",
    "# Plot the forecast with changepoints\n",
    "from prophet.plot import add_changepoints_to_plot\n",
    "fig = m.plot(forecast)\n",
    "add_changepoints_to_plot(fig.gca(), m, forecast)\n",
    "plt.title('Forecast with Changepoints')\n",
    "plt.xlabel('Date')\n",
    "plt.ylabel('Count of Drug Events')\n",
    "plt.show()"
   ]
  },
  {
   "cell_type": "code",
   "execution_count": null,
   "metadata": {},
   "outputs": [],
   "source": [
    "# Import cross-validation tools\n",
    "from prophet.diagnostics import cross_validation, performance_metrics\n",
    "import numpy as np\n",
    "import itertools\n",
    "\n",
    "# Define parameter grid\n",
    "param_grid = {  \n",
    "    'changepoint_prior_scale': [0.001, 0.01, 0.1, 0.5],\n",
    "    'changepoint_range': [0.8, 0.9, 0.95]\n",
    "}\n",
    "\n",
    "# Generate all combinations of parameters\n",
    "all_params = [dict(zip(param_grid.keys(), v)) for v in itertools.product(*param_grid.values())]\n",
    "rmses = []  # Store the RMSE for each parameter combination\n",
    "\n",
    "# Cross-validation for each parameter combination\n",
    "for params in all_params:\n",
    "    # Create and fit model with current parameters\n",
    "    m = Prophet(**params)\n",
    "    m.add_regressor('Loaded Imports')\n",
    "    m.fit(df_imports_train)\n",
    "    \n",
    "    # Cross-validate\n",
    "    df_cv = cross_validation(m, initial='180 days', period='30 days', horizon='90 days', parallel=\"processes\")\n",
    "    \n",
    "    # Calculate metrics\n",
    "    df_metrics = performance_metrics(df_cv)\n",
    "    rmses.append(df_metrics['rmse'].mean())\n",
    "    \n",
    "    # Print current parameters and RMSE\n",
    "    print(f\"Parameters: {params}, RMSE: {rmses[-1]:.2f}\")\n",
    "\n",
    "# Find the best parameters\n",
    "best_params = all_params[np.argmin(rmses)]\n",
    "print(f\"\\nBest parameters: {best_params}, RMSE: {min(rmses):.2f}\")"
   ]
  },
  {
   "cell_type": "code",
   "execution_count": null,
   "metadata": {},
   "outputs": [],
   "source": [
    "# Create a Prophet model with adjusted changepoint settings\n",
    "m = Prophet(\n",
    "    changepoint_prior_scale=0.01,  # Controls flexibility (default is 0.05)\n",
    "    changepoint_range=0.8,        # Where changepoints can occur (default is 0.8)\n",
    "    n_changepoints=30             # Number of potential changepoints (default is 25)\n",
    ")\n",
    "\n",
    "# Add your regressor\n",
    "m.add_regressor('Loaded Imports')\n",
    "\n",
    "# Fit the model\n",
    "m.fit(df_imports_train)\n",
    "\n",
    "# Make future dataframe for prediction\n",
    "future = m.make_future_dataframe(periods=len(df_imports_test))\n",
    "# Add the regressor values for both training and prediction periods\n",
    "future['Loaded Imports'] = pd.concat([df_imports_train['Loaded Imports'], df_imports_test['Loaded Imports']])\n",
    "\n",
    "# Make predictions\n",
    "forecast = m.predict(df_imports_test)\n",
    "\n"
   ]
  },
  {
   "cell_type": "code",
   "execution_count": null,
   "metadata": {},
   "outputs": [],
   "source": [
    "# Import necessary libraries\n",
    "import numpy as np\n",
    "from sklearn.metrics import r2_score\n",
    "\n",
    "# Get the actual values from the test dataset\n",
    "y_true = df_imports_test['y'].values  # Assuming 'y' is your target variable\n",
    "\n",
    "# Get the predicted values\n",
    "# Note: We need to match the predictions with the test period\n",
    "# The forecast DataFrame from Prophet contains multiple columns including 'yhat' (predictions)\n",
    "y_pred = forecast['yhat'].values\n",
    "\n",
    "# Calculate R² (R-squared)\n",
    "r2 = r2_score(y_true, y_pred)\n",
    "\n",
    "# Calculate MAPE (Mean Absolute Percentage Error)\n",
    "# We need to handle division by zero, so we'll add a small epsilon to avoid it\n",
    "epsilon = 1e-10\n",
    "mape = np.mean(np.abs((y_true - y_pred) / (y_true + epsilon))) * 100\n",
    "\n",
    "# Print the results\n",
    "print(f\"R² Score: {r2:.4f}\")\n",
    "print(f\"MAPE: {mape:.2f}%\")\n"
   ]
  },
  {
   "cell_type": "code",
   "execution_count": null,
   "metadata": {},
   "outputs": [],
   "source": [
    "\n",
    "# Visualize the results\n",
    "import matplotlib.pyplot as plt\n",
    "\n",
    "plt.figure(figsize=(12, 6))\n",
    "\n",
    "# Plot actual values\n",
    "plt.plot(df_imports_test.ds, y_true, 'b-', label='Actual Test')\n",
    "\n",
    "# Plot predicted values\n",
    "plt.plot(df_imports_test.ds, y_pred, 'r--', label='Predicted Test')\n",
    "\n",
    "plt.title('Actual vs Predicted Values (For 2024, Test)')\n",
    "plt.xlabel('Date')\n",
    "plt.ylabel('Value')\n",
    "plt.legend()\n",
    "plt.grid(True)\n",
    "plt.tight_layout()\n",
    "plt.show()\n",
    "\n",
    "# Create a scatter plot of actual vs predicted\n",
    "plt.figure(figsize=(8, 8))\n",
    "plt.scatter(y_true, y_pred, alpha=0.5)\n",
    "plt.plot([min(y_true), max(y_true)], [min(y_true), max(y_true)], 'r--')\n",
    "plt.xlabel('Actual Values')\n",
    "plt.ylabel('Predicted Values')\n",
    "plt.title('Actual vs Predicted Scatter Plot')\n",
    "plt.grid(True)\n",
    "plt.tight_layout()\n",
    "plt.show()"
   ]
  },
  {
   "cell_type": "code",
   "execution_count": null,
   "metadata": {},
   "outputs": [],
   "source": [
    "# Plot the forecast with changepoints\n",
    "from prophet.plot import add_changepoints_to_plot\n",
    "fig = m.plot(forecast)\n",
    "add_changepoints_to_plot(fig.gca(), m, forecast)\n",
    "\n",
    "# Add points for df_imports_test\n",
    "plt.plot(df_imports_test['ds'], df_imports_test['y'], 'ro', label='Test Data')\n",
    "\n",
    "plt.title('Forecast with Changepoints')\n",
    "plt.xlabel('Date')\n",
    "plt.ylabel('Count of Drug Events')\n",
    "plt.legend()\n",
    "plt.show()"
   ]
  },
  {
   "cell_type": "code",
   "execution_count": null,
   "metadata": {},
   "outputs": [],
   "source": [
    "# Make predictions\n",
    "forecast = m.predict(future)\n",
    "\n",
    "fig = m.plot(forecast)\n",
    "add_changepoints_to_plot(fig.gca(), m, forecast)\n",
    "plt.plot(df_imports_test['ds'], df_imports_test['y'], 'ro', label='Test Data')\n",
    "plt.title('Forecast with Changepoints')\n",
    "plt.xlabel('Date')\n",
    "plt.ylabel('Count of Drug Events')\n",
    "plt.show()"
   ]
  },
  {
   "cell_type": "markdown",
   "metadata": {},
   "source": [
    "Prueba sin contenedores:"
   ]
  },
  {
   "cell_type": "code",
   "execution_count": null,
   "metadata": {},
   "outputs": [],
   "source": [
    "df_imports = everglades_data[['Date', 'Count of Event_Other Drugs**']]\n",
    "\n",
    "df_imports['Date'] = pd.to_datetime(df_imports['Date'])\n",
    "df_imports_train = df_imports[df_imports['Date'] < '2024-01-01']\n",
    "df_imports_test = df_imports[df_imports['Date'] >= '2024-01-01']\n",
    "\n",
    "df_imports_train = df_imports_train.rename(columns={\n",
    "    'Date': 'ds', \n",
    "    'Count of Event_Other Drugs**': 'y'  # This should be your target variable\n",
    "})\n",
    "\n",
    "df_imports_test = df_imports_test.rename(columns={\n",
    "    'Date': 'ds', \n",
    "    'Count of Event_Other Drugs**': 'y'  # This should be your target variable\n",
    "})\n",
    "\n",
    "# Ensure column names are correctly formatted\n",
    "df_imports_train.columns = df_imports_train.columns.str.strip()\n",
    "df_imports_test.columns = df_imports_test.columns.str.strip()\n",
    "\n",
    "m = Prophet()\n",
    "m.fit(df_imports_train)"
   ]
  },
  {
   "cell_type": "code",
   "execution_count": null,
   "metadata": {},
   "outputs": [],
   "source": [
    "prediction = m.predict(df_imports_test)\n",
    "print(prediction[['ds', 'yhat', 'yhat_lower', 'yhat_upper']])"
   ]
  },
  {
   "cell_type": "code",
   "execution_count": null,
   "metadata": {},
   "outputs": [],
   "source": [
    "# Make future dataframe for prediction\n",
    "future = m.make_future_dataframe(periods=len(df_imports_test))\n",
    "\n",
    "# Make predictions\n",
    "forecast = m.predict(future, )"
   ]
  },
  {
   "cell_type": "code",
   "execution_count": null,
   "metadata": {},
   "outputs": [],
   "source": [
    "# Make predictions\n",
    "fig = m.plot(forecast)\n",
    "# add_changepoints_to_plot(fig.gca(), m, forecast)\n",
    "plt.plot(df_imports_test['ds'], df_imports_test['y'], 'ro', label='Test Data')\n",
    "plt.title('Forecast with Changepoints')\n",
    "plt.xlabel('Date')\n",
    "plt.ylabel('Count of Drug Events')\n",
    "plt.show()"
   ]
  },
  {
   "cell_type": "markdown",
   "metadata": {
    "id": "ey1RFTL1H0DD"
   },
   "source": [
    "Probar con scikit-learn"
   ]
  },
  {
   "cell_type": "code",
   "execution_count": null,
   "metadata": {
    "id": "xFah5X7AH2Gs"
   },
   "outputs": [],
   "source": []
  },
  {
   "cell_type": "markdown",
   "metadata": {},
   "source": [
    "Probar con sarimax de statmodels"
   ]
  },
  {
   "cell_type": "code",
   "execution_count": null,
   "metadata": {},
   "outputs": [],
   "source": [
    "import pandas as pd\n",
    "from statsmodels.tsa.statespace.sarimax import SARIMAX\n",
    "\n",
    "# Cargar los datos\n",
    "file_path = \"../sources/everglades_data.csv\"\n",
    "df = pd.read_csv(file_path)\n",
    "\n",
    "# Seleccionar y renombrar las columnas necesarias\n",
    "df_model = df[['Date', 'Ratio_Other Drugs**', 'Loaded Imports']].copy()\n",
    "df_model.rename(columns={'Date': 'ds', 'Ratio_Other Drugs**': 'y', 'Loaded Imports': 'loaded_imports'}, inplace=True)\n",
    "\n",
    "# Convertir la columna de fecha a datetime\n",
    "df_model['ds'] = pd.to_datetime(df_model['ds'])\n",
    "\n",
    "# Preparar los datos para SARIMAX\n",
    "df_sarimax = df_model.set_index('ds')\n",
    "\n",
    "# Dividir los datos en entrenamiento y prueba (80% entrenamiento, 20% prueba)\n",
    "train_size = int(len(df_sarimax) * 0.8)\n",
    "train, test = df_sarimax.iloc[:train_size], df_sarimax.iloc[train_size:]\n",
    "\n",
    "# Ajustar el modelo SARIMAX\n",
    "sarimax_model = SARIMAX(train['y'], exog=train[['loaded_imports']], order=(1, 1, 1), seasonal_order=(1, 1, 1, 12))\n",
    "sarimax_result = sarimax_model.fit()\n",
    "\n",
    "# Realizar predicciones\n",
    "forecast_sarimax = sarimax_result.get_forecast(steps=len(test), exog=test[['loaded_imports']])\n",
    "predicted_mean = forecast_sarimax.predicted_mean\n",
    "\n",
    "# Combinar los resultados con los valores reales\n",
    "results_sarimax = test.copy()\n",
    "results_sarimax['Predicted_y'] = predicted_mean\n",
    "\n",
    "# Mostrar los resultados\n",
    "print(results_sarimax.head())\n"
   ]
  },
  {
   "cell_type": "code",
   "execution_count": null,
   "metadata": {},
   "outputs": [],
   "source": [
    "from sklearn.metrics import r2_score, mean_absolute_percentage_error\n",
    "\n",
    "# Calculate R² and MAPE for train\n",
    "r2_train_sarimax = r2_score(train['y'], sarimax_result.fittedvalues)\n",
    "mape_train_sarimax = mean_absolute_percentage_error(train['y'], sarimax_result.fittedvalues)\n",
    "\n",
    "# Calculate R² and MAPE for test\n",
    "r2_test_sarimax = r2_score(results_sarimax['y'], results_sarimax['Predicted_y'])\n",
    "mape_test_sarimax = mean_absolute_percentage_error(results_sarimax['y'], results_sarimax['Predicted_y'])\n",
    "\n",
    "print(f\"Train R²: {r2_train_sarimax}\")\n",
    "print(f\"Train MAPE: {mape_train_sarimax}\")\n",
    "print(f\"Test R²: {r2_test_sarimax}\")\n",
    "print(f\"Test MAPE: {mape_test_sarimax}\")"
   ]
  },
  {
   "cell_type": "code",
   "execution_count": null,
   "metadata": {},
   "outputs": [],
   "source": [
    "results_sarimax.head()"
   ]
  },
  {
   "cell_type": "code",
   "execution_count": null,
   "metadata": {},
   "outputs": [],
   "source": [
    "import matplotlib.pyplot as plt\n",
    "\n",
    "# Graficar los resultados\n",
    "plt.figure(figsize=(12, 6))\n",
    "plt.plot(df_sarimax.index, df_sarimax['y'], label=\"Datos Originales\", color='black', linestyle='dashed', alpha=0.7)\n",
    "plt.plot(train.index, train['y'], label=\"Entrenamiento\", color='blue', alpha=0.6)\n",
    "plt.plot(test.index, test['y'], label=\"Test\", color='green', alpha=0.6)\n",
    "plt.plot(results_sarimax.index, results_sarimax['Predicted_y'], label=\"Predicción SARIMAX\", color='red', linestyle='dashed')\n",
    "\n",
    "plt.xlabel(\"Fecha\")\n",
    "plt.ylabel(\"Ratio_Other Drugs** (Escalado)\")\n",
    "plt.title(\"Predicción de SARIMAX con Loaded Imports como Regresor\")\n",
    "plt.legend()\n",
    "plt.grid(True)\n",
    "\n",
    "# Mostrar la gráfica\n",
    "plt.show()\n"
   ]
  },
  {
   "cell_type": "markdown",
   "metadata": {},
   "source": [
    "XGBoost, Random Forest"
   ]
  },
  {
   "cell_type": "code",
   "execution_count": null,
   "metadata": {},
   "outputs": [],
   "source": [
    "import pandas as pd\n",
    "import xgboost as xgb\n",
    "from sklearn.metrics import mean_absolute_error, mean_squared_error, mean_absolute_percentage_error, r2_score\n",
    "\n",
    "# Cargar los datos\n",
    "file_path = \"../sources/everglades_data.csv\"\n",
    "df = pd.read_csv(file_path)\n",
    "\n",
    "# Seleccionar y renombrar las columnas necesarias\n",
    "df_xgb = df[['Date', 'Ratio_Other Drugs**', 'Loaded Imports']].copy()\n",
    "df_xgb.rename(columns={'Date': 'ds', 'Ratio_Other Drugs**': 'y', 'Loaded Imports': 'loaded_imports'}, inplace=True)\n",
    "\n",
    "# Convertir la columna de fecha a datetime\n",
    "df_xgb['ds'] = pd.to_datetime(df_xgb['ds'])\n",
    "\n",
    "# Dividir en conjunto de entrenamiento y prueba según la regla dada\n",
    "df_train = df_xgb[df_xgb['ds'] < '2024-01-01']\n",
    "df_test = df_xgb[df_xgb['ds'] >= '2024-01-01']\n",
    "\n",
    "# Definir características (X) y variable objetivo (y)\n",
    "X_train, y_train = df_train[['loaded_imports']], df_train['y']\n",
    "X_test, y_test = df_test[['loaded_imports']], df_test['y']\n",
    "\n",
    "# Crear y entrenar el modelo XGBoost\n",
    "xgb_model = xgb.XGBRegressor(objective='reg:squarederror', n_estimators=100, learning_rate=0.1, max_depth=3)\n",
    "xgb_model.fit(X_train, y_train)\n",
    "\n",
    "# Evaluar en train:\n",
    "y_pred_xgb_train = xgb_model.predict(X_train)\n",
    "\n",
    "# Evaluar el modelo en train\n",
    "mae_xgb_train = mean_absolute_error(y_train, y_pred_xgb_train)\n",
    "mse_xgb_train = mean_squared_error(y_train, y_pred_xgb_train)\n",
    "mape_xgb_train = mean_absolute_percentage_error(y_train, y_pred_xgb_train)\n",
    "r2_xgb_train = r2_score(y_train, y_pred_xgb_train)\n",
    "\n",
    "# Imprimir métricas de error en train\n",
    "print(f\"MAE Train: {mae_xgb_train}\")\n",
    "print(f\"MSE Train: {mse_xgb_train}\")\n",
    "print(f\"MAPE Train: {mape_xgb_train}\")\n",
    "print(f\"R2 Train: {r2_xgb_train}\")\n",
    "\n",
    "####################################\n",
    "# Realizar predicciones en test\n",
    "y_pred_xgb = xgb_model.predict(X_test)\n",
    "\n",
    "# Evaluar el modelo\n",
    "mae_xgb = mean_absolute_error(y_test, y_pred_xgb)\n",
    "mse_xgb = mean_squared_error(y_test, y_pred_xgb)\n",
    "mape_xgb = mean_absolute_percentage_error(y_test, y_pred_xgb)\n",
    "r2_xgb = r2_score(y_test, y_pred_xgb)\n",
    "\n",
    "# Combinar los resultados con los valores reales\n",
    "results_xgb = df_test.copy()\n",
    "results_xgb['Predicted_y'] = y_pred_xgb\n",
    "\n",
    "results_xgb_train = df_train.copy()\n",
    "results_xgb_train['Predicted_y_train'] = y_pred_xgb_train\n",
    "\n",
    "# Imprimir métricas de error en test\n",
    "print(f\"MAE Test: {mae_xgb}\")\n",
    "print(f\"MSE Test: {mse_xgb}\")\n",
    "print(f\"MAPE Test: {mape_xgb}\")\n",
    "print(f\"R2 Test: {r2_xgb}\")\n"
   ]
  },
  {
   "cell_type": "code",
   "execution_count": null,
   "metadata": {},
   "outputs": [],
   "source": [
    "results_xgb.head()"
   ]
  },
  {
   "cell_type": "code",
   "execution_count": null,
   "metadata": {},
   "outputs": [],
   "source": [
    "results_xgb_total = pd.concat([results_xgb, results_xgb_train]).sort_values(by=\"ds\")"
   ]
  },
  {
   "cell_type": "code",
   "execution_count": null,
   "metadata": {},
   "outputs": [],
   "source": [
    "results_xgb_total"
   ]
  },
  {
   "cell_type": "code",
   "execution_count": null,
   "metadata": {},
   "outputs": [],
   "source": [
    "from plotnine import ggplot, aes, geom_point, labs, scale_color_manual, theme, element_blank\n",
    "\n",
    "# Create the plot\n",
    "plot = (ggplot(results_xgb_total, aes(x='ds'))\n",
    "    + geom_point(aes(y='y', color='\"Actual\"'), size=2, alpha=0.6)\n",
    "    + geom_point(aes(y='Predicted_y', color='\"Predicted\"'), size=2, alpha=0.6)\n",
    "    + geom_point(aes(y='Predicted_y_train', color='\"Predicted Train\"'), size=2, alpha=0.6)\n",
    "    + labs(title='Modelo con XGBoost',\n",
    "           x='Date',\n",
    "           y='Values')\n",
    "    + scale_color_manual(values={\"Actual\": \"blue\", \"Predicted\": \"red\", \"Predicted Train\": \"green\"})\n",
    "    + theme(legend_title=element_blank())\n",
    ")\n"
   ]
  },
  {
   "cell_type": "code",
   "execution_count": null,
   "metadata": {},
   "outputs": [],
   "source": [
    "# Display the plot\n",
    "plot"
   ]
  }
 ],
 "metadata": {
  "accelerator": "GPU",
  "colab": {
   "collapsed_sections": [
    "SPQoEABGaHpH"
   ],
   "gpuType": "A100",
   "provenance": []
  },
  "kernelspec": {
   "display_name": "Python 3",
   "name": "python3"
  },
  "language_info": {
   "codemirror_mode": {
    "name": "ipython",
    "version": 3
   },
   "file_extension": ".py",
   "mimetype": "text/x-python",
   "name": "python",
   "nbconvert_exporter": "python",
   "pygments_lexer": "ipython3",
   "version": "3.10.12"
  }
 },
 "nbformat": 4,
 "nbformat_minor": 0
}

{
 "cells": [
  {
   "cell_type": "code",
   "execution_count": 1,
   "metadata": {},
   "outputs": [],
   "source": [
    "import pandas as pd\n",
    "import numpy as np"
   ]
  },
  {
   "cell_type": "markdown",
   "metadata": {},
   "source": [
    "## Modelos Puerto de Newark:"
   ]
  },
  {
   "cell_type": "code",
   "execution_count": null,
   "metadata": {},
   "outputs": [],
   "source": [
    "newark_data = pd.read_csv('../sources/newark_data.csv')"
   ]
  },
  {
   "cell_type": "code",
   "execution_count": null,
   "metadata": {},
   "outputs": [],
   "source": [
    "from plotnine import ggplot, aes, geom_line, labs\n",
    "from sklearn.preprocessing import MinMaxScaler\n",
    "\n",
    "# Select the columns to plot\n",
    "columns_to_plot = ['Sum_of_Counts', 'Total Imports']\n",
    "\n",
    "# Apply MinMaxScaler to the selected columns\n",
    "scaler = MinMaxScaler()\n",
    "newark_data_scaled = newark_data.copy()\n",
    "newark_data_scaled[columns_to_plot] = scaler.fit_transform(newark_data[columns_to_plot])\n",
    "\n",
    "# Melt the dataframe for plotting\n",
    "newark_data_melted = newark_data_scaled.melt(id_vars=['Date'], value_vars=columns_to_plot, var_name='Variable', value_name='Value')\n",
    "\n",
    "# Convert 'Date' to datetime\n",
    "newark_data_melted['Date'] = pd.to_datetime(newark_data_melted['Date'])\n",
    "\n",
    "# Plot using plotnine\n",
    "plot = (ggplot(newark_data_melted, aes(x='Date', y='Value', color='Variable'))\n",
    "    + geom_line()\n",
    "    + labs(title='Scaled Values of Sum_of_Counts, Loaded Imports, Total Imports, and Total TEUs',\n",
    "           x='Date', y='Scaled Value'))\n",
    "\n",
    "plot"
   ]
  },
  {
   "cell_type": "code",
   "execution_count": null,
   "metadata": {},
   "outputs": [],
   "source": [
    "newark_data_input = newark_data.loc[:,['Date','Empty Exports','Loaded Exports','Empty Imports','Loaded Imports','Total TEUs', 'Total Imports', 'Total Exports','Ratio_Cocaine']]\n",
    "newark_data_input_corr = newark_data_input[['Empty Exports','Loaded Exports','Empty Imports','Loaded Imports','Total TEUs', 'Total Imports', 'Total Exports','Ratio_Cocaine']]"
   ]
  },
  {
   "cell_type": "code",
   "execution_count": null,
   "metadata": {},
   "outputs": [],
   "source": [
    "import seaborn as sns\n",
    "\n",
    "import matplotlib.pyplot as plt\n",
    "\n",
    "# Calculate the correlation matrix\n",
    "corr_matrix = newark_data_input_corr.corr().abs()\n",
    "\n",
    "# Plot the heatmap\n",
    "plt.figure(figsize=(10, 8))\n",
    "sns.heatmap(corr_matrix, annot=True, cmap='coolwarm', fmt='.2f')\n",
    "plt.title('Correlation Matrix of Newark Data Input')\n",
    "plt.show()"
   ]
  },
  {
   "cell_type": "code",
   "execution_count": 16,
   "metadata": {},
   "outputs": [],
   "source": [
    "from sklearn.model_selection import train_test_split, cross_val_score, GridSearchCV, TimeSeriesSplit\n",
    "from sklearn.linear_model import LinearRegression\n",
    "from sklearn.metrics import mean_squared_error, r2_score, accuracy_score\n",
    "from sklearn.ensemble import RandomForestRegressor, AdaBoostRegressor, BaggingRegressor, GradientBoostingRegressor\n"
   ]
  },
  {
   "cell_type": "code",
   "execution_count": null,
   "metadata": {},
   "outputs": [],
   "source": [
    "\n",
    "X = newark_data_input.drop('Ratio_Cocaine', axis=1)\n",
    "y = newark_data_input['Ratio_Cocaine']\n",
    "\n",
    "# Opcion A: Division como train/test\n",
    "X_train, X_test, y_train, y_test = train_test_split(X, y, test_size=0.2, random_state=42)"
   ]
  },
  {
   "cell_type": "code",
   "execution_count": null,
   "metadata": {},
   "outputs": [],
   "source": [
    "# Create a RandomForestRegressor model\n",
    "rf_regressor = RandomForestRegressor(n_estimators=100, random_state=42)\n",
    "\n",
    "# Fit the model to the training data\n",
    "rf_regressor.fit(X_train, y_train)"
   ]
  },
  {
   "cell_type": "code",
   "execution_count": null,
   "metadata": {},
   "outputs": [],
   "source": [
    "# Evaluate the model on the training data\n",
    "y_train_pred = rf_regressor.predict(X_train)\n",
    "train_mse = mean_squared_error(y_train, y_train_pred)\n",
    "train_r2 = r2_score(y_train, y_train_pred)\n",
    "\n",
    "print(f'Training MSE: {train_mse}')\n",
    "print(f'Training R2: {train_r2}')\n",
    "\n",
    "# Predict on the test data\n",
    "y_test_pred = rf_regressor.predict(X_test)\n",
    "test_mse = mean_squared_error(y_test, y_test_pred)\n",
    "test_r2 = r2_score(y_test, y_test_pred)\n",
    "\n",
    "print(f'Test MSE: {test_mse}')\n",
    "print(f'Test R2: {test_r2}')"
   ]
  },
  {
   "cell_type": "code",
   "execution_count": null,
   "metadata": {},
   "outputs": [],
   "source": [
    "# Define the features and target variable\n",
    "X_filtered = newark_data_input.drop(['Date', 'Ratio_Cocaine'], axis=1)\n",
    "y_filtered = newark_data_input['Ratio_Cocaine']\n",
    "\n",
    "# Initialize TimeSeriesSplit\n",
    "tscv = TimeSeriesSplit(n_splits=5)\n",
    "\n",
    "# Initialize the RandomForestRegressor\n",
    "rf_regressor_ts = RandomForestRegressor(n_estimators=100, random_state=42)\n",
    "\n",
    "# Perform cross-validation\n",
    "for train_index, test_index in tscv.split(X_filtered):\n",
    "    X_train_ts, X_test_ts = X_filtered.iloc[train_index], X_filtered.iloc[test_index]\n",
    "    y_train_ts, y_test_ts = y_filtered.iloc[train_index], y_filtered.iloc[test_index]\n",
    "    \n",
    "    # Fit the model\n",
    "    rf_regressor_ts.fit(X_train_ts, y_train_ts)\n",
    "    \n",
    "    # Predict on the test data\n",
    "    y_test_pred_ts = rf_regressor_ts.predict(X_test_ts)\n",
    "    \n",
    "    # Evaluate the model\n",
    "    test_mse_ts = mean_squared_error(y_test_ts, y_test_pred_ts)\n",
    "    test_r2_ts = r2_score(y_test_ts, y_test_pred_ts)\n",
    "    \n",
    "    print(f'Test MSE: {test_mse_ts}')\n",
    "    print(f'Test R2: {test_r2_ts}')"
   ]
  },
  {
   "cell_type": "markdown",
   "metadata": {},
   "source": [
    "## Modelos Puerto de Everglades:"
   ]
  },
  {
   "cell_type": "code",
   "execution_count": 2,
   "metadata": {},
   "outputs": [],
   "source": [
    "everglades_data = pd.read_csv('../sources/everglades_data.csv')"
   ]
  },
  {
   "cell_type": "code",
   "execution_count": 3,
   "metadata": {},
   "outputs": [],
   "source": [
    "everglades_data_input = everglades_data.loc[:,['Date','Empty Exports','Loaded Exports','Empty Imports','Loaded Imports','Total TEUs', 'Total Imports', 'Total Exports','Sum_of_Counts']]\n",
    "everglades_data_input_corr = everglades_data_input[['Empty Exports','Loaded Exports','Empty Imports','Loaded Imports','Total TEUs', 'Total Imports', 'Total Exports','Sum_of_Counts']]"
   ]
  },
  {
   "cell_type": "code",
   "execution_count": 4,
   "metadata": {},
   "outputs": [
    {
     "name": "stderr",
     "output_type": "stream",
     "text": [
      "/home/gonzalopc/.local/lib/python3.10/site-packages/matplotlib/projections/__init__.py:63: UserWarning: Unable to import Axes3D. This may be due to multiple versions of Matplotlib being installed (e.g. as a system package and as a pip package). As a result, the 3D projection is not available.\n",
      "  warnings.warn(\"Unable to import Axes3D. This may be due to multiple versions of \"\n"
     ]
    },
    {
     "data": {
      "image/png": "[encoded data removed]",
      "text/plain": [
       "<Figure size 1000x800 with 2 Axes>"
      ]
     },
     "metadata": {},
     "output_type": "display_data"
    }
   ],
   "source": [
    "import seaborn as sns\n",
    "\n",
    "import matplotlib.pyplot as plt\n",
    "\n",
    "# Calculate the correlation matrix\n",
    "corr_matrix = everglades_data_input_corr.corr().abs()\n",
    "\n",
    "# Plot the heatmap\n",
    "plt.figure(figsize=(10, 8))\n",
    "sns.heatmap(corr_matrix, annot=True, cmap='coolwarm', fmt='.2f')\n",
    "plt.title('Correlation Matrix of Fort Lauderdale Data Input')\n",
    "plt.show()"
   ]
  },
  {
   "cell_type": "code",
   "execution_count": null,
   "metadata": {},
   "outputs": [],
   "source": [
    "# Use last year for test\n",
    "\n",
    "# Convert 'Date' to datetime\n",
    "everglades_data_input['Date'] = pd.to_datetime(everglades_data_input['Date'])\n",
    "\n",
    "# Split the data\n",
    "train_data = everglades_data_input[everglades_data_input['Date'] < '2024-01-01']\n",
    "test_data = everglades_data_input[everglades_data_input['Date'] >= '2024-01-01']"
   ]
  },
  {
   "cell_type": "code",
   "execution_count": null,
   "metadata": {},
   "outputs": [],
   "source": [
    "# Define the features and target variable for train_data\n",
    "X_train = train_data.drop('Sum_of_Counts', axis=1)\n",
    "y_train = train_data['Sum_of_Counts']\n",
    "\n",
    "# Define the features and target variable for test_data\n",
    "X_test = test_data.drop('Sum_of_Counts', axis=1)\n",
    "y_test = test_data['Sum_of_Counts']"
   ]
  },
  {
   "cell_type": "code",
   "execution_count": 13,
   "metadata": {},
   "outputs": [],
   "source": [
    "regressors = {\n",
    "    'LR', LinearRegression(),\n",
    "    'adaBoostRegressor', AdaBoostRegressor(random_state=256),\n",
    "    'baggingRegressor', BaggingRegressor(random_state=256),\n",
    "    'GBR', GradientBoostingRegressor(random_state=256)\n",
    "}\n",
    "\n",
    "params = {\n",
    "    'LR':{\n",
    "        'fit_intercept':[True, False]\n",
    "    },\n",
    "    'adaBoostRegressor':{\n",
    "        'n_estimators':[2,4,8,16,32,64],\n",
    "        'learning_rate':[1e-3, 1e-2, 1e-1, 1, 10, 1e2],\n",
    "        'loss':['linear','square']\n",
    "    },\n",
    "    'baggingRegressor':{\n",
    "        'n_estimators':[2,4,8,16,32,64],\n",
    "        'max_samples':[5,10,25,40],\n",
    "        'max_features':[1,2,3]\n",
    "    },\n",
    "    'GBR':{\n",
    "        'loss':['linear','square'],\n",
    "        'learning_rate':[1e-3, 1e-2, 1e-1, 1, 10, 1e2],\n",
    "        'n_estimators':[2,4,8,16,32,64],\n",
    "        'validation_fraction':[0.05, 0.1, 0.2], # subconjunto de validacion\n",
    "        'n_iter_no_change':[2,3, 5, 10], # tras varias iteraciones loss function no mejora, fin del entrenamiento\n",
    "        'tol':[1e-4, 1e-3, 1e-2, 1e-1], # una tolerancia al decrecimiento\n",
    "    }\n",
    "}\n"
   ]
  },
  {
   "cell_type": "code",
   "execution_count": null,
   "metadata": {},
   "outputs": [],
   "source": [
    "regressorsCV = {}\n",
    "\n",
    "for name in list(params.keys()):\n",
    "    print(\"*************\")\n",
    "    print(name)\n",
    "    print(\"*************\")\n",
    "    regressorsCV[name] = GridSearchCV(\n",
    "        estimator=regressors[name],\n",
    "        param_grid=params[name],\n",
    "        scoring=['mean_squared_error','r2_score'],\n",
    "        return_train_score=True,\n",
    "        n_jobs=-1,\n",
    "        cv=5, verbose = 2\n",
    "    )\n",
    "\n",
    "    regressorsCV[name].fit(X_train, y_train)"
   ]
  },
  {
   "cell_type": "code",
   "execution_count": null,
   "metadata": {},
   "outputs": [],
   "source": [
    "# compute results\n",
    "test_scores = []\n",
    "\n",
    "\n",
    "for name in list(params.keys()):\n",
    "    print(name)\n",
    "    print(\"Número de configuraciones: \", pd.DataFrame.from_dict(regressorsCV[name].cv_results_).shape[0])\n",
    "    aux = pd.DataFrame.from_dict(regressorsCV[name].cv_results_).sort_values(by=\"mean_test_score\",ascending=False).iloc[0]\n",
    "\n",
    "    # Accuracy\n",
    "    mse_cv_test = aux['mean_test_score']\n",
    "    mse_cv_train = aux['mean_train_score']\n",
    "\n",
    "    mse_train = mean_squared_error(y_train, regressorsCV[name].predict(X_train))\n",
    "    mse_test = mean_squared_error(y_test, regressorsCV[name].predict(X_test))\n",
    "\n",
    "    # R2:\n",
    "    r2_train = r2_score(y_train, regressorsCV[name].predict(X_train))\n",
    "    r2_test = r2_score(y_test, regressorsCV[name].predict(X_test))\n",
    "      \n",
    "    test_scores.append((name,mse_train,mse_cv_train,mse_cv_test,mse_test,r2_train,r2_test))\n",
    "    \n",
    "# mirar el rendimiento en validacion para obtener el mejor modelo\n",
    "resultado = pd.DataFrame(test_scores,columns=['Regressor','mse_train','mse_CV_train','mse_validation','mse_test','r2_train','r2_test'])\n",
    "sorted_resultado = resultado.sort_values(by=\"mse_validation\",ascending=False)"
   ]
  },
  {
   "cell_type": "code",
   "execution_count": null,
   "metadata": {},
   "outputs": [],
   "source": [
    "sorted_resultado"
   ]
  },
  {
   "cell_type": "markdown",
   "metadata": {},
   "source": [
    "## Modelo de series temporales"
   ]
  },
  {
   "cell_type": "code",
   "execution_count": null,
   "metadata": {},
   "outputs": [],
   "source": [
    "from prophet import Prophet\n",
    "from prophet.plot import add_changepoints_to_plot"
   ]
  },
  {
   "cell_type": "code",
   "execution_count": null,
   "metadata": {},
   "outputs": [],
   "source": [
    "everglades_data"
   ]
  },
  {
   "cell_type": "markdown",
   "metadata": {},
   "source": [
    "Serie temporal para Loaded Imports en Miami/Fort Lauderdale:"
   ]
  },
  {
   "cell_type": "code",
   "execution_count": null,
   "metadata": {},
   "outputs": [],
   "source": [
    "df_imports = everglades_data[['Date', 'Loaded Imports']]"
   ]
  },
  {
   "cell_type": "code",
   "execution_count": null,
   "metadata": {},
   "outputs": [],
   "source": [
    "df_imports['Date'] = pd.to_datetime(df_imports['Date'])\n",
    "df_imports_train = df_imports[df_imports['Date'] < '2024-01-01']\n",
    "df_imports_test = df_imports[df_imports['Date'] >= '2024-01-01']\n",
    "\n",
    "df_imports_train = df_imports_train.rename(columns={'Date': 'ds', 'Loaded Imports': 'y'})\n",
    "df_imports_test = df_imports_test.rename(columns={'Date': 'ds', 'Loaded Imports': 'y'})\n",
    "print(df_imports_train)"
   ]
  },
  {
   "cell_type": "code",
   "execution_count": null,
   "metadata": {},
   "outputs": [],
   "source": [
    "# df_imports_train['cap'] = 0.5\n",
    "m = Prophet()\n",
    "m.fit(df_imports_train)"
   ]
  },
  {
   "cell_type": "code",
   "execution_count": null,
   "metadata": {},
   "outputs": [],
   "source": [
    "prediction = m.predict(df_imports_test)\n",
    "print(prediction[['ds', 'yhat', 'yhat_lower', 'yhat_upper']])"
   ]
  },
  {
   "cell_type": "code",
   "execution_count": null,
   "metadata": {},
   "outputs": [],
   "source": [
    "# Plot the forecast\n",
    "fig = m.plot(prediction)\n",
    "ax = fig.gca()\n",
    "\n",
    "# Plot the actual values\n",
    "ax.plot(df_imports_test['ds'], df_imports_test['y'], 'r.', label='Actual')\n",
    "\n",
    "# Customize the plot\n",
    "plt.legend()\n",
    "plt.title('Forecast vs Actuals')\n",
    "plt.xlabel('Date')\n",
    "plt.ylabel('Loaded Imports')\n",
    "plt.show()"
   ]
  },
  {
   "cell_type": "code",
   "execution_count": null,
   "metadata": {},
   "outputs": [],
   "source": [
    "\n",
    "# Plot the forecast\n",
    "fig = m.plot(prediction)\n",
    "ax = fig.gca()\n",
    "\n",
    "# Plot the actual values\n",
    "ax.plot(df_imports_test['ds'], df_imports_test['y'], 'r.', label='Actual')\n",
    "a = add_changepoints_to_plot(fig.gca(), m, prediction)\n",
    "\n",
    "# Customize the plot\n",
    "plt.legend()\n",
    "plt.title('Forecast vs Actuals')\n",
    "plt.xlabel('Date')\n",
    "plt.ylabel('Loaded Imports')\n",
    "plt.show()"
   ]
  },
  {
   "cell_type": "code",
   "execution_count": null,
   "metadata": {},
   "outputs": [],
   "source": [
    "m = Prophet(changepoints=['2020-05-01','2022-03-01','2023-04-01']) # ,'2022-03-01','2023-04-01'\n",
    "forecast = m.fit(df_imports_train).predict(df_imports_test)\n",
    "fig = m.plot(forecast)\n",
    "ax = fig.gca()\n",
    "\n",
    "# Plot the actual values\n",
    "ax.plot(df_imports_test['ds'], df_imports_test['y'], 'r.', label='Actual')\n",
    "# a = add_changepoints_to_plot(fig.gca(), m, prediction)\n",
    "\n",
    "# Customize the plot\n",
    "plt.legend()\n",
    "plt.title('Forecast vs Actuals')\n",
    "plt.xlabel('Date')\n",
    "plt.ylabel('Loaded Imports')\n",
    "plt.show()"
   ]
  },
  {
   "cell_type": "code",
   "execution_count": null,
   "metadata": {},
   "outputs": [],
   "source": [
    "fig2 = m.plot_components(forecast)"
   ]
  },
  {
   "cell_type": "code",
   "execution_count": null,
   "metadata": {},
   "outputs": [],
   "source": [
    "from prophet.plot import plot_plotly, plot_components_plotly\n",
    "\n",
    "plot_plotly(m, prediction)"
   ]
  }
 ],
 "metadata": {
  "kernelspec": {
   "display_name": "Python 3",
   "language": "python",
   "name": "python3"
  },
  "language_info": {
   "codemirror_mode": {
    "name": "ipython",
    "version": 3
   },
   "file_extension": ".py",
   "mimetype": "text/x-python",
   "name": "python",
   "nbconvert_exporter": "python",
   "pygments_lexer": "ipython3",
   "version": "3.10.12"
  }
 },
 "nbformat": 4,
 "nbformat_minor": 2
}
